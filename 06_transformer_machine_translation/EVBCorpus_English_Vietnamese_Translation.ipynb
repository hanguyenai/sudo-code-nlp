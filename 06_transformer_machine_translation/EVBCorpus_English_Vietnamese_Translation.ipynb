{
  "cells": [
    {
      "cell_type": "markdown",
      "metadata": {
        "id": "view-in-github",
        "colab_type": "text"
      },
      "source": [
        "<a href=\"https://colab.research.google.com/github/hanguyenai/sudo-code-nlp/blob/main/06_transformer_machine_translation/EVBCorpus_English_Vietnamese_Translation.ipynb\" target=\"_parent\"><img src=\"https://colab.research.google.com/assets/colab-badge.svg\" alt=\"Open In Colab\"/></a>"
      ]
    },
    {
      "cell_type": "markdown",
      "metadata": {
        "id": "-OoHhVOe0lQ8"
      },
      "source": [
        "# 1 Importing dependencies\n",
        "Initialize the workspace for Transformer NMT on **EVBCorpus** — import libraries, define constants, fix random seeds for reproducibility, select device (GPU/CPU), and fetch the dataset."
      ]
    },
    {
      "cell_type": "code",
      "execution_count": 1,
      "metadata": {
        "colab": {
          "base_uri": "https://localhost:8080/"
        },
        "id": "2DtVc1jn0yRG",
        "outputId": "91cd6fa5-f3f6-4641-e848-92ad6ed51496"
      },
      "outputs": [
        {
          "output_type": "stream",
          "name": "stdout",
          "text": [
            "Collecting sacrebleu\n",
            "  Downloading sacrebleu-2.5.1-py3-none-any.whl.metadata (51 kB)\n",
            "\u001b[?25l     \u001b[90m━━━━━━━━━━━━━━━━━━━━━━━━━━━━━━━━━━━━━━━━\u001b[0m \u001b[32m0.0/51.8 kB\u001b[0m \u001b[31m?\u001b[0m eta \u001b[36m-:--:--\u001b[0m\r\u001b[2K     \u001b[90m━━━━━━━━━━━━━━━━━━━━━━━━━━━━━━━━━━━━━━━━\u001b[0m \u001b[32m51.8/51.8 kB\u001b[0m \u001b[31m1.7 MB/s\u001b[0m eta \u001b[36m0:00:00\u001b[0m\n",
            "\u001b[?25hRequirement already satisfied: sentencepiece in /usr/local/lib/python3.12/dist-packages (0.2.1)\n",
            "Collecting torchtext\n",
            "  Downloading torchtext-0.18.0-cp312-cp312-manylinux1_x86_64.whl.metadata (7.9 kB)\n",
            "Collecting rarfile\n",
            "  Downloading rarfile-4.2-py3-none-any.whl.metadata (4.4 kB)\n",
            "Collecting portalocker (from sacrebleu)\n",
            "  Downloading portalocker-3.2.0-py3-none-any.whl.metadata (8.7 kB)\n",
            "Requirement already satisfied: regex in /usr/local/lib/python3.12/dist-packages (from sacrebleu) (2024.11.6)\n",
            "Requirement already satisfied: tabulate>=0.8.9 in /usr/local/lib/python3.12/dist-packages (from sacrebleu) (0.9.0)\n",
            "Requirement already satisfied: numpy>=1.17 in /usr/local/lib/python3.12/dist-packages (from sacrebleu) (2.0.2)\n",
            "Collecting colorama (from sacrebleu)\n",
            "  Downloading colorama-0.4.6-py2.py3-none-any.whl.metadata (17 kB)\n",
            "Requirement already satisfied: lxml in /usr/local/lib/python3.12/dist-packages (from sacrebleu) (5.4.0)\n",
            "Requirement already satisfied: tqdm in /usr/local/lib/python3.12/dist-packages (from torchtext) (4.67.1)\n",
            "Requirement already satisfied: requests in /usr/local/lib/python3.12/dist-packages (from torchtext) (2.32.4)\n",
            "Requirement already satisfied: torch>=2.3.0 in /usr/local/lib/python3.12/dist-packages (from torchtext) (2.8.0+cu126)\n",
            "Requirement already satisfied: filelock in /usr/local/lib/python3.12/dist-packages (from torch>=2.3.0->torchtext) (3.20.0)\n",
            "Requirement already satisfied: typing-extensions>=4.10.0 in /usr/local/lib/python3.12/dist-packages (from torch>=2.3.0->torchtext) (4.15.0)\n",
            "Requirement already satisfied: setuptools in /usr/local/lib/python3.12/dist-packages (from torch>=2.3.0->torchtext) (75.2.0)\n",
            "Requirement already satisfied: sympy>=1.13.3 in /usr/local/lib/python3.12/dist-packages (from torch>=2.3.0->torchtext) (1.13.3)\n",
            "Requirement already satisfied: networkx in /usr/local/lib/python3.12/dist-packages (from torch>=2.3.0->torchtext) (3.5)\n",
            "Requirement already satisfied: jinja2 in /usr/local/lib/python3.12/dist-packages (from torch>=2.3.0->torchtext) (3.1.6)\n",
            "Requirement already satisfied: fsspec in /usr/local/lib/python3.12/dist-packages (from torch>=2.3.0->torchtext) (2025.3.0)\n",
            "Requirement already satisfied: nvidia-cuda-nvrtc-cu12==12.6.77 in /usr/local/lib/python3.12/dist-packages (from torch>=2.3.0->torchtext) (12.6.77)\n",
            "Requirement already satisfied: nvidia-cuda-runtime-cu12==12.6.77 in /usr/local/lib/python3.12/dist-packages (from torch>=2.3.0->torchtext) (12.6.77)\n",
            "Requirement already satisfied: nvidia-cuda-cupti-cu12==12.6.80 in /usr/local/lib/python3.12/dist-packages (from torch>=2.3.0->torchtext) (12.6.80)\n",
            "Requirement already satisfied: nvidia-cudnn-cu12==9.10.2.21 in /usr/local/lib/python3.12/dist-packages (from torch>=2.3.0->torchtext) (9.10.2.21)\n",
            "Requirement already satisfied: nvidia-cublas-cu12==12.6.4.1 in /usr/local/lib/python3.12/dist-packages (from torch>=2.3.0->torchtext) (12.6.4.1)\n",
            "Requirement already satisfied: nvidia-cufft-cu12==11.3.0.4 in /usr/local/lib/python3.12/dist-packages (from torch>=2.3.0->torchtext) (11.3.0.4)\n",
            "Requirement already satisfied: nvidia-curand-cu12==10.3.7.77 in /usr/local/lib/python3.12/dist-packages (from torch>=2.3.0->torchtext) (10.3.7.77)\n",
            "Requirement already satisfied: nvidia-cusolver-cu12==11.7.1.2 in /usr/local/lib/python3.12/dist-packages (from torch>=2.3.0->torchtext) (11.7.1.2)\n",
            "Requirement already satisfied: nvidia-cusparse-cu12==12.5.4.2 in /usr/local/lib/python3.12/dist-packages (from torch>=2.3.0->torchtext) (12.5.4.2)\n",
            "Requirement already satisfied: nvidia-cusparselt-cu12==0.7.1 in /usr/local/lib/python3.12/dist-packages (from torch>=2.3.0->torchtext) (0.7.1)\n",
            "Requirement already satisfied: nvidia-nccl-cu12==2.27.3 in /usr/local/lib/python3.12/dist-packages (from torch>=2.3.0->torchtext) (2.27.3)\n",
            "Requirement already satisfied: nvidia-nvtx-cu12==12.6.77 in /usr/local/lib/python3.12/dist-packages (from torch>=2.3.0->torchtext) (12.6.77)\n",
            "Requirement already satisfied: nvidia-nvjitlink-cu12==12.6.85 in /usr/local/lib/python3.12/dist-packages (from torch>=2.3.0->torchtext) (12.6.85)\n",
            "Requirement already satisfied: nvidia-cufile-cu12==1.11.1.6 in /usr/local/lib/python3.12/dist-packages (from torch>=2.3.0->torchtext) (1.11.1.6)\n",
            "Requirement already satisfied: triton==3.4.0 in /usr/local/lib/python3.12/dist-packages (from torch>=2.3.0->torchtext) (3.4.0)\n",
            "Requirement already satisfied: charset_normalizer<4,>=2 in /usr/local/lib/python3.12/dist-packages (from requests->torchtext) (3.4.3)\n",
            "Requirement already satisfied: idna<4,>=2.5 in /usr/local/lib/python3.12/dist-packages (from requests->torchtext) (3.10)\n",
            "Requirement already satisfied: urllib3<3,>=1.21.1 in /usr/local/lib/python3.12/dist-packages (from requests->torchtext) (2.5.0)\n",
            "Requirement already satisfied: certifi>=2017.4.17 in /usr/local/lib/python3.12/dist-packages (from requests->torchtext) (2025.10.5)\n",
            "Requirement already satisfied: mpmath<1.4,>=1.1.0 in /usr/local/lib/python3.12/dist-packages (from sympy>=1.13.3->torch>=2.3.0->torchtext) (1.3.0)\n",
            "Requirement already satisfied: MarkupSafe>=2.0 in /usr/local/lib/python3.12/dist-packages (from jinja2->torch>=2.3.0->torchtext) (3.0.3)\n",
            "Downloading sacrebleu-2.5.1-py3-none-any.whl (104 kB)\n",
            "\u001b[2K   \u001b[90m━━━━━━━━━━━━━━━━━━━━━━━━━━━━━━━━━━━━━━━━\u001b[0m \u001b[32m104.1/104.1 kB\u001b[0m \u001b[31m5.1 MB/s\u001b[0m eta \u001b[36m0:00:00\u001b[0m\n",
            "\u001b[?25hDownloading torchtext-0.18.0-cp312-cp312-manylinux1_x86_64.whl (2.0 MB)\n",
            "\u001b[2K   \u001b[90m━━━━━━━━━━━━━━━━━━━━━━━━━━━━━━━━━━━━━━━━\u001b[0m \u001b[32m2.0/2.0 MB\u001b[0m \u001b[31m46.6 MB/s\u001b[0m eta \u001b[36m0:00:00\u001b[0m\n",
            "\u001b[?25hDownloading rarfile-4.2-py3-none-any.whl (29 kB)\n",
            "Downloading colorama-0.4.6-py2.py3-none-any.whl (25 kB)\n",
            "Downloading portalocker-3.2.0-py3-none-any.whl (22 kB)\n",
            "Installing collected packages: rarfile, portalocker, colorama, sacrebleu, torchtext\n",
            "Successfully installed colorama-0.4.6 portalocker-3.2.0 rarfile-4.2 sacrebleu-2.5.1 torchtext-0.18.0\n"
          ]
        }
      ],
      "source": [
        "!pip install sacrebleu sentencepiece torchtext rarfile"
      ]
    },
    {
      "cell_type": "code",
      "execution_count": 2,
      "metadata": {
        "id": "vT1sRK5P0Ayy"
      },
      "outputs": [],
      "source": [
        "import torch\n",
        "import torch.nn as nn\n",
        "import torch.optim as optim\n",
        "from torch.utils.data import Dataset, DataLoader\n",
        "import torch.nn.functional as F\n",
        "import math\n",
        "import random\n",
        "import time\n",
        "import numpy as np\n",
        "import pandas as pd\n",
        "import matplotlib.pyplot as plt\n",
        "from collections import Counter\n",
        "import re\n",
        "from tqdm import tqdm\n",
        "import sacrebleu\n",
        "from pathlib import Path\n",
        "import pickle\n",
        "import os\n",
        "import urllib.request\n",
        "from pathlib import Path\n",
        "import rarfile\n",
        "import xml.etree.ElementTree as ET\n",
        "import pandas as pd\n",
        "from bs4 import BeautifulSoup"
      ]
    },
    {
      "cell_type": "code",
      "execution_count": 3,
      "metadata": {
        "colab": {
          "base_uri": "https://localhost:8080/"
        },
        "id": "Qsor3--k10Ks",
        "outputId": "93d278f0-709f-4250-fabb-bc322ab397d1"
      },
      "outputs": [
        {
          "output_type": "stream",
          "name": "stdout",
          "text": [
            "Using device: cuda\n"
          ]
        }
      ],
      "source": [
        "# Special tokens\n",
        "PAD = '<pad>'\n",
        "UNK = '<unk>'\n",
        "BOS = '<sos>'\n",
        "EOS = '<eos>'\n",
        "\n",
        "# Set random seeds for reproducibility\n",
        "SEED = 42\n",
        "random.seed(SEED)\n",
        "np.random.seed(SEED)\n",
        "torch.manual_seed(SEED)\n",
        "torch.cuda.manual_seed(SEED)\n",
        "torch.backends.cudnn.deterministic = True\n",
        "\n",
        "device = torch.device('cuda' if torch.cuda.is_available() else 'cpu')\n",
        "print(f\"Using device: {device}\")"
      ]
    },
    {
      "cell_type": "code",
      "execution_count": 4,
      "metadata": {
        "colab": {
          "base_uri": "https://localhost:8080/"
        },
        "id": "9wFwRgYABDbh",
        "outputId": "c65435e9-42da-4c7b-879b-ea930e396fb0"
      },
      "outputs": [
        {
          "output_type": "stream",
          "name": "stdout",
          "text": [
            "Cloning into 'EVBCorpus'...\n",
            "remote: Enumerating objects: 35, done.\u001b[K\n",
            "remote: Total 35 (delta 0), reused 0 (delta 0), pack-reused 35 (from 1)\u001b[K\n",
            "Receiving objects: 100% (35/35), 35.37 MiB | 34.33 MiB/s, done.\n",
            "Resolving deltas: 100% (10/10), done.\n"
          ]
        }
      ],
      "source": [
        "!git clone https://github.com/qhungngo/EVBCorpus.git"
      ]
    },
    {
      "cell_type": "markdown",
      "source": [
        "#  2 Data Ingestion & SGML Parsing\n",
        "Extract clean English–Vietnamese sentence pairs from EVBCorpus SGML/XML files into a tidy `pandas.DataFrame` for training.\n"
      ],
      "metadata": {
        "id": "NjX-Ucscxs3z"
      }
    },
    {
      "cell_type": "code",
      "execution_count": 5,
      "metadata": {
        "id": "ClVlsL2L6Ld8"
      },
      "outputs": [],
      "source": [
        "def parse_sgml_file(sgml_path):\n",
        "    \"\"\"Parse a single SGML file and extract English-Vietnamese sentence pairs\"\"\"\n",
        "    try:\n",
        "        # Read file content\n",
        "        with open(sgml_path, 'r', encoding='utf-8') as f:\n",
        "            content = f.read()\n",
        "\n",
        "        # Parse with BeautifulSoup (handles SGML/XML-like formats)\n",
        "        soup = BeautifulSoup(content, 'html.parser')\n",
        "\n",
        "        pairs = []\n",
        "\n",
        "        # Find all sentence pairs\n",
        "        for spair in soup.find_all('spair'):\n",
        "            en_text = \"\"\n",
        "            vi_text = \"\"\n",
        "\n",
        "            # Get all <s> tags in this spair\n",
        "            s_tags = spair.find_all('s')\n",
        "\n",
        "            for s in s_tags:\n",
        "                s_id = s.get('id', '')\n",
        "                text = s.get_text(strip=True)\n",
        "\n",
        "                # Identify English vs Vietnamese by id prefix\n",
        "                if s_id.startswith('en'):\n",
        "                    en_text = text\n",
        "                elif s_id.startswith('vn'):\n",
        "                    vi_text = text\n",
        "\n",
        "            # Only add if both sentences exist and are non-empty\n",
        "            if en_text and vi_text:\n",
        "                pairs.append({\n",
        "                    'english': en_text,\n",
        "                    'vietnamese': vi_text\n",
        "                })\n",
        "\n",
        "        return pairs\n",
        "\n",
        "    except Exception as e:\n",
        "        print(f\"⚠️  Error parsing {os.path.basename(sgml_path)}: {e}\")\n",
        "        return []"
      ]
    },
    {
      "cell_type": "code",
      "execution_count": 6,
      "metadata": {
        "id": "cceqdx78KvPv"
      },
      "outputs": [],
      "source": [
        "def load_evbcorpus_to_dataframe(extract_dir):\n",
        "    \"\"\"Load all SGML files from EVBCorpus and create pandas DataFrame\"\"\"\n",
        "    print(\"\\n📖 Parsing SGML files...\")\n",
        "\n",
        "    # Find all SGML/XML files\n",
        "    sgml_files = []\n",
        "    for root, dirs, files in os.walk(extract_dir):\n",
        "        for f in files:\n",
        "            if f.endswith('.xml') or f.endswith('.sgml'):\n",
        "                sgml_files.append(os.path.join(root, f))\n",
        "\n",
        "    if not sgml_files:\n",
        "        print(\"⚠️  No SGML/XML files found!\")\n",
        "        print(f\"Searched in: {extract_dir}\")\n",
        "        print(\"\\nTrying to find all files...\")\n",
        "        all_files = []\n",
        "        for root, dirs, files in os.walk(extract_dir):\n",
        "            all_files.extend([os.path.join(root, f) for f in files[:5]])\n",
        "        print(f\"Found files: {all_files[:10]}\")\n",
        "        raise FileNotFoundError(\"No SGML/XML files found in extracted directory\")\n",
        "\n",
        "    print(f\"Found {len(sgml_files)} SGML/XML files\")\n",
        "\n",
        "    # Parse all SGML files\n",
        "    all_pairs = []\n",
        "    from tqdm import tqdm\n",
        "\n",
        "    for sgml_file in tqdm(sgml_files, desc=\"Parsing SGML\"):\n",
        "        pairs = parse_sgml_file(sgml_file)\n",
        "        all_pairs.extend(pairs)\n",
        "\n",
        "    if not all_pairs:\n",
        "        raise ValueError(\"No sentence pairs found! Check SGML file format.\")\n",
        "\n",
        "    # Create DataFrame\n",
        "    df = pd.DataFrame(all_pairs)\n",
        "\n",
        "    # Remove duplicates\n",
        "    df = df.drop_duplicates()\n",
        "\n",
        "    print(f\"\\n✓ Loaded {len(df):,} sentence pairs\")\n",
        "    print(f\"  Unique pairs: {len(df):,}\")\n",
        "    print(f\"\\nDataFrame Info:\")\n",
        "    print(f\"  Shape: {df.shape}\")\n",
        "    print(f\"  Columns: {df.columns.tolist()}\")\n",
        "\n",
        "    # Show statistics\n",
        "    print(f\"\\nSentence Length Statistics:\")\n",
        "    df['en_words'] = df['english'].str.split().str.len()\n",
        "    df['vi_words'] = df['vietnamese'].str.split().str.len()\n",
        "    print(f\"  English words: mean={df['en_words'].mean():.1f}, max={df['en_words'].max()}\")\n",
        "    print(f\"  Vietnamese words: mean={df['vi_words'].mean():.1f}, max={df['vi_words'].max()}\")\n",
        "\n",
        "    # Drop temporary columns\n",
        "    df = df.drop(['en_words', 'vi_words'], axis=1)\n",
        "\n",
        "    return df"
      ]
    },
    {
      "cell_type": "code",
      "execution_count": 7,
      "metadata": {
        "id": "RBiVuqFKLvSF"
      },
      "outputs": [],
      "source": [
        "rar_path = \"/content/EVBCorpus/EVBCorpus_EVBNews_v2.0.rar\"\n",
        "out_dir = \"/content/evbcorpus_data/EVBCorpus_v2\"\n",
        "os.makedirs(out_dir, exist_ok=True)\n",
        "\n",
        "with rarfile.RarFile(rar_path) as rf:\n",
        "    # rf.printdir()  # xem list file\n",
        "    rf.extractall(path=out_dir)"
      ]
    },
    {
      "cell_type": "code",
      "execution_count": 8,
      "metadata": {
        "colab": {
          "base_uri": "https://localhost:8080/"
        },
        "id": "Pq8HgnFIKzC4",
        "outputId": "2efe7c88-7cbf-4a0d-e78f-968a784534ae"
      },
      "outputs": [
        {
          "output_type": "stream",
          "name": "stdout",
          "text": [
            "================================================================================\n",
            "EVBCorpus v2.0 - SGML Parser\n",
            "================================================================================\n",
            "\n",
            "📖 Parsing SGML files...\n",
            "Found 1000 SGML/XML files\n"
          ]
        },
        {
          "output_type": "stream",
          "name": "stderr",
          "text": [
            "Parsing SGML: 100%|██████████| 1000/1000 [00:11<00:00, 84.09it/s]\n"
          ]
        },
        {
          "output_type": "stream",
          "name": "stdout",
          "text": [
            "\n",
            "✓ Loaded 43,695 sentence pairs\n",
            "  Unique pairs: 43,695\n",
            "\n",
            "DataFrame Info:\n",
            "  Shape: (43695, 2)\n",
            "  Columns: ['english', 'vietnamese']\n",
            "\n",
            "Sentence Length Statistics:\n",
            "  English words: mean=19.6, max=149\n",
            "  Vietnamese words: mean=26.8, max=185\n",
            "\n",
            "📊 Sample data from DataFrame:\n",
            "================================================================================\n",
            "                                                           english                                                       vietnamese\n",
            "0                   Tattoos linked to rare skin infection , CDC...            Xăm mình gây ra một nhiễm trùng da hiếm , theo CDC...\n",
            "1  At least two otherwise healthy men appear to have acquired a...  Ít nhất hai người đàn ông đáng lẽ khỏe mạnh dường như đã mắc...\n",
            "2  Although no evidence was found to link the use of tap water ...  Mặc dù không tìm thấy bằng chứng liên hệ việc sử dụng nước m...\n",
            "3  One case is confirmed , the other is as yet unconfirmed say ...  Một trường hợp đã được xác nhận , và một trường hợp khác cho...\n",
            "4  The confirmed case is of a healthy 44-year-old man who recei...  Trường hợp xác nhận là người đàn ông 44 tuổi khoẻ mạnh , xăm...\n",
            "\n",
            "================================================================================\n"
          ]
        }
      ],
      "source": [
        "# Download and parse corpus\n",
        "print(\"=\" * 80)\n",
        "print(\"EVBCorpus v2.0 - SGML Parser\")\n",
        "print(\"=\" * 80)\n",
        "\n",
        "extract_dir = out_dir\n",
        "corpus_df = load_evbcorpus_to_dataframe(extract_dir)\n",
        "\n",
        "# Display sample data\n",
        "print(\"\\n📊 Sample data from DataFrame:\")\n",
        "print(\"=\" * 80)\n",
        "display_df = corpus_df.head(5).copy()\n",
        "display_df['english'] = display_df['english'].str[:60] + '...'\n",
        "display_df['vietnamese'] = display_df['vietnamese'].str[:60] + '...'\n",
        "print(display_df.to_string(index=True))\n",
        "print(\"\\n\" + \"=\" * 80)"
      ]
    },
    {
      "cell_type": "code",
      "execution_count": 9,
      "metadata": {
        "id": "AQbOADRhNJ29"
      },
      "outputs": [],
      "source": [
        "def preprocess_sentence(w, max_length=None):\n",
        "    \"\"\"Preprocess a sentence (TensorFlow/Keras style)\"\"\"\n",
        "    w = w.lower().strip()\n",
        "\n",
        "    # Add space around punctuation\n",
        "    w = re.sub(r\"([?.!,¿])\", r\" \\1 \", w)\n",
        "    w = re.sub(r'[\" \"]+', \" \", w)\n",
        "\n",
        "    # Replace multiple spaces with single space\n",
        "    w = re.sub(r'\\s+', ' ', w)\n",
        "    w = w.strip()\n",
        "\n",
        "    # Truncate to max_length if specified\n",
        "    if max_length:\n",
        "        w = \" \".join(w.split()[:max_length])\n",
        "\n",
        "    # Add start and end tokens\n",
        "    w = '{} {} {}'.format(BOS, w, EOS)\n",
        "\n",
        "    return w"
      ]
    },
    {
      "cell_type": "code",
      "execution_count": 10,
      "metadata": {
        "id": "sMA8TOumNLQh"
      },
      "outputs": [],
      "source": [
        "def display_samples(inp_lines, targ_lines, num_of_pairs=5):\n",
        "    \"\"\"Display sample data pairs\"\"\"\n",
        "    pairs = list(zip(inp_lines[:num_of_pairs], targ_lines[:num_of_pairs]))\n",
        "\n",
        "    print('=' * 70)\n",
        "    print('SAMPLE DATA')\n",
        "    print('=' * 70)\n",
        "\n",
        "    for i, (inp, targ) in enumerate(pairs):\n",
        "        print(f'\\n--> Sample {i + 1}:')\n",
        "        print(f'    Input:  {inp}')\n",
        "        print(f'    Target: {targ}')\n",
        "\n",
        "    print('\\n' + '=' * 70)"
      ]
    },
    {
      "cell_type": "markdown",
      "source": [
        "# 3 Data Preparation & Tokenization\n",
        "Define reusable utilities to go from a clean `DataFrame` of EN–VI sentence pairs → token IDs & padded mini-batches, ready for a Transformer."
      ],
      "metadata": {
        "id": "U2mksPRBzZWn"
      }
    },
    {
      "cell_type": "code",
      "execution_count": 11,
      "metadata": {
        "id": "rkHVqFTuNOmO"
      },
      "outputs": [],
      "source": [
        "def load_data_from_dataframe(df, max_samples=None, max_length=100):\n",
        "    \"\"\"Load and preprocess data from pandas DataFrame\"\"\"\n",
        "    print(f\"\\n📖 Loading data from DataFrame...\")\n",
        "    print(f\"  Total pairs: {len(df):,}\")\n",
        "\n",
        "    # Get English and Vietnamese sentences\n",
        "    en_sentences = df['english'].tolist()\n",
        "    vi_sentences = df['vietnamese'].tolist()\n",
        "\n",
        "    print(f\"\\n🧹 Preprocessing sentences...\")\n",
        "    en_preprocessed = []\n",
        "    vi_preprocessed = []\n",
        "\n",
        "    for en, vi in tqdm(zip(en_sentences, vi_sentences), total=len(en_sentences), desc=\"Processing\"):\n",
        "        en_prep = preprocess_sentence(en, max_length=max_length)\n",
        "        vi_prep = preprocess_sentence(vi, max_length=max_length)\n",
        "\n",
        "        # Filter out empty sentences\n",
        "        if len(en_prep.split()) > 2 and len(vi_prep.split()) > 2:  # More than BOS+EOS\n",
        "            en_preprocessed.append(en_prep)\n",
        "            vi_preprocessed.append(vi_prep)\n",
        "\n",
        "    print(f\"✓ After preprocessing: {len(en_preprocessed):,} sentences\")\n",
        "\n",
        "    if max_samples:\n",
        "        en_preprocessed = en_preprocessed[:max_samples]\n",
        "        vi_preprocessed = vi_preprocessed[:max_samples]\n",
        "        print(f\"✓ Using {max_samples:,} samples\")\n",
        "\n",
        "    # Display samples\n",
        "    display_samples(en_preprocessed, vi_preprocessed, num_of_pairs=3)\n",
        "\n",
        "    return en_preprocessed, vi_preprocessed"
      ]
    },
    {
      "cell_type": "code",
      "execution_count": 12,
      "metadata": {
        "id": "b1lEeM9X6v30"
      },
      "outputs": [],
      "source": [
        "class Tokenizer:\n",
        "    \"\"\"Tokenizer similar to TensorFlow/Keras Tokenizer\"\"\"\n",
        "    def __init__(self, num_words=None, oov_token='<unk>'):\n",
        "        self.num_words = num_words\n",
        "        self.oov_token = oov_token\n",
        "\n",
        "        self.word_index = {}  # word -> index mapping\n",
        "        self.index_word = {}  # index -> word mapping\n",
        "        self.word_counts = Counter()\n",
        "\n",
        "        # Initialize with special tokens\n",
        "        self.word_index = {\n",
        "            PAD: 0,\n",
        "            BOS: 1,\n",
        "            EOS: 2,\n",
        "            UNK: 3\n",
        "        }\n",
        "        self.index_word = {v: k for k, v in self.word_index.items()}\n",
        "\n",
        "    def fit_on_texts(self, texts):\n",
        "        \"\"\"Build vocabulary from texts\"\"\"\n",
        "        print(f\"🔧 Building vocabulary...\")\n",
        "\n",
        "        # Count words\n",
        "        for text in tqdm(texts, desc=\"Counting words\"):\n",
        "            words = text.split()\n",
        "            self.word_counts.update(words)\n",
        "\n",
        "        # Build word_index based on frequency\n",
        "        sorted_words = sorted(self.word_counts.items(), key=lambda x: x[1], reverse=True)\n",
        "\n",
        "        # Start from index 4 (after special tokens)\n",
        "        idx = 4\n",
        "        for word, count in sorted_words:\n",
        "            if word not in self.word_index:\n",
        "                if self.num_words is None or idx < self.num_words:\n",
        "                    self.word_index[word] = idx\n",
        "                    self.index_word[idx] = word\n",
        "                    idx += 1\n",
        "\n",
        "        vocab_size = len(self.word_index)\n",
        "        print(f\"✓ Vocabulary size: {vocab_size:,}\")\n",
        "        print(f\"  Total unique words: {len(self.word_counts):,}\")\n",
        "        if self.num_words:\n",
        "            print(f\"  Kept top {self.num_words:,} words\")\n",
        "\n",
        "    def texts_to_sequences(self, texts):\n",
        "        \"\"\"Convert texts to sequences of integers\"\"\"\n",
        "        sequences = []\n",
        "        for text in texts:\n",
        "            words = text.split()\n",
        "            sequence = []\n",
        "            for word in words:\n",
        "                if word in self.word_index:\n",
        "                    sequence.append(self.word_index[word])\n",
        "                else:\n",
        "                    sequence.append(self.word_index[UNK])\n",
        "            sequences.append(sequence)\n",
        "        return sequences\n",
        "\n",
        "    def sequences_to_texts(self, sequences):\n",
        "        \"\"\"Convert sequences of integers back to texts\"\"\"\n",
        "        texts = []\n",
        "        for sequence in sequences:\n",
        "            words = []\n",
        "            for idx in sequence:\n",
        "                if idx in self.index_word:\n",
        "                    word = self.index_word[idx]\n",
        "                    # Skip special tokens except for visualization\n",
        "                    if word not in [PAD, BOS, EOS]:\n",
        "                        words.append(word)\n",
        "                else:\n",
        "                    words.append(UNK)\n",
        "            texts.append(' '.join(words))\n",
        "        return texts\n",
        "\n",
        "    def get_vocab_size(self):\n",
        "        \"\"\"Get vocabulary size\"\"\"\n",
        "        return len(self.word_index)\n",
        "\n",
        "    def save(self, filepath):\n",
        "        \"\"\"Save tokenizer\"\"\"\n",
        "        with open(filepath, 'wb') as f:\n",
        "            pickle.dump({\n",
        "                'word_index': self.word_index,\n",
        "                'index_word': self.index_word,\n",
        "                'word_counts': self.word_counts,\n",
        "                'num_words': self.num_words,\n",
        "                'oov_token': self.oov_token\n",
        "            }, f)\n",
        "\n",
        "    def load(self, filepath):\n",
        "        \"\"\"Load tokenizer\"\"\"\n",
        "        with open(filepath, 'rb') as f:\n",
        "            data = pickle.load(f)\n",
        "            self.word_index = data['word_index']\n",
        "            self.index_word = data['index_word']\n",
        "            self.word_counts = data['word_counts']\n",
        "            self.num_words = data['num_words']\n",
        "            self.oov_token = data['oov_token']"
      ]
    },
    {
      "cell_type": "code",
      "execution_count": 13,
      "metadata": {
        "id": "-2kjrgxN71xc"
      },
      "outputs": [],
      "source": [
        "class TranslationDataset(Dataset):\n",
        "    \"\"\"Dataset for translation task\"\"\"\n",
        "    def __init__(self, src_sequences, trg_sequences, max_len=None):\n",
        "        self.src_sequences = src_sequences\n",
        "        self.trg_sequences = trg_sequences\n",
        "        self.max_len = max_len\n",
        "\n",
        "    def __len__(self):\n",
        "        return len(self.src_sequences)\n",
        "\n",
        "    def __getitem__(self, idx):\n",
        "        src = self.src_sequences[idx]\n",
        "        trg = self.trg_sequences[idx]\n",
        "\n",
        "        # Truncate if too long\n",
        "        if self.max_len:\n",
        "            src = src[:self.max_len]\n",
        "            trg = trg[:self.max_len]\n",
        "\n",
        "        src = torch.tensor(src, dtype=torch.long)\n",
        "        trg = torch.tensor(trg, dtype=torch.long)\n",
        "        return src, trg"
      ]
    },
    {
      "cell_type": "code",
      "execution_count": 14,
      "metadata": {
        "id": "etGSHqXpc2M-"
      },
      "outputs": [],
      "source": [
        "def collate_fn(batch):\n",
        "    \"\"\"Collate function for DataLoader with padding\"\"\"\n",
        "    src_batch, trg_batch = zip(*batch)\n",
        "\n",
        "    # Pad sequences\n",
        "    src_batch = nn.utils.rnn.pad_sequence(src_batch, batch_first=True, padding_value=0)\n",
        "    trg_batch = nn.utils.rnn.pad_sequence(trg_batch, batch_first=True, padding_value=0)\n",
        "\n",
        "    return src_batch, trg_batch"
      ]
    },
    {
      "cell_type": "markdown",
      "source": [
        "# 4 Transformer Model & Training Utilities\n",
        "Build an end-to-end Transformer model for English–Vietnamese translation with key components: positional encoding, transformer encoder-decoder, training loop, evaluation, translation, and BLEU scoring.  "
      ],
      "metadata": {
        "id": "H2PdAex30GQB"
      }
    },
    {
      "cell_type": "markdown",
      "source": [
        "## 4.1 Positional Encoding\n",
        "Adds position information to token embeddings using sinusoidal encoding, followed by dropout.\n"
      ],
      "metadata": {
        "id": "dqWQlldH1Ry1"
      }
    },
    {
      "cell_type": "code",
      "execution_count": 15,
      "metadata": {
        "id": "e6-c9uxiOXiT"
      },
      "outputs": [],
      "source": [
        "class PositionalEncoding(nn.Module):\n",
        "    \"\"\"Positional encoding for Transformer\"\"\"\n",
        "    def __init__(self, d_model, max_len=5000, dropout=0.1):\n",
        "        super(PositionalEncoding, self).__init__()\n",
        "        self.dropout = nn.Dropout(p=dropout)\n",
        "\n",
        "        pe = torch.zeros(max_len, d_model)\n",
        "        position = torch.arange(0, max_len, dtype=torch.float).unsqueeze(1)\n",
        "\n",
        "        # FIX: Use torch.arange instead of torch.range (deprecated)\n",
        "        div_term = torch.exp(torch.arange(0, d_model, 2).float() * (-math.log(10000.0) / d_model))\n",
        "\n",
        "        pe[:, 0::2] = torch.sin(position * div_term)\n",
        "        pe[:, 1::2] = torch.cos(position * div_term)\n",
        "\n",
        "        pe = pe.unsqueeze(0)\n",
        "        self.register_buffer('pe', pe)\n",
        "\n",
        "    def forward(self, x):\n",
        "        # Add positional encoding and apply dropout\n",
        "        x = x + self.pe[:, :x.size(1)]\n",
        "        return self.dropout(x)"
      ]
    },
    {
      "cell_type": "markdown",
      "source": [
        "## 4.2 Transformer Translator\n",
        "Implements an encoder-decoder Transformer for sequence-to-sequence translation.\n"
      ],
      "metadata": {
        "id": "c43qJihZ1tSb"
      }
    },
    {
      "cell_type": "code",
      "execution_count": 16,
      "metadata": {
        "id": "9eC40b5UO_CN"
      },
      "outputs": [],
      "source": [
        "class TransformerTranslator(nn.Module):\n",
        "    \"\"\"Transformer model for translation\"\"\"\n",
        "    def __init__(self, src_vocab_size, trg_vocab_size, d_model=512, nhead=8,\n",
        "                 num_encoder_layers=6, num_decoder_layers=6, dim_feedforward=2048,\n",
        "                 dropout=0.1, max_len=200):\n",
        "        super(TransformerTranslator, self).__init__()\n",
        "\n",
        "        self.d_model = d_model\n",
        "        self.src_embedding = nn.Embedding(src_vocab_size, d_model)\n",
        "        self.trg_embedding = nn.Embedding(trg_vocab_size, d_model)\n",
        "        self.pos_encoder = PositionalEncoding(d_model, max_len=max_len, dropout=dropout)\n",
        "\n",
        "        self.transformer = nn.Transformer(\n",
        "            d_model=d_model,\n",
        "            nhead=nhead,\n",
        "            num_encoder_layers=num_encoder_layers,\n",
        "            num_decoder_layers=num_decoder_layers,\n",
        "            dim_feedforward=dim_feedforward,\n",
        "            dropout=dropout,\n",
        "            batch_first=True\n",
        "        )\n",
        "\n",
        "        self.fc_out = nn.Linear(d_model, trg_vocab_size)\n",
        "        self.dropout = nn.Dropout(dropout)\n",
        "\n",
        "        self._init_weights()\n",
        "\n",
        "    def _init_weights(self):\n",
        "        \"\"\"Initialize weights\"\"\"\n",
        "        for p in self.parameters():\n",
        "            if p.dim() > 1:\n",
        "                nn.init.xavier_uniform_(p)\n",
        "\n",
        "    def generate_square_subsequent_mask(self, sz):\n",
        "        \"\"\"Generate mask for target sequence\"\"\"\n",
        "        mask = torch.triu(torch.ones(sz, sz), diagonal=1).bool()\n",
        "        return mask\n",
        "\n",
        "    def forward(self, src, trg):\n",
        "        \"\"\"Forward pass\"\"\"\n",
        "        # Create masks\n",
        "        trg_mask = self.generate_square_subsequent_mask(trg.size(1)).to(src.device)\n",
        "        src_padding_mask = (src == 0)\n",
        "        trg_padding_mask = (trg == 0)\n",
        "\n",
        "        # Embeddings with scaling\n",
        "        src_emb = self.pos_encoder(self.src_embedding(src) * math.sqrt(self.d_model))\n",
        "        trg_emb = self.pos_encoder(self.trg_embedding(trg) * math.sqrt(self.d_model))\n",
        "\n",
        "        # Transformer\n",
        "        output = self.transformer(\n",
        "            src_emb, trg_emb,\n",
        "            tgt_mask=trg_mask,\n",
        "            src_key_padding_mask=src_padding_mask,\n",
        "            tgt_key_padding_mask=trg_padding_mask\n",
        "        )\n",
        "\n",
        "        return self.fc_out(output)"
      ]
    },
    {
      "cell_type": "markdown",
      "source": [
        "## 4.3 Training, Evaluation & Inference Utilities\n",
        "This section defines the helper functions used for **training**, **validation**, **translation inference**, and **BLEU evaluation**.  \n",
        "Together, they handle the full workflow from optimization to model assessment."
      ],
      "metadata": {
        "id": "lKO42fFF2QFH"
      }
    },
    {
      "cell_type": "markdown",
      "source": [
        "### Train the Transformer for a single epoch."
      ],
      "metadata": {
        "id": "_2bgkvj626yY"
      }
    },
    {
      "cell_type": "code",
      "execution_count": 17,
      "metadata": {
        "id": "q_3TiwXGY0n5"
      },
      "outputs": [],
      "source": [
        "def train_epoch(model, dataloader, optimizer, criterion, clip=1.0):\n",
        "  \"\"\"Train for one epoch\"\"\"\n",
        "  model.train()\n",
        "  epoch_loss = 0\n",
        "  progress_bar = tqdm(dataloader, desc=\"Training\")\n",
        "  for src, trg in progress_bar:\n",
        "    src, trg = src.to(device), trg.to(device)\n",
        "\n",
        "    optimizer.zero_grad()\n",
        "\n",
        "    # Forward pass\n",
        "    output = model(src, trg[:, :-1])\n",
        "\n",
        "    # Reshape for loss calculation\n",
        "    output = output.reshape(-1, output.shape[-1])\n",
        "    trg = trg[:, 1:].reshape(-1)\n",
        "\n",
        "    loss = criterion(output, trg)\n",
        "    loss.backward()\n",
        "\n",
        "    # Gradient clipping\n",
        "    torch.nn.utils.clip_grad_norm_(model.parameters(), clip)\n",
        "\n",
        "    optimizer.step()\n",
        "    epoch_loss += loss.item()\n",
        "    progress_bar.set_postfix({'loss': loss.item()})\n",
        "\n",
        "  return epoch_loss / len(dataloader)"
      ]
    },
    {
      "cell_type": "markdown",
      "source": [
        "### Evaluate validation or test loss without gradient updates.\n"
      ],
      "metadata": {
        "id": "fAcN4b5K28Sb"
      }
    },
    {
      "cell_type": "code",
      "execution_count": 18,
      "metadata": {
        "id": "crgy3IrqZi-5"
      },
      "outputs": [],
      "source": [
        "def evaluate(model, dataloader, criterion):\n",
        "    \"\"\"Evaluate model\"\"\"\n",
        "    model.eval()\n",
        "    epoch_loss = 0\n",
        "\n",
        "    with torch.no_grad():\n",
        "        for src, trg in tqdm(dataloader, desc=\"Evaluating\"):\n",
        "            src, trg = src.to(device), trg.to(device)\n",
        "\n",
        "            output = model(src, trg[:, :-1])\n",
        "            output = output.reshape(-1, output.shape[-1])\n",
        "            trg = trg[:, 1:].reshape(-1)\n",
        "\n",
        "            loss = criterion(output, trg)\n",
        "            epoch_loss += loss.item()\n",
        "\n",
        "    return epoch_loss / len(dataloader)"
      ]
    },
    {
      "cell_type": "markdown",
      "source": [
        "### Perform greedy decoding to translate a single input sentence.\n"
      ],
      "metadata": {
        "id": "mVTGwJ253Dl-"
      }
    },
    {
      "cell_type": "code",
      "execution_count": 19,
      "metadata": {
        "id": "NLM1t15PZkch"
      },
      "outputs": [],
      "source": [
        "def translate_sentence(model, sentence, src_tokenizer, trg_tokenizer, max_len=50):\n",
        "    \"\"\"Translate a single sentence\"\"\"\n",
        "    model.eval()\n",
        "\n",
        "    # Preprocess and tokenize source sentence\n",
        "    preprocessed = preprocess_sentence(sentence, max_length=max_len)\n",
        "    src_sequence = src_tokenizer.texts_to_sequences([preprocessed])[0]\n",
        "    src_tensor = torch.tensor(src_sequence).unsqueeze(0).to(device)\n",
        "\n",
        "    # Start with BOS token\n",
        "    trg_indices = [trg_tokenizer.word_index[BOS]]\n",
        "\n",
        "    with torch.no_grad():\n",
        "        for _ in range(max_len):\n",
        "            trg_tensor = torch.tensor(trg_indices).unsqueeze(0).to(device)\n",
        "\n",
        "            output = model(src_tensor, trg_tensor)\n",
        "            next_token = output.argmax(dim=-1)[:, -1].item()\n",
        "\n",
        "            trg_indices.append(next_token)\n",
        "\n",
        "            # Stop if EOS token\n",
        "            if next_token == trg_tokenizer.word_index[EOS]:\n",
        "                break\n",
        "\n",
        "    # Decode to text\n",
        "    translation = trg_tokenizer.sequences_to_texts([trg_indices])[0]\n",
        "    return translation"
      ]
    },
    {
      "cell_type": "markdown",
      "source": [
        "### Compute corpus-level BLEU to evaluate translation quality.\n"
      ],
      "metadata": {
        "id": "8_zSBeTr3YC-"
      }
    },
    {
      "cell_type": "code",
      "execution_count": 20,
      "metadata": {
        "id": "BGOX51v3Zo3X"
      },
      "outputs": [],
      "source": [
        "def calculate_bleu(model, test_texts, src_tokenizer, trg_tokenizer, sample_size=None):\n",
        "    \"\"\"Calculate BLEU score on test data\"\"\"\n",
        "    model.eval()\n",
        "\n",
        "    src_texts, trg_texts = test_texts\n",
        "\n",
        "    if sample_size:\n",
        "        indices = random.sample(range(len(src_texts)), min(sample_size, len(src_texts)))\n",
        "        src_texts = [src_texts[i] for i in indices]\n",
        "        trg_texts = [trg_texts[i] for i in indices]\n",
        "\n",
        "    predictions = []\n",
        "    references = []\n",
        "\n",
        "    print(\"Generating translations for BLEU calculation...\")\n",
        "    for src, trg in tqdm(zip(src_texts, trg_texts), total=len(src_texts)):\n",
        "        # Translate (src is already preprocessed with BOS/EOS)\n",
        "        # Remove BOS/EOS for input to translate_sentence\n",
        "        src_clean = src.replace(BOS, '').replace(EOS, '').strip()\n",
        "        pred = translate_sentence(model, src_clean, src_tokenizer, trg_tokenizer)\n",
        "\n",
        "        # Clean reference (remove BOS/EOS)\n",
        "        trg_clean = trg.replace(BOS, '').replace(EOS, '').strip()\n",
        "\n",
        "        predictions.append(pred)\n",
        "        references.append(trg_clean)\n",
        "\n",
        "    # Calculate BLEU score\n",
        "    bleu = sacrebleu.corpus_bleu(predictions, [references])\n",
        "\n",
        "    return bleu.score, predictions, references"
      ]
    },
    {
      "cell_type": "markdown",
      "source": [
        "# 5 Full Training & Evaluation Pipeline"
      ],
      "metadata": {
        "id": "q-3ONd3f4Gnm"
      }
    },
    {
      "cell_type": "markdown",
      "source": [
        "This section integrates all components into a complete **Transformer translation workflow** — from configuration and data loading to model training, BLEU evaluation, and visualization."
      ],
      "metadata": {
        "id": "q7KP-Tlf4IcD"
      }
    },
    {
      "cell_type": "markdown",
      "source": [
        "## 5.1 Configuration & Data Loading\n"
      ],
      "metadata": {
        "id": "wq2aWhct4KdE"
      }
    },
    {
      "cell_type": "code",
      "execution_count": 21,
      "metadata": {
        "colab": {
          "base_uri": "https://localhost:8080/"
        },
        "id": "sApPKs6nZr23",
        "outputId": "ed0fcaec-c590-4b7b-be9d-dddb4e3b74cd"
      },
      "outputs": [
        {
          "output_type": "stream",
          "name": "stdout",
          "text": [
            "======================================================================\n",
            "TRANSFORMER MODEL FOR ENGLISH-VIETNAMESE TRANSLATION\n",
            "======================================================================\n",
            "\n",
            "📋 Configuration:\n",
            "  d_model: 256\n",
            "  nhead: 8\n",
            "  num_encoder_layers: 3\n",
            "  num_decoder_layers: 3\n",
            "  dim_feedforward: 512\n",
            "  dropout: 0.1\n",
            "  batch_size: 32\n",
            "  num_epochs: 50\n",
            "  learning_rate: 0.0001\n",
            "  max_len: 150\n",
            "  max_samples: None\n",
            "  max_sentence_length: 100\n"
          ]
        }
      ],
      "source": [
        "print(\"=\" * 70)\n",
        "print(\"TRANSFORMER MODEL FOR ENGLISH-VIETNAMESE TRANSLATION\")\n",
        "print(\"=\" * 70)\n",
        "\n",
        "# Model configuration\n",
        "config = {\n",
        "    'd_model': 256,\n",
        "    'nhead': 8,\n",
        "    'num_encoder_layers': 3,\n",
        "    'num_decoder_layers': 3,\n",
        "    'dim_feedforward': 512,\n",
        "    'dropout': 0.1,\n",
        "    'batch_size': 32,\n",
        "    'num_epochs': 50,\n",
        "    'learning_rate': 0.0001,\n",
        "    'max_len': 150,\n",
        "    'max_samples': None,  # None for full dataset, or number like 5000 for testing\n",
        "    'max_sentence_length': 100  # Max words per sentence\n",
        "}\n",
        "\n",
        "print(\"\\n📋 Configuration:\")\n",
        "for key, value in config.items():\n",
        "    print(f\"  {key}: {value}\")"
      ]
    },
    {
      "cell_type": "markdown",
      "source": [
        "Split the dataset into:\n",
        "- 80% train  \n",
        "- 10% validation  \n",
        "- 10% test  "
      ],
      "metadata": {
        "id": "tx0Ecx4U4kAc"
      }
    },
    {
      "cell_type": "code",
      "execution_count": 22,
      "metadata": {
        "colab": {
          "base_uri": "https://localhost:8080/"
        },
        "id": "CaTw14kgZ5F3",
        "outputId": "cf685924-1faa-4070-b285-1c13934ca6e1"
      },
      "outputs": [
        {
          "output_type": "stream",
          "name": "stdout",
          "text": [
            "\n",
            "======================================================================\n",
            "LOADING DATA\n",
            "======================================================================\n",
            "\n",
            "📖 Loading data from DataFrame...\n",
            "  Total pairs: 43,695\n",
            "\n",
            "🧹 Preprocessing sentences...\n"
          ]
        },
        {
          "output_type": "stream",
          "name": "stderr",
          "text": [
            "Processing: 100%|██████████| 43695/43695 [00:02<00:00, 18472.29it/s]"
          ]
        },
        {
          "output_type": "stream",
          "name": "stdout",
          "text": [
            "✓ After preprocessing: 43,695 sentences\n",
            "======================================================================\n",
            "SAMPLE DATA\n",
            "======================================================================\n",
            "\n",
            "--> Sample 1:\n",
            "    Input:  <sos> tattoos linked to rare skin infection , cdc <eos>\n",
            "    Target: <sos> xăm mình gây ra một nhiễm trùng da hiếm , theo cdc <eos>\n",
            "\n",
            "--> Sample 2:\n",
            "    Input:  <sos> at least two otherwise healthy men appear to have acquired a rare bacterial skin infection that is hard to treat with antibiotics after receiving tattoos at a parlor in seattle in the state of washington in the us , according to a report in the emerging infectious diseases journal that was e-published ahead of print on 10 august by the centers for disease control and prevention ( cdc ) . <eos>\n",
            "    Target: <sos> ít nhất hai người đàn ông đáng lẽ khỏe mạnh dường như đã mắc phải một nhiễm trùng da hiếm gặp , do vi khuẩn gây ra , và khó chữa trị bằng thuốc kháng sinh , sau khi xăm mình tại một cửa hiệu ở seattle bang washington , hoa kỳ , theo một báo cáo trên tạp chí các bệnh truyền nhiễm mới đã được xuất bản trực tuyến trước khi in vào ngày 10 tháng tám bởi trung tâm kiểm soát và phòng ngừa dịch bệnh hoa kỳ . <eos>\n",
            "\n",
            "--> Sample 3:\n",
            "    Input:  <sos> although no evidence was found to link the use of tap water to the infections , the report authors recommend that tattoo operators avoid using tap water and use sterilized water throughout their procedures . <eos>\n",
            "    Target: <sos> mặc dù không tìm thấy bằng chứng liên hệ việc sử dụng nước máy với các bệnh nhiễm trùng , các tác giả báo cáo đề nghị rằng các cửa hiệu xăm mình nên tránh sử dụng nước máy và sử dụng nước tiệt trùng trong suốt quá trình thực hiện hình xăm của họ . <eos>\n",
            "\n",
            "======================================================================\n",
            "\n",
            "📊 Data split:\n",
            "  Train: 34,956 sentences\n",
            "  Val:   4,369 sentences\n",
            "  Test:  4,370 sentences\n"
          ]
        },
        {
          "output_type": "stream",
          "name": "stderr",
          "text": [
            "\n"
          ]
        }
      ],
      "source": [
        "print(\"\\n\" + \"=\" * 70)\n",
        "print(\"LOADING DATA\")\n",
        "print(\"=\" * 70)\n",
        "\n",
        "# Load data from DataFrame\n",
        "en_data, vi_data = load_data_from_dataframe(\n",
        "    corpus_df,\n",
        "    max_samples=config['max_samples'],\n",
        "    max_length=config['max_sentence_length']\n",
        ")\n",
        "\n",
        "# Split data: 80% train, 10% val, 10% test\n",
        "train_size = int(0.8 * len(en_data))\n",
        "val_size = int(0.1 * len(en_data))\n",
        "\n",
        "train_en = en_data[:train_size]\n",
        "train_vi = vi_data[:train_size]\n",
        "val_en = en_data[train_size:train_size+val_size]\n",
        "val_vi = vi_data[train_size:train_size+val_size]\n",
        "test_en = en_data[train_size+val_size:]\n",
        "test_vi = vi_data[train_size+val_size:]\n",
        "\n",
        "print(f\"\\n📊 Data split:\")\n",
        "print(f\"  Train: {len(train_en):,} sentences\")\n",
        "print(f\"  Val:   {len(val_en):,} sentences\")\n",
        "print(f\"  Test:  {len(test_en):,} sentences\")"
      ]
    },
    {
      "cell_type": "markdown",
      "source": [
        "## 5.2 Tokenizer Construction\n",
        "Use TensorFlow/Keras-style tokenizers for both languages:\n",
        "- `Tokenizer(num_words=50000)` keeps top 50K tokens.  \n",
        "- Fit on training corpus (`fit_on_texts`).\n",
        "- Display sample tokenized sentences."
      ],
      "metadata": {
        "id": "AowYYD5l4vNr"
      }
    },
    {
      "cell_type": "code",
      "execution_count": 23,
      "metadata": {
        "colab": {
          "base_uri": "https://localhost:8080/"
        },
        "id": "RhEeEAdKZ7SC",
        "outputId": "d70f2fe2-9337-46e9-8649-2a9a112b169a"
      },
      "outputs": [
        {
          "output_type": "stream",
          "name": "stdout",
          "text": [
            "\n",
            "======================================================================\n",
            "BUILDING VOCABULARIES (Keras/TensorFlow style)\n",
            "======================================================================\n",
            "\n",
            "🔤 Fitting English tokenizer...\n",
            "🔧 Building vocabulary...\n"
          ]
        },
        {
          "output_type": "stream",
          "name": "stderr",
          "text": [
            "Counting words: 100%|██████████| 34956/34956 [00:00<00:00, 240237.28it/s]\n"
          ]
        },
        {
          "output_type": "stream",
          "name": "stdout",
          "text": [
            "✓ Vocabulary size: 30,354\n",
            "  Total unique words: 30,352\n",
            "  Kept top 50,000 words\n",
            "🔤 Fitting Vietnamese tokenizer...\n",
            "🔧 Building vocabulary...\n"
          ]
        },
        {
          "output_type": "stream",
          "name": "stderr",
          "text": [
            "Counting words: 100%|██████████| 34956/34956 [00:00<00:00, 148170.25it/s]\n"
          ]
        },
        {
          "output_type": "stream",
          "name": "stdout",
          "text": [
            "✓ Vocabulary size: 13,152\n",
            "  Total unique words: 13,150\n",
            "  Kept top 50,000 words\n",
            "\n",
            "✓ English vocab size: 30,354\n",
            "✓ Vietnamese vocab size: 13,152\n",
            "\n",
            "📝 Tokenization examples:\n",
            "\n",
            "English text: <sos> tattoos linked to rare skin infection , cdc <eos>\n",
            "Sequence:     [1, 10902, 982, 7, 1368, 292, 448, 6, 3244, 2]...\n",
            "Decoded back: tattoos linked to rare skin infection , cdc\n",
            "\n",
            "Vietnamese text: <sos> xăm mình gây ra một nhiễm trùng da hiếm , theo cdc <eos>\n",
            "Sequence:        [1, 2266, 74, 164, 28, 9, 358, 516, 405, 1029, 5, 95, 2405, 2]...\n",
            "Decoded back:    xăm mình gây ra một nhiễm trùng da hiếm , theo cdc\n",
            "\n",
            "🔄 Converting texts to sequences...\n",
            "✓ Converted all texts to sequences\n"
          ]
        }
      ],
      "source": [
        "print(\"\\n\" + \"=\" * 70)\n",
        "print(\"BUILDING VOCABULARIES (Keras/TensorFlow style)\")\n",
        "print(\"=\" * 70)\n",
        "\n",
        "# Initialize tokenizers\n",
        "en_tokenizer = Tokenizer(num_words=50000)  # Keep top 50K words\n",
        "vi_tokenizer = Tokenizer(num_words=50000)\n",
        "\n",
        "# Fit on training data\n",
        "print(\"\\n🔤 Fitting English tokenizer...\")\n",
        "en_tokenizer.fit_on_texts(train_en)\n",
        "\n",
        "print(\"🔤 Fitting Vietnamese tokenizer...\")\n",
        "vi_tokenizer.fit_on_texts(train_vi)\n",
        "\n",
        "print(f\"\\n✓ English vocab size: {en_tokenizer.get_vocab_size():,}\")\n",
        "print(f\"✓ Vietnamese vocab size: {vi_tokenizer.get_vocab_size():,}\")\n",
        "\n",
        "# Show tokenization examples\n",
        "print(\"\\n📝 Tokenization examples:\")\n",
        "sample_en = train_en[0]\n",
        "sample_vi = train_vi[0]\n",
        "\n",
        "en_seq = en_tokenizer.texts_to_sequences([sample_en])[0]\n",
        "vi_seq = vi_tokenizer.texts_to_sequences([sample_vi])[0]\n",
        "\n",
        "print(f\"\\nEnglish text: {sample_en}\")\n",
        "print(f\"Sequence:     {en_seq[:20]}...\")  # Show first 20 tokens\n",
        "print(f\"Decoded back: {en_tokenizer.sequences_to_texts([en_seq])[0]}\")\n",
        "\n",
        "print(f\"\\nVietnamese text: {sample_vi}\")\n",
        "print(f\"Sequence:        {vi_seq[:20]}...\")\n",
        "print(f\"Decoded back:    {vi_tokenizer.sequences_to_texts([vi_seq])[0]}\")\n",
        "\n",
        "# Convert all texts to sequences\n",
        "print(\"\\n🔄 Converting texts to sequences...\")\n",
        "train_en_seq = en_tokenizer.texts_to_sequences(train_en)\n",
        "train_vi_seq = vi_tokenizer.texts_to_sequences(train_vi)\n",
        "val_en_seq = en_tokenizer.texts_to_sequences(val_en)\n",
        "val_vi_seq = vi_tokenizer.texts_to_sequences(val_vi)\n",
        "test_en_seq = en_tokenizer.texts_to_sequences(test_en)\n",
        "test_vi_seq = vi_tokenizer.texts_to_sequences(test_vi)\n",
        "\n",
        "print(f\"✓ Converted all texts to sequences\")"
      ]
    },
    {
      "cell_type": "markdown",
      "source": [
        "## 5.3 Dataset Preparation\n",
        "- Convert token sequences into `TranslationDataset`.\n",
        "- Apply padding and truncation (`max_len`).\n",
        "- Build DataLoaders for train, val, and test splits."
      ],
      "metadata": {
        "id": "nMKM51Hv4z7A"
      }
    },
    {
      "cell_type": "code",
      "execution_count": 24,
      "metadata": {
        "colab": {
          "base_uri": "https://localhost:8080/"
        },
        "id": "YWAv2wmWaYoy",
        "outputId": "e7aa8c63-7226-4ccc-f5c1-afed4ca12773"
      },
      "outputs": [
        {
          "output_type": "stream",
          "name": "stdout",
          "text": [
            "\n",
            "======================================================================\n",
            "CREATING DATASETS\n",
            "======================================================================\n",
            "✓ Train batches: 1093\n",
            "✓ Val batches:   137\n",
            "✓ Test batches:  137\n",
            "✓ Max sequence length: 150\n"
          ]
        }
      ],
      "source": [
        "print(\"\\n\" + \"=\" * 70)\n",
        "print(\"CREATING DATASETS\")\n",
        "print(\"=\" * 70)\n",
        "\n",
        "# Create datasets from sequences with max_len truncation\n",
        "train_dataset = TranslationDataset(train_en_seq, train_vi_seq, max_len=config['max_len'])\n",
        "val_dataset = TranslationDataset(val_en_seq, val_vi_seq, max_len=config['max_len'])\n",
        "test_dataset = TranslationDataset(test_en_seq, test_vi_seq, max_len=config['max_len'])\n",
        "\n",
        "train_loader = DataLoader(train_dataset, batch_size=config['batch_size'],\n",
        "                         shuffle=True, collate_fn=collate_fn)\n",
        "val_loader = DataLoader(val_dataset, batch_size=config['batch_size'],\n",
        "                       collate_fn=collate_fn)\n",
        "test_loader = DataLoader(test_dataset, batch_size=config['batch_size'],\n",
        "                        collate_fn=collate_fn)\n",
        "\n",
        "print(f\"✓ Train batches: {len(train_loader)}\")\n",
        "print(f\"✓ Val batches:   {len(val_loader)}\")\n",
        "print(f\"✓ Test batches:  {len(test_loader)}\")\n",
        "print(f\"✓ Max sequence length: {config['max_len']}\")"
      ]
    },
    {
      "cell_type": "markdown",
      "source": [
        "## 5.4 Model Initialization\n",
        "Instantiate `TransformerTranslator`:"
      ],
      "metadata": {
        "id": "LUZ_SRJz5LEC"
      }
    },
    {
      "cell_type": "code",
      "execution_count": 25,
      "metadata": {
        "colab": {
          "base_uri": "https://localhost:8080/"
        },
        "id": "5G95MbOnabMS",
        "outputId": "42f0718b-e1d3-42f9-8bf7-3140521700a7"
      },
      "outputs": [
        {
          "output_type": "stream",
          "name": "stdout",
          "text": [
            "\n",
            "======================================================================\n",
            "INITIALIZING MODEL\n",
            "======================================================================\n",
            "\n",
            "🤖 Model Architecture:\n",
            "  Total parameters:     18,472,288\n",
            "  Trainable parameters: 18,472,288\n",
            "  Model size:           ~73.89 MB\n",
            "✓ Loss function: CrossEntropyLoss\n",
            "✓ Optimizer: Adam (lr=0.0001)\n",
            "✓ Scheduler: ReduceLROnPlateau\n"
          ]
        }
      ],
      "source": [
        "print(\"\\n\" + \"=\" * 70)\n",
        "print(\"INITIALIZING MODEL\")\n",
        "print(\"=\" * 70)\n",
        "\n",
        "model = TransformerTranslator(\n",
        "    src_vocab_size=en_tokenizer.get_vocab_size(),\n",
        "    trg_vocab_size=vi_tokenizer.get_vocab_size(),\n",
        "    d_model=config['d_model'],\n",
        "    nhead=config['nhead'],\n",
        "    num_encoder_layers=config['num_encoder_layers'],\n",
        "    num_decoder_layers=config['num_decoder_layers'],\n",
        "    dim_feedforward=config['dim_feedforward'],\n",
        "    dropout=config['dropout'],\n",
        "    max_len=config['max_len']\n",
        ").to(device)\n",
        "\n",
        "total_params = sum(p.numel() for p in model.parameters())\n",
        "trainable_params = sum(p.numel() for p in model.parameters() if p.requires_grad)\n",
        "\n",
        "print(f\"\\n🤖 Model Architecture:\")\n",
        "print(f\"  Total parameters:     {total_params:,}\")\n",
        "print(f\"  Trainable parameters: {trainable_params:,}\")\n",
        "print(f\"  Model size:           ~{total_params * 4 / 1e6:.2f} MB\")\n",
        "\n",
        "# Loss and optimizer\n",
        "criterion = nn.CrossEntropyLoss(ignore_index=0)\n",
        "optimizer = optim.Adam(model.parameters(), lr=config['learning_rate'])\n",
        "scheduler = optim.lr_scheduler.ReduceLROnPlateau(optimizer, mode='min', factor=0.5, patience=2)\n",
        "print(f\"✓ Loss function: CrossEntropyLoss\")\n",
        "print(f\"✓ Optimizer: Adam (lr={config['learning_rate']})\")\n",
        "print(f\"✓ Scheduler: ReduceLROnPlateau\")"
      ]
    },
    {
      "cell_type": "markdown",
      "source": [
        "## 5.5 Training Loop"
      ],
      "metadata": {
        "id": "v1qXRmmV5Ndm"
      }
    },
    {
      "cell_type": "code",
      "execution_count": 26,
      "metadata": {
        "colab": {
          "base_uri": "https://localhost:8080/"
        },
        "id": "orOgGL1kaeAb",
        "outputId": "18d7edb7-99d1-4ece-f433-8f5a173896b9"
      },
      "outputs": [
        {
          "output_type": "stream",
          "name": "stdout",
          "text": [
            "\n",
            "======================================================================\n",
            "TRAINING MODEL\n",
            "======================================================================\n",
            "\n",
            "======================================================================\n",
            "Epoch 1/50\n",
            "======================================================================\n"
          ]
        },
        {
          "output_type": "stream",
          "name": "stderr",
          "text": [
            "Training: 100%|██████████| 1093/1093 [00:56<00:00, 19.51it/s, loss=5.51]\n",
            "Evaluating:   0%|          | 0/137 [00:00<?, ?it/s]/usr/local/lib/python3.12/dist-packages/torch/nn/modules/transformer.py:515: UserWarning: The PyTorch API of nested tensors is in prototype stage and will change in the near future. We recommend specifying layout=torch.jagged when constructing a nested tensor, as this layout receives active development, has better operator coverage, and works with torch.compile. (Triggered internally at /pytorch/aten/src/ATen/NestedTensorImpl.cpp:178.)\n",
            "  output = torch._nested_tensor_from_mask(\n",
            "Evaluating: 100%|██████████| 137/137 [00:01<00:00, 68.73it/s]\n"
          ]
        },
        {
          "output_type": "stream",
          "name": "stdout",
          "text": [
            "\n",
            "📊 Results:\n",
            "  Train Loss: 6.2882 | Train PPL: 538.20\n",
            "  Val Loss:   5.5721 | Val PPL:   262.97\n",
            "  Time:       58.04s\n",
            "  ✓ Best model saved!\n",
            "\n",
            "======================================================================\n",
            "Epoch 2/50\n",
            "======================================================================\n"
          ]
        },
        {
          "output_type": "stream",
          "name": "stderr",
          "text": [
            "Training: 100%|██████████| 1093/1093 [00:57<00:00, 19.15it/s, loss=4.81]\n",
            "Evaluating: 100%|██████████| 137/137 [00:01<00:00, 73.84it/s]\n"
          ]
        },
        {
          "output_type": "stream",
          "name": "stdout",
          "text": [
            "\n",
            "📊 Results:\n",
            "  Train Loss: 5.1216 | Train PPL: 167.60\n",
            "  Val Loss:   4.9282 | Val PPL:   138.13\n",
            "  Time:       58.95s\n",
            "  ✓ Best model saved!\n",
            "\n",
            "======================================================================\n",
            "Epoch 3/50\n",
            "======================================================================\n"
          ]
        },
        {
          "output_type": "stream",
          "name": "stderr",
          "text": [
            "Training: 100%|██████████| 1093/1093 [00:57<00:00, 19.01it/s, loss=4.56]\n",
            "Evaluating: 100%|██████████| 137/137 [00:01<00:00, 74.56it/s]\n"
          ]
        },
        {
          "output_type": "stream",
          "name": "stdout",
          "text": [
            "\n",
            "📊 Results:\n",
            "  Train Loss: 4.5395 | Train PPL: 93.64\n",
            "  Val Loss:   4.5006 | Val PPL:   90.07\n",
            "  Time:       59.35s\n",
            "  ✓ Best model saved!\n",
            "\n",
            "======================================================================\n",
            "Epoch 4/50\n",
            "======================================================================\n"
          ]
        },
        {
          "output_type": "stream",
          "name": "stderr",
          "text": [
            "Training: 100%|██████████| 1093/1093 [00:57<00:00, 18.98it/s, loss=3.81]\n",
            "Evaluating: 100%|██████████| 137/137 [00:01<00:00, 75.22it/s]\n"
          ]
        },
        {
          "output_type": "stream",
          "name": "stdout",
          "text": [
            "\n",
            "📊 Results:\n",
            "  Train Loss: 4.1099 | Train PPL: 60.94\n",
            "  Val Loss:   4.2167 | Val PPL:   67.81\n",
            "  Time:       59.42s\n",
            "  ✓ Best model saved!\n",
            "\n",
            "======================================================================\n",
            "Epoch 5/50\n",
            "======================================================================\n"
          ]
        },
        {
          "output_type": "stream",
          "name": "stderr",
          "text": [
            "Training: 100%|██████████| 1093/1093 [00:57<00:00, 19.04it/s, loss=3.52]\n",
            "Evaluating: 100%|██████████| 137/137 [00:01<00:00, 74.23it/s]\n"
          ]
        },
        {
          "output_type": "stream",
          "name": "stdout",
          "text": [
            "\n",
            "📊 Results:\n",
            "  Train Loss: 3.7642 | Train PPL: 43.13\n",
            "  Val Loss:   4.0176 | Val PPL:   55.57\n",
            "  Time:       59.25s\n",
            "  ✓ Best model saved!\n",
            "\n",
            "======================================================================\n",
            "Epoch 6/50\n",
            "======================================================================\n"
          ]
        },
        {
          "output_type": "stream",
          "name": "stderr",
          "text": [
            "Training: 100%|██████████| 1093/1093 [00:57<00:00, 18.99it/s, loss=3.31]\n",
            "Evaluating: 100%|██████████| 137/137 [00:01<00:00, 75.27it/s]\n"
          ]
        },
        {
          "output_type": "stream",
          "name": "stdout",
          "text": [
            "\n",
            "📊 Results:\n",
            "  Train Loss: 3.4741 | Train PPL: 32.27\n",
            "  Val Loss:   3.8827 | Val PPL:   48.55\n",
            "  Time:       59.39s\n",
            "  ✓ Best model saved!\n",
            "\n",
            "======================================================================\n",
            "Epoch 7/50\n",
            "======================================================================\n"
          ]
        },
        {
          "output_type": "stream",
          "name": "stderr",
          "text": [
            "Training: 100%|██████████| 1093/1093 [00:57<00:00, 18.93it/s, loss=3.02]\n",
            "Evaluating: 100%|██████████| 137/137 [00:01<00:00, 74.88it/s]\n"
          ]
        },
        {
          "output_type": "stream",
          "name": "stdout",
          "text": [
            "\n",
            "📊 Results:\n",
            "  Train Loss: 3.2190 | Train PPL: 25.00\n",
            "  Val Loss:   3.7653 | Val PPL:   43.18\n",
            "  Time:       59.59s\n",
            "  ✓ Best model saved!\n",
            "\n",
            "======================================================================\n",
            "Epoch 8/50\n",
            "======================================================================\n"
          ]
        },
        {
          "output_type": "stream",
          "name": "stderr",
          "text": [
            "Training: 100%|██████████| 1093/1093 [00:57<00:00, 19.08it/s, loss=3.2]\n",
            "Evaluating: 100%|██████████| 137/137 [00:01<00:00, 74.35it/s]\n"
          ]
        },
        {
          "output_type": "stream",
          "name": "stdout",
          "text": [
            "\n",
            "📊 Results:\n",
            "  Train Loss: 2.9947 | Train PPL: 19.98\n",
            "  Val Loss:   3.6591 | Val PPL:   38.83\n",
            "  Time:       59.14s\n",
            "  ✓ Best model saved!\n",
            "\n",
            "======================================================================\n",
            "Epoch 9/50\n",
            "======================================================================\n"
          ]
        },
        {
          "output_type": "stream",
          "name": "stderr",
          "text": [
            "Training: 100%|██████████| 1093/1093 [00:57<00:00, 18.99it/s, loss=2.46]\n",
            "Evaluating: 100%|██████████| 137/137 [00:01<00:00, 74.78it/s]\n"
          ]
        },
        {
          "output_type": "stream",
          "name": "stdout",
          "text": [
            "\n",
            "📊 Results:\n",
            "  Train Loss: 2.7972 | Train PPL: 16.40\n",
            "  Val Loss:   3.6296 | Val PPL:   37.70\n",
            "  Time:       59.39s\n",
            "  ✓ Best model saved!\n",
            "\n",
            "======================================================================\n",
            "Epoch 10/50\n",
            "======================================================================\n"
          ]
        },
        {
          "output_type": "stream",
          "name": "stderr",
          "text": [
            "Training: 100%|██████████| 1093/1093 [00:57<00:00, 19.12it/s, loss=2.91]\n",
            "Evaluating: 100%|██████████| 137/137 [00:01<00:00, 74.22it/s]\n"
          ]
        },
        {
          "output_type": "stream",
          "name": "stdout",
          "text": [
            "\n",
            "📊 Results:\n",
            "  Train Loss: 2.6218 | Train PPL: 13.76\n",
            "  Val Loss:   3.5655 | Val PPL:   35.36\n",
            "  Time:       59.04s\n",
            "  ✓ Best model saved!\n",
            "\n",
            "======================================================================\n",
            "Epoch 11/50\n",
            "======================================================================\n"
          ]
        },
        {
          "output_type": "stream",
          "name": "stderr",
          "text": [
            "Training: 100%|██████████| 1093/1093 [00:57<00:00, 19.07it/s, loss=2.49]\n",
            "Evaluating: 100%|██████████| 137/137 [00:01<00:00, 74.02it/s]\n"
          ]
        },
        {
          "output_type": "stream",
          "name": "stdout",
          "text": [
            "\n",
            "📊 Results:\n",
            "  Train Loss: 2.4644 | Train PPL: 11.76\n",
            "  Val Loss:   3.5296 | Val PPL:   34.11\n",
            "  Time:       59.18s\n",
            "  ✓ Best model saved!\n",
            "\n",
            "======================================================================\n",
            "Epoch 12/50\n",
            "======================================================================\n"
          ]
        },
        {
          "output_type": "stream",
          "name": "stderr",
          "text": [
            "Training: 100%|██████████| 1093/1093 [00:57<00:00, 19.05it/s, loss=2.35]\n",
            "Evaluating: 100%|██████████| 137/137 [00:01<00:00, 73.00it/s]\n"
          ]
        },
        {
          "output_type": "stream",
          "name": "stdout",
          "text": [
            "\n",
            "📊 Results:\n",
            "  Train Loss: 2.3232 | Train PPL: 10.21\n",
            "  Val Loss:   3.5414 | Val PPL:   34.52\n",
            "  Time:       59.27s\n",
            "\n",
            "======================================================================\n",
            "Epoch 13/50\n",
            "======================================================================\n"
          ]
        },
        {
          "output_type": "stream",
          "name": "stderr",
          "text": [
            "Training: 100%|██████████| 1093/1093 [00:57<00:00, 19.04it/s, loss=2.41]\n",
            "Evaluating: 100%|██████████| 137/137 [00:01<00:00, 74.48it/s]\n"
          ]
        },
        {
          "output_type": "stream",
          "name": "stdout",
          "text": [
            "\n",
            "📊 Results:\n",
            "  Train Loss: 2.1978 | Train PPL: 9.01\n",
            "  Val Loss:   3.5459 | Val PPL:   34.67\n",
            "  Time:       59.26s\n",
            "\n",
            "======================================================================\n",
            "Epoch 14/50\n",
            "======================================================================\n"
          ]
        },
        {
          "output_type": "stream",
          "name": "stderr",
          "text": [
            "Training: 100%|██████████| 1093/1093 [00:57<00:00, 19.00it/s, loss=2.15]\n",
            "Evaluating: 100%|██████████| 137/137 [00:01<00:00, 74.41it/s]\n"
          ]
        },
        {
          "output_type": "stream",
          "name": "stdout",
          "text": [
            "\n",
            "📊 Results:\n",
            "  Train Loss: 2.0818 | Train PPL: 8.02\n",
            "  Val Loss:   3.4942 | Val PPL:   32.92\n",
            "  Time:       59.36s\n",
            "  ✓ Best model saved!\n",
            "\n",
            "======================================================================\n",
            "Epoch 15/50\n",
            "======================================================================\n"
          ]
        },
        {
          "output_type": "stream",
          "name": "stderr",
          "text": [
            "Training: 100%|██████████| 1093/1093 [00:57<00:00, 18.98it/s, loss=2.03]\n",
            "Evaluating: 100%|██████████| 137/137 [00:01<00:00, 74.85it/s]\n"
          ]
        },
        {
          "output_type": "stream",
          "name": "stdout",
          "text": [
            "\n",
            "📊 Results:\n",
            "  Train Loss: 1.9753 | Train PPL: 7.21\n",
            "  Val Loss:   3.5054 | Val PPL:   33.30\n",
            "  Time:       59.42s\n",
            "\n",
            "======================================================================\n",
            "Epoch 16/50\n",
            "======================================================================\n"
          ]
        },
        {
          "output_type": "stream",
          "name": "stderr",
          "text": [
            "Training: 100%|██████████| 1093/1093 [00:57<00:00, 18.97it/s, loss=2.11]\n",
            "Evaluating: 100%|██████████| 137/137 [00:01<00:00, 74.67it/s]\n"
          ]
        },
        {
          "output_type": "stream",
          "name": "stdout",
          "text": [
            "\n",
            "📊 Results:\n",
            "  Train Loss: 1.8821 | Train PPL: 6.57\n",
            "  Val Loss:   3.5382 | Val PPL:   34.41\n",
            "  Time:       59.45s\n",
            "\n",
            "======================================================================\n",
            "Epoch 17/50\n",
            "======================================================================\n"
          ]
        },
        {
          "output_type": "stream",
          "name": "stderr",
          "text": [
            "Training: 100%|██████████| 1093/1093 [00:57<00:00, 18.95it/s, loss=1.76]\n",
            "Evaluating: 100%|██████████| 137/137 [00:01<00:00, 73.79it/s]\n"
          ]
        },
        {
          "output_type": "stream",
          "name": "stdout",
          "text": [
            "\n",
            "📊 Results:\n",
            "  Train Loss: 1.7913 | Train PPL: 6.00\n",
            "  Val Loss:   3.5260 | Val PPL:   33.99\n",
            "  Time:       59.55s\n",
            "\n",
            "======================================================================\n",
            "Epoch 18/50\n",
            "======================================================================\n"
          ]
        },
        {
          "output_type": "stream",
          "name": "stderr",
          "text": [
            "Training: 100%|██████████| 1093/1093 [00:57<00:00, 18.97it/s, loss=1.51]\n",
            "Evaluating: 100%|██████████| 137/137 [00:01<00:00, 74.90it/s]\n"
          ]
        },
        {
          "output_type": "stream",
          "name": "stdout",
          "text": [
            "\n",
            "📊 Results:\n",
            "  Train Loss: 1.6609 | Train PPL: 5.26\n",
            "  Val Loss:   3.5602 | Val PPL:   35.17\n",
            "  Time:       59.45s\n",
            "\n",
            "======================================================================\n",
            "Epoch 19/50\n",
            "======================================================================\n"
          ]
        },
        {
          "output_type": "stream",
          "name": "stderr",
          "text": [
            "Training: 100%|██████████| 1093/1093 [00:57<00:00, 18.97it/s, loss=1.28]\n",
            "Evaluating: 100%|██████████| 137/137 [00:01<00:00, 73.86it/s]\n"
          ]
        },
        {
          "output_type": "stream",
          "name": "stdout",
          "text": [
            "\n",
            "📊 Results:\n",
            "  Train Loss: 1.6048 | Train PPL: 4.98\n",
            "  Val Loss:   3.5950 | Val PPL:   36.41\n",
            "  Time:       59.49s\n",
            "\n",
            "======================================================================\n",
            "Epoch 20/50\n",
            "======================================================================\n"
          ]
        },
        {
          "output_type": "stream",
          "name": "stderr",
          "text": [
            "Training: 100%|██████████| 1093/1093 [00:57<00:00, 18.99it/s, loss=1.6]\n",
            "Evaluating: 100%|██████████| 137/137 [00:01<00:00, 70.21it/s]\n"
          ]
        },
        {
          "output_type": "stream",
          "name": "stdout",
          "text": [
            "\n",
            "📊 Results:\n",
            "  Train Loss: 1.5594 | Train PPL: 4.76\n",
            "  Val Loss:   3.5807 | Val PPL:   35.90\n",
            "  Time:       59.53s\n",
            "\n",
            "======================================================================\n",
            "Epoch 21/50\n",
            "======================================================================\n"
          ]
        },
        {
          "output_type": "stream",
          "name": "stderr",
          "text": [
            "Training: 100%|██████████| 1093/1093 [00:57<00:00, 18.96it/s, loss=1.49]\n",
            "Evaluating: 100%|██████████| 137/137 [00:01<00:00, 69.72it/s]\n"
          ]
        },
        {
          "output_type": "stream",
          "name": "stdout",
          "text": [
            "\n",
            "📊 Results:\n",
            "  Train Loss: 1.4943 | Train PPL: 4.46\n",
            "  Val Loss:   3.6153 | Val PPL:   37.16\n",
            "  Time:       59.63s\n",
            "\n",
            "======================================================================\n",
            "Epoch 22/50\n",
            "======================================================================\n"
          ]
        },
        {
          "output_type": "stream",
          "name": "stderr",
          "text": [
            "Training: 100%|██████████| 1093/1093 [00:57<00:00, 19.06it/s, loss=1.65]\n",
            "Evaluating: 100%|██████████| 137/137 [00:02<00:00, 67.26it/s]\n"
          ]
        },
        {
          "output_type": "stream",
          "name": "stdout",
          "text": [
            "\n",
            "📊 Results:\n",
            "  Train Loss: 1.4687 | Train PPL: 4.34\n",
            "  Val Loss:   3.6206 | Val PPL:   37.36\n",
            "  Time:       59.38s\n",
            "\n",
            "======================================================================\n",
            "Epoch 23/50\n",
            "======================================================================\n"
          ]
        },
        {
          "output_type": "stream",
          "name": "stderr",
          "text": [
            "Training: 100%|██████████| 1093/1093 [00:57<00:00, 19.02it/s, loss=1.63]\n",
            "Evaluating: 100%|██████████| 137/137 [00:02<00:00, 67.40it/s]\n"
          ]
        },
        {
          "output_type": "stream",
          "name": "stdout",
          "text": [
            "\n",
            "📊 Results:\n",
            "  Train Loss: 1.4462 | Train PPL: 4.25\n",
            "  Val Loss:   3.6303 | Val PPL:   37.72\n",
            "  Time:       59.52s\n",
            "\n",
            "======================================================================\n",
            "Epoch 24/50\n",
            "======================================================================\n"
          ]
        },
        {
          "output_type": "stream",
          "name": "stderr",
          "text": [
            "Training: 100%|██████████| 1093/1093 [00:57<00:00, 18.97it/s, loss=1.44]\n",
            "Evaluating: 100%|██████████| 137/137 [00:01<00:00, 69.68it/s]\n"
          ]
        },
        {
          "output_type": "stream",
          "name": "stdout",
          "text": [
            "\n",
            "📊 Results:\n",
            "  Train Loss: 1.4137 | Train PPL: 4.11\n",
            "  Val Loss:   3.6581 | Val PPL:   38.79\n",
            "  Time:       59.58s\n",
            "\n",
            "======================================================================\n",
            "Epoch 25/50\n",
            "======================================================================\n"
          ]
        },
        {
          "output_type": "stream",
          "name": "stderr",
          "text": [
            "Training: 100%|██████████| 1093/1093 [00:57<00:00, 19.00it/s, loss=1.48]\n",
            "Evaluating: 100%|██████████| 137/137 [00:01<00:00, 71.60it/s]\n"
          ]
        },
        {
          "output_type": "stream",
          "name": "stdout",
          "text": [
            "\n",
            "📊 Results:\n",
            "  Train Loss: 1.4002 | Train PPL: 4.06\n",
            "  Val Loss:   3.6547 | Val PPL:   38.65\n",
            "  Time:       59.44s\n",
            "\n",
            "======================================================================\n",
            "Epoch 26/50\n",
            "======================================================================\n"
          ]
        },
        {
          "output_type": "stream",
          "name": "stderr",
          "text": [
            "Training: 100%|██████████| 1093/1093 [00:57<00:00, 19.02it/s, loss=1.4]\n",
            "Evaluating: 100%|██████████| 137/137 [00:01<00:00, 74.65it/s]\n"
          ]
        },
        {
          "output_type": "stream",
          "name": "stdout",
          "text": [
            "\n",
            "📊 Results:\n",
            "  Train Loss: 1.3894 | Train PPL: 4.01\n",
            "  Val Loss:   3.6691 | Val PPL:   39.22\n",
            "  Time:       59.30s\n",
            "\n",
            "======================================================================\n",
            "Epoch 27/50\n",
            "======================================================================\n"
          ]
        },
        {
          "output_type": "stream",
          "name": "stderr",
          "text": [
            "Training: 100%|██████████| 1093/1093 [00:57<00:00, 19.04it/s, loss=1.45]\n",
            "Evaluating: 100%|██████████| 137/137 [00:01<00:00, 74.69it/s]\n"
          ]
        },
        {
          "output_type": "stream",
          "name": "stdout",
          "text": [
            "\n",
            "📊 Results:\n",
            "  Train Loss: 1.3731 | Train PPL: 3.95\n",
            "  Val Loss:   3.6816 | Val PPL:   39.71\n",
            "  Time:       59.24s\n",
            "\n",
            "======================================================================\n",
            "Epoch 28/50\n",
            "======================================================================\n"
          ]
        },
        {
          "output_type": "stream",
          "name": "stderr",
          "text": [
            "Training: 100%|██████████| 1093/1093 [00:57<00:00, 19.02it/s, loss=1.48]\n",
            "Evaluating: 100%|██████████| 137/137 [00:01<00:00, 74.62it/s]\n"
          ]
        },
        {
          "output_type": "stream",
          "name": "stdout",
          "text": [
            "\n",
            "📊 Results:\n",
            "  Train Loss: 1.3662 | Train PPL: 3.92\n",
            "  Val Loss:   3.6792 | Val PPL:   39.61\n",
            "  Time:       59.31s\n",
            "\n",
            "======================================================================\n",
            "Epoch 29/50\n",
            "======================================================================\n"
          ]
        },
        {
          "output_type": "stream",
          "name": "stderr",
          "text": [
            "Training: 100%|██████████| 1093/1093 [00:57<00:00, 18.96it/s, loss=1.3]\n",
            "Evaluating: 100%|██████████| 137/137 [00:01<00:00, 75.10it/s]\n"
          ]
        },
        {
          "output_type": "stream",
          "name": "stdout",
          "text": [
            "\n",
            "📊 Results:\n",
            "  Train Loss: 1.3618 | Train PPL: 3.90\n",
            "  Val Loss:   3.6912 | Val PPL:   40.09\n",
            "  Time:       59.47s\n",
            "\n",
            "======================================================================\n",
            "Epoch 30/50\n",
            "======================================================================\n"
          ]
        },
        {
          "output_type": "stream",
          "name": "stderr",
          "text": [
            "Training: 100%|██████████| 1093/1093 [00:57<00:00, 18.95it/s, loss=1.13]\n",
            "Evaluating: 100%|██████████| 137/137 [00:01<00:00, 74.36it/s]\n"
          ]
        },
        {
          "output_type": "stream",
          "name": "stdout",
          "text": [
            "\n",
            "📊 Results:\n",
            "  Train Loss: 1.3523 | Train PPL: 3.87\n",
            "  Val Loss:   3.6904 | Val PPL:   40.06\n",
            "  Time:       59.53s\n",
            "\n",
            "======================================================================\n",
            "Epoch 31/50\n",
            "======================================================================\n"
          ]
        },
        {
          "output_type": "stream",
          "name": "stderr",
          "text": [
            "Training: 100%|██████████| 1093/1093 [00:57<00:00, 19.02it/s, loss=1.44]\n",
            "Evaluating: 100%|██████████| 137/137 [00:01<00:00, 74.97it/s]\n"
          ]
        },
        {
          "output_type": "stream",
          "name": "stdout",
          "text": [
            "\n",
            "📊 Results:\n",
            "  Train Loss: 1.3503 | Train PPL: 3.86\n",
            "  Val Loss:   3.6964 | Val PPL:   40.30\n",
            "  Time:       59.30s\n",
            "\n",
            "======================================================================\n",
            "Epoch 32/50\n",
            "======================================================================\n"
          ]
        },
        {
          "output_type": "stream",
          "name": "stderr",
          "text": [
            "Training: 100%|██████████| 1093/1093 [00:57<00:00, 18.91it/s, loss=1.47]\n",
            "Evaluating: 100%|██████████| 137/137 [00:01<00:00, 74.71it/s]\n"
          ]
        },
        {
          "output_type": "stream",
          "name": "stdout",
          "text": [
            "\n",
            "📊 Results:\n",
            "  Train Loss: 1.3476 | Train PPL: 3.85\n",
            "  Val Loss:   3.6930 | Val PPL:   40.16\n",
            "  Time:       59.65s\n",
            "\n",
            "======================================================================\n",
            "Epoch 33/50\n",
            "======================================================================\n"
          ]
        },
        {
          "output_type": "stream",
          "name": "stderr",
          "text": [
            "Training: 100%|██████████| 1093/1093 [00:57<00:00, 19.03it/s, loss=1.27]\n",
            "Evaluating: 100%|██████████| 137/137 [00:01<00:00, 75.15it/s]\n"
          ]
        },
        {
          "output_type": "stream",
          "name": "stdout",
          "text": [
            "\n",
            "📊 Results:\n",
            "  Train Loss: 1.3428 | Train PPL: 3.83\n",
            "  Val Loss:   3.6984 | Val PPL:   40.38\n",
            "  Time:       59.27s\n",
            "\n",
            "======================================================================\n",
            "Epoch 34/50\n",
            "======================================================================\n"
          ]
        },
        {
          "output_type": "stream",
          "name": "stderr",
          "text": [
            "Training: 100%|██████████| 1093/1093 [00:57<00:00, 18.89it/s, loss=1.24]\n",
            "Evaluating: 100%|██████████| 137/137 [00:01<00:00, 74.81it/s]\n"
          ]
        },
        {
          "output_type": "stream",
          "name": "stdout",
          "text": [
            "\n",
            "📊 Results:\n",
            "  Train Loss: 1.3409 | Train PPL: 3.82\n",
            "  Val Loss:   3.6997 | Val PPL:   40.43\n",
            "  Time:       59.69s\n",
            "\n",
            "======================================================================\n",
            "Epoch 35/50\n",
            "======================================================================\n"
          ]
        },
        {
          "output_type": "stream",
          "name": "stderr",
          "text": [
            "Training: 100%|██████████| 1093/1093 [00:57<00:00, 18.96it/s, loss=1.3]\n",
            "Evaluating: 100%|██████████| 137/137 [00:01<00:00, 74.81it/s]\n"
          ]
        },
        {
          "output_type": "stream",
          "name": "stdout",
          "text": [
            "\n",
            "📊 Results:\n",
            "  Train Loss: 1.3394 | Train PPL: 3.82\n",
            "  Val Loss:   3.7005 | Val PPL:   40.47\n",
            "  Time:       59.50s\n",
            "\n",
            "======================================================================\n",
            "Epoch 36/50\n",
            "======================================================================\n"
          ]
        },
        {
          "output_type": "stream",
          "name": "stderr",
          "text": [
            "Training: 100%|██████████| 1093/1093 [00:57<00:00, 19.02it/s, loss=1.31]\n",
            "Evaluating: 100%|██████████| 137/137 [00:01<00:00, 74.87it/s]\n"
          ]
        },
        {
          "output_type": "stream",
          "name": "stdout",
          "text": [
            "\n",
            "📊 Results:\n",
            "  Train Loss: 1.3381 | Train PPL: 3.81\n",
            "  Val Loss:   3.6991 | Val PPL:   40.41\n",
            "  Time:       59.31s\n",
            "\n",
            "======================================================================\n",
            "Epoch 37/50\n",
            "======================================================================\n"
          ]
        },
        {
          "output_type": "stream",
          "name": "stderr",
          "text": [
            "Training: 100%|██████████| 1093/1093 [00:57<00:00, 18.95it/s, loss=1.61]\n",
            "Evaluating: 100%|██████████| 137/137 [00:01<00:00, 74.64it/s]\n"
          ]
        },
        {
          "output_type": "stream",
          "name": "stdout",
          "text": [
            "\n",
            "📊 Results:\n",
            "  Train Loss: 1.3387 | Train PPL: 3.81\n",
            "  Val Loss:   3.7013 | Val PPL:   40.50\n",
            "  Time:       59.51s\n",
            "\n",
            "======================================================================\n",
            "Epoch 38/50\n",
            "======================================================================\n"
          ]
        },
        {
          "output_type": "stream",
          "name": "stderr",
          "text": [
            "Training: 100%|██████████| 1093/1093 [00:57<00:00, 18.91it/s, loss=1.47]\n",
            "Evaluating: 100%|██████████| 137/137 [00:01<00:00, 75.06it/s]\n"
          ]
        },
        {
          "output_type": "stream",
          "name": "stdout",
          "text": [
            "\n",
            "📊 Results:\n",
            "  Train Loss: 1.3358 | Train PPL: 3.80\n",
            "  Val Loss:   3.7033 | Val PPL:   40.58\n",
            "  Time:       59.62s\n",
            "\n",
            "======================================================================\n",
            "Epoch 39/50\n",
            "======================================================================\n"
          ]
        },
        {
          "output_type": "stream",
          "name": "stderr",
          "text": [
            "Training: 100%|██████████| 1093/1093 [00:57<00:00, 18.99it/s, loss=1.39]\n",
            "Evaluating: 100%|██████████| 137/137 [00:01<00:00, 74.39it/s]\n"
          ]
        },
        {
          "output_type": "stream",
          "name": "stdout",
          "text": [
            "\n",
            "📊 Results:\n",
            "  Train Loss: 1.3350 | Train PPL: 3.80\n",
            "  Val Loss:   3.7004 | Val PPL:   40.47\n",
            "  Time:       59.42s\n",
            "\n",
            "======================================================================\n",
            "Epoch 40/50\n",
            "======================================================================\n"
          ]
        },
        {
          "output_type": "stream",
          "name": "stderr",
          "text": [
            "Training: 100%|██████████| 1093/1093 [00:57<00:00, 19.04it/s, loss=1.29]\n",
            "Evaluating: 100%|██████████| 137/137 [00:01<00:00, 71.53it/s]\n"
          ]
        },
        {
          "output_type": "stream",
          "name": "stdout",
          "text": [
            "\n",
            "📊 Results:\n",
            "  Train Loss: 1.3359 | Train PPL: 3.80\n",
            "  Val Loss:   3.7009 | Val PPL:   40.48\n",
            "  Time:       59.33s\n",
            "\n",
            "======================================================================\n",
            "Epoch 41/50\n",
            "======================================================================\n"
          ]
        },
        {
          "output_type": "stream",
          "name": "stderr",
          "text": [
            "Training: 100%|██████████| 1093/1093 [00:57<00:00, 19.01it/s, loss=1.26]\n",
            "Evaluating: 100%|██████████| 137/137 [00:01<00:00, 69.25it/s]\n"
          ]
        },
        {
          "output_type": "stream",
          "name": "stdout",
          "text": [
            "\n",
            "📊 Results:\n",
            "  Train Loss: 1.3344 | Train PPL: 3.80\n",
            "  Val Loss:   3.7014 | Val PPL:   40.50\n",
            "  Time:       59.47s\n",
            "\n",
            "======================================================================\n",
            "Epoch 42/50\n",
            "======================================================================\n"
          ]
        },
        {
          "output_type": "stream",
          "name": "stderr",
          "text": [
            "Training: 100%|██████████| 1093/1093 [00:57<00:00, 19.02it/s, loss=1.26]\n",
            "Evaluating: 100%|██████████| 137/137 [00:02<00:00, 67.11it/s]\n"
          ]
        },
        {
          "output_type": "stream",
          "name": "stdout",
          "text": [
            "\n",
            "📊 Results:\n",
            "  Train Loss: 1.3347 | Train PPL: 3.80\n",
            "  Val Loss:   3.7018 | Val PPL:   40.52\n",
            "  Time:       59.53s\n",
            "\n",
            "======================================================================\n",
            "Epoch 43/50\n",
            "======================================================================\n"
          ]
        },
        {
          "output_type": "stream",
          "name": "stderr",
          "text": [
            "Training: 100%|██████████| 1093/1093 [00:57<00:00, 18.93it/s, loss=1.25]\n",
            "Evaluating: 100%|██████████| 137/137 [00:02<00:00, 66.80it/s]\n"
          ]
        },
        {
          "output_type": "stream",
          "name": "stdout",
          "text": [
            "\n",
            "📊 Results:\n",
            "  Train Loss: 1.3345 | Train PPL: 3.80\n",
            "  Val Loss:   3.7009 | Val PPL:   40.48\n",
            "  Time:       59.81s\n",
            "\n",
            "======================================================================\n",
            "Epoch 44/50\n",
            "======================================================================\n"
          ]
        },
        {
          "output_type": "stream",
          "name": "stderr",
          "text": [
            "Training: 100%|██████████| 1093/1093 [00:57<00:00, 18.99it/s, loss=1.51]\n",
            "Evaluating: 100%|██████████| 137/137 [00:01<00:00, 68.68it/s]\n"
          ]
        },
        {
          "output_type": "stream",
          "name": "stdout",
          "text": [
            "\n",
            "📊 Results:\n",
            "  Train Loss: 1.3341 | Train PPL: 3.80\n",
            "  Val Loss:   3.7021 | Val PPL:   40.53\n",
            "  Time:       59.55s\n",
            "\n",
            "======================================================================\n",
            "Epoch 45/50\n",
            "======================================================================\n"
          ]
        },
        {
          "output_type": "stream",
          "name": "stderr",
          "text": [
            "Training: 100%|██████████| 1093/1093 [00:57<00:00, 18.94it/s, loss=1.58]\n",
            "Evaluating: 100%|██████████| 137/137 [00:01<00:00, 71.03it/s]\n"
          ]
        },
        {
          "output_type": "stream",
          "name": "stdout",
          "text": [
            "\n",
            "📊 Results:\n",
            "  Train Loss: 1.3332 | Train PPL: 3.79\n",
            "  Val Loss:   3.7024 | Val PPL:   40.54\n",
            "  Time:       59.66s\n",
            "\n",
            "======================================================================\n",
            "Epoch 46/50\n",
            "======================================================================\n"
          ]
        },
        {
          "output_type": "stream",
          "name": "stderr",
          "text": [
            "Training: 100%|██████████| 1093/1093 [00:57<00:00, 19.02it/s, loss=1.56]\n",
            "Evaluating: 100%|██████████| 137/137 [00:01<00:00, 73.65it/s]\n"
          ]
        },
        {
          "output_type": "stream",
          "name": "stdout",
          "text": [
            "\n",
            "📊 Results:\n",
            "  Train Loss: 1.3322 | Train PPL: 3.79\n",
            "  Val Loss:   3.7024 | Val PPL:   40.54\n",
            "  Time:       59.34s\n",
            "\n",
            "======================================================================\n",
            "Epoch 47/50\n",
            "======================================================================\n"
          ]
        },
        {
          "output_type": "stream",
          "name": "stderr",
          "text": [
            "Training: 100%|██████████| 1093/1093 [00:57<00:00, 18.91it/s, loss=1.27]\n",
            "Evaluating: 100%|██████████| 137/137 [00:01<00:00, 75.15it/s]\n"
          ]
        },
        {
          "output_type": "stream",
          "name": "stdout",
          "text": [
            "\n",
            "📊 Results:\n",
            "  Train Loss: 1.3337 | Train PPL: 3.80\n",
            "  Val Loss:   3.7022 | Val PPL:   40.54\n",
            "  Time:       59.64s\n",
            "\n",
            "======================================================================\n",
            "Epoch 48/50\n",
            "======================================================================\n"
          ]
        },
        {
          "output_type": "stream",
          "name": "stderr",
          "text": [
            "Training: 100%|██████████| 1093/1093 [00:57<00:00, 18.90it/s, loss=1.53]\n",
            "Evaluating: 100%|██████████| 137/137 [00:01<00:00, 74.86it/s]\n"
          ]
        },
        {
          "output_type": "stream",
          "name": "stdout",
          "text": [
            "\n",
            "📊 Results:\n",
            "  Train Loss: 1.3323 | Train PPL: 3.79\n",
            "  Val Loss:   3.7014 | Val PPL:   40.51\n",
            "  Time:       59.68s\n",
            "\n",
            "======================================================================\n",
            "Epoch 49/50\n",
            "======================================================================\n"
          ]
        },
        {
          "output_type": "stream",
          "name": "stderr",
          "text": [
            "Training: 100%|██████████| 1093/1093 [00:57<00:00, 18.87it/s, loss=1.11]\n",
            "Evaluating: 100%|██████████| 137/137 [00:01<00:00, 74.55it/s]\n"
          ]
        },
        {
          "output_type": "stream",
          "name": "stdout",
          "text": [
            "\n",
            "📊 Results:\n",
            "  Train Loss: 1.3327 | Train PPL: 3.79\n",
            "  Val Loss:   3.7020 | Val PPL:   40.53\n",
            "  Time:       59.76s\n",
            "\n",
            "======================================================================\n",
            "Epoch 50/50\n",
            "======================================================================\n"
          ]
        },
        {
          "output_type": "stream",
          "name": "stderr",
          "text": [
            "Training: 100%|██████████| 1093/1093 [00:57<00:00, 18.90it/s, loss=1.41]\n",
            "Evaluating: 100%|██████████| 137/137 [00:01<00:00, 75.02it/s]\n"
          ]
        },
        {
          "output_type": "stream",
          "name": "stdout",
          "text": [
            "\n",
            "📊 Results:\n",
            "  Train Loss: 1.3332 | Train PPL: 3.79\n",
            "  Val Loss:   3.7023 | Val PPL:   40.54\n",
            "  Time:       59.66s\n",
            "\n",
            "======================================================================\n",
            "✓ Training completed in 49.59 minutes\n",
            "  Average time per epoch: 0.99 minutes\n",
            "\n",
            "======================================================================\n",
            "STEP 6: LOADING BEST MODEL\n",
            "======================================================================\n",
            "✓ Loaded best model from epoch 14\n",
            "  Val Loss: 3.4942\n",
            "  Val PPL:  32.92\n"
          ]
        }
      ],
      "source": [
        "print(\"\\n\" + \"=\" * 70)\n",
        "print(\"TRAINING MODEL\")\n",
        "print(\"=\" * 70)\n",
        "\n",
        "train_losses = []\n",
        "val_losses = []\n",
        "best_val_loss = float('inf')\n",
        "start_time = time.time()\n",
        "\n",
        "for epoch in range(config['num_epochs']):\n",
        "    epoch_start = time.time()\n",
        "    print(f\"\\n{'='*70}\")\n",
        "    print(f\"Epoch {epoch+1}/{config['num_epochs']}\")\n",
        "    print(f\"{'='*70}\")\n",
        "\n",
        "    # Train\n",
        "    train_loss = train_epoch(model, train_loader, optimizer, criterion)\n",
        "\n",
        "    # Validate\n",
        "    val_loss = evaluate(model, val_loader, criterion)\n",
        "\n",
        "    # Record losses\n",
        "    train_losses.append(train_loss)\n",
        "    val_losses.append(val_loss)\n",
        "\n",
        "    epoch_time = time.time() - epoch_start\n",
        "\n",
        "    # Print results\n",
        "    print(f\"\\n📊 Results:\")\n",
        "    print(f\"  Train Loss: {train_loss:.4f} | Train PPL: {math.exp(train_loss):.2f}\")\n",
        "    print(f\"  Val Loss:   {val_loss:.4f} | Val PPL:   {math.exp(val_loss):.2f}\")\n",
        "    print(f\"  Time:       {epoch_time:.2f}s\")\n",
        "\n",
        "    # Learning rate scheduling\n",
        "    scheduler.step(val_loss)\n",
        "\n",
        "    # Save best model\n",
        "    if val_loss < best_val_loss:\n",
        "        best_val_loss = val_loss\n",
        "        torch.save({\n",
        "            'epoch': epoch,\n",
        "            'model_state_dict': model.state_dict(),\n",
        "            'optimizer_state_dict': optimizer.state_dict(),\n",
        "            'train_loss': train_loss,\n",
        "            'val_loss': val_loss,\n",
        "            'config': config\n",
        "        }, 'best_model.pt')\n",
        "        print(\"  ✓ Best model saved!\")\n",
        "\n",
        "total_time = time.time() - start_time\n",
        "print(f\"\\n{'='*70}\")\n",
        "print(f\"✓ Training completed in {total_time/60:.2f} minutes\")\n",
        "print(f\"  Average time per epoch: {total_time/config['num_epochs']/60:.2f} minutes\")\n",
        "\n",
        "# ============================================================================\n",
        "# Cell 19: Load Best Model\n",
        "# ============================================================================\n",
        "print(\"\\n\" + \"=\" * 70)\n",
        "print(\"STEP 6: LOADING BEST MODEL\")\n",
        "print(\"=\" * 70)\n",
        "\n",
        "checkpoint = torch.load('best_model.pt')\n",
        "model.load_state_dict(checkpoint['model_state_dict'])\n",
        "\n",
        "print(f\"✓ Loaded best model from epoch {checkpoint['epoch']+1}\")\n",
        "print(f\"  Val Loss: {checkpoint['val_loss']:.4f}\")\n",
        "print(f\"  Val PPL:  {math.exp(checkpoint['val_loss']):.2f}\")"
      ]
    },
    {
      "cell_type": "markdown",
      "source": [
        "## 5.6 Testing & BLEU Evaluation\n",
        "* Evaluate final model on test set.\n",
        "* Compute Test Loss, Perplexity, and BLEU score\n",
        "* Display a few sample translations for inspection."
      ],
      "metadata": {
        "id": "oN1A6cxn5Pi5"
      }
    },
    {
      "cell_type": "code",
      "execution_count": 27,
      "metadata": {
        "id": "kKSB4B2RboK_",
        "colab": {
          "base_uri": "https://localhost:8080/"
        },
        "outputId": "2a64ae72-6660-4533-d5ac-2fe5d2a13fe3"
      },
      "outputs": [
        {
          "output_type": "stream",
          "name": "stdout",
          "text": [
            "\n",
            "======================================================================\n",
            "EVALUATING ON TEST SET\n",
            "======================================================================\n"
          ]
        },
        {
          "output_type": "stream",
          "name": "stderr",
          "text": [
            "Evaluating: 100%|██████████| 137/137 [00:01<00:00, 73.58it/s]\n"
          ]
        },
        {
          "output_type": "stream",
          "name": "stdout",
          "text": [
            "\n",
            "📊 Test Results:\n",
            "  Test Loss:       3.5257\n",
            "  Test Perplexity: 33.98\n",
            "\n",
            "======================================================================\n",
            "STEP 8: CALCULATING BLEU SCORE\n",
            "======================================================================\n",
            "Generating translations for BLEU calculation...\n"
          ]
        },
        {
          "output_type": "stream",
          "name": "stderr",
          "text": [
            "100%|██████████| 100/100 [00:18<00:00,  5.46it/s]"
          ]
        },
        {
          "output_type": "stream",
          "name": "stdout",
          "text": [
            "\n",
            "🎯 BLEU Score: 17.16\n",
            "\n",
            "📝 Sample Translations:\n",
            "----------------------------------------------------------------------\n",
            "\n",
            "[Example 1]\n",
            "Source:     if not , it could be a loser .\n",
            "Reference:  bạn phải đưa ra nguyên tắc , luật lệ đúng nơi đúng chỗ , vì vậy con bạn biết là các nguyên tắc ấy có thể bị phá vỡ . short cho biết .\n",
            "Prediction: bạn phải có những quy định trong nơi mà trẻ biết rằng chúng có thể bị vỡ , ngắn gọn , nói .\n",
            "\n",
            "[Example 2]\n",
            "Source:     arguably , security matters most to windows 7 's success , and to how consumers and it administrators view the new os .\n",
            "Reference:  mặc dù phổ biến hơn so với tập tin . rar được mã hóa , chúng ít có khả năng đính kém vào các thư điện tử độc hại hơn .\n",
            "Prediction: mặc dù họ thường thấy được mã hóa trên máy tính xách tay , họ đã được mang đến gần đây ít có khả năng gắn với e-mail .\n",
            "\n",
            "[Example 3]\n",
            "Source:     here 's why :\n",
            "Reference:  ồ , nó ở đó kìa !\n",
            "Prediction: anh ấy là anh ấy ! ! ! .\n",
            "\n",
            "[Example 4]\n",
            "Source:     1 . the enterprise relies on security\n",
            "Reference:  bà nói rằng dựa vào điều đó và việc chủ tịch trung quốc hồ cẩm đào đã cam kết sẽ tiếp tục tăng giá đồng tiền , bộ tài chính không còn gọi trung quốc là một kẻ thao túng thị trường tiền tệ khi gần đây bộ đưa ra một báo cáo nửa năm về ngoại tệ .\n",
            "Prediction: cô ấy nói rằng dựa trên thực tế và thực tế của trung quốc hồ cẩm chướng đã tiến bộ tiền tệ quốc gia vào việc tiếp tục diễn bộ tài chính , bộ tài khoản ngân hàng không hề biết một báo cáo mới khi nào đó một báo\n",
            "\n",
            "[Example 5]\n",
            "Source:     there 's nothing worse for an enterprise than deploying an operating system that fails to offer the kind of security it expects .\n",
            "Reference:  kỹ thuật đo nhiệt độ ở miệng : quá trình này cũng dễ dàng đối với trẻ lớn tuổi hơn và chịu hợp tác .\n",
            "Prediction: để mất nhiệt độ răng miệng : đây dễ dễ nhìn vào một chút , hợp tác với trẻ lớn tuổi .\n"
          ]
        },
        {
          "output_type": "stream",
          "name": "stderr",
          "text": [
            "\n"
          ]
        }
      ],
      "source": [
        "print(\"\\n\" + \"=\" * 70)\n",
        "print(\"EVALUATING ON TEST SET\")\n",
        "print(\"=\" * 70)\n",
        "\n",
        "test_loss = evaluate(model, test_loader, criterion)\n",
        "test_ppl = math.exp(test_loss)\n",
        "\n",
        "print(f\"\\n📊 Test Results:\")\n",
        "print(f\"  Test Loss:       {test_loss:.4f}\")\n",
        "print(f\"  Test Perplexity: {test_ppl:.2f}\")\n",
        "\n",
        "# ============================================================================\n",
        "# Cell 21: Calculate BLEU Score\n",
        "# ============================================================================\n",
        "print(\"\\n\" + \"=\" * 70)\n",
        "print(\"STEP 8: CALCULATING BLEU SCORE\")\n",
        "print(\"=\" * 70)\n",
        "\n",
        "bleu_score, predictions, references = calculate_bleu(\n",
        "    model, (test_en, test_vi), en_tokenizer, vi_tokenizer, sample_size=100\n",
        ")\n",
        "\n",
        "print(f\"\\n🎯 BLEU Score: {bleu_score:.2f}\")\n",
        "\n",
        "print(\"\\n📝 Sample Translations:\")\n",
        "print(\"-\" * 70)\n",
        "\n",
        "for i in range(min(5, len(predictions))):\n",
        "    # Clean test sentences (remove BOS/EOS for display)\n",
        "    test_en_clean = test_en[i].replace(BOS, '').replace(EOS, '').strip()\n",
        "\n",
        "    print(f\"\\n[Example {i+1}]\")\n",
        "    print(f\"Source:     {test_en_clean}\")\n",
        "    print(f\"Reference:  {references[i]}\")\n",
        "    print(f\"Prediction: {predictions[i]}\")"
      ]
    },
    {
      "cell_type": "markdown",
      "source": [
        "## 5.7 Visualization"
      ],
      "metadata": {
        "id": "w82lN0j25qFg"
      }
    },
    {
      "cell_type": "code",
      "execution_count": 28,
      "metadata": {
        "id": "EKs9WrUJb5gg",
        "colab": {
          "base_uri": "https://localhost:8080/",
          "height": 596
        },
        "outputId": "48f8cb7b-f68c-4824-b047-cbbb27c4491a"
      },
      "outputs": [
        {
          "output_type": "stream",
          "name": "stdout",
          "text": [
            "\n",
            "======================================================================\n",
            "VISUALIZING RESULTS\n",
            "======================================================================\n"
          ]
        },
        {
          "output_type": "display_data",
          "data": {
            "text/plain": [
              "<Figure size 1400x500 with 2 Axes>"
            ],
            "image/png": "[encoded data removed]"
          },
          "metadata": {}
        },
        {
          "output_type": "stream",
          "name": "stdout",
          "text": [
            "✓ Training curves saved to 'training_curves.png'\n"
          ]
        }
      ],
      "source": [
        "print(\"\\n\" + \"=\" * 70)\n",
        "print(\"VISUALIZING RESULTS\")\n",
        "print(\"=\" * 70)\n",
        "\n",
        "plt.figure(figsize=(14, 5))\n",
        "\n",
        "# Loss plot\n",
        "plt.subplot(1, 2, 1)\n",
        "epochs = range(1, len(train_losses) + 1)\n",
        "plt.plot(epochs, train_losses, 'bo-', label='Train Loss', linewidth=2, markersize=6)\n",
        "plt.plot(epochs, val_losses, 'rs-', label='Val Loss', linewidth=2, markersize=6)\n",
        "plt.xlabel('Epoch', fontsize=12)\n",
        "plt.ylabel('Loss', fontsize=12)\n",
        "plt.title('Training and Validation Loss', fontsize=14, fontweight='bold')\n",
        "plt.legend(fontsize=11)\n",
        "plt.grid(True, alpha=0.3)\n",
        "\n",
        "# Perplexity plot\n",
        "plt.subplot(1, 2, 2)\n",
        "train_ppls = [math.exp(loss) for loss in train_losses]\n",
        "val_ppls = [math.exp(loss) for loss in val_losses]\n",
        "plt.plot(epochs, train_ppls, 'bo-', label='Train Perplexity', linewidth=2, markersize=6)\n",
        "plt.plot(epochs, val_ppls, 'rs-', label='Val Perplexity', linewidth=2, markersize=6)\n",
        "plt.xlabel('Epoch', fontsize=12)\n",
        "plt.ylabel('Perplexity', fontsize=12)\n",
        "plt.title('Training and Validation Perplexity', fontsize=14, fontweight='bold')\n",
        "plt.legend(fontsize=11)\n",
        "plt.grid(True, alpha=0.3)\n",
        "\n",
        "plt.tight_layout()\n",
        "plt.savefig('training_curves.png', dpi=300, bbox_inches='tight')\n",
        "plt.show()\n",
        "\n",
        "print(\"✓ Training curves saved to 'training_curves.png'\")"
      ]
    },
    {
      "cell_type": "code",
      "execution_count": 29,
      "metadata": {
        "id": "l0jRXG75b7fj",
        "colab": {
          "base_uri": "https://localhost:8080/"
        },
        "outputId": "39adff8d-8d05-4e04-b13f-ca3cd61017ac"
      },
      "outputs": [
        {
          "output_type": "stream",
          "name": "stdout",
          "text": [
            "\n",
            "======================================================================\n",
            "SAVING RESULTS\n",
            "======================================================================\n",
            "✓ Results saved to 'results.pkl'\n",
            "✓ Tokenizers saved to 'en_tokenizer.pkl' and 'vi_tokenizer.pkl'\n",
            "✓ Best model saved to 'best_model.pt'\n"
          ]
        }
      ],
      "source": [
        "print(\"\\n\" + \"=\" * 70)\n",
        "print(\"SAVING RESULTS\")\n",
        "print(\"=\" * 70)\n",
        "\n",
        "# Save results\n",
        "results = {\n",
        "    'test_loss': test_loss,\n",
        "    'test_perplexity': test_ppl,\n",
        "    'bleu_score': bleu_score,\n",
        "    'config': config,\n",
        "    'vocab_sizes': {\n",
        "        'en': en_tokenizer.get_vocab_size(),\n",
        "        'vi': vi_tokenizer.get_vocab_size()\n",
        "    },\n",
        "    'training_time': total_time,\n",
        "    'train_losses': train_losses,\n",
        "    'val_losses': val_losses\n",
        "}\n",
        "\n",
        "with open('results.pkl', 'wb') as f:\n",
        "    pickle.dump(results, f)\n",
        "\n",
        "# Save tokenizers\n",
        "en_tokenizer.save('en_tokenizer.pkl')\n",
        "vi_tokenizer.save('vi_tokenizer.pkl')\n",
        "\n",
        "print(\"✓ Results saved to 'results.pkl'\")\n",
        "print(\"✓ Tokenizers saved to 'en_tokenizer.pkl' and 'vi_tokenizer.pkl'\")\n",
        "print(\"✓ Best model saved to 'best_model.pt'\")"
      ]
    },
    {
      "cell_type": "markdown",
      "source": [
        "## 5.8 Final Report"
      ],
      "metadata": {
        "id": "Yr4S6HTC6dW1"
      }
    },
    {
      "cell_type": "code",
      "execution_count": 30,
      "metadata": {
        "id": "OArymzMUb9vv",
        "colab": {
          "base_uri": "https://localhost:8080/"
        },
        "outputId": "978fe2eb-b2a6-40ba-85ff-d76f5f714a19"
      },
      "outputs": [
        {
          "output_type": "stream",
          "name": "stdout",
          "text": [
            "\n",
            "======================================================================\n",
            "FINAL TRANSLATION QUALITY REPORT\n",
            "======================================================================\n",
            "\n",
            "📊 Model Performance:\n",
            "  Metric               Value          \n",
            "  -----------------------------------\n",
            "  Test Loss            3.5257         \n",
            "  Test Perplexity      33.98          \n",
            "  BLEU Score           17.16          \n",
            "\n",
            "📐 Model Size:\n",
            "  EN Vocabulary        30,354         \n",
            "  VI Vocabulary        13,152         \n",
            "  Parameters           18,472,288     \n",
            "\n",
            "⏱️  Training Time:\n",
            "  Total Time           49.59           minutes\n",
            "  Avg per Epoch        0.99            minutes\n",
            "\n",
            "✅ Training Complete!\n"
          ]
        }
      ],
      "source": [
        "print(\"\\n\" + \"=\" * 70)\n",
        "print(\"FINAL TRANSLATION QUALITY REPORT\")\n",
        "print(\"=\" * 70)\n",
        "\n",
        "print(f\"\\n📊 Model Performance:\")\n",
        "print(f\"  {'Metric':<20} {'Value':<15}\")\n",
        "print(f\"  {'-'*35}\")\n",
        "print(f\"  {'Test Loss':<20} {test_loss:<15.4f}\")\n",
        "print(f\"  {'Test Perplexity':<20} {test_ppl:<15.2f}\")\n",
        "print(f\"  {'BLEU Score':<20} {bleu_score:<15.2f}\")\n",
        "\n",
        "print(f\"\\n📐 Model Size:\")\n",
        "print(f\"  {'EN Vocabulary':<20} {en_tokenizer.get_vocab_size():<15,}\")\n",
        "print(f\"  {'VI Vocabulary':<20} {vi_tokenizer.get_vocab_size():<15,}\")\n",
        "print(f\"  {'Parameters':<20} {total_params:<15,}\")\n",
        "\n",
        "print(f\"\\n⏱️  Training Time:\")\n",
        "print(f\"  {'Total Time':<20} {total_time/60:<15.2f} minutes\")\n",
        "print(f\"  {'Avg per Epoch':<20} {total_time/config['num_epochs']/60:<15.2f} minutes\")\n",
        "\n",
        "print(\"\\n✅ Training Complete!\")"
      ]
    },
    {
      "cell_type": "markdown",
      "source": [
        "## 5.9 Translation Tests"
      ],
      "metadata": {
        "id": "v4o7w9oU6H4L"
      }
    },
    {
      "cell_type": "code",
      "execution_count": 31,
      "metadata": {
        "id": "uv3R6caEcDFF",
        "colab": {
          "base_uri": "https://localhost:8080/"
        },
        "outputId": "ba3d9356-a337-4bed-e03e-3b02f2834cb5"
      },
      "outputs": [
        {
          "output_type": "stream",
          "name": "stdout",
          "text": [
            "\n",
            "======================================================================\n",
            "TRANSLATION TEST\n",
            "======================================================================\n",
            "\n",
            "Translating 10 sentences...\n",
            "\n",
            "Processing [1/10]... Done\n",
            "Processing [2/10]... Done\n",
            "Processing [3/10]... Done\n",
            "Processing [4/10]... Done\n",
            "Processing [5/10]... Done\n",
            "Processing [6/10]... Done\n",
            "Processing [7/10]... Done\n",
            "Processing [8/10]... Done\n",
            "Processing [9/10]... Done\n",
            "Processing [10/10]... Done\n",
            "\n",
            "======================================================================\n",
            "RESULTS\n",
            "======================================================================\n",
            "\n",
            "✅ Test 1:\n",
            "   🇬🇧 EN: Hello, how are you?\n",
            "   🇻🇳 VI: xin chào , làm sao con là gì ?\n",
            "\n",
            "✅ Test 2:\n",
            "   🇬🇧 EN: I love learning natural language processing.\n",
            "   🇻🇳 VI: tôi yêu thích sự tự nhiên bằng ngôn ngữ tự nhiên .\n",
            "\n",
            "✅ Test 3:\n",
            "   🇬🇧 EN: The weather is beautiful today.\n",
            "   🇻🇳 VI: thời tiết thời là tuyệt vời ngày nay rất đẹp .\n",
            "\n",
            "✅ Test 4:\n",
            "   🇬🇧 EN: Machine learning is changing the world.\n",
            "   🇻🇳 VI: máy học đang học đang thay đổi thế giới .\n",
            "\n",
            "✅ Test 5:\n",
            "   🇬🇧 EN: What is your name?\n",
            "   🇻🇳 VI: cái tên của bạn là gì ? ? ? ? ? ? ?\n",
            "\n",
            "✅ Test 6:\n",
            "   🇬🇧 EN: I am studying artificial intelligence.\n",
            "   🇻🇳 VI: tôi đang học đại học nhân tình báo nhân của tình báo .\n",
            "\n",
            "✅ Test 7:\n",
            "   🇬🇧 EN: She goes to school every day.\n",
            "   🇻🇳 VI: cô ấy đi học mỗi ngày mỗi ngày .\n",
            "\n",
            "✅ Test 8:\n",
            "   🇬🇧 EN: This book is very interesting.\n",
            "   🇻🇳 VI: quyển sách này rất thú vị rất thú vị .\n",
            "\n",
            "✅ Test 9:\n",
            "   🇬🇧 EN: Can you help me with this problem?\n",
            "   🇻🇳 VI: bạn có thể giúp tôi làm cho tôi vấn đề này ?\n",
            "\n",
            "✅ Test 10:\n",
            "   🇬🇧 EN: Thank you for your time.\n",
            "   🇻🇳 VI: cám ơn bạn cho thời gian của bạn . . .\n",
            "\n",
            "======================================================================\n",
            "✅ Completed: 10/10\n",
            "======================================================================\n"
          ]
        }
      ],
      "source": [
        "print(\"\\n\" + \"=\" * 70)\n",
        "print(\"TRANSLATION TEST\")\n",
        "print(\"=\" * 70)\n",
        "\n",
        "# Danh sách các câu test\n",
        "test_sentences = [\n",
        "    \"Hello, how are you?\",\n",
        "    \"I love learning natural language processing.\",\n",
        "    \"The weather is beautiful today.\",\n",
        "    \"Machine learning is changing the world.\",\n",
        "    \"What is your name?\",\n",
        "    \"I am studying artificial intelligence.\",\n",
        "    \"She goes to school every day.\",\n",
        "    \"This book is very interesting.\",\n",
        "    \"Can you help me with this problem?\",\n",
        "    \"Thank you for your time.\"\n",
        "]\n",
        "\n",
        "results = []\n",
        "\n",
        "print(f\"\\nTranslating {len(test_sentences)} sentences...\\n\")\n",
        "\n",
        "for i, sentence in enumerate(test_sentences, 1):\n",
        "    print(f\"Processing [{i}/{len(test_sentences)}]...\", end=\" \")\n",
        "\n",
        "    try:\n",
        "        translation = translate_sentence(model, sentence, en_tokenizer, vi_tokenizer)\n",
        "        results.append((sentence, translation, \"✅\"))\n",
        "        print(\"Done\")\n",
        "    except Exception as e:\n",
        "        results.append((sentence, f\"Error: {e}\", \"❌\"))\n",
        "        print(\"Failed\")\n",
        "\n",
        "# In kết quả\n",
        "print(\"\\n\" + \"=\" * 70)\n",
        "print(\"RESULTS\")\n",
        "print(\"=\" * 70 + \"\\n\")\n",
        "\n",
        "for i, (en, vi, status) in enumerate(results, 1):\n",
        "    print(f\"{status} Test {i}:\")\n",
        "    print(f\"   🇬🇧 EN: {en}\")\n",
        "    print(f\"   🇻🇳 VI: {vi}\\n\")\n",
        "\n",
        "print(\"=\" * 70)\n",
        "print(f\"✅ Completed: {sum(1 for r in results if r[2] == '✅')}/{len(results)}\")\n",
        "print(\"=\" * 70)"
      ]
    },
    {
      "cell_type": "code",
      "execution_count": 31,
      "metadata": {
        "id": "tZR73uv0iL0G"
      },
      "outputs": [],
      "source": []
    }
  ],
  "metadata": {
    "accelerator": "GPU",
    "colab": {
      "gpuType": "T4",
      "provenance": [],
      "toc_visible": true,
      "include_colab_link": true
    },
    "kernelspec": {
      "display_name": "Python 3",
      "name": "python3"
    },
    "language_info": {
      "name": "python"
    }
  },
  "nbformat": 4,
  "nbformat_minor": 0
}