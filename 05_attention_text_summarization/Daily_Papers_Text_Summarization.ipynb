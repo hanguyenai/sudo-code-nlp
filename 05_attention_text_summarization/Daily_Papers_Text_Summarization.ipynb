{
  "metadata": {
    "kernelspec": {
      "name": "python3",
      "display_name": "Python 3"
    },
    "language_info": {
      "name": "python",
      "version": "3.11.13",
      "mimetype": "text/x-python",
      "codemirror_mode": {
        "name": "ipython",
        "version": 3
      },
      "pygments_lexer": "ipython3",
      "nbconvert_exporter": "python",
      "file_extension": ".py"
    },
    "colab": {
      "provenance": [],
      "gpuType": "T4",
      "include_colab_link": true
    },
    "kaggle": {
      "accelerator": "gpu",
      "dataSources": [],
      "dockerImageVersionId": 31154,
      "isInternetEnabled": true,
      "language": "python",
      "sourceType": "notebook",
      "isGpuEnabled": true
    },
    "accelerator": "GPU"
  },
  "nbformat_minor": 0,
  "nbformat": 4,
  "cells": [
    {
      "cell_type": "markdown",
      "metadata": {
        "id": "view-in-github",
        "colab_type": "text"
      },
      "source": [
        "<a href=\"https://colab.research.google.com/github/hanguyenai/sudo-code-nlp/blob/main/05_attention_text_summarization/Daily_Papers_Text_Summarization.ipynb\" target=\"_parent\"><img src=\"https://colab.research.google.com/assets/colab-badge.svg\" alt=\"Open In Colab\"/></a>"
      ]
    },
    {
      "cell_type": "markdown",
      "source": [
        "# 1 Setup & Install dependencies"
      ],
      "metadata": {
        "id": "qoDI_OWGoHDZ"
      }
    },
    {
      "cell_type": "code",
      "source": [
        "!pip install rouge_score"
      ],
      "metadata": {
        "colab": {
          "base_uri": "https://localhost:8080/"
        },
        "id": "Swu3suCtc1Kv",
        "outputId": "74180208-644a-4bf3-b510-4aa7528923b1"
      },
      "execution_count": 86,
      "outputs": [
        {
          "output_type": "stream",
          "name": "stdout",
          "text": [
            "Collecting rouge_score\n",
            "  Downloading rouge_score-0.1.2.tar.gz (17 kB)\n",
            "  Preparing metadata (setup.py) ... \u001b[?25l\u001b[?25hdone\n",
            "Requirement already satisfied: absl-py in /usr/local/lib/python3.12/dist-packages (from rouge_score) (1.4.0)\n",
            "Requirement already satisfied: nltk in /usr/local/lib/python3.12/dist-packages (from rouge_score) (3.9.1)\n",
            "Requirement already satisfied: numpy in /usr/local/lib/python3.12/dist-packages (from rouge_score) (2.0.2)\n",
            "Requirement already satisfied: six>=1.14.0 in /usr/local/lib/python3.12/dist-packages (from rouge_score) (1.17.0)\n",
            "Requirement already satisfied: click in /usr/local/lib/python3.12/dist-packages (from nltk->rouge_score) (8.3.0)\n",
            "Requirement already satisfied: joblib in /usr/local/lib/python3.12/dist-packages (from nltk->rouge_score) (1.5.2)\n",
            "Requirement already satisfied: regex>=2021.8.3 in /usr/local/lib/python3.12/dist-packages (from nltk->rouge_score) (2024.11.6)\n",
            "Requirement already satisfied: tqdm in /usr/local/lib/python3.12/dist-packages (from nltk->rouge_score) (4.67.1)\n",
            "Building wheels for collected packages: rouge_score\n",
            "  Building wheel for rouge_score (setup.py) ... \u001b[?25l\u001b[?25hdone\n",
            "  Created wheel for rouge_score: filename=rouge_score-0.1.2-py3-none-any.whl size=24934 sha256=59cbeb21801ad7f9519dc555eff1203503c48683a67006d39b2784c2854d1f53\n",
            "  Stored in directory: /root/.cache/pip/wheels/85/9d/af/01feefbe7d55ef5468796f0c68225b6788e85d9d0a281e7a70\n",
            "Successfully built rouge_score\n",
            "Installing collected packages: rouge_score\n",
            "Successfully installed rouge_score-0.1.2\n"
          ]
        }
      ]
    },
    {
      "cell_type": "code",
      "source": [
        "import torch\n",
        "import torch.nn as nn\n",
        "import torch.nn.functional as F\n",
        "from torch.utils.data import Dataset, DataLoader\n",
        "import numpy as np\n",
        "import matplotlib.pyplot as plt\n",
        "import seaborn as sns\n",
        "import random\n",
        "import re\n",
        "import json\n",
        "import time\n",
        "from typing import List, Dict\n",
        "from datetime import datetime, timedelta\n",
        "import requests\n",
        "from bs4 import BeautifulSoup\n",
        "from IPython.display import HTML, display\n",
        "import warnings\n",
        "from tqdm import tqdm\n",
        "import os\n",
        "from transformers import BertTokenizer, BertModel\n",
        "from sklearn.model_selection import train_test_split\n",
        "from nltk.translate.bleu_score import sentence_bleu, SmoothingFunction\n",
        "from rouge_score import rouge_scorer\n",
        "from collections import Counter\n",
        "import math\n",
        "\n",
        "warnings.filterwarnings('ignore')\n",
        "\n",
        "# Set style\n",
        "plt.style.use('seaborn-v0_8-darkgrid')\n",
        "sns.set_palette('husl')\n",
        "\n",
        "# Set random seeds\n",
        "torch.manual_seed(42)\n",
        "np.random.seed(42)\n",
        "random.seed(42)\n",
        "\n",
        "# Check GPU\n",
        "device = torch.device('cuda' if torch.cuda.is_available() else 'cpu')\n",
        "print(f\"Using device: {device}\")"
      ],
      "metadata": {
        "colab": {
          "base_uri": "https://localhost:8080/"
        },
        "id": "ixYBt2cfuEwW",
        "outputId": "d5d15f4c-5e91-43f5-bb3a-b1919439b605",
        "trusted": true,
        "execution": {
          "iopub.status.busy": "2025-10-15T01:02:55.062687Z",
          "iopub.execute_input": "2025-10-15T01:02:55.063380Z",
          "iopub.status.idle": "2025-10-15T01:03:00.577739Z",
          "shell.execute_reply.started": "2025-10-15T01:02:55.063355Z",
          "shell.execute_reply": "2025-10-15T01:03:00.576935Z"
        }
      },
      "outputs": [
        {
          "output_type": "stream",
          "name": "stdout",
          "text": [
            "Using device: cuda\n"
          ]
        }
      ],
      "execution_count": 87
    },
    {
      "cell_type": "markdown",
      "source": [
        "# 2 Crawl papers from Hugging Face"
      ],
      "metadata": {
        "id": "TFIUkVPb79cQ"
      }
    },
    {
      "cell_type": "code",
      "source": [
        "class HuggingFaceScraper:\n",
        "    \"\"\"\n",
        "    Advanced HuggingFace Papers Scraper with Full Abstract Support\n",
        "    Scrapes papers from https://huggingface.co/papers with complete abstracts\n",
        "    \"\"\"\n",
        "\n",
        "    def __init__(self):\n",
        "        self.base_url = \"https://huggingface.co\"\n",
        "        self.session = requests.Session()\n",
        "        self.user_agents = [\n",
        "            'Mozilla/5.0 (Windows NT 10.0; Win64; x64) AppleWebKit/537.36 (KHTML, like Gecko) Chrome/120.0.0.0 Safari/537.36',\n",
        "            'Mozilla/5.0 (Macintosh; Intel Mac OS X 10_15_7) AppleWebKit/537.36 (KHTML, like Gecko) Chrome/120.0.0.0 Safari/537.36',\n",
        "            'Mozilla/5.0 (X11; Linux x86_64) AppleWebKit/537.36 (KHTML, like Gecko) Chrome/120.0.0.0 Safari/537.36'\n",
        "        ]\n",
        "        self.session.headers.update({\n",
        "            'Accept': 'text/html,application/xhtml+xml,application/xml;q=0.9,image/webp,*/*;q=0.8',\n",
        "            'Accept-Language': 'en-US,en;q=0.5',\n",
        "            'Accept-Encoding': 'gzip, deflate, br',\n",
        "            'Connection': 'keep-alive',\n",
        "            'Upgrade-Insecure-Requests': '1'\n",
        "        })\n",
        "\n",
        "    def scrape_date_range(self, start_date, end_date, delay=2.5, fetch_full_abstract=True):\n",
        "        \"\"\"\n",
        "        Scrape papers from date range\n",
        "\n",
        "        Args:\n",
        "            start_date (str): Start date in YYYY-MM-DD format\n",
        "            end_date (str): End date in YYYY-MM-DD format\n",
        "            delay (float): Delay between requests in seconds\n",
        "            fetch_full_abstract (bool): If True, visit each paper page to get full abstract\n",
        "\n",
        "        Returns:\n",
        "            list: List of paper dictionaries\n",
        "        \"\"\"\n",
        "        current = datetime.strptime(start_date, \"%Y-%m-%d\")\n",
        "        end = datetime.strptime(end_date, \"%Y-%m-%d\")\n",
        "\n",
        "        all_papers = []\n",
        "        days = 0\n",
        "\n",
        "        print(f\"\\n{'='*80}\")\n",
        "        print(f\"🚀 SCRAPING HUGGINGFACE PAPERS\")\n",
        "        print(f\"{'='*80}\")\n",
        "        print(f\"📅 Date range: {start_date} to {end_date}\")\n",
        "        print(f\"⚙️  Full abstract mode: {'ENABLED ✓' if fetch_full_abstract else 'DISABLED ✗'}\")\n",
        "        if fetch_full_abstract:\n",
        "            print(f\"⚠️  Note: Full abstract mode is SLOWER but gets complete abstracts\")\n",
        "        print(f\"{'='*80}\\n\")\n",
        "\n",
        "        while current <= end:\n",
        "            date_str = current.strftime(\"%Y-%m-%d\")\n",
        "            papers = self._scrape_date(date_str, fetch_full_abstract)\n",
        "\n",
        "            if papers:\n",
        "                all_papers.extend(papers)\n",
        "                print(f\"✓ {date_str}: {len(papers)} papers\")\n",
        "            else:\n",
        "                print(f\"○ {date_str}: no papers\")\n",
        "\n",
        "            days += 1\n",
        "\n",
        "            # Progress update every 10 days\n",
        "            if days % 10 == 0:\n",
        "                print(f\"\\n{'─'*80}\")\n",
        "                print(f\"📊 Progress: {days} days, {len(all_papers)} papers total\")\n",
        "                print(f\"{'─'*80}\\n\")\n",
        "                time.sleep(random.uniform(5, 10))  # Longer break\n",
        "\n",
        "            current += timedelta(days=1)\n",
        "            time.sleep(delay + random.uniform(0, 2))\n",
        "\n",
        "        # Deduplicate\n",
        "        unique = self._deduplicate(all_papers)\n",
        "\n",
        "        print(f\"\\n{'='*80}\")\n",
        "        print(f\"✅ SCRAPING COMPLETE!\")\n",
        "        print(f\"{'='*80}\")\n",
        "        print(f\"📊 Total unique papers: {len(unique)}\")\n",
        "        print(f\"{'='*80}\\n\")\n",
        "\n",
        "        return unique\n",
        "\n",
        "    def _scrape_date(self, date_str, fetch_full_abstract=True):\n",
        "        \"\"\"\n",
        "        Scrape papers from a specific date\n",
        "\n",
        "        Args:\n",
        "            date_str (str): Date in YYYY-MM-DD format\n",
        "            fetch_full_abstract (bool): Whether to fetch full abstracts\n",
        "\n",
        "        Returns:\n",
        "            list: List of papers for that date\n",
        "        \"\"\"\n",
        "        url = f\"{self.base_url}/papers/date/{date_str}\"\n",
        "\n",
        "        try:\n",
        "            headers = {'User-Agent': random.choice(self.user_agents)}\n",
        "            response = self.session.get(url, headers=headers, timeout=15)\n",
        "\n",
        "            if response.status_code == 404:\n",
        "                return []\n",
        "\n",
        "            response.raise_for_status()\n",
        "            soup = BeautifulSoup(response.text, 'html.parser')\n",
        "\n",
        "            # Find all paper articles (limit to 50 per day)\n",
        "            articles = soup.find_all('article')[:50]\n",
        "\n",
        "            papers = []\n",
        "            for i, article in enumerate(articles, 1):\n",
        "                paper = self._parse_article(article, date_str, fetch_full_abstract)\n",
        "                if paper:\n",
        "                    papers.append(paper)\n",
        "                    if fetch_full_abstract and i % 5 == 0:\n",
        "                        print(f\"      Progress: {i}/{len(articles)} papers processed\")\n",
        "\n",
        "            return papers\n",
        "\n",
        "        except requests.exceptions.RequestException as e:\n",
        "            print(f\"   ❌ Request error for {date_str}: {e}\")\n",
        "            return []\n",
        "        except Exception as e:\n",
        "            print(f\"   ❌ Unexpected error for {date_str}: {e}\")\n",
        "            return []\n",
        "\n",
        "    def _parse_article(self, article, date_str, fetch_full_abstract=True):\n",
        "        \"\"\"\n",
        "        Parse article element to extract paper information\n",
        "\n",
        "        Args:\n",
        "            article: BeautifulSoup element\n",
        "            date_str (str): Date string\n",
        "            fetch_full_abstract (bool): Whether to fetch full abstract\n",
        "\n",
        "        Returns:\n",
        "            dict: Paper information or None if parsing fails\n",
        "        \"\"\"\n",
        "        paper = {\n",
        "            'date': date_str,\n",
        "            'scraped_at': datetime.now().isoformat()\n",
        "        }\n",
        "\n",
        "        # Extract title\n",
        "        title_elem = article.find('h3') or article.find('h2')\n",
        "        if not title_elem:\n",
        "            return None\n",
        "        paper['title'] = title_elem.get_text(strip=True)\n",
        "\n",
        "        # Extract link and paper ID\n",
        "        link_elem = article.find('a', href=re.compile(r'/papers/\\d+\\.\\d+'))\n",
        "        if link_elem:\n",
        "            paper['link'] = self.base_url + link_elem['href']\n",
        "\n",
        "            # Extract arXiv ID (format: YYMM.NNNNN)\n",
        "            match = re.search(r'(\\d{4})\\.(\\d{4,5})', link_elem['href'])\n",
        "            if match:\n",
        "                paper['paper_id'] = f\"{match.group(1)}.{match.group(2)}\"\n",
        "                # Extract year from arXiv ID\n",
        "                year_code = match.group(1)[:2]\n",
        "                paper['year'] = 2000 + int(year_code)\n",
        "\n",
        "        # Extract metadata from listing page\n",
        "        text_content = article.get_text()\n",
        "\n",
        "        # Extract number of authors\n",
        "        author_match = re.search(r'(\\d+)\\s+authors?', text_content, re.IGNORECASE)\n",
        "        if author_match:\n",
        "            paper['authors_count'] = int(author_match.group(1))\n",
        "\n",
        "        # Extract upvotes - Multiple strategies\n",
        "        # Strategy 1: Look for div with class \"leading-none\" (common for upvote count)\n",
        "        upvote_div = article.find('div', class_='leading-none')\n",
        "        if upvote_div:\n",
        "            upvote_text = upvote_div.get_text(strip=True)\n",
        "            try:\n",
        "                paper['upvotes'] = int(upvote_text)\n",
        "            except ValueError:\n",
        "                pass\n",
        "\n",
        "        # Strategy 2: Text pattern matching (fallback)\n",
        "        if 'upvotes' not in paper:\n",
        "            upvote_match = re.search(r'(\\d+)\\s+(?:upvotes?|likes?)', text_content, re.IGNORECASE)\n",
        "            if upvote_match:\n",
        "                paper['upvotes'] = int(upvote_match.group(1))\n",
        "\n",
        "        # Extract abstract\n",
        "        if fetch_full_abstract and paper.get('link'):\n",
        "            # Fetch FULL abstract AND additional metadata from detail page\n",
        "            print(f\"      📖 {paper['title'][:60]}...\")\n",
        "            detail_data = self._fetch_detail_page(paper['link'])\n",
        "\n",
        "            if detail_data:\n",
        "                # Update with full abstract\n",
        "                if detail_data.get('abstract'):\n",
        "                    paper['abstract'] = detail_data['abstract']\n",
        "                    paper['abstract_type'] = 'full'\n",
        "                    word_count = len(detail_data['abstract'].split())\n",
        "                    print(f\"         ✓ Full abstract: {word_count} words\")\n",
        "\n",
        "                # Update upvotes from detail page if not found earlier\n",
        "                if detail_data.get('upvotes') and not paper.get('upvotes'):\n",
        "                    paper['upvotes'] = detail_data['upvotes']\n",
        "\n",
        "                # Add any other metadata from detail page\n",
        "                if detail_data.get('authors'):\n",
        "                    paper['authors'] = detail_data['authors']\n",
        "            else:\n",
        "                # Fallback to preview\n",
        "                print(f\"         ⚠️ Detail page failed, using preview\")\n",
        "                preview = self._extract_preview_abstract(article)\n",
        "                if preview:\n",
        "                    paper['abstract'] = preview\n",
        "                    paper['abstract_type'] = 'preview'\n",
        "\n",
        "            # Add delay between detail page requests\n",
        "            time.sleep(random.uniform(1.5, 3))\n",
        "        else:\n",
        "            # Get preview abstract from listing page\n",
        "            preview = self._extract_preview_abstract(article)\n",
        "            if preview:\n",
        "                paper['abstract'] = preview\n",
        "                paper['abstract_type'] = 'preview'\n",
        "\n",
        "        # Only return paper if it has an abstract\n",
        "        return paper if paper.get('abstract') else None\n",
        "\n",
        "    def _extract_preview_abstract(self, article):\n",
        "        \"\"\"\n",
        "        Extract preview abstract from listing page\n",
        "\n",
        "        Args:\n",
        "            article: BeautifulSoup element\n",
        "\n",
        "        Returns:\n",
        "            str: Preview abstract or None\n",
        "        \"\"\"\n",
        "        paragraphs = article.find_all('p')\n",
        "        abstracts = [p.get_text(strip=True) for p in paragraphs\n",
        "                    if len(p.get_text(strip=True)) > 50]\n",
        "\n",
        "        if abstracts:\n",
        "            return ' '.join(abstracts)\n",
        "\n",
        "        return None\n",
        "\n",
        "    def _fetch_detail_page(self, paper_url):\n",
        "        \"\"\"\n",
        "        Fetch complete information from paper detail page\n",
        "        Including: full abstract, upvotes, authors, etc.\n",
        "\n",
        "        Args:\n",
        "            paper_url (str): URL of the paper detail page\n",
        "\n",
        "        Returns:\n",
        "            dict: Dictionary with abstract, upvotes, authors, etc. or None\n",
        "        \"\"\"\n",
        "        try:\n",
        "            headers = {'User-Agent': random.choice(self.user_agents)}\n",
        "            response = self.session.get(paper_url, headers=headers, timeout=15)\n",
        "            response.raise_for_status()\n",
        "\n",
        "            soup = BeautifulSoup(response.text, 'html.parser')\n",
        "            detail_data = {}\n",
        "\n",
        "            # ===== EXTRACT UPVOTES =====\n",
        "            # Look for div with class \"leading-none\" (common pattern for upvote display)\n",
        "            upvote_div = soup.find('div', class_='leading-none')\n",
        "            if upvote_div:\n",
        "                upvote_text = upvote_div.get_text(strip=True)\n",
        "                try:\n",
        "                    detail_data['upvotes'] = int(upvote_text)\n",
        "                except ValueError:\n",
        "                    pass\n",
        "\n",
        "            # ===== EXTRACT AUTHORS =====\n",
        "            # Look for author information (may need adjustment based on actual HTML)\n",
        "            author_links = soup.find_all('a', href=re.compile(r'/papers\\?author='))\n",
        "            if author_links:\n",
        "                detail_data['authors'] = [a.get_text(strip=True) for a in author_links]\n",
        "\n",
        "            # ===== EXTRACT FULL ABSTRACT =====\n",
        "            abstract = self._extract_abstract_from_soup(soup)\n",
        "            if abstract:\n",
        "                detail_data['abstract'] = abstract\n",
        "\n",
        "            return detail_data if detail_data else None\n",
        "\n",
        "        except requests.exceptions.RequestException as e:\n",
        "            print(f\"         ❌ Request error: {e}\")\n",
        "            return None\n",
        "        except Exception as e:\n",
        "            print(f\"         ❌ Parse error: {e}\")\n",
        "            return None\n",
        "\n",
        "    def _extract_abstract_from_soup(self, soup):\n",
        "        \"\"\"\n",
        "        Extract abstract from BeautifulSoup object using multiple strategies\n",
        "\n",
        "        Args:\n",
        "            soup: BeautifulSoup object of the detail page\n",
        "\n",
        "        Returns:\n",
        "            str: Full abstract or None\n",
        "        \"\"\"\n",
        "        # ===== STRATEGY 1: Find Abstract heading and extract following content =====\n",
        "        headings = soup.find_all(['h2', 'h3'])\n",
        "        for heading in headings:\n",
        "            heading_text = heading.get_text(strip=True).lower()\n",
        "            if heading_text == 'abstract':\n",
        "                # Look for next sibling div or container\n",
        "                next_container = heading.find_next_sibling()\n",
        "                if next_container:\n",
        "                    # Extract all paragraphs with class text-gray\n",
        "                    paragraphs = next_container.find_all('p', class_=re.compile(r'text-gray'))\n",
        "                    if paragraphs:\n",
        "                        abstract_parts = []\n",
        "                        for p in paragraphs:\n",
        "                            text = p.get_text(separator=' ', strip=True)\n",
        "                            if len(text) > 20:\n",
        "                                abstract_parts.append(text)\n",
        "                        if abstract_parts:\n",
        "                            return ' '.join(abstract_parts)\n",
        "\n",
        "        # ===== STRATEGY 2: Direct search for text-gray-600 paragraphs =====\n",
        "        gray_paragraphs = soup.find_all('p', class_=re.compile(r'text-gray-600'))\n",
        "        if gray_paragraphs:\n",
        "            abstract_parts = []\n",
        "            for p in gray_paragraphs:\n",
        "                text = p.get_text(separator=' ', strip=True)\n",
        "                if len(text) > 50:\n",
        "                    abstract_parts.append(text)\n",
        "\n",
        "            if abstract_parts:\n",
        "                full_text = ' '.join(abstract_parts)\n",
        "                return full_text[:5000] if len(full_text) > 5000 else full_text\n",
        "\n",
        "        # ===== STRATEGY 3: Look in prose/content containers =====\n",
        "        content_containers = soup.find_all('div', class_=re.compile(r'prose|content|article'))\n",
        "        for container in content_containers:\n",
        "            paragraphs = container.find_all('p')\n",
        "            long_paras = []\n",
        "            for p in paragraphs:\n",
        "                text = p.get_text(separator=' ', strip=True)\n",
        "                if len(text) > 100:\n",
        "                    long_paras.append(text)\n",
        "\n",
        "            if long_paras:\n",
        "                return ' '.join(long_paras[:5])\n",
        "\n",
        "        # ===== STRATEGY 4: Get all substantial paragraphs (fallback) =====\n",
        "        all_paragraphs = soup.find_all('p')\n",
        "        substantial = []\n",
        "        for p in all_paragraphs:\n",
        "            text = p.get_text(separator=' ', strip=True)\n",
        "            if len(text) > 100:\n",
        "                substantial.append(text)\n",
        "\n",
        "        if substantial:\n",
        "            return ' '.join(substantial[:3])\n",
        "\n",
        "        return None\n",
        "\n",
        "    def _deduplicate(self, papers):\n",
        "        \"\"\"\n",
        "        Remove duplicate papers based on paper_id or title\n",
        "\n",
        "        Args:\n",
        "            papers (list): List of paper dictionaries\n",
        "\n",
        "        Returns:\n",
        "            list: Deduplicated list of papers\n",
        "        \"\"\"\n",
        "        seen = set()\n",
        "        unique = []\n",
        "\n",
        "        for paper in papers:\n",
        "            # Use paper_id as primary key, fall back to title\n",
        "            key = paper.get('paper_id') or paper.get('title')\n",
        "            if key and key not in seen:\n",
        "                seen.add(key)\n",
        "                unique.append(paper)\n",
        "\n",
        "        if len(papers) != len(unique):\n",
        "            print(f\"🔄 Deduplication: {len(papers)} → {len(unique)} papers\")\n",
        "\n",
        "        return unique\n",
        "\n",
        "    def save(self, papers, filename=\"papers.json\"):\n",
        "        \"\"\"\n",
        "        Save papers to JSON file with statistics\n",
        "\n",
        "        Args:\n",
        "            papers (list): List of paper dictionaries\n",
        "            filename (str): Output filename\n",
        "\n",
        "        Returns:\n",
        "            str: Filename of saved file\n",
        "        \"\"\"\n",
        "        # Calculate statistics\n",
        "        stats = {\n",
        "            'total': len(papers),\n",
        "            'with_abstract': sum(1 for p in papers if p.get('abstract')),\n",
        "            'with_full_abstract': sum(1 for p in papers\n",
        "                                     if p.get('abstract_type') == 'full'),\n",
        "            'with_preview_abstract': sum(1 for p in papers\n",
        "                                        if p.get('abstract_type') == 'preview'),\n",
        "            'with_paper_id': sum(1 for p in papers if p.get('paper_id')),\n",
        "            'with_authors': sum(1 for p in papers if p.get('authors_count')),\n",
        "            'with_author_names': sum(1 for p in papers if p.get('authors')),\n",
        "            'with_upvotes': sum(1 for p in papers if p.get('upvotes')),\n",
        "            'avg_abstract_length': sum(len(p.get('abstract', '').split())\n",
        "                                      for p in papers) / len(papers) if papers else 0,\n",
        "            'avg_upvotes': sum(p.get('upvotes', 0) for p in papers) / sum(1 for p in papers if p.get('upvotes')) if any(p.get('upvotes') for p in papers) else 0\n",
        "        }\n",
        "\n",
        "        # Prepare output\n",
        "        output = {\n",
        "            'scraped_at': datetime.now().isoformat(),\n",
        "            'statistics': stats,\n",
        "            'papers': papers\n",
        "        }\n",
        "\n",
        "        # Save to file\n",
        "        with open(filename, 'w', encoding='utf-8') as f:\n",
        "            json.dump(output, f, indent=2, ensure_ascii=False)\n",
        "\n",
        "        # Print summary\n",
        "        print(f\"\\n{'='*80}\")\n",
        "        print(f\"💾 SAVED TO: {filename}\")\n",
        "        print(f\"{'='*80}\")\n",
        "        print(f\"📊 Statistics:\")\n",
        "        print(f\"   Total papers: {stats['total']}\")\n",
        "        print(f\"   With abstracts: {stats['with_abstract']}\")\n",
        "        print(f\"   - Full abstracts: {stats['with_full_abstract']}\")\n",
        "        print(f\"   - Preview abstracts: {stats['with_preview_abstract']}\")\n",
        "        print(f\"   With upvotes: {stats['with_upvotes']} (avg: {stats['avg_upvotes']:.1f})\")\n",
        "        print(f\"   With author names: {stats['with_author_names']}\")\n",
        "        print(f\"   Average abstract length: {stats['avg_abstract_length']:.1f} words\")\n",
        "        print(f\"{'='*80}\\n\")\n",
        "\n",
        "        return filename\n",
        "\n",
        "    def scrape_recent_days(self, num_days=30, fetch_full_abstract=True):\n",
        "        \"\"\"\n",
        "        Scrape papers from recent N days\n",
        "\n",
        "        Args:\n",
        "            num_days (int): Number of recent days to scrape\n",
        "            fetch_full_abstract (bool): Whether to fetch full abstracts\n",
        "\n",
        "        Returns:\n",
        "            list: List of papers\n",
        "        \"\"\"\n",
        "        end_date = datetime.now()\n",
        "        start_date = end_date - timedelta(days=num_days)\n",
        "\n",
        "        return self.scrape_date_range(\n",
        "            start_date=start_date.strftime(\"%Y-%m-%d\"),\n",
        "            end_date=end_date.strftime(\"%Y-%m-%d\"),\n",
        "            fetch_full_abstract=fetch_full_abstract\n",
        "        )\n",
        "\n",
        "    @staticmethod\n",
        "    def load(filename=\"papers.json\"):\n",
        "        \"\"\"Load papers from JSON file (works for both FastHFScraper and HuggingFaceScraper formats)\"\"\"\n",
        "        try:\n",
        "            with open(filename, 'r', encoding='utf-8') as f:\n",
        "                data = json.load(f)\n",
        "\n",
        "            papers = data.get('papers', [])\n",
        "            stats = data.get('stats') or data.get('statistics', {})  # Support both formats\n",
        "            scraped_at = data.get('scraped_at', 'Unknown')\n",
        "\n",
        "            print(f\"\\n📂 Loaded from: {filename}\")\n",
        "            print(f\"   Scraped at: {scraped_at}\")\n",
        "            print(f\"   Total papers: {stats.get('total', len(papers))}\")\n",
        "\n",
        "            # Handle both date_range formats\n",
        "            date_range = stats.get('date_range')\n",
        "            if date_range:\n",
        "                if isinstance(date_range, list):\n",
        "                    print(f\"   Date range: {date_range[0]} to {date_range[1]}\")\n",
        "                else:\n",
        "                    print(f\"   Date range: {date_range}\")\n",
        "\n",
        "            return papers\n",
        "        except FileNotFoundError:\n",
        "            print(f\"❌ File not found: {filename}\")\n",
        "            return []\n",
        "        except json.JSONDecodeError:\n",
        "            print(f\"❌ Invalid JSON file: {filename}\")\n",
        "            return []\n",
        "        except Exception as e:\n",
        "            print(f\"❌ Error loading file: {e}\")\n",
        "            return []"
      ],
      "metadata": {
        "id": "vRNFttKyuSTm",
        "trusted": true,
        "execution": {
          "iopub.status.busy": "2025-10-15T01:03:00.579047Z",
          "iopub.execute_input": "2025-10-15T01:03:00.579425Z",
          "iopub.status.idle": "2025-10-15T01:03:00.614246Z",
          "shell.execute_reply.started": "2025-10-15T01:03:00.579389Z",
          "shell.execute_reply": "2025-10-15T01:03:00.613452Z"
        }
      },
      "outputs": [],
      "execution_count": 5
    },
    {
      "cell_type": "code",
      "source": [
        "print(\"=\" * 80)\n",
        "print(\"🔥 SCRAPING WITH ANTI-BLOCKING PROTECTION\")\n",
        "print(\"=\" * 80)\n",
        "\n",
        "scraper = HuggingFaceScraper()\n",
        "\n",
        "print(\"\\n🎯 Full scraping mode: Every day from Jan to Oct 2025\")\n",
        "papers = scraper.scrape_recent_days(num_days=365, fetch_full_abstract=True)"
      ],
      "metadata": {
        "colab": {
          "base_uri": "https://localhost:8080/"
        },
        "id": "4UY8_47pT-BH",
        "outputId": "e032f2d2-fca1-468b-aefa-4f45e2af2bb4",
        "trusted": true,
        "execution": {
          "iopub.status.busy": "2025-10-15T01:03:00.614978Z",
          "iopub.execute_input": "2025-10-15T01:03:00.615226Z"
        }
      },
      "outputs": [
        {
          "name": "stdout",
          "text": "================================================================================\n🔥 SCRAPING WITH ANTI-BLOCKING PROTECTION\n================================================================================\n\n🎯 Full scraping mode: Every day from Jan to Oct 2025\n⚠️  This will take 15-20 minutes but gives maximum papers!\n\n\n================================================================================\n🚀 SCRAPING HUGGINGFACE PAPERS\n================================================================================\n📅 Date range: 2024-10-15 to 2025-10-15\n⚙️  Full abstract mode: ENABLED ✓\n⚠️  Note: Full abstract mode is SLOWER but gets complete abstracts\n================================================================================\n\n      📖 Animate-X: Universal Character Image Animation with Enhanced...\n         ✓ Full abstract: 214 words\n      📖 LOKI: A Comprehensive Synthetic Data Detection Benchmark usi...\n         ✓ Full abstract: 198 words\n      📖 MMIE: Massive Multimodal Interleaved Comprehension Benchmark...\n         ✓ Full abstract: 226 words\n      📖 Toward General Instruction-Following Alignment for Retrieval...\n         ✓ Full abstract: 237 words\n      📖 MEGA-Bench: Scaling Multimodal Evaluation to over 500 Real-W...\n         ✓ Full abstract: 171 words\n      Progress: 5/22 papers processed\n      📖 Omni-MATH: A Universal Olympiad Level Mathematic Benchmark F...\n         ✓ Full abstract: 175 words\n      📖 Semantic Image Inversion and Editing using Rectified Stochas...\n         ✓ Full abstract: 194 words\n      📖 VisRAG: Vision-based Retrieval-augmented Generation on Multi...\n         ✓ Full abstract: 211 words\n      📖 LiveXiv -- A Multi-Modal Live Benchmark Based on Arxiv Paper...\n         ✓ Full abstract: 242 words\n      📖 Cavia: Camera-controllable Multi-view Video Diffusion with\n ...\n         ✓ Full abstract: 182 words\n      Progress: 10/22 papers processed\n      📖 Thinking LLMs: General Instruction Following with Thought Ge...\n         ✓ Full abstract: 167 words\n      📖 TemporalBench: Benchmarking Fine-grained Temporal Understand...\n         ✓ Full abstract: 231 words\n      📖 Rethinking Data Selection at Scale: Random Selection is Almo...\n         ✓ Full abstract: 202 words\n      📖 LongMemEval: Benchmarking Chat Assistants on Long-Term Inter...\n         ✓ Full abstract: 213 words\n      📖 MMCOMPOSITION: Revisiting the Compositionality of Pre-traine...\n         ✓ Full abstract: 207 words\n      Progress: 15/22 papers processed\n      📖 Tree of Problems: Improving structured problem solving with\n...\n         ✓ Full abstract: 128 words\n      📖 DuoAttention: Efficient Long-Context LLM Inference with Retr...\n         ✓ Full abstract: 238 words\n      📖 Generalizable Humanoid Manipulation with Improved 3D Diffusi...\n         ✓ Full abstract: 140 words\n      📖 TVBench: Redesigning Video-Language Evaluation...\n         ✓ Full abstract: 204 words\n      📖 The Same But Different: Structural Similarities and Differen...\n         ✓ Full abstract: 188 words\n      Progress: 20/22 papers processed\n      📖 ReLU's Revival: On the Entropic Overload in Normalization-Fr...\n         ✓ Full abstract: 169 words\n      📖 Latent Action Pretraining from Videos...\n         ✓ Full abstract: 187 words\n✓ 2024-10-15: 22 papers\n      📖 Your Mixture-of-Experts LLM Is Secretly an Embedding Model F...\n         ✓ Full abstract: 199 words\n      📖 Efficiently Democratizing Medical LLMs for 50 Languages via ...\n         ✓ Full abstract: 198 words\n      📖 LLMtimesMapReduce: Simplified Long-Sequence Processing using...\n         ✓ Full abstract: 170 words\n      📖 What Matters in Transformers? Not All Attention is Needed...\n         ✓ Full abstract: 214 words\n      📖 MLLM can see? Dynamic Correction Decoding for Hallucination ...\n         ✓ Full abstract: 160 words\n      Progress: 5/18 papers processed\n      📖 Agent-as-a-Judge: Evaluate Agents with Agents...\n         ✓ Full abstract: 176 words\n      📖 LVD-2M: A Long-take Video Dataset with Temporally Dense Capt...\n         ✓ Full abstract: 240 words\n      📖 MTU-Bench: A Multi-granularity Tool-Use Benchmark for Large ...\n         ✓ Full abstract: 190 words\n      📖 Efficient Diffusion Models: A Comprehensive Survey from Prin...\n         ✓ Full abstract: 161 words\n      📖 NesTools: A Dataset for Evaluating Nested Tool Learning Abil...\n         ✓ Full abstract: 160 words\n      Progress: 10/18 papers processed\n      📖 EchoPrime: A Multi-Video View-Informed Vision-Language Model...\n         ✓ Full abstract: 214 words\n      📖 SecCodePLT: A Unified Platform for Evaluating the Security o...\n         ✓ Full abstract: 263 words\n      📖 GS^3: Efficient Relighting with Triple Gaussian Splatting...\n         ✓ Full abstract: 191 words\n      📖 SimBa: Simplicity Bias for Scaling Up Parameters in Deep Rei...\n         ✓ Full abstract: 194 words\n      📖 Towards Synergistic, Generalized, and Efficient Dual-System ...\n         ✓ Full abstract: 185 words\n      Progress: 15/18 papers processed\n      📖 Towards Natural Image Matting in the Wild via Real-Scenario ...\n         ✓ Full abstract: 246 words\n      📖 Empirical Study of Mutual Reinforcement Effect and Applicati...\n         ✓ Full abstract: 158 words\n      📖 MultiVENT 2.0: A Massive Multilingual Benchmark for Event-Ce...\n         ✓ Full abstract: 153 words\n✓ 2024-10-16: 18 papers\n      📖 VidEgoThink: Assessing Egocentric Video Understanding Capabi...\n         ✓ Full abstract: 204 words\n      📖 HumanEval-V: Benchmarking High-Level Visual Reasoning with C...\n         ✓ Full abstract: 162 words\n      📖 DocLayout-YOLO: Enhancing Document Layout Analysis through D...\n         ✓ Full abstract: 185 words\n      📖 The Curse of Multi-Modalities: Evaluating Hallucinations of ...\n         ✓ Full abstract: 173 words\n      📖 Revealing the Barriers of Language Agents in Planning...\n         ✓ Full abstract: 195 words\n      Progress: 5/23 papers processed\n      📖 Exploring Model Kinship for Merging Large Language Models...\n         ✓ Full abstract: 159 words\n      📖 Simplifying, Stabilizing and Scaling Continuous-Time Consist...\n         ✓ Full abstract: 152 words\n      📖 Large Language Model Evaluation via Matrix Nuclear-Norm...\n         ✓ Full abstract: 215 words\n      📖 Improving Long-Text Alignment for Text-to-Image Diffusion Mo...\n         ✓ Full abstract: 235 words\n      📖 Controllable Safety Alignment: Inference-Time Adaptation to ...\n         ✓ Full abstract: 239 words\n      Progress: 10/23 papers processed\n      📖 DyVo: Dynamic Vocabularies for Learned Sparse Retrieval with...\n         ✓ Full abstract: 145 words\n      📖 ProSA: Assessing and Understanding the Prompt Sensitivity of...\n         ✓ Full abstract: 161 words\n      📖 ZipVL: Efficient Large Vision-Language Models with Dynamic T...\n         ✓ Full abstract: 262 words\n      📖 Stabilize the Latent Space for Image Autoregressive Modeling...\n         ✓ Full abstract: 260 words\n      📖 ChroKnowledge: Unveiling Chronological Knowledge of Language...\n         ✓ Full abstract: 255 words\n      Progress: 15/23 papers processed\n      📖 Neural Metamorphosis...\n         ✓ Full abstract: 217 words\n      📖 WorldMedQA-V: a multilingual, multimodal medical examination...\n         ✓ Full abstract: 159 words\n      📖 Tracking Universal Features Through Fine-Tuning and Model Me...\n         ✓ Full abstract: 104 words\n      📖 Insights from the Inverse: Reconstructing LLM Training Goals...\n         ✓ Full abstract: 143 words\n      📖 OMCAT: Omni Context Aware Transformer...\n         ✓ Full abstract: 198 words\n      Progress: 20/23 papers processed\n      📖 FLARE: Faithful Logic-Aided Reasoning and Exploration...\n         ✓ Full abstract: 245 words\n      📖 Taming Overconfidence in LLMs: Reward Calibration in RLHF...\n         ✓ Full abstract: 244 words\n      📖 From Commands to Prompts: LLM-based Semantic File System for...\n         ✓ Full abstract: 243 words\n✓ 2024-10-17: 23 papers\n      📖 Movie Gen: A Cast of Media Foundation Models...\n         ✓ Full abstract: 172 words\n      📖 MixEval-X: Any-to-Any Evaluations from Real-World Data Mixtu...\n         ✓ Full abstract: 149 words\n      📖 JudgeBench: A Benchmark for Evaluating LLM-based Judges...\n         ✓ Full abstract: 204 words\n      📖 Fluid: Scaling Autoregressive Text-to-image Generative Model...\n         ✓ Full abstract: 197 words\n      📖 Janus: Decoupling Visual Encoding for Unified Multimodal Und...\n         ✓ Full abstract: 154 words\n      Progress: 5/34 papers processed\n      📖 Roadmap towards Superhuman Speech Understanding using Large ...\n         ✓ Full abstract: 166 words\n      📖 MobA: A Two-Level Agent System for Efficient Mobile Task Aut...\n         ✓ Full abstract: 135 words\n      📖 WorldCuisines: A Massive-Scale Benchmark for Multilingual an...\n         ✓ Full abstract: 151 words\n      📖 Harnessing Webpage UIs for Text-Rich Visual Understanding...\n         ✓ Full abstract: 176 words\n      📖 DreamVideo-2: Zero-Shot Subject-Driven Video Customization w...\n         ✓ Full abstract: 233 words\n      Progress: 10/34 papers processed\n      📖 MMed-RAG: Versatile Multimodal RAG System for Medical Vision...\n         ✓ Full abstract: 211 words\n      📖 MoH: Multi-Head Attention as Mixture-of-Head Attention...\n         ✓ Full abstract: 214 words\n      📖 BenTo: Benchmark Task Reduction with In-Context Transferabil...\n         ✓ Full abstract: 133 words\n      📖 PopAlign: Diversifying Contrasting Patterns for a More Compr...\n         ✓ Full abstract: 154 words\n      📖 A Comparative Study on Reasoning Patterns of OpenAI's o1 Mod...\n         ✓ Full abstract: 230 words\n      Progress: 15/34 papers processed\n      📖 A Unified View of Delta Parameter Editing in Post-Trained La...\n         ✓ Full abstract: 189 words\n      📖 FlatQuant: Flatness Matters for LLM Quantization...\n         ✓ Full abstract: 204 words\n      📖 VidPanos: Generative Panoramic Videos from Casual Panning Vi...\n         ✓ Full abstract: 190 words\n      📖 Do LLMs Have Political Correctness? Analyzing Ethical Biases...\n         ✓ Full abstract: 235 words\n      📖 Can MLLMs Understand the Deep Implication Behind Chinese Ima...\n         ✓ Full abstract: 270 words\n      Progress: 20/34 papers processed\n      📖 Retrospective Learning from Interactions...\n         ✓ Full abstract: 151 words\n      📖 Failing Forward: Improving Generative Error Correction for A...\n         ✓ Full abstract: 211 words\n      📖 Remember, Retrieve and Generate: Understanding Infinite Visu...\n         ✓ Full abstract: 220 words\n      📖 MuVi: Video-to-Music Generation with Semantic Alignment and ...\n         ✓ Full abstract: 168 words\n      📖 MedMobile: A mobile-sized language model with expert-level c...\n         ✓ Full abstract: 112 words\n      Progress: 25/34 papers processed\n      📖 γ-MoD: Exploring Mixture-of-Depth Adaptation for Multimodal ...\n         ✓ Full abstract: 256 words\n      📖 LoLDU: Low-Rank Adaptation via Lower-Diag-Upper Decompositio...\n         ✓ Full abstract: 184 words\n      📖 Open Materials 2024 (OMat24) Inorganic Materials Dataset and...\n         ✓ Full abstract: 215 words\n      📖 Long-LRM: Long-sequence Large Reconstruction Model for Wide-...\n         ✓ Full abstract: 150 words\n      📖 Minimum Tuning to Unlock Long Output from LLMs with High Qua...\n         ✓ Full abstract: 221 words\n      Progress: 30/34 papers processed\n      📖 Toward Guidance-Free AR Visual Generation via Condition Cont...\n         ✓ Full abstract: 196 words\n      📖 AERO: Softmax-Only LLMs for Efficient Private Inference...\n         ✓ Full abstract: 149 words\n      📖 TransAgent: Transfer Vision-Language Foundation Models with\n...\n         ✓ Full abstract: 196 words\n      📖 SBI-RAG: Enhancing Math Word Problem Solving for Students th...\n         ✓ Full abstract: 118 words\n✓ 2024-10-18: 34 papers\n      📖 Movie Gen: A Cast of Media Foundation Models...\n         ✓ Full abstract: 172 words\n      📖 MixEval-X: Any-to-Any Evaluations from Real-World Data Mixtu...\n         ✓ Full abstract: 149 words\n      📖 JudgeBench: A Benchmark for Evaluating LLM-based Judges...\n         ✓ Full abstract: 204 words\n      📖 Fluid: Scaling Autoregressive Text-to-image Generative Model...\n         ✓ Full abstract: 197 words\n      📖 Janus: Decoupling Visual Encoding for Unified Multimodal Und...\n         ✓ Full abstract: 154 words\n      Progress: 5/34 papers processed\n      📖 Roadmap towards Superhuman Speech Understanding using Large ...\n         ✓ Full abstract: 166 words\n      📖 MobA: A Two-Level Agent System for Efficient Mobile Task Aut...\n         ✓ Full abstract: 135 words\n      📖 WorldCuisines: A Massive-Scale Benchmark for Multilingual an...\n         ✓ Full abstract: 151 words\n      📖 Harnessing Webpage UIs for Text-Rich Visual Understanding...\n         ✓ Full abstract: 176 words\n      📖 DreamVideo-2: Zero-Shot Subject-Driven Video Customization w...\n         ✓ Full abstract: 233 words\n      Progress: 10/34 papers processed\n      📖 MMed-RAG: Versatile Multimodal RAG System for Medical Vision...\n         ✓ Full abstract: 211 words\n      📖 MoH: Multi-Head Attention as Mixture-of-Head Attention...\n         ✓ Full abstract: 214 words\n      📖 BenTo: Benchmark Task Reduction with In-Context Transferabil...\n         ✓ Full abstract: 133 words\n      📖 PopAlign: Diversifying Contrasting Patterns for a More Compr...\n         ✓ Full abstract: 154 words\n      📖 A Comparative Study on Reasoning Patterns of OpenAI's o1 Mod...\n         ✓ Full abstract: 230 words\n      Progress: 15/34 papers processed\n      📖 A Unified View of Delta Parameter Editing in Post-Trained La...\n         ✓ Full abstract: 189 words\n      📖 FlatQuant: Flatness Matters for LLM Quantization...\n         ✓ Full abstract: 204 words\n      📖 VidPanos: Generative Panoramic Videos from Casual Panning Vi...\n         ✓ Full abstract: 190 words\n      📖 Do LLMs Have Political Correctness? Analyzing Ethical Biases...\n         ✓ Full abstract: 235 words\n      📖 Can MLLMs Understand the Deep Implication Behind Chinese Ima...\n         ✓ Full abstract: 270 words\n      Progress: 20/34 papers processed\n      📖 Retrospective Learning from Interactions...\n         ✓ Full abstract: 151 words\n      📖 Failing Forward: Improving Generative Error Correction for A...\n         ✓ Full abstract: 211 words\n      📖 Remember, Retrieve and Generate: Understanding Infinite Visu...\n         ✓ Full abstract: 220 words\n      📖 MuVi: Video-to-Music Generation with Semantic Alignment and ...\n         ✓ Full abstract: 168 words\n      📖 MedMobile: A mobile-sized language model with expert-level c...\n         ✓ Full abstract: 112 words\n      Progress: 25/34 papers processed\n      📖 γ-MoD: Exploring Mixture-of-Depth Adaptation for Multimodal ...\n         ✓ Full abstract: 256 words\n      📖 LoLDU: Low-Rank Adaptation via Lower-Diag-Upper Decompositio...\n         ✓ Full abstract: 184 words\n      📖 Open Materials 2024 (OMat24) Inorganic Materials Dataset and...\n         ✓ Full abstract: 215 words\n      📖 Long-LRM: Long-sequence Large Reconstruction Model for Wide-...\n         ✓ Full abstract: 150 words\n      📖 Minimum Tuning to Unlock Long Output from LLMs with High Qua...\n         ✓ Full abstract: 221 words\n      Progress: 30/34 papers processed\n      📖 Toward Guidance-Free AR Visual Generation via Condition Cont...\n         ✓ Full abstract: 196 words\n      📖 AERO: Softmax-Only LLMs for Efficient Private Inference...\n         ✓ Full abstract: 149 words\n      📖 TransAgent: Transfer Vision-Language Foundation Models with\n...\n         ✓ Full abstract: 196 words\n      📖 SBI-RAG: Enhancing Math Word Problem Solving for Students th...\n         ✓ Full abstract: 118 words\n✓ 2024-10-19: 34 papers\n      📖 Movie Gen: A Cast of Media Foundation Models...\n         ✓ Full abstract: 172 words\n      📖 MixEval-X: Any-to-Any Evaluations from Real-World Data Mixtu...\n         ✓ Full abstract: 149 words\n      📖 JudgeBench: A Benchmark for Evaluating LLM-based Judges...\n         ✓ Full abstract: 204 words\n      📖 Fluid: Scaling Autoregressive Text-to-image Generative Model...\n         ✓ Full abstract: 197 words\n      📖 Janus: Decoupling Visual Encoding for Unified Multimodal Und...\n         ✓ Full abstract: 154 words\n      Progress: 5/34 papers processed\n      📖 Roadmap towards Superhuman Speech Understanding using Large ...\n         ✓ Full abstract: 166 words\n      📖 MobA: A Two-Level Agent System for Efficient Mobile Task Aut...\n         ✓ Full abstract: 135 words\n      📖 WorldCuisines: A Massive-Scale Benchmark for Multilingual an...\n         ✓ Full abstract: 151 words\n      📖 Harnessing Webpage UIs for Text-Rich Visual Understanding...\n         ✓ Full abstract: 176 words\n      📖 DreamVideo-2: Zero-Shot Subject-Driven Video Customization w...\n         ✓ Full abstract: 233 words\n      Progress: 10/34 papers processed\n      📖 MMed-RAG: Versatile Multimodal RAG System for Medical Vision...\n         ✓ Full abstract: 211 words\n      📖 MoH: Multi-Head Attention as Mixture-of-Head Attention...\n         ✓ Full abstract: 214 words\n      📖 BenTo: Benchmark Task Reduction with In-Context Transferabil...\n         ✓ Full abstract: 133 words\n      📖 PopAlign: Diversifying Contrasting Patterns for a More Compr...\n         ✓ Full abstract: 154 words\n      📖 A Comparative Study on Reasoning Patterns of OpenAI's o1 Mod...\n         ✓ Full abstract: 230 words\n      Progress: 15/34 papers processed\n      📖 A Unified View of Delta Parameter Editing in Post-Trained La...\n         ✓ Full abstract: 189 words\n      📖 FlatQuant: Flatness Matters for LLM Quantization...\n         ✓ Full abstract: 204 words\n      📖 VidPanos: Generative Panoramic Videos from Casual Panning Vi...\n         ✓ Full abstract: 190 words\n      📖 Do LLMs Have Political Correctness? Analyzing Ethical Biases...\n         ✓ Full abstract: 235 words\n      📖 Can MLLMs Understand the Deep Implication Behind Chinese Ima...\n         ✓ Full abstract: 270 words\n      Progress: 20/34 papers processed\n      📖 Retrospective Learning from Interactions...\n         ✓ Full abstract: 151 words\n      📖 Failing Forward: Improving Generative Error Correction for A...\n         ✓ Full abstract: 211 words\n      📖 Remember, Retrieve and Generate: Understanding Infinite Visu...\n         ✓ Full abstract: 220 words\n      📖 MuVi: Video-to-Music Generation with Semantic Alignment and ...\n         ✓ Full abstract: 168 words\n      📖 MedMobile: A mobile-sized language model with expert-level c...\n         ✓ Full abstract: 112 words\n      Progress: 25/34 papers processed\n      📖 γ-MoD: Exploring Mixture-of-Depth Adaptation for Multimodal ...\n         ❌ Request error: 429 Client Error: Too Many Requests for url: https://huggingface.co/papers/2410.13859\n         ⚠️ Detail page failed, using preview\n      📖 LoLDU: Low-Rank Adaptation via Lower-Diag-Upper Decompositio...\n         ❌ Request error: 429 Client Error: Too Many Requests for url: https://huggingface.co/papers/2410.13618\n         ⚠️ Detail page failed, using preview\n      📖 Open Materials 2024 (OMat24) Inorganic Materials Dataset and...\n         ❌ Request error: 429 Client Error: Too Many Requests for url: https://huggingface.co/papers/2410.12771\n         ⚠️ Detail page failed, using preview\n      📖 Long-LRM: Long-sequence Large Reconstruction Model for Wide-...\n         ❌ Request error: 429 Client Error: Too Many Requests for url: https://huggingface.co/papers/2410.12781\n         ⚠️ Detail page failed, using preview\n      📖 Minimum Tuning to Unlock Long Output from LLMs with High Qua...\n         ❌ Request error: 429 Client Error: Too Many Requests for url: https://huggingface.co/papers/2410.10210\n         ⚠️ Detail page failed, using preview\n      📖 Toward Guidance-Free AR Visual Generation via Condition Cont...\n         ❌ Request error: 429 Client Error: Too Many Requests for url: https://huggingface.co/papers/2410.09347\n         ⚠️ Detail page failed, using preview\n      📖 AERO: Softmax-Only LLMs for Efficient Private Inference...\n         ❌ Request error: 429 Client Error: Too Many Requests for url: https://huggingface.co/papers/2410.13060\n         ⚠️ Detail page failed, using preview\n      📖 TransAgent: Transfer Vision-Language Foundation Models with\n...\n         ❌ Request error: 429 Client Error: Too Many Requests for url: https://huggingface.co/papers/2410.12183\n         ⚠️ Detail page failed, using preview\n      📖 SBI-RAG: Enhancing Math Word Problem Solving for Students th...\n         ❌ Request error: 429 Client Error: Too Many Requests for url: https://huggingface.co/papers/2410.13293\n         ⚠️ Detail page failed, using preview\n✓ 2024-10-20: 25 papers\n   ❌ Request error for 2024-10-21: 429 Client Error: Too Many Requests for url: https://huggingface.co/papers/date/2024-10-21\n○ 2024-10-21: no papers\n   ❌ Request error for 2024-10-22: 429 Client Error: Too Many Requests for url: https://huggingface.co/papers/date/2024-10-22\n○ 2024-10-22: no papers\n   ❌ Request error for 2024-10-23: 429 Client Error: Too Many Requests for url: https://huggingface.co/papers/date/2024-10-23\n○ 2024-10-23: no papers\n   ❌ Request error for 2024-10-24: 429 Client Error: Too Many Requests for url: https://huggingface.co/papers/date/2024-10-24\n○ 2024-10-24: no papers\n\n────────────────────────────────────────────────────────────────────────────────\n📊 Progress: 10 days, 156 papers total\n────────────────────────────────────────────────────────────────────────────────\n\n   ❌ Request error for 2024-10-25: 429 Client Error: Too Many Requests for url: https://huggingface.co/papers/date/2024-10-25\n○ 2024-10-25: no papers\n      📖 Breaking the Memory Barrier: Near Infinite Batch Size Scalin...\n         ✓ Full abstract: 183 words\n      📖 Can Knowledge Editing Really Correct Hallucinations?...\n         ✓ Full abstract: 223 words\n      📖 LOGO -- Long cOntext aliGnment via efficient preference Opti...\n         ✓ Full abstract: 207 words\n      📖 Unleashing Reasoning Capability of LLMs via Scalable Questio...\n         ✓ Full abstract: 199 words\n      📖 Framer: Interactive Frame Interpolation...\n         ✓ Full abstract: 189 words\n      Progress: 5/29 papers processed\n      📖 Unbounded: A Generative Infinite Game of Character Life Simu...\n         ✓ Full abstract: 209 words\n      📖 Distill Visual Chart Reasoning Ability from LLMs to MLLMs...\n         ✓ Full abstract: 193 words\n      📖 Skywork-Reward: Bag of Tricks for Reward Modeling in LLMs...\n         ✓ Full abstract: 110 words\n      📖 Steering Knowledge Selection Behaviours in LLMs via SAE-Base...\n         ✓ Full abstract: 182 words\n      📖 Why Does the Effective Context Length of LLMs Fall Short?...\n         ✓ Full abstract: 172 words\n      Progress: 10/29 papers processed\n      📖 Taipan: Efficient and Expressive State Space Language Models...\n         ✓ Full abstract: 154 words\n      📖 SMITE: Segment Me In TimE...\n         ✓ Full abstract: 92 words\n      📖 MotionCLR: Motion Generation and Training-free Editing via U...\n         ✓ Full abstract: 191 words\n      📖 WAFFLE: Multi-Modal Model for Automated Front-End Developmen...\n         ✓ Full abstract: 159 words\n      📖 CAMEL-Bench: A Comprehensive Arabic LMM Benchmark...\n         ✓ Full abstract: 192 words\n      Progress: 15/29 papers processed\n      📖 DeCoRe: Decoding by Contrasting Retrieval Heads to Mitigate\n...\n         ✓ Full abstract: 161 words\n      📖 CCI3.0-HQ: a large-scale Chinese dataset of high quality des...\n         ✓ Full abstract: 101 words\n      📖 Stable Consistency Tuning: Understanding and Improving Consi...\n         ✓ Full abstract: 168 words\n      📖 Robust Watermarking Using Generative Priors Against Image Ed...\n         ✓ Full abstract: 214 words\n      📖 Value Residual Learning For Alleviating Attention Concentrat...\n         ✓ Full abstract: 186 words\n      Progress: 20/29 papers processed\n      📖 ADEM-VL: Adaptive and Embedded Fusion for Efficient Vision-L...\n         ✓ Full abstract: 257 words\n      📖 Language Models are Symbolic Learners in Arithmetic...\n         ✓ Full abstract: 189 words\n      📖 Should We Really Edit Language Models? On the Evaluation of ...\n         ✓ Full abstract: 219 words\n      📖 The Nature of Mathematical Modeling and Probabilistic Optimi...\n         ✓ Full abstract: 235 words\n      📖 Asynchronous RLHF: Faster and More Efficient Off-Policy RL f...\n         ✓ Full abstract: 203 words\n      Progress: 25/29 papers processed\n      📖 Data Scaling Laws in Imitation Learning for Robotic Manipula...\n         ✓ Full abstract: 222 words\n      📖 ZIP-FIT: Embedding-Free Data Selection via Compression-Based...\n         ✓ Full abstract: 257 words\n      📖 Multi-Draft Speculative Sampling: Canonical Architectures an...\n         ✓ Full abstract: 207 words\n      📖 Pantograph: A Machine-to-Machine Interaction Interface for A...\n         ✓ Full abstract: 154 words\n✓ 2024-10-26: 29 papers\n      📖 Breaking the Memory Barrier: Near Infinite Batch Size Scalin...\n         ✓ Full abstract: 183 words\n      📖 Can Knowledge Editing Really Correct Hallucinations?...\n         ✓ Full abstract: 223 words\n      📖 LOGO -- Long cOntext aliGnment via efficient preference Opti...\n         ✓ Full abstract: 207 words\n      📖 Unleashing Reasoning Capability of LLMs via Scalable Questio...\n         ✓ Full abstract: 199 words\n      📖 Framer: Interactive Frame Interpolation...\n         ✓ Full abstract: 189 words\n      Progress: 5/29 papers processed\n      📖 Unbounded: A Generative Infinite Game of Character Life Simu...\n         ✓ Full abstract: 209 words\n      📖 Distill Visual Chart Reasoning Ability from LLMs to MLLMs...\n         ✓ Full abstract: 193 words\n      📖 Skywork-Reward: Bag of Tricks for Reward Modeling in LLMs...\n         ✓ Full abstract: 110 words\n      📖 Steering Knowledge Selection Behaviours in LLMs via SAE-Base...\n         ✓ Full abstract: 182 words\n      📖 Why Does the Effective Context Length of LLMs Fall Short?...\n         ✓ Full abstract: 172 words\n      Progress: 10/29 papers processed\n      📖 Taipan: Efficient and Expressive State Space Language Models...\n         ✓ Full abstract: 154 words\n      📖 SMITE: Segment Me In TimE...\n         ✓ Full abstract: 92 words\n      📖 MotionCLR: Motion Generation and Training-free Editing via U...\n         ✓ Full abstract: 191 words\n      📖 WAFFLE: Multi-Modal Model for Automated Front-End Developmen...\n         ✓ Full abstract: 159 words\n      📖 CAMEL-Bench: A Comprehensive Arabic LMM Benchmark...\n         ✓ Full abstract: 192 words\n      Progress: 15/29 papers processed\n      📖 DeCoRe: Decoding by Contrasting Retrieval Heads to Mitigate\n...\n         ✓ Full abstract: 161 words\n      📖 CCI3.0-HQ: a large-scale Chinese dataset of high quality des...\n         ✓ Full abstract: 101 words\n      📖 Stable Consistency Tuning: Understanding and Improving Consi...\n         ✓ Full abstract: 168 words\n      📖 Robust Watermarking Using Generative Priors Against Image Ed...\n         ✓ Full abstract: 214 words\n      📖 Value Residual Learning For Alleviating Attention Concentrat...\n         ✓ Full abstract: 186 words\n      Progress: 20/29 papers processed\n      📖 ADEM-VL: Adaptive and Embedded Fusion for Efficient Vision-L...\n         ✓ Full abstract: 257 words\n      📖 Language Models are Symbolic Learners in Arithmetic...\n         ✓ Full abstract: 189 words\n      📖 Should We Really Edit Language Models? On the Evaluation of ...\n         ✓ Full abstract: 219 words\n      📖 The Nature of Mathematical Modeling and Probabilistic Optimi...\n         ✓ Full abstract: 235 words\n      📖 Asynchronous RLHF: Faster and More Efficient Off-Policy RL f...\n         ✓ Full abstract: 203 words\n      Progress: 25/29 papers processed\n      📖 Data Scaling Laws in Imitation Learning for Robotic Manipula...\n         ✓ Full abstract: 222 words\n      📖 ZIP-FIT: Embedding-Free Data Selection via Compression-Based...\n         ✓ Full abstract: 257 words\n      📖 Multi-Draft Speculative Sampling: Canonical Architectures an...\n         ✓ Full abstract: 207 words\n      📖 Pantograph: A Machine-to-Machine Interaction Interface for A...\n         ✓ Full abstract: 154 words\n✓ 2024-10-27: 29 papers\n      📖 ROCKET-1: Master Open-World Interaction with Visual-Temporal...\n         ✓ Full abstract: 216 words\n      📖 Continuous Speech Synthesis using per-token Latent Diffusion...\n         ✓ Full abstract: 139 words\n      📖 Teach Multimodal LLMs to Comprehend Electrocardiographic Ima...\n         ✓ Full abstract: 196 words\n      📖 FasterCache: Training-Free Video Diffusion Model Acceleratio...\n         ✓ Full abstract: 168 words\n      📖 MMAU: A Massive Multi-Task Audio Understanding and Reasoning...\n         ✓ Full abstract: 172 words\n      Progress: 5/16 papers processed\n      📖 Infinity-MM: Scaling Multimodal Performance with Large-Scale...\n         ✓ Full abstract: 109 words\n      📖 Read-ME: Refactorizing LLMs as Router-Decoupled Mixture of E...\n         ✓ Full abstract: 212 words\n      📖 Are LLMs Better than Reported? Detecting Label Errors and Mi...\n         ✓ Full abstract: 218 words\n      📖 Counting Ability of Large Language Models and Impact of Toke...\n         ✓ Full abstract: 233 words\n      📖 Hybrid Preferences: Learning to Route Instances for Human vs...\n         ✓ Full abstract: 283 words\n      Progress: 10/16 papers processed\n      📖 Fictitious Synthetic Data Can Improve LLM Factuality via Pre...\n         ✓ Full abstract: 157 words\n      📖 Analysing the Residual Stream of Language Models Under Knowl...\n         ✓ Full abstract: 204 words\n      📖 Dynamic 3D Gaussian Tracking for Graph-Based Neural Dynamics...\n         ✓ Full abstract: 211 words\n      📖 Reflection-Bench: probing AI intelligence with reflection...\n         ✓ Full abstract: 161 words\n      📖 Mapping the Media Landscape: Predicting Factual Reporting an...\n         ✓ Full abstract: 180 words\n      Progress: 15/16 papers processed\n      📖 Leveraging Skills from Unlabeled Prior Data for Efficient On...\n         ✓ Full abstract: 189 words\n✓ 2024-10-28: 16 papers\n      📖 GPT-4o System Card...\n         ✓ Full abstract: 217 words\n      📖 Bielik 7B v0.1: A Polish Language Model -- Development, Insi...\n         ✓ Full abstract: 146 words\n      📖 A Survey of Small Language Models...\n         ✓ Full abstract: 133 words\n      📖 AgentStore: Scalable Integration of Heterogeneous Agents As ...\n         ✓ Full abstract: 195 words\n      📖 Document Parsing Unveiled: Techniques, Challenges, and Prosp...\n         ✓ Full abstract: 155 words\n      Progress: 5/21 papers processed\n      📖 MarDini: Masked Autoregressive Diffusion for Video Generatio...\n         ✓ Full abstract: 175 words\n      📖 LongReward: Improving Long-context Large Language Models wit...\n         ✓ Full abstract: 163 words\n      📖 COAT: Compressing Optimizer states and Activation for Memory...\n         ✓ Full abstract: 210 words\n      📖 DreamClear: High-Capacity Real-World Image Restoration with ...\n         ✓ Full abstract: 230 words\n      📖 GrounDiT: Grounding Diffusion Transformers via Noisy Patch\n ...\n         ✓ Full abstract: 209 words\n      Progress: 10/21 papers processed\n      📖 Vision Search Assistant: Empower Vision-Language Models as M...\n         ✓ Full abstract: 190 words\n      📖 Fast Best-of-N Decoding via Speculative Rejection...\n         ✓ Full abstract: 162 words\n      📖 LARP: Tokenizing Videos with a Learned Autoregressive Genera...\n         ✓ Full abstract: 237 words\n      📖 EoRA: Training-free Compensation for Compressed LLM with Eig...\n         ✓ Full abstract: 215 words\n      📖 Relaxed Recursive Transformers: Effective Parameter Sharing ...\n         ✓ Full abstract: 223 words\n      Progress: 15/21 papers processed\n      📖 VideoWebArena: Evaluating Long Context Multimodal Agents wit...\n         ✓ Full abstract: 228 words\n      📖 Neural Fields in Robotics: A Survey...\n         ✓ Full abstract: 209 words\n      📖 Dialog2Flow: Pre-training Soft-Contrastive Action-Driven Sen...\n         ✓ Full abstract: 198 words\n      📖 Language Models And A Second Opinion Use Case: The Pocket Pr...\n         ✓ Full abstract: 258 words\n      📖 Leveraging Locality to Boost Sample Efficiency in Robotic Ma...\n         ✓ Full abstract: 164 words\n      Progress: 20/21 papers processed\n      📖 Bi-Level Motion Imitation for Humanoid Robots...\n         ❌ Request error: 429 Client Error: Too Many Requests for url: https://huggingface.co/papers/2410.01968\n         ⚠️ Detail page failed, using preview\n✓ 2024-10-29: 20 papers\n   ❌ Request error for 2024-10-30: 429 Client Error: Too Many Requests for url: https://huggingface.co/papers/date/2024-10-30\n○ 2024-10-30: no papers\n   ❌ Request error for 2024-10-31: 429 Client Error: Too Many Requests for url: https://huggingface.co/papers/date/2024-10-31\n○ 2024-10-31: no papers\n   ❌ Request error for 2024-11-01: 429 Client Error: Too Many Requests for url: https://huggingface.co/papers/date/2024-11-01\n○ 2024-11-01: no papers\n   ❌ Request error for 2024-11-02: 429 Client Error: Too Many Requests for url: https://huggingface.co/papers/date/2024-11-01\n○ 2024-11-02: no papers\n   ❌ Request error for 2024-11-03: 429 Client Error: Too Many Requests for url: https://huggingface.co/papers/date/2024-11-03\n○ 2024-11-03: no papers\n\n────────────────────────────────────────────────────────────────────────────────\n📊 Progress: 20 days, 250 papers total\n────────────────────────────────────────────────────────────────────────────────\n\n   ❌ Request error for 2024-11-04: 429 Client Error: Too Many Requests for url: https://huggingface.co/papers/date/2024-11-04\n○ 2024-11-04: no papers\n   ❌ Request error for 2024-11-05: 429 Client Error: Too Many Requests for url: https://huggingface.co/papers/date/2024-11-05\n○ 2024-11-05: no papers\n   ❌ Request error for 2024-11-06: 429 Client Error: Too Many Requests for url: https://huggingface.co/papers/date/2024-11-06\n○ 2024-11-06: no papers\n   ❌ Request error for 2024-11-07: 429 Client Error: Too Many Requests for url: https://huggingface.co/papers/date/2024-11-07\n○ 2024-11-07: no papers\n   ❌ Request error for 2024-11-08: 429 Client Error: Too Many Requests for url: https://huggingface.co/papers/date/2024-11-08\n○ 2024-11-08: no papers\n      📖 OpenCoder: The Open Cookbook for Top-Tier Code Large Languag...\n         ✓ Full abstract: 237 words\n      📖 BitNet a4.8: 4-bit Activations for 1-bit LLMs...\n         ✓ Full abstract: 136 words\n      📖 DimensionX: Create Any 3D and 4D Scenes from a Single Image ...\n         ✓ Full abstract: 201 words\n      📖 Mixture-of-Transformers: A Sparse and Scalable Architecture ...\n         ✓ Full abstract: 231 words\n      📖 M3DocRAG: Multi-modal Retrieval is What You Need for Multi-p...\n         ✓ Full abstract: 262 words\n      Progress: 5/16 papers processed\n      📖 Analyzing The Language of Visual Tokens...\n         ✓ Full abstract: 207 words\n      📖 VideoGLaMM: A Large Multimodal Model for Pixel-Level Visual ...\n         ✓ Full abstract: 184 words\n      📖 Thanos: Enhancing Conversational Agents with Skill-of-Mind-I...\n         ✓ Full abstract: 179 words\n      📖 SVDQunat: Absorbing Outliers by Low-Rank Components for 4-Bi...\n         ✓ Full abstract: 277 words\n      📖 Needle Threading: Can LLMs Follow Threads through Near-Milli...\n         ✓ Full abstract: 207 words\n      Progress: 10/16 papers processed\n      📖 DynaMem: Online Dynamic Spatio-Semantic Memory for Open Worl...\n         ✓ Full abstract: 204 words\n      📖 RetrieveGPT: Merging Prompts and Mathematical Models for Enh...\n         ✓ Full abstract: 186 words\n      📖 M3SciQA: A Multi-Modal Multi-Document Scientific QA Benchmar...\n         ✓ Full abstract: 159 words\n      📖 SG-I2V: Self-Guided Trajectory Control in Image-to-Video Gen...\n         ✓ Full abstract: 141 words\n      📖 GazeGen: Gaze-Driven User Interaction for Visual Content Gen...\n         ✓ Full abstract: 289 words\n      Progress: 15/16 papers processed\n      📖 Diff-2-in-1: Bridging Generation and Dense Perception with D...\n         ✓ Full abstract: 159 words\n✓ 2024-11-09: 16 papers\n      📖 StdGEN: Semantic-Decomposed 3D Character Generation from Sin...\n         ✓ Full abstract: 186 words\n✓ 2024-11-10: 1 papers\n      📖 LLM2CLIP: Powerful Language Model Unlock Richer Visual Repre...\n         ✓ Full abstract: 265 words\n      📖 Language Models are Hidden Reasoners: Unlocking Latent Reaso...\n         ✓ Full abstract: 162 words\n      📖 Balancing Pipeline Parallelism with Vocabulary Parallelism...\n         ✓ Full abstract: 199 words\n      📖 DELIFT: Data Efficient Language model Instruction Fine Tunin...\n         ✓ Full abstract: 190 words\n      📖 CAD-MLLM: Unifying Multimodality-Conditioned CAD Generation ...\n         ✓ Full abstract: 221 words\n      Progress: 5/10 papers processed\n      📖 Parameter-Efficient Fine-Tuning of Large Language Models for...\n         ✓ Full abstract: 211 words\n      📖 The Semantic Hub Hypothesis: Language Models Share Semantic\n...\n         ✓ Full abstract: 193 words\n      📖 Golden Touchstone: A Comprehensive Bilingual Benchmark for E...\n         ✓ Full abstract: 233 words\n      📖 RaVL: Discovering and Mitigating Spurious Correlations in Fi...\n         ✓ Full abstract: 191 words\n      📖 Improving the detection of technical debt in Java source cod...\n         ✓ Full abstract: 278 words\n      Progress: 10/10 papers processed\n✓ 2024-11-11: 10 papers\n      📖 Add-it: Training-Free Object Insertion in Images With Pretra...\n         ✓ Full abstract: 155 words\n      📖 OmniEdit: Building Image Editing Generalist Models Through S...\n         ✓ Full abstract: 259 words\n      📖 M-Longdoc: A Benchmark For Multimodal Super-Long Document Un...\n         ✓ Full abstract: 200 words\n      📖 Chinese SimpleQA: A Chinese Factuality Evaluation for Large ...\n         ✓ Full abstract: 164 words\n      📖 Edify Image: High-Quality Image Generation with Pixel Space ...\n         ✓ Full abstract: 71 words\n      Progress: 5/15 papers processed\n      📖 Watermark Anything with Localized Messages...\n         ✓ Full abstract: 175 words\n      📖 IOPO: Empowering LLMs with Complex Instruction Following via...\n         ✓ Full abstract: 164 words\n      📖 GitChameleon: Unmasking the Version-Switching Capabilities o...\n         ✓ Full abstract: 213 words\n      📖 Autoregressive Models in Vision: A Survey...\n         ✓ Full abstract: 238 words\n      📖 Game-theoretic LLM: Agent Workflow for Negotiation Games...\n         ✓ Full abstract: 238 words\n      Progress: 10/15 papers processed\n      📖 Counterfactual Generation from Language Models...\n         ✓ Full abstract: 194 words\n      📖 KMM: Key Frame Mask Mamba for Extended Motion Generation...\n         ✓ Full abstract: 203 words\n      📖 Ablation is Not Enough to Emulate DPO: How Neuron Dynamics D...\n         ✓ Full abstract: 160 words\n      📖 Energy Efficient Protein Language Models: Leveraging Small L...\n         ✓ Full abstract: 278 words\n      📖 NeKo: Toward Post Recognition Generative Correction Large La...\n         ✓ Full abstract: 178 words\n      Progress: 15/15 papers processed\n✓ 2024-11-12: 15 papers\n      📖 Stronger Models are NOT Stronger Teachers for Instruction Tu...\n         ✓ Full abstract: 179 words\n      📖 JanusFlow: Harmonizing Autoregression and Rectified Flow for...\n         ✓ Full abstract: 130 words\n      📖 SAMPart3D: Segment Any Part in 3D Objects...\n         ✓ Full abstract: 246 words\n      📖 BLIP3-KALE: Knowledge Augmented Large-Scale Dense Captions...\n         ✓ Full abstract: 100 words\n      📖 Scaling Properties of Diffusion Models for Perceptual Tasks...\n         ✓ Full abstract: 103 words\n      Progress: 5/8 papers processed\n      📖 Wavelet Latent Diffusion (Wala): Billion-Parameter 3D Genera...\n         ✓ Full abstract: 198 words\n      📖 Acoustic Volume Rendering for Neural Impulse Response Fields...\n         ✓ Full abstract: 180 words\n      📖 Hardware and Software Platform Inference...\n         ✓ Full abstract: 265 words\n✓ 2024-11-13: 8 papers\n\n────────────────────────────────────────────────────────────────────────────────\n📊 Progress: 30 days, 300 papers total\n────────────────────────────────────────────────────────────────────────────────\n\n      📖 Large Language Models Can Self-Improve in Long-context Reaso...\n         ✓ Full abstract: 169 words\n      📖 EgoVid-5M: A Large-Scale Video-Action Dataset for Egocentric...\n         ✓ Full abstract: 200 words\n      📖 Direct Preference Optimization Using Sparse Feature-Level Co...\n         ✓ Full abstract: 143 words\n      📖 CamemBERT 2.0: A Smarter French Language Model Aged to Perfe...\n         ✓ Full abstract: 226 words\n      📖 Can sparse autoencoders be used to decompose and interpret s...\n         ✓ Full abstract: 112 words\n      Progress: 5/7 papers processed\n      📖 PerceiverS: A Multi-Scale Perceiver with Effective Segmentat...\n         ✓ Full abstract: 125 words\n      📖 Motion Control for Enhanced Complex Action Video Generation...\n         ✓ Full abstract: 190 words\n✓ 2024-11-14: 7 papers\n      📖 MagicQuill: An Intelligent Interactive Image Editing System...\n         ✓ Full abstract: 127 words\n      📖 LLaMA-Mesh: Unifying 3D Mesh Generation with Language Models...\n         ✓ Full abstract: 194 words\n      📖 Cut Your Losses in Large-Vocabulary Language Models...\n         ✓ Full abstract: 235 words\n      📖 ClinicalBench: Can LLMs Beat Traditional ML Models in Clinic...\n         ✓ Full abstract: 184 words\n      📖 Inconsistencies In Consistency Models: Better ODE Solving Do...\n         ✓ Full abstract: 162 words\n      Progress: 5/7 papers processed\n      📖 Sharingan: Extract User Action Sequence from Desktop Recordi...\n         ✓ Full abstract: 181 words\n      📖 Hermes: A Large Language Model Framework on the Journey to A...\n         ✓ Full abstract: 166 words\n✓ 2024-11-15: 7 papers\n      📖 MagicQuill: An Intelligent Interactive Image Editing System...\n         ✓ Full abstract: 127 words\n      📖 LLaMA-Mesh: Unifying 3D Mesh Generation with Language Models...\n         ✓ Full abstract: 194 words\n      📖 Cut Your Losses in Large-Vocabulary Language Models...\n         ✓ Full abstract: 235 words\n      📖 ClinicalBench: Can LLMs Beat Traditional ML Models in Clinic...\n         ✓ Full abstract: 184 words\n      📖 Inconsistencies In Consistency Models: Better ODE Solving Do...\n         ✓ Full abstract: 162 words\n      Progress: 5/7 papers processed\n      📖 Sharingan: Extract User Action Sequence from Desktop Recordi...\n         ✓ Full abstract: 181 words\n      📖 Hermes: A Large Language Model Framework on the Journey to A...\n         ✓ Full abstract: 166 words\n✓ 2024-11-16: 7 papers\n      📖 LLaVA-o1: Let Vision Language Models Reason Step-by-Step...\n         ✓ Full abstract: 179 words\n      📖 GaussianAnything: Interactive Point Cloud Latent Diffusion f...\n         ✓ Full abstract: 139 words\n✓ 2024-11-17: 2 papers\n      📖 Region-Aware Text-to-Image Generation via Hard Binding and S...\n         ✓ Full abstract: 194 words\n      📖 The Dawn of GUI Agent: A Preliminary Case Study with Claude ...\n         ✓ Full abstract: 172 words\n      📖 Number it: Temporal Grounding Videos like Flipping Manga...\n         ✓ Full abstract: 170 words\n      📖 Xmodel-1.5: An 1B-scale Multilingual LLM...\n         ✓ Full abstract: 120 words\n      📖 MARS: Unleashing the Power of Variance Reduction for Trainin...\n         ✓ Full abstract: 173 words\n      Progress: 5/5 papers processed\n✓ 2024-11-18: 5 papers\n      📖 Generative World Explorer...\n         ✓ Full abstract: 196 words\n      📖 BlueLM-V-3B: Algorithm and System Co-Design for Multimodal L...\n         ✓ Full abstract: 212 words\n      📖 AnimateAnything: Consistent and Controllable Animation for V...\n         ✓ Full abstract: 121 words\n      📖 Search, Verify and Feedback: Towards Next Generation Post-tr...\n         ✓ Full abstract: 137 words\n      📖 Top-nσ: Not All Logits Are You Need...\n         ✓ Full abstract: 141 words\n      Progress: 5/16 papers processed\n      📖 Drowning in Documents: Consequences of Scaling Reranker Infe...\n         ✓ Full abstract: 108 words\n      📖 FitDiT: Advancing the Authentic Garment Details for High-fid...\n         ✓ Full abstract: 204 words\n      📖 SlimLM: An Efficient Small Language Model for On-Device Docu...\n         ✓ Full abstract: 166 words\n      📖 StableV2V: Stablizing Shape Consistency in Video-to-Video Ed...\n         ✓ Full abstract: 175 words\n      📖 Awaker2.5-VL: Stably Scaling MLLMs with Parameter-Efficient ...\n         ❌ Request error: 429 Client Error: Too Many Requests for url: https://huggingface.co/papers/2411.10669\n         ⚠️ Detail page failed, using preview\n      📖 Adaptive Decoding via Latent Preference Optimization...\n         ❌ Request error: 429 Client Error: Too Many Requests for url: https://huggingface.co/papers/2411.09661\n         ⚠️ Detail page failed, using preview\n      📖 LLäMmlein: Compact and Competitive German-Only Language Mode...\n         ❌ Request error: 429 Client Error: Too Many Requests for url: https://huggingface.co/papers/2411.11171\n         ⚠️ Detail page failed, using preview\n      📖 SmoothCache: A Universal Inference Acceleration Technique fo...\n         ❌ Request error: 429 Client Error: Too Many Requests for url: https://huggingface.co/papers/2411.10510\n         ⚠️ Detail page failed, using preview\n      📖 VeGaS: Video Gaussian Splatting...\n         ❌ Request error: 429 Client Error: Too Many Requests for url: https://huggingface.co/papers/2411.11024\n         ⚠️ Detail page failed, using preview\n      📖 Comprehensive and Practical Evaluation of Retrieval-Augmente...\n         ❌ Request error: 429 Client Error: Too Many Requests for url: https://huggingface.co/papers/2411.09213\n         ⚠️ Detail page failed, using preview\n      📖 Evaluating the role of `Constitutions' for learning from AI ...\n         ❌ Request error: 429 Client Error: Too Many Requests for url: https://huggingface.co/papers/2411.10168\n         ⚠️ Detail page failed, using preview\n✓ 2024-11-19: 9 papers\n   ❌ Request error for 2024-11-20: 429 Client Error: Too Many Requests for url: https://huggingface.co/papers/date/2024-11-20\n○ 2024-11-20: no papers\n   ❌ Request error for 2024-11-21: 429 Client Error: Too Many Requests for url: https://huggingface.co/papers/date/2024-11-21\n○ 2024-11-21: no papers\n   ❌ Request error for 2024-11-22: 429 Client Error: Too Many Requests for url: https://huggingface.co/papers/date/2024-11-22\n○ 2024-11-22: no papers\n   ❌ Request error for 2024-11-23: 429 Client Error: Too Many Requests for url: https://huggingface.co/papers/date/2024-11-23\n○ 2024-11-23: no papers\n\n────────────────────────────────────────────────────────────────────────────────\n📊 Progress: 40 days, 337 papers total\n────────────────────────────────────────────────────────────────────────────────\n\n      📖 Style-Friendly SNR Sampler for Style-Driven Generation...\n         ✓ Full abstract: 144 words\n✓ 2024-11-24: 1 papers\n      📖 TÜLU 3: Pushing Frontiers in Open Language Model Post-Traini...\n         ✓ Full abstract: 244 words\n      📖 OminiControl: Minimal and Universal Control for Diffusion Tr...\n         ✓ Full abstract: 196 words\n      📖 Material Anything: Generating Materials for Any 3D Object vi...\n         ✓ Full abstract: 136 words\n      📖 Large-Scale Text-to-Image Model with Inpainting is a Zero-Sh...\n         ✓ Full abstract: 194 words\n      📖 MyTimeMachine: Personalized Facial Age Transformation...\n         ✓ Full abstract: 214 words\n      Progress: 5/16 papers processed\n      📖 A Flexible Large Language Models Guardrail Development Metho...\n         ✓ Full abstract: 171 words\n      📖 Large Multi-modal Models Can Interpret Features in Large Mul...\n         ✓ Full abstract: 172 words\n      📖 BALROG: Benchmarking Agentic LLM and VLM Reasoning On Games...\n         ✓ Full abstract: 206 words\n      📖 VideoEspresso: A Large-Scale Chain-of-Thought Dataset for Fi...\n         ✓ Full abstract: 205 words\n      📖 Efficient Long Video Tokenization via Coordinated-based Patc...\n         ✓ Full abstract: 203 words\n      Progress: 10/16 papers processed\n      📖 Novel View Extrapolation with Video Diffusion Priors...\n         ✓ Full abstract: 165 words\n      📖 VideoRepair: Improving Text-to-Video Generation via Misalign...\n         ✓ Full abstract: 190 words\n      📖 WildLMa: Long Horizon Loco-Manipulation in the Wild...\n         ✓ Full abstract: 191 words\n      📖 The Impossible Test: A 2024 Unsolvable Dataset and A Chance ...\n         ✓ Full abstract: 238 words\n      📖 Adapting Vision Foundation Models for Robust Cloud Segmentat...\n         ✓ Full abstract: 191 words\n      Progress: 15/16 papers processed\n      📖 One to rule them all: natural language to bind communication...\n         ✓ Full abstract: 268 words\n✓ 2024-11-25: 16 papers\n      📖 Star Attention: Efficient LLM Inference over Long Sequences...\n         ✓ Full abstract: 109 words\n      📖 O1 Replication Journey -- Part 2: Surpassing O1-preview thro...\n         ✓ Full abstract: 251 words\n      📖 From Generation to Judgment: Opportunities and Challenges of...\n         ✓ Full abstract: 167 words\n      📖 GMAI-VL & GMAI-VL-5.5M: A Large Vision-Language Model and A\n...\n         ✓ Full abstract: 178 words\n      📖 Reflections from the 2024 Large Language Model (LLM) Hackath...\n         ✓ Full abstract: 214 words\n      Progress: 5/24 papers processed\n      📖 One Diffusion to Generate Them All...\n         ✓ Full abstract: 178 words\n      📖 MH-MoE:Multi-Head Mixture-of-Experts...\n         ✓ Full abstract: 88 words\n      📖 Interactive Medical Image Segmentation: A Benchmark Dataset ...\n         ✓ Full abstract: 201 words\n      📖 SegBook: A Simple Baseline and Cookbook for Volumetric Medic...\n         ✓ Full abstract: 239 words\n      📖 DreamRunner: Fine-Grained Storytelling Video Generation with...\n         ✓ Full abstract: 229 words\n      Progress: 10/24 papers processed\n      📖 Cautious Optimizers: Improving Training with One Line of Cod...\n         ✓ Full abstract: 115 words\n      📖 Factorized Visual Tokenization and Generation...\n         ✓ Full abstract: 200 words\n      📖 VisualLens: Personalization through Visual History...\n         ✓ Full abstract: 154 words\n      📖 TEXGen: a Generative Diffusion Model for Mesh Textures...\n         ✓ Full abstract: 163 words\n      📖 Knowledge Transfer Across Modalities with Natural Language S...\n         ✓ Full abstract: 179 words\n      Progress: 15/24 papers processed\n      📖 From CISC to RISC: language-model guided assembly transpilat...\n         ✓ Full abstract: 187 words\n      📖 All Languages Matter: Evaluating LMMs on Culturally Diverse ...\n         ✓ Full abstract: 234 words\n      📖 SplatFlow: Multi-View Rectified Flow Model for 3D Gaussian S...\n         ✓ Full abstract: 198 words\n      📖 LLMs Do Not Think Step-by-step In Implicit Reasoning...\n         ✓ Full abstract: 151 words\n      📖 Predicting Emergent Capabilities by Finetuning...\n         ✓ Full abstract: 220 words\n      Progress: 20/24 papers processed\n      📖 Best of Both Worlds: Advantages of Hybrid Graph Sequence Mod...\n         ✓ Full abstract: 271 words\n      📖 DreamMix: Decoupling Object Attributes for Enhanced Editabil...\n         ✓ Full abstract: 153 words\n      📖 Find Any Part in 3D...\n         ✓ Full abstract: 156 words\n      📖 Edge Weight Prediction For Category-Agnostic Pose Estimation...\n         ✓ Full abstract: 164 words\n✓ 2024-11-26: 24 papers\n      📖 ShowUI: One Vision-Language-Action Model for GUI Visual Agen...\n         ✓ Full abstract: 226 words\n      📖 ROICtrl: Boosting Instance Control for Visual Generation...\n         ✓ Full abstract: 194 words\n      📖 Identity-Preserving Text-to-Video Generation by Frequency De...\n         ✓ Full abstract: 249 words\n      📖 Pathways on the Image Manifold: Image Editing via Video Gene...\n         ✓ Full abstract: 138 words\n      📖 MARVEL-40M+: Multi-Level Visual Elaboration for High-Fidelit...\n         ✓ Full abstract: 175 words\n      Progress: 5/20 papers processed\n      📖 Interleaved Scene Graph for Interleaved Text-and-Image Gener...\n         ✓ Full abstract: 228 words\n      📖 MME-Survey: A Comprehensive Survey on Evaluation of Multimod...\n         ✓ Full abstract: 206 words\n      📖 Rethinking Token Reduction in MLLMs: Towards a Unified Parad...\n         ✓ Full abstract: 155 words\n      📖 SketchAgent: Language-Driven Sequential Sketch Generation...\n         ✓ Full abstract: 175 words\n      📖 Low-Bit Quantization Favors Undertrained LLMs: Scaling Laws ...\n         ✓ Full abstract: 226 words\n      Progress: 10/20 papers processed\n      📖 SAR3D: Autoregressive 3D Object Generation and Understanding...\n         ✓ Full abstract: 160 words\n      📖 VLRewardBench: A Challenging Benchmark for Vision-Language G...\n         ✓ Full abstract: 211 words\n      📖 SALOVA: Segment-Augmented Long Video Assistant for Targeted ...\n         ✓ Full abstract: 211 words\n      📖 Learning 3D Representations from Procedural 3D Programs...\n         ✓ Full abstract: 131 words\n      📖 FINECAPTION: Compositional Image Captioning Focusing on Wher...\n         ✓ Full abstract: 200 words\n      Progress: 15/20 papers processed\n      📖 AnchorCrafter: Animate CyberAnchors Saling Your Products via...\n         ✓ Full abstract: 175 words\n      📖 EfficientViM: Efficient Vision Mamba with Hidden State Mixer...\n         ✓ Full abstract: 199 words\n      📖 MolReFlect: Towards In-Context Fine-grained Alignments betwe...\n         ✓ Full abstract: 247 words\n      📖 Controllable Human Image Generation with Personalized Multi-...\n         ✓ Full abstract: 196 words\n      📖 Visual Counter Turing Test (VCT^2): Discovering the Challeng...\n         ✓ Full abstract: 242 words\n      Progress: 20/20 papers processed\n✓ 2024-11-27: 20 papers\n      📖 CAT4D: Create Anything in 4D with Multi-View Video Diffusion...\n         ✓ Full abstract: 108 words\n      📖 Large Language Model-Brained GUI Agents: A Survey...\n         ✓ Full abstract: 271 words\n      📖 Diffusion Self-Distillation for Zero-Shot Customized Image G...\n         ✓ Full abstract: 163 words\n      📖 3D Convex Splatting: Radiance Field Rendering with 3D Smooth...\n         ✓ Full abstract: 219 words\n      📖 DiffusionDrive: Truncated Diffusion Model for End-to-End Aut...\n         ✓ Full abstract: 204 words\n      Progress: 5/19 papers processed\n      📖 Make-It-Animatable: An Efficient Framework for Authoring Ani...\n         ✓ Full abstract: 184 words\n      📖 UniPose: A Unified Multimodal Framework for Human Pose Compr...\n         ✓ Full abstract: 177 words\n      📖 Collaborative Decoding Makes Visual Auto-Regressive Modeling...\n         ✓ Full abstract: 230 words\n      📖 DreamCache: Finetuning-Free Lightweight Personalized Image G...\n         ✓ Full abstract: 125 words\n      📖 ChatRex: Taming Multimodal LLM for Joint Perception and Unde...\n         ✓ Full abstract: 204 words\n      Progress: 10/19 papers processed\n      📖 Video-Guided Foley Sound Generation with Multimodal Controls...\n         ✓ Full abstract: 163 words\n      📖 Omegance: A Single Parameter for Various Granularities in\n  ...\n         ✓ Full abstract: 153 words\n      📖 Draft Model Knows When to Stop: A Self-Verification Length P...\n         ✓ Full abstract: 164 words\n      📖 VideoLLM Knows When to Speak: Enhancing Time-Sensitive Video...\n         ✓ Full abstract: 264 words\n      📖 Optimizing Brain Tumor Segmentation with MedNeXt: BraTS 2024...\n         ✓ Full abstract: 214 words\n      Progress: 15/19 papers processed\n      📖 Adaptive Blind All-in-One Image Restoration...\n         ✓ Full abstract: 208 words\n      📖 Training and Evaluating Language Models with Template-based ...\n         ✓ Full abstract: 214 words\n      📖 Edit Away and My Face Will not Stay: Personal Biometric Defe...\n         ✓ Full abstract: 169 words\n      📖 Morph: A Motion-free Physics Optimization Framework for Huma...\n         ✓ Full abstract: 159 words\n✓ 2024-11-28: 19 papers\n      📖 Critic-V: VLM Critics Help Catch VLM Errors in Multimodal Re...\n         ✓ Full abstract: 254 words\n      📖 TryOffDiff: Virtual-Try-Off via High-Fidelity Garment Recons...\n         ✓ Full abstract: 164 words\n      📖 ChatGen: Automatic Text-to-Image Generation From FreeStyle C...\n         ✓ Full abstract: 176 words\n      📖 SelfSplat: Pose-Free and 3D Prior-Free Generalizable 3D Gaus...\n         ✓ Full abstract: 179 words\n      📖 Free^2Guide: Gradient-Free Path Integral Control for Enhanci...\n         ✓ Full abstract: 154 words\n      Progress: 5/7 papers processed\n      📖 LongKey: Keyphrase Extraction for Long Documents...\n         ✓ Full abstract: 130 words\n      📖 AfriMed-QA: A Pan-African, Multi-Specialty, Medical Question...\n         ✓ Full abstract: 180 words\n✓ 2024-11-29: 7 papers\n      📖 Critic-V: VLM Critics Help Catch VLM Errors in Multimodal Re...\n         ✓ Full abstract: 254 words\n      📖 TryOffDiff: Virtual-Try-Off via High-Fidelity Garment Recons...\n         ✓ Full abstract: 164 words\n      📖 ChatGen: Automatic Text-to-Image Generation From FreeStyle C...\n         ✓ Full abstract: 176 words\n      📖 SelfSplat: Pose-Free and 3D Prior-Free Generalizable 3D Gaus...\n         ✓ Full abstract: 179 words\n      📖 Free^2Guide: Gradient-Free Path Integral Control for Enhanci...\n         ✓ Full abstract: 154 words\n      Progress: 5/7 papers processed\n      📖 LongKey: Keyphrase Extraction for Long Documents...\n         ❌ Request error: 429 Client Error: Too Many Requests for url: https://huggingface.co/papers/2411.17863\n         ⚠️ Detail page failed, using preview\n      📖 AfriMed-QA: A Pan-African, Multi-Specialty, Medical Question...\n         ❌ Request error: 429 Client Error: Too Many Requests for url: https://huggingface.co/papers/2411.15640\n         ⚠️ Detail page failed, using preview\n✓ 2024-11-30: 5 papers\n   ❌ Request error for 2024-12-01: 429 Client Error: Too Many Requests for url: https://huggingface.co/papers/date/2024-12-01\n○ 2024-12-01: no papers\n   ❌ Request error for 2024-12-02: 429 Client Error: Too Many Requests for url: https://huggingface.co/papers/date/2024-12-02\n○ 2024-12-02: no papers\n      📖 X-Prompt: Towards Universal In-Context Image Generation in\n ...\n         ❌ Request error: 429 Client Error: Too Many Requests for url: https://huggingface.co/papers/2412.01824\n         ⚠️ Detail page failed, using preview\n      📖 FLOAT: Generative Motion Latent Flow Matching for Audio-driv...\n         ❌ Request error: 429 Client Error: Too Many Requests for url: https://huggingface.co/papers/2412.01064\n         ⚠️ Detail page failed, using preview\n      📖 o1-Coder: an o1 Replication for Coding...\n         ❌ Request error: 429 Client Error: Too Many Requests for url: https://huggingface.co/papers/2412.00154\n         ⚠️ Detail page failed, using preview\n      📖 Switti: Designing Scale-Wise Transformers for Text-to-Image ...\n         ❌ Request error: 429 Client Error: Too Many Requests for url: https://huggingface.co/papers/2412.01819\n         ⚠️ Detail page failed, using preview\n      📖 Open-Sora Plan: Open-Source Large Video Generation Model...\n         ❌ Request error: 429 Client Error: Too Many Requests for url: https://huggingface.co/papers/2412.00131\n         ⚠️ Detail page failed, using preview\n      📖 VISTA: Enhancing Long-Duration and High-Resolution Video Und...\n         ❌ Request error: 429 Client Error: Too Many Requests for url: https://huggingface.co/papers/2412.00927\n         ⚠️ Detail page failed, using preview\n      📖 SOLAMI: Social Vision-Language-Action Modeling for Immersive...\n         ❌ Request error: 429 Client Error: Too Many Requests for url: https://huggingface.co/papers/2412.00174\n         ⚠️ Detail page failed, using preview\n      📖 The Well: a Large-Scale Collection of Diverse Physics Simula...\n         ✓ Full abstract: 171 words\n      📖 TAPTRv3: Spatial and Temporal Context Foster Robust Tracking...\n         ✓ Full abstract: 198 words\n      📖 GATE OpenING: A Comprehensive Benchmark for Judging Open-end...\n         ✓ Full abstract: 178 words\n      Progress: 10/29 papers processed\n      📖 Efficient Track Anything...\n         ✓ Full abstract: 281 words\n      📖 Steering Rectified Flow Models in the Vector Field for Contr...\n         ✓ Full abstract: 190 words\n      📖 VLsI: Verbalized Layers-to-Interactions from Large to Small ...\n         ✓ Full abstract: 179 words\n      📖 TinyFusion: Diffusion Transformers Learned Shallow...\n         ✓ Full abstract: 194 words\n      📖 INCLUDE: Evaluating Multilingual Language Understanding with...\n         ✓ Full abstract: 146 words\n      Progress: 15/29 papers processed\n      📖 WF-VAE: Enhancing Video VAE by Wavelet-Driven Energy Flow fo...\n         ✓ Full abstract: 191 words\n      📖 VLSBench: Unveiling Visual Leakage in Multimodal Safety...\n         ✓ Full abstract: 204 words\n      📖 Long Video Diffusion Generation with Segmented Cross-Attenti...\n         ✓ Full abstract: 157 words\n      📖 Art-Free Generative Models: Art Creation Without Graphic Art...\n         ✓ Full abstract: 102 words\n      📖 VisOnlyQA: Large Vision Language Models Still Struggle with ...\n         ✓ Full abstract: 229 words\n      Progress: 20/29 papers processed\n      📖 PhysGame: Uncovering Physical Commonsense Violations in Game...\n         ✓ Full abstract: 230 words\n      📖 A Simple and Provable Scaling Law for the Test-Time Compute ...\n         ✓ Full abstract: 217 words\n      📖 Collaborative Instance Navigation: Leveraging Agent Self-Dia...\n         ✓ Full abstract: 192 words\n      📖 AMO Sampler: Enhancing Text Rendering with Overshooting...\n         ✓ Full abstract: 191 words\n      📖 World-consistent Video Diffusion with Explicit 3D Modeling...\n         ✓ Full abstract: 158 words\n      Progress: 25/29 papers processed\n      📖 Exploring the Abilities of Large Language Models to Solve Pr...\n         ✓ Full abstract: 164 words\n      📖 HUGSIM: A Real-Time, Photo-Realistic and Closed-Loop Simulat...\n         ✓ Full abstract: 200 words\n      📖 Towards Cross-Lingual Audio Abuse Detection in Low-Resource ...\n         ✓ Full abstract: 132 words\n      📖 Improving speaker verification robustness with synthetic emo...\n         ✓ Full abstract: 192 words\n✓ 2024-12-03: 22 papers\n\n────────────────────────────────────────────────────────────────────────────────\n📊 Progress: 50 days, 451 papers total\n────────────────────────────────────────────────────────────────────────────────\n\n      📖 Critical Tokens Matter: Token-Level Contrastive Estimation E...\n         ✓ Full abstract: 240 words\n      📖 VideoGen-of-Thought: A Collaborative Framework for Multi-Sho...\n         ✓ Full abstract: 252 words\n      📖 MALT: Improving Reasoning with Multi-Agent LLM Training...\n         ✓ Full abstract: 219 words\n      📖 Free Process Rewards without Process Labels...\n         ✓ Full abstract: 302 words\n      📖 AIM: Adaptive Inference of Multi-Modal LLMs via Token Mergin...\n         ✓ Full abstract: 204 words\n      Progress: 5/16 papers processed\n      📖 AV-Odyssey Bench: Can Your Multimodal LLMs Really Understand...\n         ✓ Full abstract: 186 words\n      📖 OCR Hinders RAG: Evaluating the Cascading Impact of OCR on\n ...\n         ✓ Full abstract: 219 words\n      📖 Truth or Mirage? Towards End-to-End Factuality Evaluation wi...\n         ✓ Full abstract: 224 words\n      📖 Motion Prompting: Controlling Video Generation with Motion T...\n         ✓ Full abstract: 196 words\n      📖 OmniCreator: Self-Supervised Unified Generation with Univers...\n         ✓ Full abstract: 197 words\n      Progress: 10/16 papers processed\n      📖 LSceneLLM: Enhancing Large 3D Scene Understanding Using Adap...\n         ✓ Full abstract: 227 words\n      📖 Scaling Image Tokenizers with Grouped Spherical Quantization...\n         ✓ Full abstract: 172 words\n      📖 MaskRIS: Semantic Distortion-aware Data Augmentation for Ref...\n         ✓ Full abstract: 184 words\n      📖 Generating a Low-code Complete Workflow via Task Decompositi...\n         ✓ Full abstract: 219 words\n      📖 A dynamic parallel method for performance optimization on hy...\n         ✓ Full abstract: 98 words\n      Progress: 15/16 papers processed\n      📖 VideoLights: Feature Refinement and Cross-Task Alignment Tra...\n         ✓ Full abstract: 177 words\n✓ 2024-12-04: 16 papers\n      📖 PaliGemma 2: A Family of Versatile VLMs for Transfer...\n         ✓ Full abstract: 167 words\n      📖 SNOOPI: Supercharged One-step Diffusion Distillation with Pr...\n         ✓ Full abstract: 217 words\n      📖 TokenFlow: Unified Image Tokenizer for Multimodal Understand...\n         ✓ Full abstract: 181 words\n      📖 Imagine360: Immersive 360 Video Generation from Perspective ...\n         ✓ Full abstract: 199 words\n      📖 Distilling Diffusion Models to Efficient 3D LiDAR Scene Comp...\n         ✓ Full abstract: 168 words\n      Progress: 5/19 papers processed\n      📖 One Shot, One Talk: Whole-body Talking Avatar from a Single ...\n         ✓ Full abstract: 143 words\n      📖 VideoICL: Confidence-based Iterative In-context Learning for...\n         ✓ Full abstract: 210 words\n      📖 VARCO-VISION: Expanding Frontiers in Korean Vision-Language ...\n         ✓ Full abstract: 120 words\n      📖 MIDI: Multi-Instance Diffusion for Single Image to 3D Scene ...\n         ✓ Full abstract: 167 words\n      📖 NVComposer: Boosting Generative Novel View Synthesis with Mu...\n         ✓ Full abstract: 172 words\n      Progress: 10/19 papers processed\n      📖 NitroFusion: High-Fidelity Single-Step Diffusion through Dyn...\n         ✓ Full abstract: 189 words\n      📖 U-MATH: A University-Level Benchmark for Evaluating Mathemat...\n         ✓ Full abstract: 170 words\n      📖 Video-3D LLM: Learning Position-Aware Video Representation f...\n         ✓ Full abstract: 175 words\n      📖 Surveying the Effects of Quality, Diversity, and Complexity ...\n         ✓ Full abstract: 275 words\n      📖 CleanDIFT: Diffusion Features without Noise...\n         ✓ Full abstract: 151 words\n      Progress: 15/19 papers processed\n      📖 Weighted-Reward Preference Optimization for Implicit Model F...\n         ✓ Full abstract: 189 words\n      📖 Mimir: Improving Video Diffusion Models for Precise Text Und...\n         ✓ Full abstract: 190 words\n      📖 Inst-IT: Boosting Multimodal Instance Understanding via Expl...\n         ✓ Full abstract: 213 words\n      📖 LumiNet: Latent Intrinsics Meets Diffusion Models for Indoor...\n         ✓ Full abstract: 179 words\n✓ 2024-12-05: 19 papers\n      📖 VisionZip: Longer is Better but Not Necessary in Vision Lang...\n         ✓ Full abstract: 198 words\n      📖 Structured 3D Latents for Scalable and Versatile 3D Generati...\n         ✓ Full abstract: 153 words\n      📖 Aguvis: Unified Pure Vision Agents for Autonomous GUI Intera...\n         ✓ Full abstract: 206 words\n      📖 Florence-VL: Enhancing Vision-Language Models with Generativ...\n         ✓ Full abstract: 222 words\n      📖 NVILA: Efficient Frontier Visual Language Models...\n         ✓ Full abstract: 161 words\n      Progress: 5/31 papers processed\n      📖 Evaluating Language Models as Synthetic Data Generators...\n         ✓ Full abstract: 180 words\n      📖 Code-as-Monitor: Constraint-aware Visual Programming for Rea...\n         ✓ Full abstract: 182 words\n      📖 A Noise is Worth Diffusion Guidance...\n         ✓ Full abstract: 162 words\n      📖 MV-Adapter: Multi-view Consistent Image Generation Made Easy...\n         ✓ Full abstract: 227 words\n      📖 AnyDressing: Customizable Multi-Garment Virtual Dressing via...\n         ✓ Full abstract: 232 words\n      Progress: 10/31 papers processed\n      📖 Negative Token Merging: Image-based Adversarial Feature Guid...\n         ✓ Full abstract: 207 words\n      📖 Global MMLU: Understanding and Addressing Cultural and Lingu...\n         ✓ Full abstract: 252 words\n      📖 Densing Law of LLMs...\n         ✓ Full abstract: 250 words\n      📖 Infinity: Scaling Bitwise AutoRegressive Modeling for High-R...\n         ✓ Full abstract: 165 words\n      📖 HumanEdit: A High-Quality Human-Rewarded Dataset for Instruc...\n         ✓ Full abstract: 199 words\n      Progress: 15/31 papers processed\n      📖 Monet: Mixture of Monosemantic Experts for Transformers...\n         ✓ Full abstract: 190 words\n      📖 Personalized Multimodal Large Language Models: A Survey...\n         ✓ Full abstract: 168 words\n      📖 Towards Universal Soccer Video Understanding...\n         ✓ Full abstract: 147 words\n      📖 OmniFlow: Any-to-Any Generation with Multi-Modal Rectified F...\n         ✓ Full abstract: 171 words\n      📖 Discriminative Fine-tuning of LVLMs...\n         ✓ Full abstract: 199 words\n      Progress: 20/31 papers processed\n      📖 Marco-LLM: Bridging Languages via Massive Multilingual Train...\n         ✓ Full abstract: 194 words\n      📖 MEMO: Memory-Guided Diffusion for Expressive Talking Video G...\n         ✓ Full abstract: 172 words\n      📖 ZipAR: Accelerating Autoregressive Image Generation through ...\n         ✓ Full abstract: 139 words\n      📖 KV Shifting Attention Enhances Language Modeling...\n         ✓ Full abstract: 131 words\n      📖 4Real-Video: Learning Generalizable Photo-Realistic 4D Video...\n         ✓ Full abstract: 134 words\n      Progress: 25/31 papers processed\n      📖 p-MoD: Building Mixture-of-Depths MLLMs via Progressive Rati...\n         ✓ Full abstract: 214 words\n      📖 Scaling Inference-Time Search with Vision Value Model for Im...\n         ✓ Full abstract: 193 words\n      📖 MRGen: Diffusion-based Controllable Data Engine for MRI Segm...\n         ✓ Full abstract: 161 words\n      📖 SynFinTabs: A Dataset of Synthetic Financial Tables for Info...\n         ✓ Full abstract: 202 words\n      📖 Challenges in Trustworthy Human Evaluation of Chatbots...\n         ✓ Full abstract: 130 words\n      Progress: 30/31 papers processed\n      📖 Establishing Task Scaling Laws via Compute-Efficient Model L...\n         ✓ Full abstract: 211 words\n✓ 2024-12-06: 31 papers\n      📖 VisionZip: Longer is Better but Not Necessary in Vision Lang...\n         ✓ Full abstract: 198 words\n      📖 Structured 3D Latents for Scalable and Versatile 3D Generati...\n         ✓ Full abstract: 153 words\n      📖 Aguvis: Unified Pure Vision Agents for Autonomous GUI Intera...\n         ✓ Full abstract: 206 words\n      📖 Florence-VL: Enhancing Vision-Language Models with Generativ...\n         ✓ Full abstract: 222 words\n      📖 NVILA: Efficient Frontier Visual Language Models...\n         ✓ Full abstract: 161 words\n      Progress: 5/31 papers processed\n      📖 Evaluating Language Models as Synthetic Data Generators...\n         ✓ Full abstract: 180 words\n      📖 Code-as-Monitor: Constraint-aware Visual Programming for Rea...\n         ✓ Full abstract: 182 words\n      📖 A Noise is Worth Diffusion Guidance...\n         ❌ Request error: 429 Client Error: Too Many Requests for url: https://huggingface.co/papers/2412.03895\n         ⚠️ Detail page failed, using preview\n      📖 MV-Adapter: Multi-view Consistent Image Generation Made Easy...\n         ❌ Request error: 429 Client Error: Too Many Requests for url: https://huggingface.co/papers/2412.03632\n         ⚠️ Detail page failed, using preview\n      📖 AnyDressing: Customizable Multi-Garment Virtual Dressing via...\n         ❌ Request error: 429 Client Error: Too Many Requests for url: https://huggingface.co/papers/2412.04146\n         ⚠️ Detail page failed, using preview\n      📖 Negative Token Merging: Image-based Adversarial Feature Guid...\n         ❌ Request error: 429 Client Error: Too Many Requests for url: https://huggingface.co/papers/2412.01339\n         ⚠️ Detail page failed, using preview\n      📖 Global MMLU: Understanding and Addressing Cultural and Lingu...\n         ❌ Request error: 429 Client Error: Too Many Requests for url: https://huggingface.co/papers/2412.03304\n         ⚠️ Detail page failed, using preview\n      📖 Densing Law of LLMs...\n         ❌ Request error: 429 Client Error: Too Many Requests for url: https://huggingface.co/papers/2412.04315\n         ⚠️ Detail page failed, using preview\n      📖 Infinity: Scaling Bitwise AutoRegressive Modeling for High-R...\n         ❌ Request error: 429 Client Error: Too Many Requests for url: https://huggingface.co/papers/2412.04431\n         ⚠️ Detail page failed, using preview\n      📖 HumanEdit: A High-Quality Human-Rewarded Dataset for Instruc...\n         ❌ Request error: 429 Client Error: Too Many Requests for url: https://huggingface.co/papers/2412.04280\n         ⚠️ Detail page failed, using preview\n      📖 Monet: Mixture of Monosemantic Experts for Transformers...\n         ❌ Request error: 429 Client Error: Too Many Requests for url: https://huggingface.co/papers/2412.04139\n         ⚠️ Detail page failed, using preview\n      📖 Personalized Multimodal Large Language Models: A Survey...\n         ❌ Request error: 429 Client Error: Too Many Requests for url: https://huggingface.co/papers/2412.02142\n         ⚠️ Detail page failed, using preview\n      📖 Towards Universal Soccer Video Understanding...\n         ❌ Request error: 429 Client Error: Too Many Requests for url: https://huggingface.co/papers/2412.01820\n         ⚠️ Detail page failed, using preview\n      📖 OmniFlow: Any-to-Any Generation with Multi-Modal Rectified F...\n         ✓ Full abstract: 171 words\n      📖 Discriminative Fine-tuning of LVLMs...\n         ✓ Full abstract: 199 words\n      Progress: 20/31 papers processed\n      📖 Marco-LLM: Bridging Languages via Massive Multilingual Train...\n         ✓ Full abstract: 194 words\n      📖 MEMO: Memory-Guided Diffusion for Expressive Talking Video G...\n         ✓ Full abstract: 172 words\n      📖 ZipAR: Accelerating Autoregressive Image Generation through ...\n         ✓ Full abstract: 139 words\n      📖 KV Shifting Attention Enhances Language Modeling...\n         ✓ Full abstract: 131 words\n      📖 4Real-Video: Learning Generalizable Photo-Realistic 4D Video...\n         ✓ Full abstract: 134 words\n      Progress: 25/31 papers processed\n      📖 p-MoD: Building Mixture-of-Depths MLLMs via Progressive Rati...\n         ✓ Full abstract: 214 words\n      📖 Scaling Inference-Time Search with Vision Value Model for Im...\n         ✓ Full abstract: 193 words\n      📖 MRGen: Diffusion-based Controllable Data Engine for MRI Segm...\n         ✓ Full abstract: 161 words\n      📖 SynFinTabs: A Dataset of Synthetic Financial Tables for Info...\n         ✓ Full abstract: 202 words\n      📖 Challenges in Trustworthy Human Evaluation of Chatbots...\n         ✓ Full abstract: 130 words\n      Progress: 30/31 papers processed\n      📖 Establishing Task Scaling Laws via Compute-Efficient Model L...\n         ✓ Full abstract: 211 words\n✓ 2024-12-07: 20 papers\n      📖 VisionZip: Longer is Better but Not Necessary in Vision Lang...\n         ✓ Full abstract: 198 words\n      📖 Structured 3D Latents for Scalable and Versatile 3D Generati...\n         ✓ Full abstract: 153 words\n      📖 Aguvis: Unified Pure Vision Agents for Autonomous GUI Intera...\n         ✓ Full abstract: 206 words\n      📖 Florence-VL: Enhancing Vision-Language Models with Generativ...\n         ✓ Full abstract: 222 words\n      📖 NVILA: Efficient Frontier Visual Language Models...\n         ✓ Full abstract: 161 words\n      Progress: 5/31 papers processed\n      📖 Evaluating Language Models as Synthetic Data Generators...\n         ✓ Full abstract: 180 words\n      📖 Code-as-Monitor: Constraint-aware Visual Programming for Rea...\n         ✓ Full abstract: 182 words\n      📖 A Noise is Worth Diffusion Guidance...\n         ✓ Full abstract: 162 words\n      📖 MV-Adapter: Multi-view Consistent Image Generation Made Easy...\n         ✓ Full abstract: 227 words\n      📖 AnyDressing: Customizable Multi-Garment Virtual Dressing via...\n         ✓ Full abstract: 232 words\n      Progress: 10/31 papers processed\n      📖 Negative Token Merging: Image-based Adversarial Feature Guid...\n         ✓ Full abstract: 207 words\n      📖 Global MMLU: Understanding and Addressing Cultural and Lingu...\n         ✓ Full abstract: 252 words\n      📖 Densing Law of LLMs...\n         ✓ Full abstract: 250 words\n      📖 Infinity: Scaling Bitwise AutoRegressive Modeling for High-R...\n         ✓ Full abstract: 165 words\n      📖 HumanEdit: A High-Quality Human-Rewarded Dataset for Instruc...\n         ✓ Full abstract: 199 words\n      Progress: 15/31 papers processed\n      📖 Monet: Mixture of Monosemantic Experts for Transformers...\n         ✓ Full abstract: 190 words\n      📖 Personalized Multimodal Large Language Models: A Survey...\n         ✓ Full abstract: 168 words\n      📖 Towards Universal Soccer Video Understanding...\n         ✓ Full abstract: 147 words\n      📖 OmniFlow: Any-to-Any Generation with Multi-Modal Rectified F...\n         ✓ Full abstract: 171 words\n      📖 Discriminative Fine-tuning of LVLMs...\n         ✓ Full abstract: 199 words\n      Progress: 20/31 papers processed\n      📖 Marco-LLM: Bridging Languages via Massive Multilingual Train...\n         ✓ Full abstract: 194 words\n      📖 MEMO: Memory-Guided Diffusion for Expressive Talking Video G...\n         ✓ Full abstract: 172 words\n      📖 ZipAR: Accelerating Autoregressive Image Generation through ...\n         ✓ Full abstract: 139 words\n      📖 KV Shifting Attention Enhances Language Modeling...\n         ✓ Full abstract: 131 words\n      📖 4Real-Video: Learning Generalizable Photo-Realistic 4D Video...\n         ✓ Full abstract: 134 words\n      Progress: 25/31 papers processed\n      📖 p-MoD: Building Mixture-of-Depths MLLMs via Progressive Rati...\n         ✓ Full abstract: 214 words\n      📖 Scaling Inference-Time Search with Vision Value Model for Im...\n         ✓ Full abstract: 193 words\n      📖 MRGen: Diffusion-based Controllable Data Engine for MRI Segm...\n         ✓ Full abstract: 161 words\n      📖 SynFinTabs: A Dataset of Synthetic Financial Tables for Info...\n         ✓ Full abstract: 202 words\n      📖 Challenges in Trustworthy Human Evaluation of Chatbots...\n         ✓ Full abstract: 130 words\n      Progress: 30/31 papers processed\n      📖 Establishing Task Scaling Laws via Compute-Efficient Model L...\n         ✓ Full abstract: 211 words\n✓ 2024-12-08: 31 papers\n      📖 Expanding Performance Boundaries of Open-Source Multimodal M...\n         ✓ Full abstract: 175 words\n      📖 EXAONE 3.5: Series of Large Language Models for Real-world U...\n         ✓ Full abstract: 114 words\n      📖 LiFT: Leveraging Human Feedback for Text-to-Video Model Alig...\n         ✓ Full abstract: 176 words\n      📖 MAmmoTH-VL: Eliciting Multimodal Reasoning with Instruction ...\n         ✓ Full abstract: 165 words\n      📖 SwiftEdit: Lightning Fast Text-Guided Image Editing via One-...\n         ✓ Full abstract: 158 words\n      Progress: 5/16 papers processed\n      📖 APOLLO: SGD-like Memory, AdamW-level Performance...\n         ✓ Full abstract: 261 words\n      📖 Moto: Latent Motion Token as the Bridging Language for Robot...\n         ✓ Full abstract: 259 words\n      📖 GenMAC: Compositional Text-to-Video Generation with Multi-Ag...\n         ✓ Full abstract: 231 words\n      📖 CompCap: Improving Multimodal Large Language Models with Com...\n         ✓ Full abstract: 208 words\n      📖 Momentum-GS: Momentum Gaussian Self-Distillation for High-Qu...\n         ✓ Full abstract: 203 words\n      Progress: 10/16 papers processed\n      📖 BigDocs: An Open and Permissively-Licensed Dataset for Train...\n         ✓ Full abstract: 219 words\n      📖 Mind the Time: Temporally-Controlled Multi-Event Video Gener...\n         ✓ Full abstract: 182 words\n      📖 PanoDreamer: 3D Panorama Synthesis from a Single Image...\n         ✓ Full abstract: 112 words\n      📖 2DGS-Room: Seed-Guided 2D Gaussian Splatting with Geometric ...\n         ✓ Full abstract: 144 words\n      📖 DEMO: Reframing Dialogue Interaction with Fine-grained Eleme...\n         ✓ Full abstract: 157 words\n      Progress: 15/16 papers processed\n      📖 RL Zero: Zero-Shot Language to Behaviors without any Supervi...\n         ✓ Full abstract: 249 words\n✓ 2024-12-09: 16 papers\n      📖 Training Large Language Models to Reason in a Continuous Lat...\n         ✓ Full abstract: 239 words\n      📖 ProcessBench: Identifying Process Errors in Mathematical Rea...\n         ✓ Full abstract: 220 words\n      📖 Unraveling the Complexity of Memory in RL Agents: an Approac...\n         ✓ Full abstract: 178 words\n      📖 Maya: An Instruction Finetuned Multilingual Multimodal Model...\n         ✓ Full abstract: 144 words\n      📖 Around the World in 80 Timesteps: A Generative Approach to G...\n         ✓ Full abstract: 147 words\n      Progress: 5/16 papers processed\n      📖 Exploring Multi-Grained Concept Annotations for Multimodal L...\n         ✓ Full abstract: 187 words\n      📖 Divot: Diffusion Powers Video Tokenizer for Comprehension an...\n         ✓ Full abstract: 215 words\n      📖 You See it, You Got it: Learning 3D Creation on Pose-Free Vi...\n         ✓ Full abstract: 258 words\n      📖 Gated Delta Networks: Improving Mamba2 with Delta Rule...\n         ✓ Full abstract: 149 words\n      📖 MotionShop: Zero-Shot Motion Transfer in Video Diffusion Mod...\n         ✓ Full abstract: 150 words\n      Progress: 10/16 papers processed\n      📖 MAtCha Gaussians: Atlas of Charts for High-Quality Geometry ...\n         ✓ Full abstract: 199 words\n      📖 Global and Dense Embeddings of Earth: Major TOM Floating in ...\n         ✓ Full abstract: 142 words\n      📖 CARP: Visuomotor Policy Learning via Coarse-to-Fine Autoregr...\n         ✓ Full abstract: 188 words\n      📖 Robust Multi-bit Text Watermark with LLM-based Paraphrasers...\n         ✓ Full abstract: 144 words\n      📖 If You Can't Use Them, Recycle Them: Optimizing Merging at S...\n         ✓ Full abstract: 166 words\n      Progress: 15/16 papers processed\n      📖 Turbo3D: Ultra-fast Text-to-3D Generation...\n         ✓ Full abstract: 119 words\n✓ 2024-12-10: 16 papers\n      📖 STIV: Scalable Text and Image Conditioned Video Generation...\n         ✓ Full abstract: 234 words\n      📖 Evaluating and Aligning CodeLLMs on Human Preference...\n         ✓ Full abstract: 222 words\n      📖 DiffSensei: Bridging Multi-Modal LLMs and Diffusion Models f...\n         ✓ Full abstract: 178 words\n      📖 ACDiT: Interpolating Autoregressive Conditional Modeling and...\n         ✓ Full abstract: 237 words\n      📖 Hidden in the Noise: Two-Stage Robust Watermarking for Image...\n         ✓ Full abstract: 189 words\n      Progress: 5/26 papers processed\n      📖 UniReal: Universal Image Generation and Editing via Learning...\n         ✓ Full abstract: 130 words\n      📖 OmniDocBench: Benchmarking Diverse PDF Document Parsing with...\n         ✓ Full abstract: 176 words\n      📖 FiVA: Fine-grained Visual Attribute Dataset for Text-to-Imag...\n         ✓ Full abstract: 223 words\n      📖 Mobile Video Diffusion...\n         ✓ Full abstract: 130 words\n      📖 3DTrajMaster: Mastering 3D Trajectory for Multi-Entity Motio...\n         ✓ Full abstract: 207 words\n      Progress: 10/26 papers processed\n      📖 Granite Guardian...\n         ✓ Full abstract: 151 words\n      📖 MoViE: Mobile Diffusion for Video Editing...\n         ✓ Full abstract: 125 words\n      📖 Video Motion Transfer with Diffusion Transformers...\n         ✓ Full abstract: 120 words\n      📖 Frame Representation Hypothesis: Multi-Token LLM Interpretab...\n         ✓ Full abstract: 193 words\n      📖 Perception Tokens Enhance Visual Reasoning in Multimodal Lan...\n         ✓ Full abstract: 244 words\n      Progress: 15/26 papers processed\n      📖 EMOv2: Pushing 5M Vision Model Frontier...\n         ✓ Full abstract: 241 words\n      📖 LoRA.rar: Learning to Merge LoRAs via Hypernetworks for Subj...\n         ✓ Full abstract: 155 words\n      📖 ILLUME: Illuminating Your LLMs to See, Draw, and Self-Enhanc...\n         ✓ Full abstract: 190 words\n      📖 Fully Open Source Moxin-7B Technical Report...\n         ✓ Full abstract: 249 words\n      📖 Chimera: Improving Generalist Model with Domain-Specific Exp...\n         ❌ Request error: 429 Client Error: Too Many Requests for url: https://huggingface.co/papers/2412.05983\n         ⚠️ Detail page failed, using preview\n      📖 ObjCtrl-2.5D: Training-free Object Control with Camera Poses...\n         ❌ Request error: 429 Client Error: Too Many Requests for url: https://huggingface.co/papers/2412.07721\n         ⚠️ Detail page failed, using preview\n      📖 HARP: Hesitation-Aware Reframing in Transformer Inference Pa...\n         ❌ Request error: 429 Client Error: Too Many Requests for url: https://huggingface.co/papers/2412.07282\n         ⚠️ Detail page failed, using preview\n      📖 GraPE: A Generate-Plan-Edit Framework for Compositional T2I ...\n         ❌ Request error: 429 Client Error: Too Many Requests for url: https://huggingface.co/papers/2412.06089\n         ⚠️ Detail page failed, using preview\n      📖 A New Federated Learning Framework Against Gradient Inversio...\n         ❌ Request error: 429 Client Error: Too Many Requests for url: https://huggingface.co/papers/2412.07187\n         ⚠️ Detail page failed, using preview\n      📖 Contextualized Counterspeech: Strategies for Adaptation,\n  P...\n         ❌ Request error: 429 Client Error: Too Many Requests for url: https://huggingface.co/papers/2412.07338\n         ⚠️ Detail page failed, using preview\n      📖 Maximizing Alignment with Minimal Feedback: Efficiently Lear...\n         ❌ Request error: 429 Client Error: Too Many Requests for url: https://huggingface.co/papers/2412.04835\n         ⚠️ Detail page failed, using preview\n✓ 2024-12-11: 19 papers\n   ❌ Request error for 2024-12-12: 429 Client Error: Too Many Requests for url: https://huggingface.co/papers/date/2024-12-12\n○ 2024-12-12: no papers\n   ❌ Request error for 2024-12-13: 429 Client Error: Too Many Requests for url: https://huggingface.co/papers/date/2024-12-13\n○ 2024-12-13: no papers\n\n────────────────────────────────────────────────────────────────────────────────\n📊 Progress: 60 days, 619 papers total\n────────────────────────────────────────────────────────────────────────────────\n\n   ❌ Request error for 2024-12-14: 429 Client Error: Too Many Requests for url: https://huggingface.co/papers/date/2024-12-14\n○ 2024-12-14: no papers\n   ❌ Request error for 2024-12-15: 429 Client Error: Too Many Requests for url: https://huggingface.co/papers/date/2024-12-15\n○ 2024-12-15: no papers\n   ❌ Request error for 2024-12-16: 429 Client Error: Too Many Requests for url: https://huggingface.co/papers/date/2024-12-16\n○ 2024-12-16: no papers\n   ❌ Request error for 2024-12-17: 429 Client Error: Too Many Requests for url: https://huggingface.co/papers/date/2024-12-17\n○ 2024-12-17: no papers\n   ❌ Request error for 2024-12-18: 429 Client Error: Too Many Requests for url: https://huggingface.co/papers/date/2024-12-18\n○ 2024-12-18: no papers\n   ❌ Request error for 2024-12-19: 429 Client Error: Too Many Requests for url: https://huggingface.co/papers/date/2024-12-19\n○ 2024-12-19: no papers\n   ❌ Request error for 2024-12-20: 429 Client Error: Too Many Requests for url: https://huggingface.co/papers/date/2024-12-20\n○ 2024-12-20: no papers\n      📖 Qwen2.5 Technical Report...\n         ✓ Full abstract: 254 words\n      📖 Progressive Multimodal Reasoning via Active Retrieval...\n         ✓ Full abstract: 194 words\n      📖 MegaPairs: Massive Data Synthesis For Universal Multimodal R...\n         ✓ Full abstract: 185 words\n      📖 How to Synthesize Text Data without Model Collapse?...\n         ✓ Full abstract: 196 words\n      📖 LongBench v2: Towards Deeper Understanding and Reasoning on ...\n         ✓ Full abstract: 179 words\n      Progress: 5/17 papers processed\n      📖 Flowing from Words to Pixels: A Framework for Cross-Modality...\n         ✓ Full abstract: 276 words\n      📖 LeviTor: 3D Trajectory Oriented Image-to-Video Synthesis...\n         ✓ Full abstract: 168 words\n      📖 Affordance-Aware Object Insertion via Mask-Aware Dual Diffus...\n         ✓ Full abstract: 175 words\n      📖 AceMath: Advancing Frontier Math Reasoning with Post-Trainin...\n         ✓ Full abstract: 171 words\n      📖 DI-PCG: Diffusion-based Efficient Inverse Procedural Content...\n         ✓ Full abstract: 183 words\n      Progress: 10/17 papers processed\n      📖 Descriptive Caption Enhancement with Visual Specialists for ...\n         ✓ Full abstract: 156 words\n      📖 UIP2P: Unsupervised Instruction-based Image Editing via Cycl...\n         ✓ Full abstract: 169 words\n      📖 AV-Link: Temporally-Aligned Diffusion Features for Cross-Mod...\n         ✓ Full abstract: 128 words\n      📖 TOMG-Bench: Evaluating LLMs on Text-based Open Molecule Gene...\n         ✓ Full abstract: 153 words\n      📖 PixelMan: Consistent Object Editing with Diffusion Models vi...\n         ✓ Full abstract: 211 words\n      Progress: 15/17 papers processed\n      📖 DateLogicQA: Benchmarking Temporal Biases in Large Language ...\n         ✓ Full abstract: 76 words\n      📖 Move-in-2D: 2D-Conditioned Human Motion Generation...\n         ✓ Full abstract: 155 words\n✓ 2024-12-21: 17 papers\n      📖 Qwen2.5 Technical Report...\n         ✓ Full abstract: 254 words\n      📖 Progressive Multimodal Reasoning via Active Retrieval...\n         ✓ Full abstract: 194 words\n      📖 MegaPairs: Massive Data Synthesis For Universal Multimodal R...\n         ✓ Full abstract: 185 words\n      📖 How to Synthesize Text Data without Model Collapse?...\n         ✓ Full abstract: 196 words\n      📖 LongBench v2: Towards Deeper Understanding and Reasoning on ...\n         ✓ Full abstract: 179 words\n      Progress: 5/17 papers processed\n      📖 Flowing from Words to Pixels: A Framework for Cross-Modality...\n         ✓ Full abstract: 276 words\n      📖 LeviTor: 3D Trajectory Oriented Image-to-Video Synthesis...\n         ✓ Full abstract: 168 words\n      📖 Affordance-Aware Object Insertion via Mask-Aware Dual Diffus...\n         ✓ Full abstract: 175 words\n      📖 AceMath: Advancing Frontier Math Reasoning with Post-Trainin...\n         ✓ Full abstract: 171 words\n      📖 DI-PCG: Diffusion-based Efficient Inverse Procedural Content...\n         ✓ Full abstract: 183 words\n      Progress: 10/17 papers processed\n      📖 Descriptive Caption Enhancement with Visual Specialists for ...\n         ✓ Full abstract: 156 words\n      📖 UIP2P: Unsupervised Instruction-based Image Editing via Cycl...\n         ✓ Full abstract: 169 words\n      📖 AV-Link: Temporally-Aligned Diffusion Features for Cross-Mod...\n         ✓ Full abstract: 128 words\n      📖 TOMG-Bench: Evaluating LLMs on Text-based Open Molecule Gene...\n         ✓ Full abstract: 153 words\n      📖 PixelMan: Consistent Object Editing with Diffusion Models vi...\n         ✓ Full abstract: 211 words\n      Progress: 15/17 papers processed\n      📖 DateLogicQA: Benchmarking Temporal Biases in Large Language ...\n         ✓ Full abstract: 76 words\n      📖 Move-in-2D: 2D-Conditioned Human Motion Generation...\n         ✓ Full abstract: 155 words\n✓ 2024-12-22: 17 papers\n      📖 Parallelized Autoregressive Visual Generation...\n         ✓ Full abstract: 186 words\n      📖 Offline Reinforcement Learning for LLM Multi-Step Reasoning...\n         ✓ Full abstract: 215 words\n      📖 CLEAR: Conv-Like Linearization Revs Pre-Trained Diffusion Tr...\n         ✓ Full abstract: 220 words\n      📖 Taming Multimodal Joint Training for High-Quality Video-to-A...\n         ✓ Full abstract: 146 words\n      📖 SCOPE: Optimizing Key-Value Cache Compression in Long-contex...\n         ✓ Full abstract: 171 words\n      Progress: 5/13 papers processed\n      📖 Toward Robust Hyper-Detailed Image Captioning: A Multiagent ...\n         ✓ Full abstract: 169 words\n      📖 MixLLM: LLM Quantization with Global Mixed-precision between...\n         ✓ Full abstract: 243 words\n      📖 TRecViT: A Recurrent Video Transformer...\n         ✓ Full abstract: 114 words\n      📖 Sequence Matters: Harnessing Video Models in 3D Super-Resolu...\n         ✓ Full abstract: 184 words\n      📖 Multi-LLM Text Summarization...\n         ✓ Full abstract: 137 words\n      Progress: 10/13 papers processed\n      📖 IDOL: Instant Photorealistic 3D Human Creation from a Single...\n         ✓ Full abstract: 199 words\n      📖 Fietje: An open, efficient LLM for Dutch...\n         ✓ Full abstract: 187 words\n      📖 LLMs Lost in Translation: M-ALERT uncovers Cross-Linguistic ...\n         ✓ Full abstract: 155 words\n✓ 2024-12-23: 13 papers\n\n────────────────────────────────────────────────────────────────────────────────\n📊 Progress: 70 days, 666 papers total\n────────────────────────────────────────────────────────────────────────────────\n\n      📖 RobustFT: Robust Supervised Fine-tuning for Large Language M...\n         ✓ Full abstract: 163 words\n      📖 B-STaR: Monitoring and Balancing Exploration and Exploitatio...\n         ✓ Full abstract: 228 words\n      📖 Diving into Self-Evolving Training for Multimodal Reasoning...\n         ✓ Full abstract: 256 words\n      📖 Distilled Decoding 1: One-step Sampling of Image Auto-regres...\n         ✓ Full abstract: 286 words\n      📖 OpenAI o1 System Card...\n         ✓ Full abstract: 154 words\n      Progress: 5/17 papers processed\n      📖 Deliberation in Latent Space via Differentiable Cache Augmen...\n         ✓ Full abstract: 215 words\n      📖 Revisiting In-Context Learning with Long Context Language Mo...\n         ✓ Full abstract: 204 words\n      📖 Large Motion Video Autoencoding with Cross-modal Video VAE...\n         ✓ Full abstract: 223 words\n      📖 DRT-o1: Optimized Deep Reasoning Translation via Long Chain-...\n         ✓ Full abstract: 260 words\n      📖 LearnLM: Improving Gemini for Learning...\n         ✓ Full abstract: 193 words\n      Progress: 10/17 papers processed\n      📖 Outcome-Refining Process Supervision for Code Generation...\n         ✓ Full abstract: 173 words\n      📖 ResearchTown: Simulator of Human Research Community...\n         ✓ Full abstract: 205 words\n      📖 PC Agent: While You Sleep, AI Works -- A Cognitive Journey i...\n         ✓ Full abstract: 269 words\n      📖 Agent-SafetyBench: Evaluating the Safety of LLM Agents...\n         ✓ Full abstract: 200 words\n      📖 Friends-MMC: A Dataset for Multi-modal Multi-party Conversat...\n         ✓ Full abstract: 223 words\n      Progress: 15/17 papers processed\n      📖 OpenRFT: Adapting Reasoning Foundation Model for Domain-spec...\n         ✓ Full abstract: 121 words\n      📖 NILE: Internal Consistency Alignment in Large Language Model...\n         ✓ Full abstract: 191 words\n✓ 2024-12-24: 17 papers\n      📖 Fourier Position Embedding: Enhancing Attention's Periodic E...\n         ✓ Full abstract: 195 words\n      📖 3DGraphLLM: Combining Semantic Graphs and Large Language Mod...\n         ✓ Full abstract: 199 words\n      📖 DepthLab: From Partial to Complete...\n         ✓ Full abstract: 135 words\n      📖 DiTCtrl: Exploring Attention Control in Multi-Modal Diffusio...\n         ✓ Full abstract: 208 words\n      📖 PartGen: Part-level 3D Generation and Reconstruction with Mu...\n         ✓ Full abstract: 229 words\n      Progress: 5/11 papers processed\n      📖 Ensembling Large Language Models with Process Reward-Guided ...\n         ✓ Full abstract: 179 words\n      📖 In Case You Missed It: ARC 'Challenge' Is Not That Challengi...\n         ✓ Full abstract: 115 words\n      📖 ReMoE: Fully Differentiable Mixture-of-Experts with ReLU Rou...\n         ✓ Full abstract: 148 words\n      📖 SKETCH: Structured Knowledge Enhanced Text Comprehension for...\n         ✓ Full abstract: 173 words\n      📖 Bridging the Data Provenance Gap Across Text, Speech and Vid...\n         ✓ Full abstract: 254 words\n      Progress: 10/11 papers processed\n      📖 MotiF: Making Text Count in Image Animation with Motion Foca...\n         ✓ Full abstract: 190 words\n✓ 2024-12-25: 11 papers\n      📖 Token-Budget-Aware LLM Reasoning...\n         ✓ Full abstract: 150 words\n      📖 Mulberry: Empowering MLLM with o1-like Reasoning and Reflect...\n         ✓ Full abstract: 173 words\n      📖 Video-Panda: Parameter-efficient Alignment for Encoder-free\n...\n         ✓ Full abstract: 180 words\n      📖 WavePulse: Real-time Content Analytics of Radio Livestreams...\n         ✓ Full abstract: 170 words\n      📖 How \"Real\" is Your Real-Time Simultaneous Speech-to-Text Tra...\n         ✓ Full abstract: 156 words\n      Progress: 5/7 papers processed\n      📖 VidTwin: Video VAE with Decoupled Structure and Dynamics...\n         ✓ Full abstract: 178 words\n      📖 PepTune: De Novo Generation of Therapeutic Peptides with\n  M...\n         ✓ Full abstract: 247 words\n✓ 2024-12-26: 7 papers\n      📖 YuLan-Mini: An Open Data-efficient Language Model...\n         ✓ Full abstract: 141 words\n      📖 A Silver Bullet or a Compromise for Full Attention? A Compre...\n         ✓ Full abstract: 151 words\n      📖 MMFactory: A Universal Solution Search Engine for Vision-Lan...\n         ✓ Full abstract: 253 words\n      📖 Molar: Multimodal LLMs with Collaborative Filtering Alignmen...\n         ✓ Full abstract: 194 words\n✓ 2024-12-27: 4 papers\n      📖 YuLan-Mini: An Open Data-efficient Language Model...\n         ✓ Full abstract: 141 words\n      📖 A Silver Bullet or a Compromise for Full Attention? A Compre...\n         ✓ Full abstract: 151 words\n      📖 MMFactory: A Universal Solution Search Engine for Vision-Lan...\n         ✓ Full abstract: 253 words\n      📖 Molar: Multimodal LLMs with Collaborative Filtering Alignmen...\n         ❌ Request error: 429 Client Error: Too Many Requests for url: https://huggingface.co/papers/2412.18176\n         ⚠️ Detail page failed, using preview\n✓ 2024-12-28: 3 papers\n   ❌ Request error for 2024-12-29: 429 Client Error: Too Many Requests for url: https://huggingface.co/papers/date/2024-12-29\n○ 2024-12-29: no papers\n   ❌ Request error for 2024-12-30: 429 Client Error: Too Many Requests for url: https://huggingface.co/papers/date/2024-12-30\n○ 2024-12-30: no papers\n   ❌ Request error for 2024-12-31: 429 Client Error: Too Many Requests for url: https://huggingface.co/papers/date/2024-12-31\n○ 2024-12-31: no papers\n   ❌ Request error for 2025-01-01: 429 Client Error: Too Many Requests for url: https://huggingface.co/papers/date/2025-01-01\n○ 2025-01-01: no papers\n   ❌ Request error for 2025-01-02: 429 Client Error: Too Many Requests for url: https://huggingface.co/papers/date/2025-01-02\n○ 2025-01-02: no papers\n\n────────────────────────────────────────────────────────────────────────────────\n📊 Progress: 80 days, 708 papers total\n────────────────────────────────────────────────────────────────────────────────\n\n   ❌ Request error for 2025-01-03: 429 Client Error: Too Many Requests for url: https://huggingface.co/papers/date/2025-01-03\n○ 2025-01-03: no papers\n   ❌ Request error for 2025-01-04: 429 Client Error: Too Many Requests for url: https://huggingface.co/papers/date/2025-01-04\n○ 2025-01-04: no papers\n      📖 2.5 Years in Class: A Multimodal Textbook for Vision-Languag...\n         ✓ Full abstract: 214 words\n      📖 VideoAnydoor: High-fidelity Video Object Insertion with Prec...\n         ✓ Full abstract: 192 words\n      📖 CodeElo: Benchmarking Competition-level Code Generation of L...\n         ✓ Full abstract: 270 words\n      📖 VideoRefer Suite: Advancing Spatial-Temporal Object Understa...\n         ✓ Full abstract: 180 words\n      📖 LTX-Video: Realtime Video Latent Diffusion...\n         ✓ Full abstract: 239 words\n      Progress: 5/19 papers processed\n      📖 Reconstruction vs. Generation: Taming Optimization Dilemma i...\n         ✓ Full abstract: 223 words\n      📖 MLLM-as-a-Judge for Image Safety without Human Labeling...\n         ✓ Full abstract: 263 words\n      📖 ProgCo: Program Helps Self-Correction of Large Language Mode...\n         ✓ Full abstract: 122 words\n      📖 MapEval: A Map-Based Evaluation of Geo-Spatial Reasoning in ...\n         ✓ Full abstract: 260 words\n      📖 A3: Android Agent Arena for Mobile GUI Agents...\n         ✓ Full abstract: 182 words\n      Progress: 10/19 papers processed\n      📖 Unifying Specialized Visual Encoders for Video Language Mode...\n         ✓ Full abstract: 202 words\n      📖 Dynamic Scaling of Unit Tests for Code Reward Modeling...\n         ✓ Full abstract: 200 words\n      📖 SeedVR: Seeding Infinity in Diffusion Transformer Towards Ge...\n         ✓ Full abstract: 143 words\n      📖 Nested Attention: Semantic-aware Attention Values for Concep...\n         ✓ Full abstract: 174 words\n      📖 MapQaTor: A System for Efficient Annotation of Map Query Dat...\n         ✓ Full abstract: 211 words\n      Progress: 15/19 papers processed\n      📖 Understanding and Mitigating Bottlenecks of State Space Mode...\n         ✓ Full abstract: 177 words\n      📖 Population Aware Diffusion for Time Series Generation...\n         ✓ Full abstract: 231 words\n      📖 Rethinking Addressing in Language Models via Contexualized E...\n         ✓ Full abstract: 166 words\n      📖 SeFAR: Semi-supervised Fine-grained Action Recognition with ...\n         ✓ Full abstract: 236 words\n✓ 2025-01-05: 19 papers\n      📖 EnerVerse: Envisioning Embodied Future Space for Robotics Ma...\n         ✓ Full abstract: 207 words\n      📖 VITA-1.5: Towards GPT-4o Level Real-Time Vision and Speech I...\n         ✓ Full abstract: 148 words\n      📖 Virgo: A Preliminary Exploration on Reproducing o1-like MLLM...\n         ✓ Full abstract: 187 words\n      📖 SDPO: Segment-Level Direct Preference Optimization for Socia...\n         ✓ Full abstract: 144 words\n      📖 Graph Generative Pre-trained Transformer...\n         ✓ Full abstract: 160 words\n      Progress: 5/8 papers processed\n      📖 VisionReward: Fine-Grained Multi-Dimensional Human Preferenc...\n         ✓ Full abstract: 145 words\n      📖 LUSIFER: Language Universal Space Integration for Enhanced M...\n         ✓ Full abstract: 167 words\n      📖 BoxingGym: Benchmarking Progress in Automated Experimental D...\n         ✓ Full abstract: 272 words\n✓ 2025-01-06: 8 papers\n      📖 STAR: Spatial-Temporal Augmentation with Text-to-Video Model...\n         ✓ Full abstract: 179 words\n      📖 Test-time Computing: from System-1 Thinking to System-2 Thin...\n         ✓ Full abstract: 148 words\n      📖 BoostStep: Boosting mathematical capability of Large Languag...\n         ✓ Full abstract: 212 words\n      📖 Dispider: Enabling Video LLMs with Active Real-Time Interact...\n         ✓ Full abstract: 240 words\n      📖 Personalized Graph-Based Retrieval for Large Language Models...\n         ✓ Full abstract: 144 words\n      Progress: 5/19 papers processed\n      📖 TransPixar: Advancing Text-to-Video Generation with Transpar...\n         ✓ Full abstract: 148 words\n      📖 Scaling Laws for Floating Point Quantization Training...\n         ✓ Full abstract: 216 words\n      📖 METAGENE-1: Metagenomic Foundation Model for Pandemic Monito...\n         ✓ Full abstract: 224 words\n      📖 Through-The-Mask: Mask-based Motion Trajectories for Image-t...\n         ✓ Full abstract: 217 words\n      📖 Auto-RT: Automatic Jailbreak Strategy Exploration for Red-Te...\n         ✓ Full abstract: 153 words\n      Progress: 10/19 papers processed\n      📖 GS-DiT: Advancing Video Generation with Pseudo 4D Gaussian F...\n         ✓ Full abstract: 258 words\n      📖 DepthMaster: Taming Diffusion Models for Monocular Depth Est...\n         ✓ Full abstract: 209 words\n      📖 PRMBench: A Fine-grained and Challenging Benchmark for Proce...\n         ✓ Full abstract: 178 words\n      📖 ToolHop: A Query-Driven Benchmark for Evaluating Large Langu...\n         ✓ Full abstract: 167 words\n      📖 Samba-asr state-of-the-art speech recognition leveraging str...\n         ✓ Full abstract: 235 words\n      Progress: 15/19 papers processed\n      📖 Ingredients: Blending Custom Photos with Video Diffusion Tra...\n         ✓ Full abstract: 155 words\n      📖 AutoPresent: Designing Structured Visuals from Scratch...\n         ✓ Full abstract: 197 words\n      📖 Automated Generation of Challenging Multiple-Choice Question...\n         ✓ Full abstract: 143 words\n      📖 ProTracker: Probabilistic Integration for Robust and Accurat...\n         ✓ Full abstract: 129 words\n✓ 2025-01-07: 19 papers\n      📖 REINFORCE++: A Simple and Efficient Approach for Aligning La...\n         ✓ Full abstract: 127 words\n      📖 Cosmos World Foundation Model Platform for Physical AI...\n         ✓ Full abstract: 129 words\n      📖 LLaVA-Mini: Efficient Image and Video Large Multimodal Model...\n         ✓ Full abstract: 255 words\n      📖 Sa2VA: Marrying SAM2 with LLaVA for Dense Grounded Understan...\n         ✓ Full abstract: 172 words\n      📖 MotionBench: Benchmarking and Improving Fine-grained Video M...\n         ✓ Full abstract: 178 words\n      Progress: 5/15 papers processed\n      📖 Diffusion as Shader: 3D-aware Video Diffusion for Versatile ...\n         ✓ Full abstract: 207 words\n      📖 PPTAgent: Generating and Evaluating Presentations Beyond Tex...\n         ✓ Full abstract: 152 words\n      📖 OpenOmni: Large Language Models Pivot Zero-shot Omnimodal Al...\n         ✓ Full abstract: 138 words\n      📖 Dolphin: Closed-loop Open-ended Auto-research through Thinki...\n         ✓ Full abstract: 203 words\n      📖 Magic Mirror: ID-Preserved Video Generation in Video Diffusi...\n         ✓ Full abstract: 141 words\n      Progress: 10/15 papers processed\n      📖 MoDec-GS: Global-to-Local Motion Decomposition and Temporal ...\n         ✓ Full abstract: 229 words\n      📖 Segmenting Text and Learning Their Rewards for Improved RLHF...\n         ✓ Full abstract: 181 words\n      📖 Graph-Aware Isomorphic Attention for Adaptive Dynamics in Tr...\n         ✓ Full abstract: 245 words\n      📖 MagicFace: High-Fidelity Facial Expression Editing with Acti...\n         ✓ Full abstract: 169 words\n      📖 Generalizable Origin Identification for Text-Guided Image-to...\n         ✓ Full abstract: 240 words\n      Progress: 15/15 papers processed\n✓ 2025-01-08: 15 papers\n      📖 rStar-Math: Small LLMs Can Master Math Reasoning with Self-E...\n         ✓ Full abstract: 223 words\n      📖 Search-o1: Agentic Search-Enhanced Large Reasoning Models...\n         ✓ Full abstract: 180 words\n      📖 Towards System 2 Reasoning in LLMs: Learning How to Think Wi...\n         ✓ Full abstract: 133 words\n      📖 Agent Laboratory: Using LLM Agents as Research Assistants...\n         ✓ Full abstract: 211 words\n      📖 URSA: Understanding and Verifying Chain-of-thought Reasoning...\n         ✓ Full abstract: 207 words\n      Progress: 5/13 papers processed\n      📖 LLM4SR: A Survey on Large Language Models for Scientific Res...\n         ✓ Full abstract: 130 words\n      📖 InfiGUIAgent: A Multimodal Generalist GUI Agent with Native ...\n         ✓ Full abstract: 117 words\n      📖 GeAR: Generation Augmented Retrieval...\n         ✓ Full abstract: 208 words\n      📖 Chirpy3D: Continuous Part Latents for Creative 3D Bird Gener...\n         ✓ Full abstract: 118 words\n      📖 SPAR3D: Stable Point-Aware Reconstruction of 3D Objects from...\n         ✓ Full abstract: 176 words\n      Progress: 10/13 papers processed\n      📖 EpiCoder: Encompassing Diversity and Complexity in Code Gene...\n         ✓ Full abstract: 224 words\n      📖 Multi-task retriever fine-tuning for domain-specific and eff...\n         ✓ Full abstract: 157 words\n      📖 DPO Kernels: A Semantically-Aware, Kernel-Enhanced, and Dive...\n         ✓ Full abstract: 156 words\n✓ 2025-01-09: 13 papers\n      📖 The GAN is dead; long live the GAN! A Modern GAN Baseline...\n         ✓ Full abstract: 156 words\n      📖 Enhancing Human-Like Responses in Large Language Models...\n         ✓ Full abstract: 91 words\n      📖 An Empirical Study of Autoregressive Pre-training from Video...\n         ✓ Full abstract: 137 words\n      📖 Are VLMs Ready for Autonomous Driving? An Empirical Study fr...\n         ✓ Full abstract: 212 words\n      📖 Centurio: On Drivers of Multilingual Ability of Large Vision...\n         ✓ Full abstract: 228 words\n      Progress: 5/9 papers processed\n      📖 SWE-Fixer: Training Open-Source LLMs for Effective and Effic...\n         ✓ Full abstract: 224 words\n      📖 On Computational Limits and Provably Efficient Criteria of V...\n         ✓ Full abstract: 180 words\n      📖 Entropy-Guided Attention for Private LLMs...\n         ✓ Full abstract: 222 words\n      📖 Building Foundations for Natural Language Processing of Hist...\n         ✓ Full abstract: 159 words\n✓ 2025-01-10: 9 papers\n      📖 The GAN is dead; long live the GAN! A Modern GAN Baseline...\n         ✓ Full abstract: 156 words\n      📖 Enhancing Human-Like Responses in Large Language Models...\n         ✓ Full abstract: 91 words\n      📖 An Empirical Study of Autoregressive Pre-training from Video...\n         ✓ Full abstract: 137 words\n      📖 Are VLMs Ready for Autonomous Driving? An Empirical Study fr...\n         ✓ Full abstract: 212 words\n      📖 Centurio: On Drivers of Multilingual Ability of Large Vision...\n         ✓ Full abstract: 228 words\n      Progress: 5/9 papers processed\n      📖 SWE-Fixer: Training Open-Source LLMs for Effective and Effic...\n         ✓ Full abstract: 224 words\n      📖 On Computational Limits and Provably Efficient Criteria of V...\n         ✓ Full abstract: 180 words\n      📖 Entropy-Guided Attention for Private LLMs...\n         ✓ Full abstract: 222 words\n      📖 Building Foundations for Natural Language Processing of Hist...\n         ❌ Request error: 429 Client Error: Too Many Requests for url: https://huggingface.co/papers/2501.04828\n         ⚠️ Detail page failed, using preview\n✓ 2025-01-11: 8 papers\n   ❌ Request error for 2025-01-12: 429 Client Error: Too Many Requests for url: https://huggingface.co/papers/date/2025-01-12\n○ 2025-01-12: no papers\n\n────────────────────────────────────────────────────────────────────────────────\n📊 Progress: 90 days, 799 papers total\n────────────────────────────────────────────────────────────────────────────────\n\n   ❌ Request error for 2025-01-13: 429 Client Error: Too Many Requests for url: https://huggingface.co/papers/date/2025-01-13\n○ 2025-01-13: no papers\n   ❌ Request error for 2025-01-14: 429 Client Error: Too Many Requests for url: https://huggingface.co/papers/date/2025-01-14\n○ 2025-01-14: no papers\n   ❌ Request error for 2025-01-15: 429 Client Error: Too Many Requests for url: https://huggingface.co/papers/date/2025-01-15\n○ 2025-01-15: no papers\n   ❌ Request error for 2025-01-16: 429 Client Error: Too Many Requests for url: https://huggingface.co/papers/date/2025-01-16\n○ 2025-01-16: no papers\n   ❌ Request error for 2025-01-17: 429 Client Error: Too Many Requests for url: https://huggingface.co/papers/date/2025-01-17\n○ 2025-01-17: no papers\n   ❌ Request error for 2025-01-18: 429 Client Error: Too Many Requests for url: https://huggingface.co/papers/date/2025-01-18\n○ 2025-01-18: no papers\n   ❌ Request error for 2025-01-19: 429 Client Error: Too Many Requests for url: https://huggingface.co/papers/date/2025-01-19\n○ 2025-01-19: no papers\n   ❌ Request error for 2025-01-20: 429 Client Error: Too Many Requests for url: https://huggingface.co/papers/date/2025-01-20\n○ 2025-01-20: no papers\n   ❌ Request error for 2025-01-21: 429 Client Error: Too Many Requests for url: https://huggingface.co/papers/date/2025-01-21\n○ 2025-01-21: no papers\n      📖 Agent-R: Training Language Model Agents to Reflect via Itera...\n         ✓ Full abstract: 271 words\n      📖 MMVU: Measuring Expert-Level Multi-Discipline Video Understa...\n         ✓ Full abstract: 178 words\n      📖 Demons in the Detail: On Implementing Load Balancing Loss fo...\n         ✓ Full abstract: 245 words\n      📖 UI-TARS: Pioneering Automated GUI Interaction with Native Ag...\n         ✓ Full abstract: 247 words\n      📖 TokenVerse: Versatile Multi-concept Personalization in Token...\n         ✓ Full abstract: 181 words\n      Progress: 5/20 papers processed\n      📖 Hunyuan3D 2.0: Scaling Diffusion Models for High Resolution ...\n         ✓ Full abstract: 188 words\n      📖 InternLM-XComposer2.5-Reward: A Simple Yet Effective Multi-M...\n         ✓ Full abstract: 233 words\n      📖 Reasoning Language Models: A Blueprint...\n         ✓ Full abstract: 273 words\n      📖 Mobile-Agent-E: Self-Evolving Mobile Assistant for Complex T...\n         ✓ Full abstract: 246 words\n      📖 Learn-by-interact: A Data-Centric Framework for Self-Adaptiv...\n         ✓ Full abstract: 238 words\n      Progress: 10/20 papers processed\n      📖 Video Depth Anything: Consistent Depth Estimation for Super-...\n         ✓ Full abstract: 223 words\n      📖 Go-with-the-Flow: Motion-Controllable Video Diffusion Models...\n         ✓ Full abstract: 208 words\n      📖 GPS as a Control Signal for Image Generation...\n         ✓ Full abstract: 123 words\n      📖 Condor: Enhance LLM Alignment with Knowledge-Driven Data Syn...\n         ✓ Full abstract: 145 words\n      📖 EMO2: End-Effector Guided Audio-Driven Avatar Video Generati...\n         ✓ Full abstract: 168 words\n      Progress: 15/20 papers processed\n      📖 Taming Teacher Forcing for Masked Autoregressive Video Gener...\n         ✓ Full abstract: 126 words\n      📖 MSTS: A Multimodal Safety Test Suite for Vision-Language Mod...\n         ✓ Full abstract: 199 words\n      📖 The Geometry of Tokens in Internal Representations of Large ...\n         ✓ Full abstract: 137 words\n      📖 Panoramic Interests: Stylistic-Content Aware Personalized He...\n         ✓ Full abstract: 129 words\n      📖 Fixing Imbalanced Attention to Mitigate In-Context Hallucina...\n         ✓ Full abstract: 196 words\n      Progress: 20/20 papers processed\n✓ 2025-01-22: 20 papers\n\n────────────────────────────────────────────────────────────────────────────────\n📊 Progress: 100 days, 819 papers total\n────────────────────────────────────────────────────────────────────────────────\n\n      📖 DeepSeek-R1: Incentivizing Reasoning Capability in LLMs via\n...\n         ✓ Full abstract: 111 words\n      📖 Kimi k1.5: Scaling Reinforcement Learning with LLMs...\n         ✓ Full abstract: 228 words\n      📖 VideoLLaMA 3: Frontier Multimodal Foundation Models for Imag...\n         ✓ Full abstract: 239 words\n      📖 FilmAgent: A Multi-Agent Framework for End-to-End Film Autom...\n         ✓ Full abstract: 202 words\n      📖 Test-Time Preference Optimization: On-the-Fly Alignment via ...\n         ✓ Full abstract: 177 words\n      Progress: 5/10 papers processed\n      📖 Autonomy-of-Experts Models...\n         ✓ Full abstract: 187 words\n      📖 O1-Pruner: Length-Harmonizing Fine-Tuning for O1-Like Reason...\n         ✓ Full abstract: 183 words\n      📖 Pairwise RM: Perform Best-of-N Sampling with Knockout Tourna...\n         ✓ Full abstract: 167 words\n      📖 Fast3R: Towards 3D Reconstruction of 1000+ Images in One For...\n         ✓ Full abstract: 134 words\n      📖 IntellAgent: A Multi-Agent Framework for Evaluating Conversa...\n         ✓ Full abstract: 236 words\n      Progress: 10/10 papers processed\n✓ 2025-01-23: 10 papers\n      📖 SRMT: Shared Memory for Multi-agent Lifelong Pathfinding...\n         ✓ Full abstract: 191 words\n      📖 Improving Video Generation with Human Feedback...\n         ✓ Full abstract: 197 words\n      📖 Sigma: Differential Rescaling of Query, Key and Value for Ef...\n         ✓ Full abstract: 219 words\n      📖 Can We Generate Images with CoT? Let's Verify and Reinforce ...\n         ✓ Full abstract: 219 words\n      📖 Video-MMMU: Evaluating Knowledge Acquisition from Multi-Disc...\n         ✓ Full abstract: 160 words\n      Progress: 5/17 papers processed\n      📖 Temporal Preference Optimization for Long-Form Video Underst...\n         ✓ Full abstract: 179 words\n      📖 IMAGINE-E: Image Generation Intelligence Evaluation of State...\n         ✓ Full abstract: 242 words\n      📖 Step-KTO: Optimizing Mathematical Reasoning through Stepwise...\n         ✓ Full abstract: 156 words\n      📖 DiffuEraser: A Diffusion Model for Video Inpainting...\n         ✓ Full abstract: 178 words\n      📖 Hallucinations Can Improve Large Language Models in Drug Dis...\n         ✓ Full abstract: 173 words\n      Progress: 10/17 papers processed\n      📖 One-Prompt-One-Story: Free-Lunch Consistent Text-to-Image Ge...\n         ✓ Full abstract: 174 words\n      📖 EchoVideo: Identity-Preserving Human Video Generation by Mul...\n         ✓ Full abstract: 181 words\n      📖 Debate Helps Weak-to-Strong Generalization...\n         ✓ Full abstract: 258 words\n      📖 EmbodiedEval: Evaluate Multimodal LLMs as Embodied Agents...\n         ✓ Full abstract: 196 words\n      📖 Evolution and The Knightian Blindspot of Machine Learning...\n         ✓ Full abstract: 263 words\n      Progress: 15/17 papers processed\n      📖 Control LLM: Controlled Evolution for Intelligence Retention...\n         ✓ Full abstract: 221 words\n      📖 GSTAR: Gaussian Surface Tracking and Reconstruction...\n         ✓ Full abstract: 177 words\n✓ 2025-01-24: 17 papers\n      📖 SRMT: Shared Memory for Multi-agent Lifelong Pathfinding...\n         ✓ Full abstract: 191 words\n      📖 Improving Video Generation with Human Feedback...\n         ✓ Full abstract: 197 words\n      📖 Sigma: Differential Rescaling of Query, Key and Value for Ef...\n         ✓ Full abstract: 219 words\n      📖 Can We Generate Images with CoT? Let's Verify and Reinforce ...\n         ✓ Full abstract: 219 words\n      📖 Video-MMMU: Evaluating Knowledge Acquisition from Multi-Disc...\n         ✓ Full abstract: 160 words\n      Progress: 5/17 papers processed\n      📖 Temporal Preference Optimization for Long-Form Video Underst...\n         ✓ Full abstract: 179 words\n      📖 IMAGINE-E: Image Generation Intelligence Evaluation of State...\n         ✓ Full abstract: 242 words\n      📖 Step-KTO: Optimizing Mathematical Reasoning through Stepwise...\n         ✓ Full abstract: 156 words\n      📖 DiffuEraser: A Diffusion Model for Video Inpainting...\n         ✓ Full abstract: 178 words\n      📖 Hallucinations Can Improve Large Language Models in Drug Dis...\n         ✓ Full abstract: 173 words\n      Progress: 10/17 papers processed\n      📖 One-Prompt-One-Story: Free-Lunch Consistent Text-to-Image Ge...\n         ✓ Full abstract: 174 words\n      📖 EchoVideo: Identity-Preserving Human Video Generation by Mul...\n         ✓ Full abstract: 181 words\n      📖 Debate Helps Weak-to-Strong Generalization...\n         ✓ Full abstract: 258 words\n      📖 EmbodiedEval: Evaluate Multimodal LLMs as Embodied Agents...\n         ✓ Full abstract: 196 words\n      📖 Evolution and The Knightian Blindspot of Machine Learning...\n         ✓ Full abstract: 263 words\n      Progress: 15/17 papers processed\n      📖 Control LLM: Controlled Evolution for Intelligence Retention...\n         ✓ Full abstract: 221 words\n      📖 GSTAR: Gaussian Surface Tracking and Reconstruction...\n         ✓ Full abstract: 177 words\n✓ 2025-01-25: 17 papers\n      📖 SRMT: Shared Memory for Multi-agent Lifelong Pathfinding...\n         ✓ Full abstract: 191 words\n      📖 Improving Video Generation with Human Feedback...\n         ✓ Full abstract: 197 words\n      📖 Sigma: Differential Rescaling of Query, Key and Value for Ef...\n         ✓ Full abstract: 219 words\n      📖 Can We Generate Images with CoT? Let's Verify and Reinforce ...\n         ✓ Full abstract: 219 words\n      📖 Video-MMMU: Evaluating Knowledge Acquisition from Multi-Disc...\n         ✓ Full abstract: 160 words\n      Progress: 5/17 papers processed\n      📖 Temporal Preference Optimization for Long-Form Video Underst...\n         ✓ Full abstract: 179 words\n      📖 IMAGINE-E: Image Generation Intelligence Evaluation of State...\n         ✓ Full abstract: 242 words\n      📖 Step-KTO: Optimizing Mathematical Reasoning through Stepwise...\n         ✓ Full abstract: 156 words\n      📖 DiffuEraser: A Diffusion Model for Video Inpainting...\n         ✓ Full abstract: 178 words\n      📖 Hallucinations Can Improve Large Language Models in Drug Dis...\n         ✓ Full abstract: 173 words\n      Progress: 10/17 papers processed\n      📖 One-Prompt-One-Story: Free-Lunch Consistent Text-to-Image Ge...\n         ✓ Full abstract: 174 words\n      📖 EchoVideo: Identity-Preserving Human Video Generation by Mul...\n         ✓ Full abstract: 181 words\n      📖 Debate Helps Weak-to-Strong Generalization...\n         ✓ Full abstract: 258 words\n      📖 EmbodiedEval: Evaluate Multimodal LLMs as Embodied Agents...\n         ✓ Full abstract: 196 words\n      📖 Evolution and The Knightian Blindspot of Machine Learning...\n         ✓ Full abstract: 263 words\n      Progress: 15/17 papers processed\n      📖 Control LLM: Controlled Evolution for Intelligence Retention...\n         ✓ Full abstract: 221 words\n      📖 GSTAR: Gaussian Surface Tracking and Reconstruction...\n         ✓ Full abstract: 177 words\n✓ 2025-01-26: 17 papers\n      📖 Humanity's Last Exam...\n         ✓ Full abstract: 174 words\n      📖 Chain-of-Retrieval Augmented Generation...\n         ✓ Full abstract: 201 words\n      📖 RealCritic: Towards Effectiveness-Driven Evaluation of Langu...\n         ✓ Full abstract: 196 words\n      📖 Redundancy Principles for MLLMs Benchmarks...\n         ✓ Full abstract: 146 words\n      📖 RL + Transformer = A General-Purpose Problem Solver...\n         ✓ Full abstract: 137 words\n      Progress: 5/12 papers processed\n      📖 Relightable Full-Body Gaussian Codec Avatars...\n         ✓ Full abstract: 244 words\n      📖 Question Answering on Patient Medical Records with Private F...\n         ✓ Full abstract: 208 words\n      📖 GeoPixel: Pixel Grounding Large Multimodal Model in Remote S...\n         ✓ Full abstract: 217 words\n      📖 Multiview Equivariance Improves 3D Correspondence Understand...\n         ✓ Full abstract: 162 words\n      📖 CatV2TON: Taming Diffusion Transformers for Vision-Based Vir...\n         ✓ Full abstract: 182 words\n      Progress: 10/12 papers processed\n      📖 Denoising as Adaptation: Noise-Space Domain Adaptation for I...\n         ✓ Full abstract: 231 words\n      📖 AdaIR: Adaptive All-in-One Image Restoration via Frequency M...\n         ❌ Request error: 429 Client Error: Too Many Requests for url: https://huggingface.co/papers/2403.14614\n         ⚠️ Detail page failed, using preview\n✓ 2025-01-27: 11 papers\n   ❌ Request error for 2025-01-28: 429 Client Error: Too Many Requests for url: https://huggingface.co/papers/date/2025-01-28\n○ 2025-01-28: no papers\n   ❌ Request error for 2025-01-29: 429 Client Error: Too Many Requests for url: https://huggingface.co/papers/date/2025-01-29\n○ 2025-01-29: no papers\n   ❌ Request error for 2025-01-30: 429 Client Error: Too Many Requests for url: https://huggingface.co/papers/date/2025-01-30\n○ 2025-01-30: no papers\n   ❌ Request error for 2025-01-31: 429 Client Error: Too Many Requests for url: https://huggingface.co/papers/date/2025-01-31\n○ 2025-01-31: no papers\n   ❌ Request error for 2025-02-01: 429 Client Error: Too Many Requests for url: https://huggingface.co/papers/date/2025-02-01\n○ 2025-02-01: no papers\n\n────────────────────────────────────────────────────────────────────────────────\n📊 Progress: 110 days, 891 papers total\n────────────────────────────────────────────────────────────────────────────────\n\n   ❌ Request error for 2025-02-02: 429 Client Error: Too Many Requests for url: https://huggingface.co/papers/date/2025-02-02\n○ 2025-02-02: no papers\n      📖 s1: Simple test-time scaling...\n         ✓ Full abstract: 184 words\n      📖 Reward-Guided Speculative Decoding for Efficient LLM Reasoni...\n         ✓ Full abstract: 160 words\n      📖 MatAnyone: Stable Video Matting with Consistent Memory Propa...\n         ✓ Full abstract: 128 words\n      📖 Self-supervised Quantized Representation for Seamlessly Inte...\n         ✓ Full abstract: 160 words\n      📖 Scalable-Softmax Is Superior for Attention...\n         ✓ Full abstract: 183 words\n      Progress: 5/16 papers processed\n      📖 PixelWorld: Towards Perceiving Everything as Pixels...\n         ✓ Full abstract: 221 words\n      📖 DINO-WM: World Models on Pre-trained Visual Features enable ...\n         ✓ Full abstract: 231 words\n      📖 Constitutional Classifiers: Defending against Universal Jail...\n         ✓ Full abstract: 156 words\n      📖 SAeUron: Interpretable Concept Unlearning in Diffusion Model...\n         ✓ Full abstract: 178 words\n      📖 The Surprising Agreement Between Convex Optimization Theory ...\n         ✓ Full abstract: 102 words\n      Progress: 10/16 papers processed\n      📖 Zero-Shot Novel View and Depth Synthesis with Multi-View Geo...\n         ✓ Full abstract: 198 words\n      📖 Trading Inference-Time Compute for Adversarial Robustness...\n         ✓ Full abstract: 150 words\n      📖 Unraveling the Capabilities of Language Models in News Summa...\n         ✓ Full abstract: 215 words\n      📖 Fast Encoder-Based 3D from Casual Videos via Point Track Pro...\n         ✓ Full abstract: 219 words\n      📖 INT: Instance-Specific Negative Mining for Task-Generic Prom...\n         ✓ Full abstract: 175 words\n      Progress: 15/16 papers processed\n      📖 ChunkKV: Semantic-Preserving KV Cache Compression for Effici...\n         ✓ Full abstract: 154 words\n✓ 2025-02-03: 16 papers\n      📖 OmniHuman-1: Rethinking the Scaling-Up of One-Stage Conditio...\n         ✓ Full abstract: 177 words\n      📖 The Differences Between Direct Alignment Algorithms are a Bl...\n         ✓ Full abstract: 179 words\n      📖 Process Reinforcement through Implicit Rewards...\n         ✓ Full abstract: 201 words\n      📖 Preference Leakage: A Contamination Problem in LLM-as-a-judg...\n         ✓ Full abstract: 188 words\n      📖 AlignVLM: Bridging Vision and Language Latent Spaces for Mul...\n         ✓ Full abstract: 168 words\n      Progress: 5/26 papers processed\n      📖 SafeRAG: Benchmarking Security in Retrieval-Augmented Genera...\n         ✓ Full abstract: 164 words\n      📖 SliderSpace: Decomposing the Visual Capabilities of Diffusio...\n         ✓ Full abstract: 155 words\n      📖 Scaling Embedding Layers in Language Models...\n         ✓ Full abstract: 130 words\n      📖 DeepRAG: Thinking to Retrieval Step by Step for Large Langua...\n         ✓ Full abstract: 116 words\n      📖 MM-IQ: Benchmarking Human-Like Abstraction and Reasoning in ...\n         ✓ Full abstract: 133 words\n      Progress: 10/26 papers processed\n      📖 MakeAnything: Harnessing Diffusion Transformers for Multi-Do...\n         ✓ Full abstract: 162 words\n      📖 ZebraLogic: On the Scaling Limits of LLMs for Logical Reason...\n         ✓ Full abstract: 177 words\n      📖 FastKV: KV Cache Compression for Fast Long-Context Processin...\n         ✓ Full abstract: 184 words\n      📖 AIN: The Arabic INclusive Large Multimodal Model...\n         ✓ Full abstract: 188 words\n      📖 The Jumping Reasoning Curve? Tracking the Evolution of Reaso...\n         ✓ Full abstract: 205 words\n      Progress: 15/26 papers processed\n      📖 Almost Surely Safe Alignment of Large Language Models at Inf...\n         ✓ Full abstract: 155 words\n      📖 Improving Transformer World Models for Data-Efficient RL...\n         ✓ Full abstract: 172 words\n      📖 PhD Knowledge Not Required: A Reasoning Challenge for Large ...\n         ✓ Full abstract: 183 words\n      📖 RandLoRA: Full-rank parameter-efficient fine-tuning of large...\n         ✓ Full abstract: 217 words\n      📖 Improved Training Technique for Latent Consistency Models...\n         ✓ Full abstract: 205 words\n      Progress: 20/26 papers processed\n      📖 Lifelong Sequential Knowledge Editing without Model Degradat...\n         ✓ Full abstract: 196 words\n      📖 LongDPO: Unlock Better Long-form Generation Abilities for LL...\n         ✓ Full abstract: 153 words\n      📖 Learning to Generate Unit Tests for Automated Debugging...\n         ✓ Full abstract: 226 words\n      📖 Language Models Prefer What They Know: Relative Confidence E...\n         ✓ Full abstract: 246 words\n      📖 A Study on the Performance of U-Net Modifications in Retrope...\n         ✓ Full abstract: 149 words\n      Progress: 25/26 papers processed\n      📖 Current Pathology Foundation Models are unrobust to Medical ...\n         ✓ Full abstract: 248 words\n✓ 2025-02-04: 26 papers\n      📖 VideoJAM: Joint Appearance-Motion Representations for Enhanc...\n         ✓ Full abstract: 208 words\n      📖 ACECODER: Acing Coder RL via Automated Test-Case Synthesis...\n         ✓ Full abstract: 195 words\n      📖 Inverse Bridge Matching Distillation...\n         ✓ Full abstract: 168 words\n      📖 Satori: Reinforcement Learning with Chain-of-Action-Thought ...\n         ✓ Full abstract: 192 words\n      📖 QLASS: Boosting Language Agent Inference via Q-Guided Stepwi...\n         ✓ Full abstract: 197 words\n      Progress: 5/14 papers processed\n      📖 Can LLMs Maintain Fundamental Abilities under KV Cache Compr...\n         ✓ Full abstract: 175 words\n      📖 Rethinking Mixture-of-Agents: Is Mixing Different Large Lang...\n         ✓ Full abstract: 227 words\n      📖 Concept Steerers: Leveraging K-Sparse Autoencoders for Contr...\n         ✓ Full abstract: 163 words\n      📖 Sample, Scrutinize and Scale: Effective Inference-Time Searc...\n         ✓ Full abstract: 187 words\n      📖 COCONut-PanCap: Joint Panoptic Segmentation and Grounded Cap...\n         ✓ Full abstract: 136 words\n      Progress: 10/14 papers processed\n      📖 Text-to-CAD Generation Through Infusing Visual Feedback in L...\n         ✓ Full abstract: 195 words\n      📖 Generating Multi-Image Synthetic Data for Text-to-Image Cust...\n         ✓ Full abstract: 151 words\n      📖 Federated Sketching LoRA: On-Device Collaborative Fine-Tunin...\n         ✓ Full abstract: 176 words\n      📖 Activation Approximations Can Incur Safety Vulnerabilities E...\n         ✓ Full abstract: 159 words\n✓ 2025-02-05: 14 papers\n      📖 SmolLM2: When Smol Goes Big -- Data-Centric Training of a Sm...\n         ✓ Full abstract: 184 words\n      📖 LIMO: Less is More for Reasoning...\n         ✓ Full abstract: 244 words\n      📖 Demystifying Long Chain-of-Thought Reasoning in LLMs...\n         ✓ Full abstract: 216 words\n      📖 TwinMarket: A Scalable Behavioral and Social Simulation for ...\n         ✓ Full abstract: 169 words\n      📖 Boosting Multimodal Reasoning with MCTS-Automated Structured...\n         ✓ Full abstract: 174 words\n      Progress: 5/14 papers processed\n      📖 LayerTracer: Cognitive-Aligned Layered SVG Synthesis via Dif...\n         ✓ Full abstract: 131 words\n      📖 Token Assorted: Mixing Latent and Text Tokens for Improved L...\n         ✓ Full abstract: 166 words\n      📖 On Teacher Hacking in Language Model Distillation...\n         ✓ Full abstract: 234 words\n      📖 Large Language Model Guided Self-Debugging Code Generation...\n         ✓ Full abstract: 140 words\n      📖 A Probabilistic Inference Approach to Inference-Time Scaling...\n         ✓ Full abstract: 219 words\n      Progress: 10/14 papers processed\n      📖 Jailbreaking with Universal Multi-Prompts...\n         ✓ Full abstract: 121 words\n      📖 Activation-Informed Merging of Large Language Models...\n         ✓ Full abstract: 157 words\n      📖 Riddle Me This! Stealthy Membership Inference for Retrieval-...\n         ✓ Full abstract: 166 words\n      📖 HackerRank-ASTRA: Evaluating Correctness & Consistency of La...\n         ✓ Full abstract: 140 words\n✓ 2025-02-06: 14 papers\n      📖 Analyze Feature Flow to Enhance Interpretation and Steering ...\n         ✓ Full abstract: 130 words\n      📖 Gold-medalist Performance in Solving Olympiad Geometry with\n...\n         ✓ Full abstract: 194 words\n      📖 ConceptAttention: Diffusion Transformers Learn Highly Interp...\n         ✓ Full abstract: 151 words\n      📖 Great Models Think Alike and this Undermines AI Oversight...\n         ✓ Full abstract: 176 words\n      📖 Ola: Pushing the Frontiers of Omni-Modal Language Model with...\n         ✓ Full abstract: 227 words\n      Progress: 5/22 papers processed\n      📖 DynVFX: Augmenting Real Videos with Dynamic Content...\n         ✓ Full abstract: 186 words\n      📖 Llasa: Scaling Train-Time and Inference-Time Compute for Lla...\n         ✓ Full abstract: 208 words\n      📖 BOLT: Bootstrap Long Chain-of-Thought in Language Models wit...\n         ✓ Full abstract: 245 words\n      📖 UltraIF: Advancing Instruction Following from the Wild...\n         ✓ Full abstract: 185 words\n      📖 Weak-to-Strong Diffusion with Reflection...\n         ✓ Full abstract: 229 words\n      Progress: 10/22 papers processed\n      📖 MAGA: MAssive Genre-Audience Reformulation to Pretraining Co...\n         ✓ Full abstract: 166 words\n      📖 ScoreFlow: Mastering LLM Agent Workflows via Score-based Pre...\n         ✓ Full abstract: 131 words\n      📖 MotionLab: Unified Human Motion Generation and Editing via t...\n         ✓ Full abstract: 225 words\n      📖 MotionCanvas: Cinematic Shot Design with Controllable Image-...\n         ✓ Full abstract: 215 words\n      📖 Beyond Prompt Content: Enhancing LLM Performance via Content...\n         ✓ Full abstract: 138 words\n      Progress: 15/22 papers processed\n      📖 PILAF: Optimal Human Preference Sampling for Reward Modeling...\n         ✓ Full abstract: 129 words\n      📖 Towards Physical Understanding in Video Generation: A 3D Poi...\n         ✓ Full abstract: 176 words\n      📖 ChartCitor: Multi-Agent Framework for Fine-Grained Chart Vis...\n         ✓ Full abstract: 126 words\n      📖 Learning Real-World Action-Video Dynamics with Heterogeneous...\n         ✓ Full abstract: 133 words\n      📖 PlotGen: Multi-Agent LLM-based Scientific Data Visualization...\n         ✓ Full abstract: 194 words\n      Progress: 20/22 papers processed\n      📖 Enhancing Code Generation for Low-Resource Languages: No Sil...\n         ✓ Full abstract: 436 words\n      📖 Speak Easy: Eliciting Harmful Jailbreaks from LLMs with Simp...\n         ✓ Full abstract: 178 words\n✓ 2025-02-07: 22 papers\n      📖 Analyze Feature Flow to Enhance Interpretation and Steering ...\n         ✓ Full abstract: 130 words\n      📖 Gold-medalist Performance in Solving Olympiad Geometry with\n...\n         ❌ Request error: 429 Client Error: Too Many Requests for url: https://huggingface.co/papers/2502.03544\n         ⚠️ Detail page failed, using preview\n      📖 ConceptAttention: Diffusion Transformers Learn Highly Interp...\n         ❌ Request error: 429 Client Error: Too Many Requests for url: https://huggingface.co/papers/2502.04320\n         ⚠️ Detail page failed, using preview\n      📖 Great Models Think Alike and this Undermines AI Oversight...\n         ❌ Request error: 429 Client Error: Too Many Requests for url: https://huggingface.co/papers/2502.04313\n         ⚠️ Detail page failed, using preview\n      📖 Ola: Pushing the Frontiers of Omni-Modal Language Model with...\n         ❌ Request error: 429 Client Error: Too Many Requests for url: https://huggingface.co/papers/2502.04328\n         ⚠️ Detail page failed, using preview\n      📖 DynVFX: Augmenting Real Videos with Dynamic Content...\n         ❌ Request error: 429 Client Error: Too Many Requests for url: https://huggingface.co/papers/2502.03621\n         ⚠️ Detail page failed, using preview\n      📖 Llasa: Scaling Train-Time and Inference-Time Compute for Lla...\n         ❌ Request error: 429 Client Error: Too Many Requests for url: https://huggingface.co/papers/2502.04128\n         ⚠️ Detail page failed, using preview\n      📖 BOLT: Bootstrap Long Chain-of-Thought in Language Models wit...\n         ❌ Request error: 429 Client Error: Too Many Requests for url: https://huggingface.co/papers/2502.03860\n         ⚠️ Detail page failed, using preview\n      📖 UltraIF: Advancing Instruction Following from the Wild...\n         ❌ Request error: 429 Client Error: Too Many Requests for url: https://huggingface.co/papers/2502.04153\n         ⚠️ Detail page failed, using preview\n      📖 Weak-to-Strong Diffusion with Reflection...\n         ❌ Request error: 429 Client Error: Too Many Requests for url: https://huggingface.co/papers/2502.00473\n         ⚠️ Detail page failed, using preview\n      📖 MAGA: MAssive Genre-Audience Reformulation to Pretraining Co...\n         ❌ Request error: 429 Client Error: Too Many Requests for url: https://huggingface.co/papers/2502.04235\n         ⚠️ Detail page failed, using preview\n      📖 ScoreFlow: Mastering LLM Agent Workflows via Score-based Pre...\n         ❌ Request error: 429 Client Error: Too Many Requests for url: https://huggingface.co/papers/2502.04306\n         ⚠️ Detail page failed, using preview\n      📖 MotionLab: Unified Human Motion Generation and Editing via t...\n         ❌ Request error: 429 Client Error: Too Many Requests for url: https://huggingface.co/papers/2502.02358\n         ⚠️ Detail page failed, using preview\n      📖 MotionCanvas: Cinematic Shot Design with Controllable Image-...\n         ❌ Request error: 429 Client Error: Too Many Requests for url: https://huggingface.co/papers/2502.04299\n         ⚠️ Detail page failed, using preview\n      📖 Beyond Prompt Content: Enhancing LLM Performance via Content...\n         ❌ Request error: 429 Client Error: Too Many Requests for url: https://huggingface.co/papers/2502.04295\n         ⚠️ Detail page failed, using preview\n      📖 PILAF: Optimal Human Preference Sampling for Reward Modeling...\n         ❌ Request error: 429 Client Error: Too Many Requests for url: https://huggingface.co/papers/2502.04270\n         ⚠️ Detail page failed, using preview\n      📖 Towards Physical Understanding in Video Generation: A 3D Poi...\n         ❌ Request error: 429 Client Error: Too Many Requests for url: https://huggingface.co/papers/2502.03639\n         ⚠️ Detail page failed, using preview\n      📖 ChartCitor: Multi-Agent Framework for Fine-Grained Chart Vis...\n         ❌ Request error: 429 Client Error: Too Many Requests for url: https://huggingface.co/papers/2502.00989\n         ⚠️ Detail page failed, using preview\n      📖 Learning Real-World Action-Video Dynamics with Heterogeneous...\n         ✓ Full abstract: 133 words\n      📖 PlotGen: Multi-Agent LLM-based Scientific Data Visualization...\n         ✓ Full abstract: 194 words\n      Progress: 20/22 papers processed\n      📖 Enhancing Code Generation for Low-Resource Languages: No Sil...\n         ✓ Full abstract: 436 words\n      📖 Speak Easy: Eliciting Harmful Jailbreaks from LLMs with Simp...\n         ✓ Full abstract: 178 words\n✓ 2025-02-08: 5 papers\n      📖 Analyze Feature Flow to Enhance Interpretation and Steering ...\n         ✓ Full abstract: 130 words\n      📖 Gold-medalist Performance in Solving Olympiad Geometry with\n...\n         ✓ Full abstract: 194 words\n      📖 ConceptAttention: Diffusion Transformers Learn Highly Interp...\n         ✓ Full abstract: 151 words\n      📖 Great Models Think Alike and this Undermines AI Oversight...\n         ✓ Full abstract: 176 words\n      📖 Ola: Pushing the Frontiers of Omni-Modal Language Model with...\n         ✓ Full abstract: 227 words\n      Progress: 5/22 papers processed\n      📖 DynVFX: Augmenting Real Videos with Dynamic Content...\n         ✓ Full abstract: 186 words\n      📖 Llasa: Scaling Train-Time and Inference-Time Compute for Lla...\n         ✓ Full abstract: 208 words\n      📖 BOLT: Bootstrap Long Chain-of-Thought in Language Models wit...\n         ✓ Full abstract: 245 words\n      📖 UltraIF: Advancing Instruction Following from the Wild...\n         ✓ Full abstract: 185 words\n      📖 Weak-to-Strong Diffusion with Reflection...\n         ✓ Full abstract: 229 words\n      Progress: 10/22 papers processed\n      📖 MAGA: MAssive Genre-Audience Reformulation to Pretraining Co...\n         ✓ Full abstract: 166 words\n      📖 ScoreFlow: Mastering LLM Agent Workflows via Score-based Pre...\n         ✓ Full abstract: 131 words\n      📖 MotionLab: Unified Human Motion Generation and Editing via t...\n         ✓ Full abstract: 225 words\n      📖 MotionCanvas: Cinematic Shot Design with Controllable Image-...\n         ✓ Full abstract: 215 words\n      📖 Beyond Prompt Content: Enhancing LLM Performance via Content...\n         ✓ Full abstract: 138 words\n      Progress: 15/22 papers processed\n      📖 PILAF: Optimal Human Preference Sampling for Reward Modeling...\n         ✓ Full abstract: 129 words\n      📖 Towards Physical Understanding in Video Generation: A 3D Poi...\n         ✓ Full abstract: 176 words\n      📖 ChartCitor: Multi-Agent Framework for Fine-Grained Chart Vis...\n         ✓ Full abstract: 126 words\n      📖 Learning Real-World Action-Video Dynamics with Heterogeneous...\n         ✓ Full abstract: 133 words\n      📖 PlotGen: Multi-Agent LLM-based Scientific Data Visualization...\n         ✓ Full abstract: 194 words\n      Progress: 20/22 papers processed\n      📖 Enhancing Code Generation for Low-Resource Languages: No Sil...\n         ✓ Full abstract: 436 words\n      📖 Speak Easy: Eliciting Harmful Jailbreaks from LLMs with Simp...\n         ✓ Full abstract: 178 words\n✓ 2025-02-09: 22 papers\n      📖 Scaling up Test-Time Compute with Latent Reasoning: A Recurr...\n         ✓ Full abstract: 126 words\n      📖 Goku: Flow Based Video Generative Foundation Models...\n         ✓ Full abstract: 110 words\n      📖 VideoRoPE: What Makes for Good Video Rotary Position Embeddi...\n         ✓ Full abstract: 184 words\n      📖 Fast Video Generation with Sliding Tile Attention...\n         ✓ Full abstract: 175 words\n      📖 QuEST: Stable Training of LLMs with 1-Bit Weights and Activa...\n         ✓ Full abstract: 241 words\n      Progress: 5/27 papers processed\n      📖 AuraFusion360: Augmented Unseen Region Alignment for Referen...\n         ✓ Full abstract: 138 words\n      📖 Step Back to Leap Forward: Self-Backtracking for Boosting Re...\n         ✓ Full abstract: 176 words\n      📖 FlashVideo:Flowing Fidelity to Detail for Efficient High-Res...\n         ✓ Full abstract: 184 words\n      📖 DuoGuard: A Two-Player RL-Driven Framework for Multilingual ...\n         ✓ Full abstract: 216 words\n      📖 Agency Is Frame-Dependent...\n         ✓ Full abstract: 146 words\n      Progress: 10/27 papers processed\n      📖 Generating Symbolic World Models via Test-time Scaling of La...\n         ✓ Full abstract: 237 words\n      📖 CMoE: Fast Carving of Mixture-of-Experts for Efficient LLM I...\n         ✓ Full abstract: 159 words\n      📖 On-device Sora: Enabling Diffusion-Based Text-to-Video Gener...\n         ✓ Full abstract: 220 words\n      📖 No Task Left Behind: Isotropic Model Merging with Common and...\n         ✓ Full abstract: 160 words\n      📖 Linear Correlation in LM's Compositional Generalization and\n...\n         ✓ Full abstract: 160 words\n      Progress: 15/27 papers processed\n      📖 Scaling Laws in Patchification: An Image Is Worth 50,176 Tok...\n         ✓ Full abstract: 219 words\n      📖 CodeSteer: Symbolic-Augmented Language Models via Code/Text ...\n         ✓ Full abstract: 182 words\n      📖 QLIP: Text-Aligned Visual Tokenization Unifies Auto-Regressi...\n         ✓ Full abstract: 139 words\n      📖 Lost in Time: Clock and Calendar Understanding Challenges in...\n         ✓ Full abstract: 148 words\n      📖 ARR: Question Answering with Large Language Models via Analy...\n         ✓ Full abstract: 141 words\n      Progress: 20/27 papers processed\n      📖 Value-Based Deep RL Scales Predictably...\n         ✓ Full abstract: 200 words\n      📖 YINYANG-ALIGN: Benchmarking Contradictory Objectives and Pro...\n         ✓ Full abstract: 162 words\n      📖 Continuous 3D Perception Model with Persistent State...\n         ✓ Full abstract: 173 words\n      📖 Adaptive Semantic Prompt Caching with VectorQ...\n         ✓ Full abstract: 137 words\n      📖 MEETING DELEGATE: Benchmarking LLMs on Attending Meetings on...\n         ✓ Full abstract: 189 words\n      Progress: 25/27 papers processed\n      📖 SPARC: Subspace-Aware Prompt Adaptation for Robust Continual...\n         ✓ Full abstract: 182 words\n      📖 Intelligent Sensing-to-Action for Robust Autonomy at the Edg...\n         ✓ Full abstract: 232 words\n✓ 2025-02-10: 27 papers\n      📖 Can 1B LLM Surpass 405B LLM? Rethinking Compute-Optimal Test...\n         ✓ Full abstract: 234 words\n      📖 SynthDetoxM: Modern LLMs are Few-Shot Parallel Detoxificatio...\n         ✓ Full abstract: 133 words\n      📖 Exploring the Limit of Outcome Reward for Learning Mathemati...\n         ✓ Full abstract: 259 words\n      📖 The Curse of Depth in Large Language Models...\n         ✓ Full abstract: 225 words\n      📖 Training Language Models for Social Deduction with Multi-Age...\n         ✓ Full abstract: 228 words\n      Progress: 5/26 papers processed\n      📖 Matryoshka Quantization...\n         ✓ Full abstract: 207 words\n      📖 LM2: Large Memory Models...\n         ✓ Full abstract: 186 words\n      📖 CODESIM: Multi-Agent Code Generation and Problem Solving thr...\n         ✓ Full abstract: 179 words\n      📖 ReasonFlux: Hierarchical LLM Reasoning via Scaling Thought T...\n         ✓ Full abstract: 181 words\n      📖 Show-o Turbo: Towards Accelerated Unified Multimodal Underst...\n         ✓ Full abstract: 186 words\n      Progress: 10/26 papers processed\n      📖 Lossless Acceleration of Large Language Models with Hierarch...\n         ✓ Full abstract: 157 words\n      📖 MetaChain: A Fully-Automated and Zero-Code Framework for LLM...\n         ✓ Full abstract: 219 words\n      📖 Lumina-Video: Efficient and Flexible Video Generation with M...\n         ✓ Full abstract: 176 words\n      📖 EVEv2: Improved Baselines for Encoder-Free Vision-Language M...\n         ✓ Full abstract: 152 words\n      📖 History-Guided Video Diffusion...\n         ✓ Full abstract: 184 words\n      Progress: 15/26 papers processed\n      📖 The Hidden Life of Tokens: Reducing Hallucination of Large\n ...\n         ✓ Full abstract: 209 words\n      📖 CustomVideoX: 3D Reference Attention Driven Dynamic Adaptati...\n         ✓ Full abstract: 201 words\n      📖 Efficient-vDiT: Efficient Video Diffusion Transformers With ...\n         ✓ Full abstract: 213 words\n      📖 InSTA: Towards Internet-Scale Training For Agents...\n         ✓ Full abstract: 176 words\n      📖 Dual Caption Preference Optimization for Diffusion Models...\n         ✓ Full abstract: 200 words\n      Progress: 20/26 papers processed\n      📖 DreamDPO: Aligning Text-to-3D Generation with Human Preferen...\n         ✓ Full abstract: 142 words\n      📖 Steel-LLM:From Scratch to Open Source -- A Personal Journey ...\n         ✓ Full abstract: 158 words\n      📖 APE: Faster and Longer Context-Augmented Generation via Adap...\n         ✓ Full abstract: 199 words\n      📖 Jakiro: Boosting Speculative Decoding with Decoupled Multi-H...\n         ✓ Full abstract: 171 words\n      📖 Embodied Red Teaming for Auditing Robotic Foundation Models...\n         ✓ Full abstract: 153 words\n      Progress: 25/26 papers processed\n      📖 Forbidden Science: Dual-Use AI Challenge Benchmark and Scien...\n         ✓ Full abstract: 178 words\n✓ 2025-02-11: 26 papers\n\n────────────────────────────────────────────────────────────────────────────────\n📊 Progress: 120 days, 1063 papers total\n────────────────────────────────────────────────────────────────────────────────\n\n      📖 Expect the Unexpected: FailSafe Long Context QA for Finance...\n         ✓ Full abstract: 212 words\n      📖 Competitive Programming with Large Reasoning Models...\n         ✓ Full abstract: 195 words\n      📖 CodeI/O: Condensing Reasoning Patterns via Code Input-Output...\n         ✓ Full abstract: 186 words\n      📖 Retrieval-augmented Large Language Models for Financial Time...\n         ✓ Full abstract: 181 words\n      📖 LLMs Can Easily Learn to Reason from Demonstrations Structur...\n         ✓ Full abstract: 239 words\n      Progress: 5/26 papers processed\n      📖 Magic 1-For-1: Generating One Minute Video Clips within One ...\n         ✓ Full abstract: 220 words\n      📖 Scaling Pre-training to One Hundred Billion Data for Vision ...\n         ✓ Full abstract: 147 words\n      📖 Gemstones: A Model Suite for Multi-Faceted Scaling Laws...\n         ✓ Full abstract: 154 words\n      📖 Teaching Language Models to Critique via Reinforcement Learn...\n         ✓ Full abstract: 134 words\n      📖 Enhance-A-Video: Better Generated Video for Free...\n         ✓ Full abstract: 103 words\n      Progress: 10/26 papers processed\n      📖 NatureLM: Deciphering the Language of Nature for Scientific ...\n         ✓ Full abstract: 219 words\n      📖 Hephaestus: Improving Fundamental Agent Capabilities of Larg...\n         ✓ Full abstract: 151 words\n      📖 VidCRAFT3: Camera, Object, and Lighting Control for Image-to...\n         ✓ Full abstract: 202 words\n      📖 Pippo: High-Resolution Multi-View Humans from a Single Image...\n         ✓ Full abstract: 174 words\n      📖 Forget What You Know about LLMs Evaluations - LLMs are Like ...\n         ✓ Full abstract: 201 words\n      Progress: 15/26 papers processed\n      📖 Hypencoder: Hypernetworks for Information Retrieval...\n         ✓ Full abstract: 228 words\n      📖 Éclair -- Extracting Content and Layout with Integrated Read...\n         ❌ Request error: 429 Client Error: Too Many Requests for url: https://huggingface.co/papers/2502.04223\n         ⚠️ Detail page failed, using preview\n      📖 Goedel-Prover: A Frontier Model for Open-Source Automated Th...\n         ❌ Request error: 429 Client Error: Too Many Requests for url: https://huggingface.co/papers/2502.07640\n         ⚠️ Detail page failed, using preview\n      📖 CoS: Chain-of-Shot Prompting for Long Video Understanding...\n         ❌ Request error: 429 Client Error: Too Many Requests for url: https://huggingface.co/papers/2502.06428\n         ⚠️ Detail page failed, using preview\n      📖 Mask-Enhanced Autoregressive Prediction: Pay Less Attention ...\n         ❌ Request error: 429 Client Error: Too Many Requests for url: https://huggingface.co/papers/2502.07490\n         ⚠️ Detail page failed, using preview\n      📖 CAD-Editor: A Locate-then-Infill Framework with Automated Tr...\n         ❌ Request error: 429 Client Error: Too Many Requests for url: https://huggingface.co/papers/2502.03997\n         ⚠️ Detail page failed, using preview\n      📖 Sparse Autoencoders for Scientifically Rigorous Interpretati...\n         ❌ Request error: 429 Client Error: Too Many Requests for url: https://huggingface.co/papers/2502.06755\n         ⚠️ Detail page failed, using preview\n      📖 Auditing Prompt Caching in Language Model APIs...\n         ❌ Request error: 429 Client Error: Too Many Requests for url: https://huggingface.co/papers/2502.07776\n         ⚠️ Detail page failed, using preview\n      📖 Skill Expansion and Composition in Parameter Space...\n         ❌ Request error: 429 Client Error: Too Many Requests for url: https://huggingface.co/papers/2502.05932\n         ⚠️ Detail page failed, using preview\n      📖 FocalCodec: Low-Bitrate Speech Coding via Focal Modulation N...\n         ❌ Request error: 429 Client Error: Too Many Requests for url: https://huggingface.co/papers/2502.04465\n         ⚠️ Detail page failed, using preview\n      📖 Learning Conformal Abstention Policies for Adaptive Risk Man...\n         ❌ Request error: 429 Client Error: Too Many Requests for url: https://huggingface.co/papers/2502.06884\n         ⚠️ Detail page failed, using preview\n✓ 2025-02-12: 16 papers\n   ❌ Request error for 2025-02-13: 429 Client Error: Too Many Requests for url: https://huggingface.co/papers/date/2025-02-13\n○ 2025-02-13: no papers\n   ❌ Request error for 2025-02-14: 429 Client Error: Too Many Requests for url: https://huggingface.co/papers/date/2025-02-14\n○ 2025-02-14: no papers\n   ❌ Request error for 2025-02-15: 429 Client Error: Too Many Requests for url: https://huggingface.co/papers/date/2025-02-15\n○ 2025-02-15: no papers\n   ❌ Request error for 2025-02-16: 429 Client Error: Too Many Requests for url: https://huggingface.co/papers/date/2025-02-16\n○ 2025-02-16: no papers\n      📖 Large Language Diffusion Models...\n         ✓ Full abstract: 157 words\n      📖 The Danger of Overthinking: Examining the Reasoning-Action D...\n         ✓ Full abstract: 189 words\n      📖 Step-Video-T2V Technical Report: The Practice, Challenges, a...\n         ✓ Full abstract: 203 words\n      📖 Region-Adaptive Sampling for Diffusion Transformers...\n         ✓ Full abstract: 233 words\n      📖 ZeroBench: An Impossible Visual Benchmark for Contemporary L...\n         ✓ Full abstract: 125 words\n      Progress: 5/23 papers processed\n      📖 MM-RLHF: The Next Step Forward in Multimodal LLM Alignment...\n         ✓ Full abstract: 249 words\n      📖 ImageRAG: Dynamic Image Retrieval for Reference-Guided Image...\n         ✓ Full abstract: 135 words\n      📖 Diverse Inference and Verification for Advanced Reasoning...\n         ✓ Full abstract: 193 words\n      📖 DarwinLM: Evolutionary Structured Pruning of Large Language ...\n         ✓ Full abstract: 182 words\n      📖 FoNE: Precise Single-Token Number Embeddings via Fourier Fea...\n         ✓ Full abstract: 195 words\n      Progress: 10/23 papers processed\n      📖 Precise Parameter Localization for Textual Generation in Dif...\n         ✓ Full abstract: 204 words\n      📖 We Can't Understand AI Using our Existing Vocabulary...\n         ✓ Full abstract: 187 words\n      📖 AdaPTS: Adapting Univariate Foundation Models to Probabilist...\n         ✓ Full abstract: 164 words\n      📖 Small Models, Big Impact: Efficient Corpus and Graph-Based A...\n         ✓ Full abstract: 209 words\n      📖 Selective Self-to-Supervised Fine-Tuning for Generalization ...\n         ✓ Full abstract: 205 words\n      Progress: 15/23 papers processed\n      📖 Text-guided Sparse Voxel Pruning for Efficient 3D Visual Gro...\n         ✓ Full abstract: 226 words\n      📖 STMA: A Spatio-Temporal Memory Agent for Long-Horizon Embodi...\n         ✓ Full abstract: 149 words\n      📖 V2V-LLM: Vehicle-to-Vehicle Cooperative Autonomous Driving w...\n         ✓ Full abstract: 210 words\n      📖 Cluster and Predict Latents Patches for Improved Masked Imag...\n         ✓ Full abstract: 112 words\n      📖 MRS: A Fast Sampler for Mean Reverting Diffusion based on OD...\n         ✓ Full abstract: 217 words\n      Progress: 20/23 papers processed\n      📖 Jailbreaking to Jailbreak...\n         ✓ Full abstract: 191 words\n      📖 CLaMP 3: Universal Music Information Retrieval Across Unalig...\n         ✓ Full abstract: 152 words\n      📖 Agentic End-to-End De Novo Protein Design for Tailored Dynam...\n         ✓ Full abstract: 216 words\n✓ 2025-02-17: 23 papers\n      📖 Native Sparse Attention: Hardware-Aligned and Natively Train...\n         ✓ Full abstract: 169 words\n      📖 SWE-Lancer: Can Frontier LLMs Earn $1 Million from Real-Worl...\n         ✓ Full abstract: 129 words\n      📖 Learning Getting-Up Policies for Real-World Humanoid Robots...\n         ✓ Full abstract: 223 words\n      📖 I Think, Therefore I Diffuse: Enabling Multimodal In-Context...\n         ✓ Full abstract: 197 words\n      📖 ReLearn: Unlearning via Learning for Large Language Models...\n         ✓ Full abstract: 130 words\n      Progress: 5/38 papers processed\n      📖 How Do LLMs Acquire New Knowledge? A Knowledge Circuits Pers...\n         ✓ Full abstract: 144 words\n      📖 CRANE: Reasoning with constrained LLM generation...\n         ✓ Full abstract: 192 words\n      📖 Intuitive physics understanding emerges from self-supervised...\n         ✓ Full abstract: 159 words\n      📖 IHEval: Evaluating Language Models on Following the Instruct...\n         ✓ Full abstract: 149 words\n      📖 Sailor2: Sailing in South-East Asia with Inclusive Multiling...\n         ✓ Full abstract: 127 words\n      Progress: 10/38 papers processed\n      📖 HermesFlow: Seamlessly Closing the Gap in Multimodal Underst...\n         ✓ Full abstract: 169 words\n      📖 Ask in Any Modality: A Comprehensive Survey on Multimodal\n  ...\n         ✓ Full abstract: 179 words\n      📖 Diffusion-Sharpening: Fine-tuning Diffusion Models with Deno...\n         ✓ Full abstract: 131 words\n      📖 System Message Generation for User Preferences using Open-So...\n         ✓ Full abstract: 168 words\n      📖 Talk Structurally, Act Hierarchically: A Collaborative Frame...\n         ✓ Full abstract: 141 words\n      Progress: 15/38 papers processed\n      📖 Explorer: Scaling Exploration-driven Web Trajectory Synthesi...\n         ✓ Full abstract: 205 words\n      📖 The Mirage of Model Editing: Revisiting Evaluation in the Wi...\n         ✓ Full abstract: 188 words\n      📖 SURGE: On the Potential of Large Language Models as General-...\n         ✓ Full abstract: 188 words\n      📖 video-SALMONN-o1: Reasoning-enhanced Audio-visual Large Lang...\n         ✓ Full abstract: 169 words\n      📖 Diffusion Models without Classifier-free Guidance...\n         ✓ Full abstract: 121 words\n      Progress: 20/38 papers processed\n      📖 MagicArticulate: Make Your 3D Models Articulation-Ready...\n         ✓ Full abstract: 178 words\n      📖 SAFE-SQL: Self-Augmented In-Context Learning with Fine-grain...\n         ✓ Full abstract: 137 words\n      📖 EQ-VAE: Equivariance Regularized Latent Space for Improved G...\n         ✓ Full abstract: 162 words\n      📖 PhysReason: A Comprehensive Benchmark towards Physics-Based ...\n         ✓ Full abstract: 169 words\n      📖 Cuckoo: An IE Free Rider Hatched by Massive Nutrition in LLM...\n         ✓ Full abstract: 143 words\n      Progress: 25/38 papers processed\n      📖 Dyve: Thinking Fast and Slow for Dynamic Process Verificatio...\n         ✓ Full abstract: 95 words\n      📖 One Example Shown, Many Concepts Known! Counterexample-Drive...\n         ✓ Full abstract: 193 words\n      📖 Building A Proof-Oriented Programmer That Is 64% Better Than...\n         ✓ Full abstract: 166 words\n      📖 Memory, Benchmark & Robots: A Benchmark for Solving Complex ...\n         ✓ Full abstract: 170 words\n      📖 Can a Single Model Master Both Multi-turn Conversations and ...\n         ✓ Full abstract: 180 words\n      Progress: 30/38 papers processed\n      📖 ILIAS: Instance-Level Image retrieval At Scale...\n         ✓ Full abstract: 201 words\n      📖 Show Me the Work: Fact-Checkers' Requirements for Explainabl...\n         ✓ Full abstract: 149 words\n      📖 Large Language Models and Mathematical Reasoning Failures...\n         ✓ Full abstract: 171 words\n      📖 Towards Data-Efficient Pretraining for Atomic Property Predi...\n         ✓ Full abstract: 156 words\n      📖 Better Embeddings with Coupled Adam...\n         ✓ Full abstract: 75 words\n      Progress: 35/38 papers processed\n      📖 Data Valuation using Neural Networks for Efficient Instructi...\n         ✓ Full abstract: 208 words\n      📖 Language Complexity Measurement as a Noisy Zero-Shot Proxy f...\n         ✓ Full abstract: 173 words\n      📖 ExaGPT: Example-Based Machine-Generated Text Detection for H...\n         ✓ Full abstract: 208 words\n✓ 2025-02-18: 38 papers\n      📖 Soundwave: Less is More for Speech-Text Alignment in LLMs...\n         ✓ Full abstract: 103 words\n      📖 Cramming 1568 Tokens into a Single Vector and Back Again: Ex...\n         ✓ Full abstract: 200 words\n      📖 Phantom: Subject-consistent video generation via cross-modal...\n         ✓ Full abstract: 137 words\n      📖 Magma: A Foundation Model for Multimodal AI Agents...\n         ✓ Full abstract: 228 words\n      📖 Continuous Diffusion Model for Language Modeling...\n         ✓ Full abstract: 186 words\n      Progress: 5/32 papers processed\n      📖 Multimodal Mamba: Decoder-only Multimodal State Space Model ...\n         ✓ Full abstract: 191 words\n      📖 Rethinking Diverse Human Preference Learning through Princip...\n         ✓ Full abstract: 174 words\n      📖 You Do Not Fully Utilize Transformer's Representation Capaci...\n         ✓ Full abstract: 137 words\n      📖 FLAG-Trader: Fusion LLM-Agent with Gradient-based Reinforcem...\n         ✓ Full abstract: 126 words\n      📖 SoFar: Language-Grounded Orientation Bridges Spatial Reasoni...\n         ✓ Full abstract: 204 words\n      Progress: 10/32 papers processed\n      📖 SafeRoute: Adaptive Model Selection for Efficient and Accura...\n         ✓ Full abstract: 150 words\n      📖 OctoTools: An Agentic Framework with Extensible Tools for Co...\n         ✓ Full abstract: 160 words\n      📖 Atom of Thoughts for Markov LLM Test-Time Scaling...\n         ✓ Full abstract: 236 words\n      📖 RealSyn: An Effective and Scalable Multimodal Interleaved Do...\n         ✓ Full abstract: 174 words\n      📖 Revisiting the Test-Time Scaling of o1-like Models: Do they ...\n         ✓ Full abstract: 158 words\n      Progress: 15/32 papers processed\n      📖 PAFT: Prompt-Agnostic Fine-Tuning...\n         ✓ Full abstract: 147 words\n      📖 Text2World: Benchmarking Large Language Models for Symbolic ...\n         ✓ Full abstract: 166 words\n      📖 HeadInfer: Memory-Efficient LLM Inference by Head-wise Offlo...\n         ✓ Full abstract: 178 words\n      📖 YOLOv12: Attention-Centric Real-Time Object Detectors...\n         ✓ Full abstract: 166 words\n      📖 MUDDFormer: Breaking Residual Bottlenecks in Transformers vi...\n         ✓ Full abstract: 151 words\n      Progress: 20/32 papers processed\n      📖 HealthGPT: A Medical Large Vision-Language Model for Unifyin...\n         ✓ Full abstract: 111 words\n      📖 Eager Updates For Overlapped Communication and Computation i...\n         ✓ Full abstract: 161 words\n      📖 Flow-of-Options: Diversified and Improved LLM Reasoning by T...\n         ✓ Full abstract: 163 words\n      📖 The Hidden Risks of Large Reasoning Models: A Safety Assessm...\n         ✓ Full abstract: 213 words\n      📖 Pre-training Auto-regressive Robotic Models with 4D Represen...\n         ✓ Full abstract: 164 words\n      Progress: 25/32 papers processed\n      📖 Crowd Comparative Reasoning: Unlocking Comprehensive Evaluat...\n         ✓ Full abstract: 170 words\n      📖 FinMTEB: Finance Massive Text Embedding Benchmark...\n         ✓ Full abstract: 211 words\n      📖 Injecting Domain-Specific Knowledge into Large Language Mode...\n         ✓ Full abstract: 188 words\n      📖 Perovskite-LLM: Knowledge-Enhanced Large Language Models for...\n         ✓ Full abstract: 145 words\n      📖 Scaling Autonomous Agents via Automatic Reward Modeling And ...\n         ✓ Full abstract: 261 words\n      Progress: 30/32 papers processed\n      📖 Multilingual Encoder Knows more than You Realize: Shared Wei...\n         ✓ Full abstract: 136 words\n      📖 Harnessing Vision Models for Time Series Analysis: A Survey...\n         ✓ Full abstract: 196 words\n✓ 2025-02-19: 32 papers\n      📖 Qwen2.5-VL Technical Report...\n         ✓ Full abstract: 253 words\n      📖 On the Trustworthiness of Generative Foundation Models: Guid...\n         ✓ Full abstract: 244 words\n      📖 MMTEB: Massive Multilingual Text Embedding Benchmark...\n         ✓ Full abstract: 225 words\n      📖 SongGen: A Single Stage Auto-regressive Transformer for Text...\n         ❌ Request error: 429 Client Error: Too Many Requests for url: https://huggingface.co/papers/2502.13128\n         ⚠️ Detail page failed, using preview\n      📖 Small Models Struggle to Learn from Strong Reasoners...\n         ❌ Request error: 429 Client Error: Too Many Requests for url: https://huggingface.co/papers/2502.12143\n         ⚠️ Detail page failed, using preview\n      📖 RAD: Training an End-to-End Driving Policy via Large-Scale 3...\n         ❌ Request error: 429 Client Error: Too Many Requests for url: https://huggingface.co/papers/2502.13144\n         ⚠️ Detail page failed, using preview\n      📖 MoM: Linear Sequence Modeling with Mixture-of-Memories...\n         ❌ Request error: 429 Client Error: Too Many Requests for url: https://huggingface.co/papers/2502.13685\n         ⚠️ Detail page failed, using preview\n      📖 Is That Your Final Answer? Test-Time Scaling Improves Select...\n         ❌ Request error: 429 Client Error: Too Many Requests for url: https://huggingface.co/papers/2502.13962\n         ⚠️ Detail page failed, using preview\n      📖 Craw4LLM: Efficient Web Crawling for LLM Pretraining...\n         ❌ Request error: 429 Client Error: Too Many Requests for url: https://huggingface.co/papers/2502.13347\n         ⚠️ Detail page failed, using preview\n      📖 LongPO: Long Context Self-Evolution of Large Language Models...\n         ❌ Request error: 429 Client Error: Too Many Requests for url: https://huggingface.co/papers/2502.13922\n         ⚠️ Detail page failed, using preview\n      📖 Autellix: An Efficient Serving Engine for LLM Agents as Gene...\n         ❌ Request error: 429 Client Error: Too Many Requests for url: https://huggingface.co/papers/2502.13965\n         ⚠️ Detail page failed, using preview\n      📖 Thinking Preference Optimization...\n         ❌ Request error: 429 Client Error: Too Many Requests for url: https://huggingface.co/papers/2502.13173\n         ⚠️ Detail page failed, using preview\n      📖 SearchRAG: Can Search Engines Be Helpful for LLM-based Medic...\n         ❌ Request error: 429 Client Error: Too Many Requests for url: https://huggingface.co/papers/2502.13233\n         ⚠️ Detail page failed, using preview\n      📖 Train Small, Infer Large: Memory-Efficient LoRA Training for...\n         ❌ Request error: 429 Client Error: Too Many Requests for url: https://huggingface.co/papers/2502.13533\n         ⚠️ Detail page failed, using preview\n      📖 Presumed Cultural Identity: How Names Shape LLM Responses...\n         ❌ Request error: 429 Client Error: Too Many Requests for url: https://huggingface.co/papers/2502.11995\n         ⚠️ Detail page failed, using preview\n      📖 Why Safeguarded Ships Run Aground? Aligned Large Language Mo...\n         ❌ Request error: 429 Client Error: Too Many Requests for url: https://huggingface.co/papers/2502.13946\n         ⚠️ Detail page failed, using preview\n      📖 InfiR : Crafting Effective Small Language Models and Multimo...\n         ❌ Request error: 429 Client Error: Too Many Requests for url: https://huggingface.co/papers/2502.11573\n         ⚠️ Detail page failed, using preview\n      📖 AdaptiveStep: Automatically Dividing Reasoning Step through ...\n         ❌ Request error: 429 Client Error: Too Many Requests for url: https://huggingface.co/papers/2502.13943\n         ⚠️ Detail page failed, using preview\n      📖 AIDE: AI-Driven Exploration in the Space of Code...\n         ❌ Request error: 429 Client Error: Too Many Requests for url: https://huggingface.co/papers/2502.13138\n         ⚠️ Detail page failed, using preview\n      📖 NExT-Mol: 3D Diffusion Meets 1D Language Modeling for 3D Mol...\n         ❌ Request error: 429 Client Error: Too Many Requests for url: https://huggingface.co/papers/2502.12638\n         ⚠️ Detail page failed, using preview\n      📖 TESS 2: A Large-Scale Generalist Diffusion Language Model...\n         ❌ Request error: 429 Client Error: Too Many Requests for url: https://huggingface.co/papers/2502.13917\n         ⚠️ Detail page failed, using preview\n      📖 REALTALK: A 21-Day Real-World Dataset for Long-Term Conversa...\n         ❌ Request error: 429 Client Error: Too Many Requests for url: https://huggingface.co/papers/2502.13270\n         ⚠️ Detail page failed, using preview\n      📖 Judging the Judges: A Collection of LLM-Generated Relevance ...\n         ✓ Full abstract: 241 words\n      📖 From Tools to Teammates: Evaluating LLMs in Multi-Session Co...\n         ✓ Full abstract: 131 words\n      📖 ActionPiece: Contextually Tokenizing Action Sequences for Ge...\n         ✓ Full abstract: 173 words\n      Progress: 25/32 papers processed\n      📖 REFIND: Retrieval-Augmented Factuality Hallucination Detecti...\n         ✓ Full abstract: 141 words\n      📖 Which of These Best Describes Multiple Choice Evaluation wit...\n         ✓ Full abstract: 174 words\n      📖 GIMMICK -- Globally Inclusive Multimodal Multitask Cultural ...\n         ✓ Full abstract: 222 words\n      📖 MVL-SIB: A Massively Multilingual Vision-Language Benchmark ...\n         ✓ Full abstract: 194 words\n      📖 High-Fidelity Novel View Synthesis via Splatting-Guided Diff...\n         ✓ Full abstract: 159 words\n      Progress: 30/32 papers processed\n      📖 Noise May Contain Transferable Knowledge: Understanding Semi...\n         ✓ Full abstract: 234 words\n      📖 Reducing Hallucinations in Language Model-based SPARQL Query...\n         ✓ Full abstract: 160 words\n✓ 2025-02-20: 13 papers\n      📖 MLGym: A New Framework and Benchmark for Advancing AI Resear...\n         ✓ Full abstract: 227 words\n      📖 SigLIP 2: Multilingual Vision-Language Encoders with Improve...\n         ✓ Full abstract: 203 words\n      📖 SuperGPQA: Scaling LLM Evaluation across 285 Graduate Discip...\n         ✓ Full abstract: 182 words\n      📖 How Much Knowledge Can You Pack into a LoRA Adapter without ...\n         ✓ Full abstract: 193 words\n      📖 S*: Test Time Scaling for Code Generation...\n         ✓ Full abstract: 159 words\n      Progress: 5/29 papers processed\n      📖 Logic-RL: Unleashing LLM Reasoning with Rule-Based Reinforce...\n         ✓ Full abstract: 130 words\n      📖 Discovering highly efficient low-weight quantum error-correc...\n         ✓ Full abstract: 229 words\n      📖 PC-Agent: A Hierarchical Multi-Agent Collaboration Framework...\n         ✓ Full abstract: 175 words\n      📖 S^2R: Teaching LLMs to Self-verify and Self-correct via Rein...\n         ✓ Full abstract: 176 words\n      📖 Does Time Have Its Place? Temporal Heads: Where Language Mod...\n         ✓ Full abstract: 145 words\n      Progress: 10/29 papers processed\n      📖 LongWriter-V: Enabling Ultra-Long and High-Fidelity Generati...\n         ✓ Full abstract: 176 words\n      📖 How to Get Your LLM to Generate Challenging Problems for Eva...\n         ✓ Full abstract: 152 words\n      📖 Dynamic Concepts Personalization from Single Videos...\n         ✓ Full abstract: 183 words\n      📖 Scaling Text-Rich Image Understanding via Code-Guided Synthe...\n         ✓ Full abstract: 194 words\n      📖 AlphaMaze: Enhancing Large Language Models' Spatial Intellig...\n         ✓ Full abstract: 180 words\n      Progress: 15/29 papers processed\n      📖 LServe: Efficient Long-sequence LLM Serving with Unified Spa...\n         ✓ Full abstract: 199 words\n      📖 From RAG to Memory: Non-Parametric Continual Learning for La...\n         ✓ Full abstract: 211 words\n      📖 RelaCtrl: Relevance-Guided Efficient Control for Diffusion T...\n         ✓ Full abstract: 219 words\n      📖 CLIPPER: Compression enables long-context synthetic data gen...\n         ✓ Full abstract: 191 words\n      📖 NAVIG: Natural Language-guided Analysis with Vision Language...\n         ✓ Full abstract: 121 words\n      Progress: 20/29 papers processed\n      📖 Enhancing Cognition and Explainability of Multimodal Foundat...\n         ✓ Full abstract: 159 words\n      📖 Multimodal RewardBench: Holistic Evaluation of Reward Models...\n         ✓ Full abstract: 149 words\n      📖 Generating Skyline Datasets for Data Science Models...\n         ✓ Full abstract: 179 words\n      📖 LLM-based User Profile Management for Recommender System...\n         ✓ Full abstract: 162 words\n      📖 Generating π-Functional Molecules Using STGG+ with Active Le...\n         ✓ Full abstract: 195 words\n      Progress: 25/29 papers processed\n      📖 Symmetrical Visual Contrastive Optimization: Aligning Vision...\n         ✓ Full abstract: 198 words\n      📖 Geolocation with Real Human Gameplay Data: A Large-Scale Dat...\n         ✓ Full abstract: 259 words\n      📖 Unstructured Evidence Attribution for Long Context Query Foc...\n         ✓ Full abstract: 203 words\n      📖 How Much Do LLMs Hallucinate across Languages? On Multilingu...\n         ✓ Full abstract: 239 words\n✓ 2025-02-21: 29 papers\n\n────────────────────────────────────────────────────────────────────────────────\n📊 Progress: 130 days, 1214 papers total\n────────────────────────────────────────────────────────────────────────────────\n\n      📖 MLGym: A New Framework and Benchmark for Advancing AI Resear...\n         ✓ Full abstract: 227 words\n      📖 SigLIP 2: Multilingual Vision-Language Encoders with Improve...\n         ✓ Full abstract: 203 words\n      📖 SuperGPQA: Scaling LLM Evaluation across 285 Graduate Discip...\n         ✓ Full abstract: 182 words\n      📖 How Much Knowledge Can You Pack into a LoRA Adapter without ...\n         ✓ Full abstract: 193 words\n      📖 S*: Test Time Scaling for Code Generation...\n         ✓ Full abstract: 159 words\n      Progress: 5/29 papers processed\n      📖 Logic-RL: Unleashing LLM Reasoning with Rule-Based Reinforce...\n         ✓ Full abstract: 130 words\n      📖 Discovering highly efficient low-weight quantum error-correc...\n         ✓ Full abstract: 229 words\n      📖 PC-Agent: A Hierarchical Multi-Agent Collaboration Framework...\n         ✓ Full abstract: 175 words\n      📖 S^2R: Teaching LLMs to Self-verify and Self-correct via Rein...\n         ✓ Full abstract: 176 words\n      📖 Does Time Have Its Place? Temporal Heads: Where Language Mod...\n         ✓ Full abstract: 145 words\n      Progress: 10/29 papers processed\n      📖 LongWriter-V: Enabling Ultra-Long and High-Fidelity Generati...\n         ✓ Full abstract: 176 words\n      📖 How to Get Your LLM to Generate Challenging Problems for Eva...\n         ✓ Full abstract: 152 words\n      📖 Dynamic Concepts Personalization from Single Videos...\n         ✓ Full abstract: 183 words\n      📖 Scaling Text-Rich Image Understanding via Code-Guided Synthe...\n         ✓ Full abstract: 194 words\n      📖 AlphaMaze: Enhancing Large Language Models' Spatial Intellig...\n         ✓ Full abstract: 180 words\n      Progress: 15/29 papers processed\n      📖 LServe: Efficient Long-sequence LLM Serving with Unified Spa...\n         ✓ Full abstract: 199 words\n      📖 From RAG to Memory: Non-Parametric Continual Learning for La...\n         ✓ Full abstract: 211 words\n      📖 RelaCtrl: Relevance-Guided Efficient Control for Diffusion T...\n         ✓ Full abstract: 219 words\n      📖 CLIPPER: Compression enables long-context synthetic data gen...\n         ✓ Full abstract: 191 words\n      📖 NAVIG: Natural Language-guided Analysis with Vision Language...\n         ✓ Full abstract: 121 words\n      Progress: 20/29 papers processed\n      📖 Enhancing Cognition and Explainability of Multimodal Foundat...\n         ✓ Full abstract: 159 words\n      📖 Multimodal RewardBench: Holistic Evaluation of Reward Models...\n         ✓ Full abstract: 149 words\n      📖 Generating Skyline Datasets for Data Science Models...\n         ✓ Full abstract: 179 words\n      📖 LLM-based User Profile Management for Recommender System...\n         ✓ Full abstract: 162 words\n      📖 Generating π-Functional Molecules Using STGG+ with Active Le...\n         ✓ Full abstract: 195 words\n      Progress: 25/29 papers processed\n      📖 Symmetrical Visual Contrastive Optimization: Aligning Vision...\n         ✓ Full abstract: 198 words\n      📖 Geolocation with Real Human Gameplay Data: A Large-Scale Dat...\n         ✓ Full abstract: 259 words\n      📖 Unstructured Evidence Attribution for Long Context Query Foc...\n         ✓ Full abstract: 203 words\n      📖 How Much Do LLMs Hallucinate across Languages? On Multilingu...\n         ✓ Full abstract: 239 words\n✓ 2025-02-22: 29 papers\n      📖 MLGym: A New Framework and Benchmark for Advancing AI Resear...\n         ✓ Full abstract: 227 words\n      📖 SigLIP 2: Multilingual Vision-Language Encoders with Improve...\n         ✓ Full abstract: 203 words\n      📖 SuperGPQA: Scaling LLM Evaluation across 285 Graduate Discip...\n         ✓ Full abstract: 182 words\n      📖 How Much Knowledge Can You Pack into a LoRA Adapter without ...\n         ✓ Full abstract: 193 words\n      📖 S*: Test Time Scaling for Code Generation...\n         ✓ Full abstract: 159 words\n      Progress: 5/29 papers processed\n      📖 Logic-RL: Unleashing LLM Reasoning with Rule-Based Reinforce...\n         ✓ Full abstract: 130 words\n      📖 Discovering highly efficient low-weight quantum error-correc...\n         ✓ Full abstract: 229 words\n      📖 PC-Agent: A Hierarchical Multi-Agent Collaboration Framework...\n         ✓ Full abstract: 175 words\n      📖 S^2R: Teaching LLMs to Self-verify and Self-correct via Rein...\n         ✓ Full abstract: 176 words\n      📖 Does Time Have Its Place? Temporal Heads: Where Language Mod...\n         ✓ Full abstract: 145 words\n      Progress: 10/29 papers processed\n      📖 LongWriter-V: Enabling Ultra-Long and High-Fidelity Generati...\n         ✓ Full abstract: 176 words\n      📖 How to Get Your LLM to Generate Challenging Problems for Eva...\n         ✓ Full abstract: 152 words\n      📖 Dynamic Concepts Personalization from Single Videos...\n         ✓ Full abstract: 183 words\n      📖 Scaling Text-Rich Image Understanding via Code-Guided Synthe...\n         ✓ Full abstract: 194 words\n      📖 AlphaMaze: Enhancing Large Language Models' Spatial Intellig...\n         ✓ Full abstract: 180 words\n      Progress: 15/29 papers processed\n      📖 LServe: Efficient Long-sequence LLM Serving with Unified Spa...\n         ✓ Full abstract: 199 words\n      📖 From RAG to Memory: Non-Parametric Continual Learning for La...\n         ✓ Full abstract: 211 words\n      📖 RelaCtrl: Relevance-Guided Efficient Control for Diffusion T...\n         ✓ Full abstract: 219 words\n      📖 CLIPPER: Compression enables long-context synthetic data gen...\n         ✓ Full abstract: 191 words\n      📖 NAVIG: Natural Language-guided Analysis with Vision Language...\n         ✓ Full abstract: 121 words\n      Progress: 20/29 papers processed\n      📖 Enhancing Cognition and Explainability of Multimodal Foundat...\n         ✓ Full abstract: 159 words\n      📖 Multimodal RewardBench: Holistic Evaluation of Reward Models...\n         ✓ Full abstract: 149 words\n      📖 Generating Skyline Datasets for Data Science Models...\n         ✓ Full abstract: 179 words\n      📖 LLM-based User Profile Management for Recommender System...\n         ✓ Full abstract: 162 words\n      📖 Generating π-Functional Molecules Using STGG+ with Active Le...\n         ✓ Full abstract: 195 words\n      Progress: 25/29 papers processed\n      📖 Symmetrical Visual Contrastive Optimization: Aligning Vision...\n         ✓ Full abstract: 198 words\n      📖 Geolocation with Real Human Gameplay Data: A Large-Scale Dat...\n         ✓ Full abstract: 259 words\n      📖 Unstructured Evidence Attribution for Long Context Query Foc...\n         ❌ Request error: 429 Client Error: Too Many Requests for url: https://huggingface.co/papers/2502.14409\n         ⚠️ Detail page failed, using preview\n      📖 How Much Do LLMs Hallucinate across Languages? On Multilingu...\n         ❌ Request error: 429 Client Error: Too Many Requests for url: https://huggingface.co/papers/2502.12769\n         ⚠️ Detail page failed, using preview\n✓ 2025-02-23: 27 papers\n   ❌ Request error for 2025-02-24: 429 Client Error: Too Many Requests for url: https://huggingface.co/papers/date/2025-02-24\n○ 2025-02-24: no papers\n   ❌ Request error for 2025-02-25: 429 Client Error: Too Many Requests for url: https://huggingface.co/papers/date/2025-02-25\n○ 2025-02-25: no papers\n   ❌ Request error for 2025-02-26: 429 Client Error: Too Many Requests for url: https://huggingface.co/papers/date/2025-02-26\n○ 2025-02-26: no papers\n   ❌ Request error for 2025-02-27: 429 Client Error: Too Many Requests for url: https://huggingface.co/papers/date/2025-02-27\n○ 2025-02-27: no papers\n   ❌ Request error for 2025-02-28: 429 Client Error: Too Many Requests for url: https://huggingface.co/papers/date/2025-02-28\n○ 2025-02-28: no papers\n   ❌ Request error for 2025-03-01: 429 Client Error: Too Many Requests for url: https://huggingface.co/papers/date/2025-03-01\n○ 2025-03-01: no papers\n   ❌ Request error for 2025-03-02: 429 Client Error: Too Many Requests for url: https://huggingface.co/papers/date/2025-03-02\n○ 2025-03-02: no papers\n   ❌ Request error for 2025-03-03: 429 Client Error: Too Many Requests for url: https://huggingface.co/papers/date/2025-03-03\n○ 2025-03-03: no papers\n\n────────────────────────────────────────────────────────────────────────────────\n📊 Progress: 140 days, 1270 papers total\n────────────────────────────────────────────────────────────────────────────────\n\n   ❌ Request error for 2025-03-04: 429 Client Error: Too Many Requests for url: https://huggingface.co/papers/date/2025-03-04\n○ 2025-03-04: no papers\n      📖 MultiAgentBench: Evaluating the Collaboration and Competitio...\n         ✓ Full abstract: 146 words\n      📖 SemViQA: A Semantic Question Answering System for Vietnamese...\n         ✓ Full abstract: 126 words\n      📖 MPO: Boosting LLM Agents with Meta Plan Optimization...\n         ✓ Full abstract: 143 words\n      📖 LADDER: Self-Improving LLMs Through Recursive Problem Decomp...\n         ✓ Full abstract: 166 words\n      📖 Wikipedia in the Era of LLMs: Evolution and Risks...\n         ✓ Full abstract: 173 words\n      Progress: 5/26 papers processed\n      📖 Mask-DPO: Generalizable Fine-grained Factuality Alignment of...\n         ✓ Full abstract: 252 words\n      📖 Societal Alignment Frameworks Can Improve LLM Alignment...\n         ✓ Full abstract: 180 words\n      📖 DoraCycle: Domain-Oriented Adaptation of Unified Generative ...\n         ✓ Full abstract: 182 words\n      📖 PipeOffload: Improving Scalability of Pipeline Parallelism w...\n         ✓ Full abstract: 163 words\n      📖 Iterative Value Function Optimization for Guided Decoding...\n         ✓ Full abstract: 171 words\n      Progress: 10/26 papers processed\n      📖 Unified Video Action Model...\n         ✓ Full abstract: 234 words\n      📖 RectifiedHR: Enable Efficient High-Resolution Image Generati...\n         ✓ Full abstract: 161 words\n      📖 AppAgentX: Evolving GUI Agents as Proficient Smartphone User...\n         ✓ Full abstract: 182 words\n      📖 Language Models can Self-Improve at State-Value Estimation f...\n         ✓ Full abstract: 112 words\n      📖 Q-Filters: Leveraging QK Geometry for Efficient KV Cache Com...\n         ✓ Full abstract: 179 words\n      Progress: 15/26 papers processed\n      📖 ATLaS: Agent Tuning via Learning Critical Steps...\n         ✓ Full abstract: 178 words\n      📖 UFO: A Unified Approach to Fine-grained Visual Perception vi...\n         ✓ Full abstract: 216 words\n      📖 FR-Spec: Accelerating Large-Vocabulary Language Models via\n ...\n         ✓ Full abstract: 140 words\n      📖 Q-Eval-100K: Evaluating Visual Quality and Alignment Level f...\n         ✓ Full abstract: 197 words\n      📖 IterPref: Focal Preference Learning for Code Generation via ...\n         ✓ Full abstract: 183 words\n      Progress: 20/26 papers processed\n      📖 Improve Representation for Imbalanced Regression through Geo...\n         ✓ Full abstract: 171 words\n      📖 SPIDER: A Comprehensive Multi-Organ Supervised Pathology Dat...\n         ✓ Full abstract: 168 words\n      📖 A Token-level Text Image Foundation Model for Document Under...\n         ✓ Full abstract: 168 words\n      📖 Tabby: Tabular Data Synthesis with Language Models...\n         ✓ Full abstract: 134 words\n      📖 A Multimodal Symphony: Integrating Taste and Sound through G...\n         ✓ Full abstract: 148 words\n      Progress: 25/26 papers processed\n      📖 Discrete-Time Hybrid Automata Learning: Legged Locomotion Me...\n         ✓ Full abstract: 128 words\n✓ 2025-03-05: 26 papers\n      📖 Babel: Open Multilingual Large Language Models Serving Over ...\n         ✓ Full abstract: 178 words\n      📖 HoT: Highlighted Chain of Thought for Referencing Supporting...\n         ✓ Full abstract: 166 words\n      📖 Process-based Self-Rewarding Language Models...\n         ✓ Full abstract: 139 words\n      📖 KodCode: A Diverse, Challenging, and Verifiable Synthetic Da...\n         ✓ Full abstract: 183 words\n      📖 GEN3C: 3D-Informed World-Consistent Video Generation with Pr...\n         ✓ Full abstract: 217 words\n      Progress: 5/21 papers processed\n      📖 ABC: Achieving Better Control of Multimodal Embeddings using...\n         ✓ Full abstract: 191 words\n      📖 Enhancing Abnormality Grounding for Vision Language Models w...\n         ✓ Full abstract: 193 words\n      📖 CrowdSelect: Synthetic Instruction Data Selection with Multi...\n         ✓ Full abstract: 175 words\n      📖 Fine-Tuning Small Language Models for Domain-Specific AI: An...\n         ✓ Full abstract: 121 words\n      📖 Remasking Discrete Diffusion Models with Inference-Time Scal...\n         ✓ Full abstract: 194 words\n      Progress: 10/21 papers processed\n      📖 Mixture of Structural-and-Textual Retrieval over Text-rich G...\n         ✓ Full abstract: 169 words\n      📖 QE4PE: Word-level Quality Estimation for Human Post-Editing...\n         ✓ Full abstract: 152 words\n      📖 Exploring Rewriting Approaches for Different Conversational ...\n         ✓ Full abstract: 199 words\n      📖 FLAME: A Federated Learning Benchmark for Robotic Manipulati...\n         ✓ Full abstract: 145 words\n      📖 CognitiveDrone: A VLA Model and Evaluation Benchmark for Rea...\n         ✓ Full abstract: 179 words\n      Progress: 15/21 papers processed\n      📖 Retrieval Models Aren't Tool-Savvy: Benchmarking Tool Retrie...\n         ✓ Full abstract: 175 words\n      📖 Benchmarking Large Language Models for Multi-Language Softwa...\n         ✓ Full abstract: 248 words\n      📖 Reliable and Efficient Multi-Agent Coordination via Graph Ne...\n         ✓ Full abstract: 220 words\n      📖 Diverse Controllable Diffusion Policy with Signal Temporal L...\n         ✓ Full abstract: 214 words\n      📖 SwiLTra-Bench: The Swiss Legal Translation Benchmark...\n         ✓ Full abstract: 159 words\n      Progress: 20/21 papers processed\n      📖 Interact, Instruct to Improve: A LLM-Driven Parallel Actor-R...\n         ✓ Full abstract: 185 words\n✓ 2025-03-06: 21 papers\n      📖 START: Self-taught Reasoner with Tools...\n         ✓ Full abstract: 270 words\n      📖 Token-Efficient Long Video Understanding for Multimodal LLMs...\n         ✓ Full abstract: 221 words\n      📖 LLMVoX: Autoregressive Streaming Text-to-Speech Model for An...\n         ✓ Full abstract: 195 words\n      📖 EgoLife: Towards Egocentric Life Assistant...\n         ✓ Full abstract: 235 words\n      📖 LLM as a Broken Telephone: Iterative Generation Distorts Inf...\n         ✓ Full abstract: 97 words\n      Progress: 5/21 papers processed\n      📖 Audio Flamingo 2: An Audio-Language Model with Long-Audio Un...\n         ✓ Full abstract: 165 words\n      📖 LINGOLY-TOO: Disentangling Memorisation from Reasoning with ...\n         ✓ Full abstract: 174 words\n      📖 L^2M: Mutual Information Scaling Law for Long-Context Langua...\n         ✓ Full abstract: 110 words\n      📖 IFIR: A Comprehensive Benchmark for Evaluating Instruction-F...\n         ✓ Full abstract: 140 words\n      📖 HybridNorm: Towards Stable and Efficient Transformer Trainin...\n         ✓ Full abstract: 183 words\n      Progress: 10/21 papers processed\n      📖 FuseChat-3.0: Preference Optimization Meets Heterogeneous Mo...\n         ✓ Full abstract: 196 words\n      📖 PokéChamp: an Expert-level Minimax Language Agent...\n         ✓ Full abstract: 255 words\n      📖 How to Steer LLM Latents for Hallucination Detection?...\n         ✓ Full abstract: 153 words\n      📖 The Best of Both Worlds: Integrating Language Models and Dif...\n         ✓ Full abstract: 179 words\n      📖 Union of Experts: Adapting Hierarchical Routing to Equivalen...\n         ✓ Full abstract: 194 words\n      Progress: 15/21 papers processed\n      📖 Identifying Sensitive Weights via Post-quantization Integral...\n         ✓ Full abstract: 202 words\n      📖 Dedicated Feedback and Edit Models Empower Inference-Time Sc...\n         ✓ Full abstract: 202 words\n      📖 Lost in Literalism: How Supervised Training Shapes Translati...\n         ✓ Full abstract: 156 words\n      📖 Combining Flow Matching and Transformers for Efficient Solut...\n         ✓ Full abstract: 74 words\n      📖 On the Acquisition of Shared Grammatical Representations in ...\n         ✓ Full abstract: 158 words\n      Progress: 20/21 papers processed\n      📖 Understanding and Predicting Derailment in Toxic Conversatio...\n         ✓ Full abstract: 206 words\n✓ 2025-03-07: 21 papers\n      📖 START: Self-taught Reasoner with Tools...\n         ✓ Full abstract: 270 words\n      📖 Token-Efficient Long Video Understanding for Multimodal LLMs...\n         ✓ Full abstract: 221 words\n      📖 LLMVoX: Autoregressive Streaming Text-to-Speech Model for An...\n         ✓ Full abstract: 195 words\n      📖 EgoLife: Towards Egocentric Life Assistant...\n         ✓ Full abstract: 235 words\n      📖 LLM as a Broken Telephone: Iterative Generation Distorts Inf...\n         ✓ Full abstract: 97 words\n      Progress: 5/21 papers processed\n      📖 Audio Flamingo 2: An Audio-Language Model with Long-Audio Un...\n         ✓ Full abstract: 165 words\n      📖 LINGOLY-TOO: Disentangling Memorisation from Reasoning with ...\n         ✓ Full abstract: 174 words\n      📖 L^2M: Mutual Information Scaling Law for Long-Context Langua...\n         ✓ Full abstract: 110 words\n      📖 IFIR: A Comprehensive Benchmark for Evaluating Instruction-F...\n         ✓ Full abstract: 140 words\n      📖 HybridNorm: Towards Stable and Efficient Transformer Trainin...\n         ✓ Full abstract: 183 words\n      Progress: 10/21 papers processed\n      📖 FuseChat-3.0: Preference Optimization Meets Heterogeneous Mo...\n         ✓ Full abstract: 196 words\n      📖 PokéChamp: an Expert-level Minimax Language Agent...\n         ✓ Full abstract: 255 words\n      📖 How to Steer LLM Latents for Hallucination Detection?...\n         ✓ Full abstract: 153 words\n      📖 The Best of Both Worlds: Integrating Language Models and Dif...\n         ✓ Full abstract: 179 words\n      📖 Union of Experts: Adapting Hierarchical Routing to Equivalen...\n         ✓ Full abstract: 194 words\n      Progress: 15/21 papers processed\n      📖 Identifying Sensitive Weights via Post-quantization Integral...\n         ✓ Full abstract: 202 words\n      📖 Dedicated Feedback and Edit Models Empower Inference-Time Sc...\n         ✓ Full abstract: 202 words\n      📖 Lost in Literalism: How Supervised Training Shapes Translati...\n         ✓ Full abstract: 156 words\n      📖 Combining Flow Matching and Transformers for Efficient Solut...\n         ✓ Full abstract: 74 words\n      📖 On the Acquisition of Shared Grammatical Representations in ...\n         ✓ Full abstract: 158 words\n      Progress: 20/21 papers processed\n      📖 Understanding and Predicting Derailment in Toxic Conversatio...\n         ✓ Full abstract: 206 words\n✓ 2025-03-08: 21 papers\n      📖 Unified Reward Model for Multimodal Understanding and Genera...\n         ✓ Full abstract: 208 words\n      📖 Sketch-of-Thought: Efficient LLM Reasoning with Adaptive\n  C...\n         ✓ Full abstract: 159 words\n      📖 Forgetting Transformer: Softmax Attention with a Forget Gate...\n         ✓ Full abstract: 171 words\n✓ 2025-03-09: 3 papers\n      📖 RuCCoD: Towards Automated ICD Coding in Russian...\n         ✓ Full abstract: 171 words\n      📖 Unified Reward Model for Multimodal Understanding and Genera...\n         ❌ Request error: 429 Client Error: Too Many Requests for url: https://huggingface.co/papers/2503.05236\n         ⚠️ Detail page failed, using preview\n      📖 EuroBERT: Scaling Multilingual Encoders for European Languag...\n         ❌ Request error: 429 Client Error: Too Many Requests for url: https://huggingface.co/papers/2503.05500\n         ⚠️ Detail page failed, using preview\n      📖 R1-Zero's \"Aha Moment\" in Visual Reasoning on a 2B Non-SFT M...\n         ❌ Request error: 429 Client Error: Too Many Requests for url: https://huggingface.co/papers/2503.05132\n         ⚠️ Detail page failed, using preview\n      📖 S2S-Arena, Evaluating Speech2Speech Protocols on Instruction...\n         ❌ Request error: 429 Client Error: Too Many Requests for url: https://huggingface.co/papers/2503.05085\n         ⚠️ Detail page failed, using preview\n      📖 Sketch-of-Thought: Efficient LLM Reasoning with Adaptive\n  C...\n         ❌ Request error: 429 Client Error: Too Many Requests for url: https://huggingface.co/papers/2503.05179\n         ⚠️ Detail page failed, using preview\n      📖 R1-Omni: Explainable Omni-Multimodal Emotion Recognition wit...\n         ❌ Request error: 429 Client Error: Too Many Requests for url: https://huggingface.co/papers/2503.05379\n         ⚠️ Detail page failed, using preview\n      📖 Forgetting Transformer: Softmax Attention with a Forget Gate...\n         ❌ Request error: 429 Client Error: Too Many Requests for url: https://huggingface.co/papers/2503.02130\n         ⚠️ Detail page failed, using preview\n      📖 R1-Searcher: Incentivizing the Search Capability in LLMs via...\n         ❌ Request error: 429 Client Error: Too Many Requests for url: https://huggingface.co/papers/2503.05592\n         ⚠️ Detail page failed, using preview\n      📖 VideoPainter: Any-length Video Inpainting and Editing with P...\n         ❌ Request error: 429 Client Error: Too Many Requests for url: https://huggingface.co/papers/2503.05639\n         ⚠️ Detail page failed, using preview\n      📖 SafeArena: Evaluating the Safety of Autonomous Web Agents...\n         ❌ Request error: 429 Client Error: Too Many Requests for url: https://huggingface.co/papers/2503.04957\n         ⚠️ Detail page failed, using preview\n      📖 TrajectoryCrafter: Redirecting Camera Trajectory for Monocul...\n         ❌ Request error: 429 Client Error: Too Many Requests for url: https://huggingface.co/papers/2503.05638\n         ⚠️ Detail page failed, using preview\n      📖 Learning from Failures in Multi-Attempt Reinforcement Learni...\n         ❌ Request error: 429 Client Error: Too Many Requests for url: https://huggingface.co/papers/2503.04808\n         ⚠️ Detail page failed, using preview\n      📖 TinyR1-32B-Preview: Boosting Accuracy with Branch-Merge Dist...\n         ❌ Request error: 429 Client Error: Too Many Requests for url: https://huggingface.co/papers/2503.04872\n         ⚠️ Detail page failed, using preview\n      📖 LoRACode: LoRA Adapters for Code Embeddings...\n         ❌ Request error: 429 Client Error: Too Many Requests for url: https://huggingface.co/papers/2503.05315\n         ⚠️ Detail page failed, using preview\n      📖 BEHAVIOR Robot Suite: Streamlining Real-World Whole-Body Man...\n         ❌ Request error: 429 Client Error: Too Many Requests for url: https://huggingface.co/papers/2503.05652\n         ⚠️ Detail page failed, using preview\n      📖 ProReflow: Progressive Reflow with Decomposed Velocity...\n         ❌ Request error: 429 Client Error: Too Many Requests for url: https://huggingface.co/papers/2503.04824\n         ⚠️ Detail page failed, using preview\n      📖 Linear-MoE: Linear Sequence Modeling Meets Mixture-of-Expert...\n         ❌ Request error: 429 Client Error: Too Many Requests for url: https://huggingface.co/papers/2503.05447\n         ⚠️ Detail page failed, using preview\n      📖 An Empirical Study on Eliciting and Improving R1-like Reason...\n         ❌ Request error: 429 Client Error: Too Many Requests for url: https://huggingface.co/papers/2503.04548\n         ⚠️ Detail page failed, using preview\n      📖 SAGE: A Framework of Precise Retrieval for RAG...\n         ❌ Request error: 429 Client Error: Too Many Requests for url: https://huggingface.co/papers/2503.01713\n         ⚠️ Detail page failed, using preview\n      📖 LONGCODEU: Benchmarking Long-Context Language Models on Long...\n         ❌ Request error: 429 Client Error: Too Many Requests for url: https://huggingface.co/papers/2503.04359\n         ⚠️ Detail page failed, using preview\n      📖 EAGLE-3: Scaling up Inference Acceleration of Large Language...\n         ❌ Request error: 429 Client Error: Too Many Requests for url: https://huggingface.co/papers/2503.01840\n         ⚠️ Detail page failed, using preview\n      📖 AnyAnomaly: Zero-Shot Customizable Video Anomaly Detection w...\n         ❌ Request error: 429 Client Error: Too Many Requests for url: https://huggingface.co/papers/2503.04504\n         ⚠️ Detail page failed, using preview\n      📖 Know You First and Be You Better: Modeling Human-Like User S...\n         ✓ Full abstract: 184 words\n✓ 2025-03-10: 2 papers\n      📖 Feature-Level Insights into Artificial Text Detection with S...\n         ✓ Full abstract: 134 words\n      📖 SEAP: Training-free Sparse Expert Activation Pruning Unlock ...\n         ✓ Full abstract: 136 words\n      📖 MM-Eureka: Exploring Visual Aha Moment with Rule-based Large...\n         ✓ Full abstract: 124 words\n      📖 VACE: All-in-One Video Creation and Editing...\n         ✓ Full abstract: 184 words\n      📖 Automated Movie Generation via Multi-Agent CoT Planning...\n         ✓ Full abstract: 183 words\n      Progress: 5/50 papers processed\n      📖 Taking Notes Brings Focus? Towards Multi-Turn Multimodal Dia...\n         ✓ Full abstract: 176 words\n      📖 FedRand: Enhancing Privacy in Federated Learning with Random...\n         ✓ Full abstract: 196 words\n      📖 DistiLLM-2: A Contrastive Approach Boosts the Distillation o...\n         ✓ Full abstract: 135 words\n      📖 Vision-R1: Incentivizing Reasoning Capability in Multimodal ...\n         ✓ Full abstract: 232 words\n      📖 EasyControl: Adding Efficient and Flexible Control for Diffu...\n         ✓ Full abstract: 246 words\n      Progress: 10/50 papers processed\n      📖 Beyond RAG: Task-Aware KV Cache Compression for Comprehensiv...\n         ✓ Full abstract: 154 words\n      📖 AlphaDrive: Unleashing the Power of VLMs in Autonomous Drivi...\n         ✓ Full abstract: 207 words\n      📖 FEA-Bench: A Benchmark for Evaluating Repository-Level Code ...\n         ✓ Full abstract: 153 words\n      📖 WritingBench: A Comprehensive Benchmark for Generative Writi...\n         ✓ Full abstract: 154 words\n      📖 Agent models: Internalizing Chain-of-Action Generation into ...\n         ✓ Full abstract: 133 words\n      Progress: 15/50 papers processed\n      📖 SurveyForge: On the Outline Heuristics, Memory-Driven Genera...\n         ✓ Full abstract: 150 words\n      📖 MedAgentsBench: Benchmarking Thinking Models and Agent Frame...\n         ✓ Full abstract: 187 words\n      📖 Unleashing the Potential of Large Language Models for Text-t...\n         ✓ Full abstract: 193 words\n      📖 YOLOE: Real-Time Seeing Anything...\n         ✓ Full abstract: 244 words\n      📖 LLaVE: Large Language and Vision Embedding Models with Hardn...\n         ✓ Full abstract: 189 words\n      Progress: 20/50 papers processed\n      📖 DreamRelation: Relation-Centric Video Customization...\n         ✓ Full abstract: 227 words\n      📖 Effective and Efficient Masked Image Generation Models...\n         ✓ Full abstract: 149 words\n      📖 Seg-Zero: Reasoning-Chain Guided Segmentation via Cognitive\n...\n         ✓ Full abstract: 174 words\n      📖 PE3R: Perception-Efficient 3D Reconstruction...\n         ✓ Full abstract: 135 words\n      📖 Words or Vision: Do Vision-Language Models Have Blind Faith ...\n         ✓ Full abstract: 223 words\n      Progress: 25/50 papers processed\n      📖 This Is Your Doge, If It Please You: Exploring Deception and...\n         ✓ Full abstract: 189 words\n      📖 Zero-AVSR: Zero-Shot Audio-Visual Speech Recognition with LL...\n         ✓ Full abstract: 194 words\n      📖 DiffCLIP: Differential Attention Meets CLIP...\n         ✓ Full abstract: 103 words\n      📖 BlackGoose Rimer: Harnessing RWKV-7 as a Simple yet Superior...\n         ✓ Full abstract: 134 words\n      📖 State-offset Tuning: State-based Parameter-Efficient Fine-Tu...\n         ✓ Full abstract: 137 words\n      Progress: 30/50 papers processed\n      📖 Detection Avoidance Techniques for Large Language Models...\n         ✓ Full abstract: 121 words\n      📖 Efficient Distillation of Classifier-Free Guidance using Ada...\n         ✓ Full abstract: 210 words\n      📖 WISE: A World Knowledge-Informed Semantic Evaluation for Tex...\n         ✓ Full abstract: 176 words\n      📖 ProBench: Judging Multimodal Foundation Models on Open-ended...\n         ✓ Full abstract: 137 words\n      📖 What's in a Latent? Leveraging Diffusion Latent Space for Do...\n         ✓ Full abstract: 171 words\n      Progress: 35/50 papers processed\n      📖 Next Token Is Enough: Realistic Image Quality and Aesthetic ...\n         ✓ Full abstract: 231 words\n      📖 Escaping Plato's Cave: Towards the Alignment of 3D and Text ...\n         ✓ Full abstract: 206 words\n      📖 Should VLMs be Pre-trained with Image Data?...\n         ✓ Full abstract: 157 words\n      📖 TRCE: Towards Reliable Malicious Concept Erasure in Text-to-...\n         ✓ Full abstract: 237 words\n      📖 A Data-Centric Revisit of Pre-Trained Vision Models for Robo...\n         ✓ Full abstract: 180 words\n      Progress: 40/50 papers processed\n      📖 Adaptive Audio-Visual Speech Recognition via Matryoshka-Base...\n         ✓ Full abstract: 191 words\n      📖 Novel Object 6D Pose Estimation with a Single Reference View...\n         ✓ Full abstract: 188 words\n      📖 Promote, Suppress, Iterate: How Language Models Answer One-t...\n         ✓ Full abstract: 174 words\n      📖 HumanMM: Global Human Motion Recovery from Multi-shot Videos...\n         ✓ Full abstract: 173 words\n      📖 RePO: ReLU-based Preference Optimization...\n         ✓ Full abstract: 139 words\n      Progress: 45/50 papers processed\n      📖 REF-VLM: Triplet-Based Referring Paradigm for Unified Visual...\n         ✓ Full abstract: 239 words\n      📖 Symbolic Mixture-of-Experts: Adaptive Skill-based Routing fo...\n         ✓ Full abstract: 280 words\n      📖 PhiloBERTA: A Transformer-Based Cross-Lingual Analysis of Gr...\n         ✓ Full abstract: 112 words\n      📖 NeuGrasp: Generalizable Neural Surface Reconstruction with B...\n         ✓ Full abstract: 118 words\n      📖 Feynman-Kac Correctors in Diffusion: Annealing, Guidance, an...\n         ✓ Full abstract: 178 words\n      Progress: 50/50 papers processed\n✓ 2025-03-11: 50 papers\n      📖 Crowdsource, Crawl, or Generate? Creating SEA-VL, a Multicul...\n         ✓ Full abstract: 199 words\n      📖 LMM-R1: Empowering 3B LMMs with Strong Reasoning Abilities T...\n         ✓ Full abstract: 185 words\n      📖 YuE: Scaling Open Foundation Models for Long-Form Music Gene...\n         ✓ Full abstract: 194 words\n      📖 Optimizing Test-Time Compute via Meta Reinforcement Fine-Tun...\n         ✓ Full abstract: 264 words\n      📖 Gemini Embedding: Generalizable Embeddings from Gemini...\n         ✓ Full abstract: 135 words\n      Progress: 5/40 papers processed\n      📖 Seedream 2.0: A Native Chinese-English Bilingual Image Gener...\n         ✓ Full abstract: 257 words\n      📖 MagicInfinite: Generating Infinite Talking Videos with Your ...\n         ✓ Full abstract: 212 words\n      📖 Video Action Differencing...\n         ✓ Full abstract: 184 words\n      📖 UniF^2ace: Fine-grained Face Understanding and Generation\n  ...\n         ✓ Full abstract: 194 words\n      📖 SegAgent: Exploring Pixel Understanding Capabilities in MLLM...\n         ✓ Full abstract: 229 words\n      Progress: 10/40 papers processed\n      📖 Tuning-Free Multi-Event Long Video Generation via Synchroniz...\n         ✓ Full abstract: 217 words\n      📖 Implicit Reasoning in Transformers is Reasoning through Shor...\n         ✓ Full abstract: 186 words\n      📖 LightGen: Efficient Image Generation through Knowledge Disti...\n         ✓ Full abstract: 193 words\n      📖 OmniMamba: Efficient and Unified Multimodal Understanding an...\n         ✓ Full abstract: 181 words\n      📖 Exploiting Instruction-Following Retrievers for Malicious In...\n         ✓ Full abstract: 150 words\n      Progress: 15/40 papers processed\n      📖 LocAgent: Graph-Guided LLM Agents for Code Localization...\n         ✓ Full abstract: 172 words\n      📖 AI-native Memory 2.0: Second Me...\n         ✓ Full abstract: 227 words\n      📖 \"Principal Components\" Enable A New Language of Images...\n         ✓ Full abstract: 173 words\n      📖 Robusto-1 Dataset: Comparing Humans and VLMs on real out-of-...\n         ✓ Full abstract: 212 words\n      📖 CineBrain: A Large-Scale Multi-Modal Brain Dataset During Na...\n         ✓ Full abstract: 153 words\n      Progress: 20/40 papers processed\n      📖 VisualSimpleQA: A Benchmark for Decoupled Evaluation of Larg...\n         ✓ Full abstract: 147 words\n      📖 Benchmarking AI Models in Software Engineering: A Review, Se...\n         ✓ Full abstract: 237 words\n      📖 Mixture of Experts Made Intrinsically Interpretable...\n         ✓ Full abstract: 205 words\n      📖 ^RFLAV: Rolling Flow matching for infinite Audio Video gener...\n         ✓ Full abstract: 115 words\n      📖 AnyMoLe: Any Character Motion In-betweening Leveraging Video...\n         ✓ Full abstract: 129 words\n      Progress: 25/40 papers processed\n      📖 BiasEdit: Debiasing Stereotyped Language Models via Model Ed...\n         ✓ Full abstract: 164 words\n      📖 Referring to Any Person...\n         ✓ Full abstract: 199 words\n      📖 Inductive Moment Matching...\n         ✓ Full abstract: 115 words\n      📖 Perplexity Trap: PLM-Based Retrievers Overrate Low Perplexit...\n         ✓ Full abstract: 186 words\n      📖 RayFlow: Instance-Aware Diffusion Acceleration via Adaptive ...\n         ✓ Full abstract: 117 words\n      Progress: 30/40 papers processed\n      📖 Beyond Decoder-only: Large Language Models Can be Good Encod...\n         ✓ Full abstract: 190 words\n      📖 QuoTA: Query-oriented Token Assignment via CoT Query Decoupl...\n         ✓ Full abstract: 186 words\n      📖 ObjectMover: Generative Object Movement with Video Prior...\n         ✓ Full abstract: 179 words\n      📖 Capacity-Aware Inference: Mitigating the Straggler Effect in...\n         ✓ Full abstract: 172 words\n      📖 Collapse of Dense Retrievers: Short, Early, and Literal Bias...\n         ✓ Full abstract: 177 words\n      Progress: 35/40 papers processed\n      📖 Evaluating Intelligence via Trial and Error...\n         ✓ Full abstract: 294 words\n      📖 PlainQAFact: Automatic Factuality Evaluation Metric for Biom...\n         ✓ Full abstract: 162 words\n      📖 NullFace: Training-Free Localized Face Anonymization...\n         ✓ Full abstract: 154 words\n      📖 Ideas in Inference-time Scaling can Benefit Generative Pre-t...\n         ✓ Full abstract: 128 words\n      📖 OTTER: A Vision-Language-Action Model with Text-Aware Visual...\n         ✓ Full abstract: 149 words\n      Progress: 40/40 papers processed\n✓ 2025-03-12: 40 papers\n      📖 Block Diffusion: Interpolating Between Autoregressive and Di...\n         ✓ Full abstract: 144 words\n      📖 TPDiff: Temporal Pyramid Video Diffusion Model...\n         ✓ Full abstract: 164 words\n      📖 Search-R1: Training LLMs to Reason and Leverage Search Engin...\n         ✓ Full abstract: 179 words\n      📖 Motion Anything: Any to Motion Generation...\n         ✓ Full abstract: 176 words\n      📖 Reangle-A-Video: 4D Video Generation as Video-to-Video Trans...\n         ✓ Full abstract: 151 words\n      Progress: 5/22 papers processed\n      📖 GTR: Guided Thought Reinforcement Prevents Thought Collapse ...\n         ✓ Full abstract: 202 words\n      📖 More Documents, Same Length: Isolating the Challenge of Mult...\n         ❌ Request error: 429 Client Error: Too Many Requests for url: https://huggingface.co/papers/2503.04388\n         ⚠️ Detail page failed, using preview\n      📖 RewardSDS: Aligning Score Distillation via Reward-Weighted S...\n         ❌ Request error: 429 Client Error: Too Many Requests for url: https://huggingface.co/papers/2503.09601\n         ⚠️ Detail page failed, using preview\n      📖 Self-Taught Self-Correction for Small Language Models...\n         ❌ Request error: 429 Client Error: Too Many Requests for url: https://huggingface.co/papers/2503.08681\n         ⚠️ Detail page failed, using preview\n      📖 WildIFEval: Instruction Following in the Wild...\n         ❌ Request error: 429 Client Error: Too Many Requests for url: https://huggingface.co/papers/2503.06573\n         ⚠️ Detail page failed, using preview\n      📖 VLog: Video-Language Models by Generative Retrieval of Narra...\n         ❌ Request error: 429 Client Error: Too Many Requests for url: https://huggingface.co/papers/2503.09402\n         ⚠️ Detail page failed, using preview\n      📖 Quantizing Large Language Models for Code Generation: A Diff...\n         ❌ Request error: 429 Client Error: Too Many Requests for url: https://huggingface.co/papers/2503.07103\n         ⚠️ Detail page failed, using preview\n      📖 Multi Agent based Medical Assistant for Edge Devices...\n         ❌ Request error: 429 Client Error: Too Many Requests for url: https://huggingface.co/papers/2503.05397\n         ⚠️ Detail page failed, using preview\n      📖 PhysicsGen: Can Generative Models Learn from Images to Predi...\n         ❌ Request error: 429 Client Error: Too Many Requests for url: https://huggingface.co/papers/2503.05333\n         ⚠️ Detail page failed, using preview\n      📖 When Large Vision-Language Model Meets Large Remote Sensing ...\n         ❌ Request error: 429 Client Error: Too Many Requests for url: https://huggingface.co/papers/2503.07588\n         ⚠️ Detail page failed, using preview\n      📖 Alias-Free Latent Diffusion Models:Improving Fractional Shif...\n         ❌ Request error: 429 Client Error: Too Many Requests for url: https://huggingface.co/papers/2503.09419\n         ⚠️ Detail page failed, using preview\n      📖 Cost-Optimal Grouped-Query Attention for Long-Context LLMs...\n         ❌ Request error: 429 Client Error: Too Many Requests for url: https://huggingface.co/papers/2503.09579\n         ⚠️ Detail page failed, using preview\n      📖 Multimodal Language Modeling for High-Accuracy Single Cell\n ...\n         ❌ Request error: 429 Client Error: Too Many Requests for url: https://huggingface.co/papers/2503.09427\n         ⚠️ Detail page failed, using preview\n      📖 MoC: Mixtures of Text Chunking Learners for Retrieval-Augmen...\n         ❌ Request error: 429 Client Error: Too Many Requests for url: https://huggingface.co/papers/2503.09600\n         ⚠️ Detail page failed, using preview\n      📖 BIMBA: Selective-Scan Compression for Long-Range Video Quest...\n         ❌ Request error: 429 Client Error: Too Many Requests for url: https://huggingface.co/papers/2503.09590\n         ⚠️ Detail page failed, using preview\n      📖 Monte Carlo Diffusion for Generalizable Learning-Based RANSA...\n         ❌ Request error: 429 Client Error: Too Many Requests for url: https://huggingface.co/papers/2503.09410\n         ⚠️ Detail page failed, using preview\n",
          "output_type": "stream"
        }
      ],
      "execution_count": null
    },
    {
      "cell_type": "markdown",
      "source": [
        "# 3 Loading dataset after crawling"
      ],
      "metadata": {
        "id": "bxSD7lxEc_62"
      }
    },
    {
      "cell_type": "code",
      "source": [
        "!gdown --id 1wS4NdhyQG76eHTUR5-BNq0pO6QGqxcCJ"
      ],
      "metadata": {
        "colab": {
          "base_uri": "https://localhost:8080/"
        },
        "id": "xFkzgN5R_LMI",
        "outputId": "f22efa37-4f41-45ee-b730-b4c3946f83c3"
      },
      "execution_count": 7,
      "outputs": [
        {
          "output_type": "stream",
          "name": "stdout",
          "text": [
            "/usr/local/lib/python3.12/dist-packages/gdown/__main__.py:140: FutureWarning: Option `--id` was deprecated in version 4.3.1 and will be removed in 5.0. You don't need to pass it anymore to use a file ID.\n",
            "  warnings.warn(\n",
            "Downloading...\n",
            "From: https://drive.google.com/uc?id=1wS4NdhyQG76eHTUR5-BNq0pO6QGqxcCJ\n",
            "To: /content/papers_365_days.json\n",
            "100% 7.55M/7.55M [00:00<00:00, 137MB/s]\n"
          ]
        }
      ]
    },
    {
      "cell_type": "code",
      "source": [
        "scraper = HuggingFaceScraper()\n",
        "papers = scraper.load(\"papers_365_days.json\")\n",
        "print(f\"Loaded {len(papers)} papers\")"
      ],
      "metadata": {
        "colab": {
          "base_uri": "https://localhost:8080/"
        },
        "id": "WV7_pWpBBH2p",
        "outputId": "3c4f883c-9d5b-4885-f99c-7fd7a4ac1e49"
      },
      "execution_count": 8,
      "outputs": [
        {
          "output_type": "stream",
          "name": "stdout",
          "text": [
            "\n",
            "📂 Loaded from: papers_365_days.json\n",
            "   Scraped at: 2025-10-13T18:36:22.412767\n",
            "   Total papers: 4251\n",
            "Loaded 4251 papers\n"
          ]
        }
      ]
    },
    {
      "cell_type": "code",
      "source": [
        "print(f\"\\n📊 Scraping Results:\")\n",
        "print(f\"   Total papers: {len(papers)}\")\n",
        "\n",
        "# Count papers with complete info\n",
        "papers_with_abstract = sum(1 for p in papers if p.get('abstract'))\n",
        "papers_with_id = sum(1 for p in papers if p.get('paper_id'))\n",
        "papers_with_authors = sum(1 for p in papers if p.get('authors_count'))\n",
        "papers_with_upvotes = sum(1 for p in papers if p.get('upvotes'))\n",
        "\n",
        "print(f\"   With abstracts: {papers_with_abstract}\")\n",
        "print(f\"   With paper IDs: {papers_with_id}\")\n",
        "print(f\"   With author count: {papers_with_authors}\")\n",
        "print(f\"   With upvotes: {papers_with_upvotes}\")"
      ],
      "metadata": {
        "id": "wx0sYQ9zJLnC",
        "colab": {
          "base_uri": "https://localhost:8080/"
        },
        "outputId": "408ff3c9-add2-4b9b-897e-51982052175e"
      },
      "execution_count": 9,
      "outputs": [
        {
          "output_type": "stream",
          "name": "stdout",
          "text": [
            "\n",
            "📊 Scraping Results:\n",
            "   Total papers: 4251\n",
            "   With abstracts: 4251\n",
            "   With paper IDs: 4251\n",
            "   With author count: 3995\n",
            "   With upvotes: 1\n"
          ]
        }
      ]
    },
    {
      "cell_type": "code",
      "source": [
        "# Deduplicate\n",
        "seen = set()\n",
        "unique_papers = []\n",
        "for p in papers:\n",
        "    key = p.get('paper_id') or p.get('title')\n",
        "    if key and key not in seen:\n",
        "        seen.add(key)\n",
        "        unique_papers.append(p)\n",
        "\n",
        "print(f\"\\n✅ Total papers after merge: {len(unique_papers)}\")\n",
        "\n",
        "# Save combined dataset\n",
        "scraper.save(papers, \"papers_jan_preview.json\")\n",
        "\n",
        "print(\"\\n\" + \"=\" * 80)\n",
        "print(\"✅ RESUME COMPLETE\")\n",
        "print(\"=\" * 80)\n",
        "print(f\"Total unique: {len(unique_papers)} papers\")\n",
        "print(\"=\" * 80)"
      ],
      "metadata": {
        "colab": {
          "base_uri": "https://localhost:8080/"
        },
        "id": "w_jwRwt1BqcH",
        "outputId": "9c44c73e-64f7-4941-d3ba-83a2ce18e714"
      },
      "execution_count": 10,
      "outputs": [
        {
          "output_type": "stream",
          "name": "stdout",
          "text": [
            "\n",
            "✅ Total papers after merge: 4251\n",
            "\n",
            "================================================================================\n",
            "💾 SAVED TO: papers_jan_preview.json\n",
            "================================================================================\n",
            "📊 Statistics:\n",
            "   Total papers: 4251\n",
            "   With abstracts: 4251\n",
            "   - Full abstracts: 4251\n",
            "   - Preview abstracts: 0\n",
            "   With upvotes: 1 (avg: 2.0)\n",
            "   With author names: 0\n",
            "   Average abstract length: 188.4 words\n",
            "================================================================================\n",
            "\n",
            "\n",
            "================================================================================\n",
            "✅ RESUME COMPLETE\n",
            "================================================================================\n",
            "Total unique: 4251 papers\n",
            "================================================================================\n"
          ]
        }
      ]
    },
    {
      "cell_type": "code",
      "source": [
        "# Display sample papers with all available info\n",
        "print(\"\\n\" + \"=\" * 80)\n",
        "print(\"📄 SAMPLE PAPERS\")\n",
        "print(\"=\" * 80)\n",
        "\n",
        "for i, paper in enumerate(papers[:5], 1):\n",
        "    print(f\"\\n{i}. {paper['title']}\")\n",
        "    print(f\"   Paper ID: {paper.get('paper_id', 'N/A')}\")\n",
        "    print(f\"   Date: {paper.get('date', 'N/A')}\")\n",
        "    print(f\"   Year: {paper.get('year', 'N/A')}\")\n",
        "    print(f\"   Number of Authors: {paper.get('authors_count', 'N/A')}\")\n",
        "    print(f\"   Abstract: {paper.get('abstract', 'N/A')[:120]}...\")\n",
        "    if paper.get('link'):\n",
        "        print(f\"   Link: {paper['link']}\")"
      ],
      "metadata": {
        "id": "QAHtrGdG1s5o",
        "trusted": true,
        "colab": {
          "base_uri": "https://localhost:8080/"
        },
        "outputId": "38a4cca1-12df-4b21-e295-094d0a27f756"
      },
      "outputs": [
        {
          "output_type": "stream",
          "name": "stdout",
          "text": [
            "\n",
            "================================================================================\n",
            "📄 SAMPLE PAPERS\n",
            "================================================================================\n",
            "\n",
            "1. WALL-E: World Alignment by Rule Learning Improves World Model-based LLM\n",
            "  Agents\n",
            "   Paper ID: 2410.07484\n",
            "   Date: 2024-10-13\n",
            "   Year: 2024\n",
            "   Number of Authors: 7\n",
            "   Abstract: Can large language models (LLMs) directly serve as powerful world models for model-based agents ? While the gaps between...\n",
            "   Link: https://huggingface.co/papers/2410.07484\n",
            "\n",
            "2. MathCoder2: Better Math Reasoning from Continued Pretraining on\n",
            "  Model-translated Mathematical Code\n",
            "   Paper ID: 2410.08196\n",
            "   Date: 2024-10-13\n",
            "   Year: 2024\n",
            "   Number of Authors: 8\n",
            "   Abstract: Code has been shown to be effective in enhancing the mathematical reasoning abilities of large language models due to it...\n",
            "   Link: https://huggingface.co/papers/2410.08196\n",
            "\n",
            "3. MLLM as Retriever: Interactively Learning Multimodal Retrieval for\n",
            "  Embodied Agents\n",
            "   Paper ID: 2410.03450\n",
            "   Date: 2024-10-13\n",
            "   Year: 2024\n",
            "   Number of Authors: 4\n",
            "   Abstract: MLLM agents demonstrate potential for complex embodied tasks by retrieving\n",
            "multimodal task-relevant trajectory data. How...\n",
            "   Link: https://huggingface.co/papers/2410.03450\n",
            "\n",
            "4. PrefixQuant: Static Quantization Beats Dynamic through Prefixed Outliers\n",
            "  in LLMs\n",
            "   Paper ID: 2410.05265\n",
            "   Date: 2024-10-13\n",
            "   Year: 2024\n",
            "   Number of Authors: 6\n",
            "   Abstract: Quantization is essential for deploying Large Language Models (LLMs) by\n",
            "enhancing memory efficiency and inference speed ...\n",
            "   Link: https://huggingface.co/papers/2410.05265\n",
            "\n",
            "5. Benchmarking Agentic Workflow Generation\n",
            "   Paper ID: 2410.07869\n",
            "   Date: 2024-10-13\n",
            "   Year: 2024\n",
            "   Number of Authors: 9\n",
            "   Abstract: Large Language Models (LLMs) , with their exceptional ability to handle a wide\n",
            "range of tasks, have driven significant a...\n",
            "   Link: https://huggingface.co/papers/2410.07869\n"
          ]
        }
      ],
      "execution_count": 11
    },
    {
      "cell_type": "code",
      "source": [
        "def preprocess_text(text):\n",
        "    \"\"\"Clean and normalize text\"\"\"\n",
        "    text = text.lower()\n",
        "    text = re.sub(r'[^a-z0-9\\s]', '', text)\n",
        "    text = re.sub(r'\\s+', ' ', text).strip()\n",
        "    return text"
      ],
      "metadata": {
        "id": "CN6demvxb3Tc"
      },
      "execution_count": 24,
      "outputs": []
    },
    {
      "cell_type": "code",
      "source": [
        "def load_data(json_path):\n",
        "    with open(json_path, 'r', encoding='utf-8') as f:\n",
        "        data = json.load(f)\n",
        "\n",
        "    papers = []\n",
        "    for paper in data['papers']:\n",
        "        # Chỉ lấy papers có abstract và title\n",
        "        if paper.get('abstract') and paper.get('title'):\n",
        "            abstract = paper['abstract'].strip()\n",
        "            title = paper['title'].strip()\n",
        "\n",
        "            # Filter too short/long\n",
        "            if len(abstract) > 50 and len(title) > 10:\n",
        "                papers.append({\n",
        "                    'abstract': abstract,\n",
        "                    'title': title,\n",
        "                    'paper_id': paper.get('paper_id', '')\n",
        "                })\n",
        "\n",
        "    print(f\"✓ Loaded {len(papers)} valid papers\")\n",
        "    return papers"
      ],
      "metadata": {
        "id": "8TfE03-3d2rL"
      },
      "execution_count": 61,
      "outputs": []
    },
    {
      "cell_type": "code",
      "source": [
        "class SummarizationDataset(Dataset):\n",
        "    def __init__(self, papers, tokenizer, max_input_len, max_target_len):\n",
        "        self.papers = papers\n",
        "        self.tokenizer = tokenizer\n",
        "        self.max_input_len = max_input_len\n",
        "        self.max_target_len = max_target_len\n",
        "\n",
        "        # Build vocabulary from titles\n",
        "        self.word2idx = {'<PAD>': 0, '<SOS>': 1, '<EOS>': 2, '<UNK>': 3}\n",
        "        self.idx2word = {0: '<PAD>', 1: '<SOS>', 2: '<EOS>', 3: '<UNK>'}\n",
        "        self._build_vocab()\n",
        "\n",
        "    def _build_vocab(self):\n",
        "        idx = 4\n",
        "        for paper in self.papers:\n",
        "            words = paper['title'].lower().split()\n",
        "            for word in words:\n",
        "                if word not in self.word2idx:\n",
        "                    self.word2idx[word] = idx\n",
        "                    self.idx2word[idx] = word\n",
        "                    idx += 1\n",
        "\n",
        "    def encode_title(self, title):\n",
        "        words = title.lower().split()\n",
        "        indices = [self.word2idx.get(w, self.word2idx['<UNK>']) for w in words]\n",
        "        indices = [self.word2idx['<SOS>']] + indices + [self.word2idx['<EOS>']]\n",
        "\n",
        "        # Padding\n",
        "        if len(indices) < self.max_target_len:\n",
        "            indices += [self.word2idx['<PAD>']] * (self.max_target_len - len(indices))\n",
        "        else:\n",
        "            indices = indices[:self.max_target_len-1] + [self.word2idx['<EOS>']]\n",
        "\n",
        "        return torch.tensor(indices)\n",
        "\n",
        "    def decode_title(self, indices):\n",
        "        words = []\n",
        "        for idx in indices:\n",
        "            if idx == self.word2idx['<EOS>']:\n",
        "                break\n",
        "            if idx not in [self.word2idx['<PAD>'], self.word2idx['<SOS>']]:\n",
        "                words.append(self.idx2word.get(idx, '<UNK>'))\n",
        "        return ' '.join(words)\n",
        "\n",
        "    def __len__(self):\n",
        "        return len(self.papers)\n",
        "\n",
        "    def __getitem__(self, idx):\n",
        "        paper = self.papers[idx]\n",
        "\n",
        "        # Encode abstract with BERT tokenizer\n",
        "        encoding = self.tokenizer(\n",
        "            paper['abstract'],\n",
        "            max_length=self.max_input_len,\n",
        "            padding='max_length',\n",
        "            truncation=True,\n",
        "            return_tensors='pt'\n",
        "        )\n",
        "\n",
        "        # Encode title\n",
        "        title_indices = self.encode_title(paper['title'])\n",
        "\n",
        "        return {\n",
        "            'input_ids': encoding['input_ids'].squeeze(),\n",
        "            'attention_mask': encoding['attention_mask'].squeeze(),\n",
        "            'target': title_indices,\n",
        "            'title_text': paper['title']\n",
        "        }"
      ],
      "metadata": {
        "id": "gRt0ON5TmN2A"
      },
      "execution_count": 67,
      "outputs": []
    },
    {
      "cell_type": "markdown",
      "source": [
        "# 3 Attention Mechanism Architecture"
      ],
      "metadata": {
        "id": "1PxoASM23smO"
      }
    },
    {
      "cell_type": "code",
      "source": [
        "class BahdanauAttention(nn.Module):\n",
        "    \"\"\"\n",
        "    Bahdanau (Additive) Attention\n",
        "    score(h_t, h_s) = v^T * tanh(W1*h_t + W2*h_s)\n",
        "    \"\"\"\n",
        "    def __init__(self, hidden_size, decoder_hidden_size):\n",
        "        super(BahdanauAttention, self).__init__()\n",
        "        self.W1 = nn.Linear(hidden_size, decoder_hidden_size, bias=False)\n",
        "        self.W2 = nn.Linear(decoder_hidden_size, decoder_hidden_size, bias=False)\n",
        "        self.v = nn.Linear(decoder_hidden_size, 1, bias=False)\n",
        "\n",
        "    def forward(self, encoder_outputs, decoder_hidden):\n",
        "        \"\"\"\n",
        "        encoder_outputs: (batch, seq_len, hidden_size)\n",
        "        decoder_hidden: (batch, decoder_hidden_size)\n",
        "        \"\"\"\n",
        "        batch_size = encoder_outputs.size(0)\n",
        "        seq_len = encoder_outputs.size(1)\n",
        "\n",
        "        # Expand decoder hidden to match encoder outputs\n",
        "        decoder_hidden = decoder_hidden.unsqueeze(1).repeat(1, seq_len, 1)\n",
        "\n",
        "        # Calculate attention scores\n",
        "        energy = torch.tanh(self.W1(encoder_outputs) + self.W2(decoder_hidden))\n",
        "        attention_scores = self.v(energy).squeeze(2)  # (batch, seq_len)\n",
        "\n",
        "        # Apply softmax\n",
        "        attention_weights = F.softmax(attention_scores, dim=1)\n",
        "\n",
        "        # Calculate context vector\n",
        "        context = torch.bmm(attention_weights.unsqueeze(1), encoder_outputs)\n",
        "        context = context.squeeze(1)  # (batch, hidden_size)\n",
        "\n",
        "        return context, attention_weights"
      ],
      "metadata": {
        "id": "24NKgU0CjsQD"
      },
      "execution_count": 75,
      "outputs": []
    },
    {
      "cell_type": "code",
      "source": [
        "class BERTEncoder(nn.Module):\n",
        "    def __init__(self, model_name, freeze_bert=False):\n",
        "        super(BERTEncoder, self).__init__()\n",
        "        self.bert = BertModel.from_pretrained(model_name)\n",
        "\n",
        "        # Có thể freeze BERT để train nhanh hơn\n",
        "        if freeze_bert:\n",
        "            for param in self.bert.parameters():\n",
        "                param.requires_grad = False\n",
        "\n",
        "    def forward(self, input_ids, attention_mask):\n",
        "        outputs = self.bert(input_ids=input_ids, attention_mask=attention_mask)\n",
        "        return outputs.last_hidden_state"
      ],
      "metadata": {
        "id": "WcQszYsNjx02"
      },
      "execution_count": 93,
      "outputs": []
    },
    {
      "cell_type": "code",
      "source": [
        "class AttentionDecoder(nn.Module):\n",
        "    def __init__(self, vocab_size, embed_size, encoder_hidden_size,\n",
        "                 decoder_hidden_size, dropout=0.3):\n",
        "        super(AttentionDecoder, self).__init__()\n",
        "        self.vocab_size = vocab_size\n",
        "        self.decoder_hidden_size = decoder_hidden_size\n",
        "\n",
        "        # Layers\n",
        "        self.embedding = nn.Embedding(vocab_size, embed_size, padding_idx=0)\n",
        "        self.attention = BahdanauAttention(encoder_hidden_size, decoder_hidden_size)\n",
        "        self.lstm = nn.LSTM(embed_size + encoder_hidden_size, decoder_hidden_size,\n",
        "                           batch_first=True, num_layers=1, dropout=0)  # Không dùng LSTM dropout vì chỉ 1 layer\n",
        "        self.dropout = nn.Dropout(dropout)\n",
        "        self.fc = nn.Linear(decoder_hidden_size, vocab_size)\n",
        "\n",
        "    def forward(self, input_token, hidden, cell, encoder_outputs):\n",
        "        \"\"\"\n",
        "        input_token: (batch, 1)\n",
        "        hidden: (1, batch, decoder_hidden_size)\n",
        "        cell: (1, batch, decoder_hidden_size)\n",
        "        encoder_outputs: (batch, seq_len, encoder_hidden_size)\n",
        "        \"\"\"\n",
        "        # Embedding với dropout\n",
        "        embedded = self.dropout(self.embedding(input_token))  # (batch, 1, embed_size)\n",
        "\n",
        "        # Attention\n",
        "        decoder_hidden = hidden.squeeze(0)  # (batch, decoder_hidden_size)\n",
        "        context, attention_weights = self.attention(encoder_outputs, decoder_hidden)\n",
        "        context = context.unsqueeze(1)  # (batch, 1, encoder_hidden_size)\n",
        "\n",
        "        # Concatenate embedding and context\n",
        "        lstm_input = torch.cat([embedded, context], dim=2)\n",
        "\n",
        "        # LSTM\n",
        "        output, (hidden, cell) = self.lstm(lstm_input, (hidden, cell))\n",
        "\n",
        "        # Dropout trước FC layer\n",
        "        output = self.dropout(output.squeeze(1))\n",
        "\n",
        "        # Prediction\n",
        "        prediction = self.fc(output)  # (batch, vocab_size)\n",
        "\n",
        "        return prediction, hidden, cell, attention_weights"
      ],
      "metadata": {
        "id": "dLo9T0Gzjzz6"
      },
      "execution_count": 95,
      "outputs": []
    },
    {
      "cell_type": "code",
      "source": [
        "class Seq2SeqWithAttention(nn.Module):\n",
        "    def __init__(self, encoder, decoder, device):\n",
        "        super(Seq2SeqWithAttention, self).__init__()\n",
        "        self.encoder = encoder\n",
        "        self.decoder = decoder\n",
        "        self.device = device\n",
        "\n",
        "    def forward(self, src, src_mask, trg, teacher_forcing_ratio=0.5):\n",
        "        \"\"\"\n",
        "        src: (batch, src_len)\n",
        "        trg: (batch, trg_len)\n",
        "        \"\"\"\n",
        "        batch_size = src.size(0)\n",
        "        trg_len = trg.size(1)\n",
        "        vocab_size = self.decoder.vocab_size\n",
        "\n",
        "        # Encoder\n",
        "        encoder_outputs = self.encoder(src, src_mask)\n",
        "\n",
        "        # Initialize decoder hidden state\n",
        "        hidden = torch.zeros(1, batch_size, self.decoder.decoder_hidden_size).to(self.device)\n",
        "        cell = torch.zeros(1, batch_size, self.decoder.decoder_hidden_size).to(self.device)\n",
        "\n",
        "        # Store outputs\n",
        "        outputs = torch.zeros(batch_size, trg_len, vocab_size).to(self.device)\n",
        "\n",
        "        # First input is <SOS> token\n",
        "        input_token = trg[:, 0].unsqueeze(1)\n",
        "\n",
        "        for t in range(1, trg_len):\n",
        "            output, hidden, cell, _ = self.decoder(input_token, hidden, cell, encoder_outputs)\n",
        "            outputs[:, t, :] = output\n",
        "\n",
        "            # Teacher forcing\n",
        "            teacher_force = torch.rand(1).item() < teacher_forcing_ratio\n",
        "            top1 = output.argmax(1).unsqueeze(1)\n",
        "            input_token = trg[:, t].unsqueeze(1) if teacher_force else top1\n",
        "\n",
        "        return outputs"
      ],
      "metadata": {
        "id": "TuGOfDANj1ne"
      },
      "execution_count": 96,
      "outputs": []
    },
    {
      "cell_type": "code",
      "source": [
        "class LabelSmoothingLoss(nn.Module):\n",
        "    def __init__(self, classes, smoothing=0.0, ignore_index=-100):\n",
        "        super(LabelSmoothingLoss, self).__init__()\n",
        "        self.confidence = 1.0 - smoothing\n",
        "        self.smoothing = smoothing\n",
        "        self.cls = classes\n",
        "        self.ignore_index = ignore_index\n",
        "\n",
        "    def forward(self, pred, target):\n",
        "        pred = pred.log_softmax(dim=-1)\n",
        "\n",
        "        with torch.no_grad():\n",
        "            true_dist = torch.zeros_like(pred)\n",
        "            true_dist.fill_(self.smoothing / (self.cls - 1))\n",
        "            true_dist.scatter_(1, target.unsqueeze(1), self.confidence)\n",
        "            true_dist[:, self.ignore_index] = 0\n",
        "            mask = torch.nonzero(target == self.ignore_index, as_tuple=False)\n",
        "            if mask.dim() > 0 and mask.size(0) > 0:\n",
        "                true_dist.index_fill_(0, mask.squeeze(), 0.0)\n",
        "\n",
        "        return torch.mean(torch.sum(-true_dist * pred, dim=-1))"
      ],
      "metadata": {
        "id": "OkST1kAPq5op"
      },
      "execution_count": 97,
      "outputs": []
    },
    {
      "cell_type": "code",
      "source": [
        "def calculate_rouge(predictions, references):\n",
        "    scorer = rouge_scorer.RougeScorer(['rouge1', 'rouge2', 'rougeL'], use_stemmer=True)\n",
        "    scores = {'rouge1': [], 'rouge2': [], 'rougeL': []}\n",
        "\n",
        "    for pred, ref in zip(predictions, references):\n",
        "        score = scorer.score(ref, pred)\n",
        "        scores['rouge1'].append(score['rouge1'].fmeasure)\n",
        "        scores['rouge2'].append(score['rouge2'].fmeasure)\n",
        "        scores['rougeL'].append(score['rougeL'].fmeasure)\n",
        "\n",
        "    return {k: np.mean(v) for k, v in scores.items()}\n",
        "\n",
        "def calculate_bleu(predictions, references):\n",
        "    smoothie = SmoothingFunction().method4\n",
        "    scores = []\n",
        "\n",
        "    for pred, ref in zip(predictions, references):\n",
        "        pred_tokens = pred.lower().split()\n",
        "        ref_tokens = [ref.lower().split()]\n",
        "        score = sentence_bleu(ref_tokens, pred_tokens, smoothing_function=smoothie)\n",
        "        scores.append(score)\n",
        "\n",
        "    return np.mean(scores)"
      ],
      "metadata": {
        "id": "SkMJ-A_Vd_zl"
      },
      "execution_count": 98,
      "outputs": []
    },
    {
      "cell_type": "code",
      "source": [
        "def train_epoch(model, loader, optimizer, criterion, device, teacher_forcing_ratio):\n",
        "    model.train()\n",
        "    epoch_loss = 0\n",
        "\n",
        "    for batch in tqdm(loader, desc='Training'):\n",
        "        src = batch['input_ids'].to(device)\n",
        "        src_mask = batch['attention_mask'].to(device)\n",
        "        trg = batch['target'].to(device)\n",
        "\n",
        "        optimizer.zero_grad()\n",
        "        output = model(src, src_mask, trg, teacher_forcing_ratio)\n",
        "\n",
        "        # Calculate loss (ignore padding)\n",
        "        output_dim = output.shape[-1]\n",
        "        output = output[:, 1:].reshape(-1, output_dim)\n",
        "        trg = trg[:, 1:].reshape(-1)\n",
        "\n",
        "        loss = criterion(output, trg)\n",
        "        loss.backward()\n",
        "        torch.nn.utils.clip_grad_norm_(model.parameters(), 1.0)\n",
        "        optimizer.step()\n",
        "\n",
        "        epoch_loss += loss.item()\n",
        "\n",
        "    return epoch_loss / len(loader)\n",
        "\n",
        "def evaluate(model, loader, criterion, dataset, device):\n",
        "    model.eval()\n",
        "    epoch_loss = 0\n",
        "    predictions = []\n",
        "    references = []\n",
        "\n",
        "    with torch.no_grad():\n",
        "        for batch in tqdm(loader, desc='Evaluating'):\n",
        "            src = batch['input_ids'].to(device)\n",
        "            src_mask = batch['attention_mask'].to(device)\n",
        "            trg = batch['target'].to(device)\n",
        "\n",
        "            output = model(src, src_mask, trg, 0)  # No teacher forcing\n",
        "\n",
        "            # Loss\n",
        "            output_dim = output.shape[-1]\n",
        "            output_flat = output[:, 1:].reshape(-1, output_dim)\n",
        "            trg_flat = trg[:, 1:].reshape(-1)\n",
        "            loss = criterion(output_flat, trg_flat)\n",
        "            epoch_loss += loss.item()\n",
        "\n",
        "            # Generate predictions\n",
        "            pred_indices = output.argmax(2)\n",
        "            for i in range(len(pred_indices)):\n",
        "                pred_text = dataset.decode_title(pred_indices[i].cpu().numpy())\n",
        "                ref_text = batch['title_text'][i]\n",
        "                predictions.append(pred_text)\n",
        "                references.append(ref_text)\n",
        "\n",
        "    avg_loss = epoch_loss / len(loader)\n",
        "    rouge_scores = calculate_rouge(predictions, references)\n",
        "    bleu_score = calculate_bleu(predictions, references)\n",
        "\n",
        "    return avg_loss, rouge_scores, bleu_score"
      ],
      "metadata": {
        "id": "FzyRPEpSmZdg"
      },
      "execution_count": 99,
      "outputs": []
    },
    {
      "cell_type": "markdown",
      "source": [
        "# 5 Full pipeline training"
      ],
      "metadata": {
        "id": "246ltyBxdd4_"
      }
    },
    {
      "cell_type": "code",
      "source": [
        "CONFIG = {\n",
        "    'encoder_model': 'bert-base-uncased',  # Pre-trained encoder\n",
        "    'max_input_length': 256,\n",
        "    'max_target_length': 32,\n",
        "    'hidden_size': 768,  # BERT hidden size\n",
        "    'decoder_hidden_size': 256,  # Giảm từ 512 → 256\n",
        "    'embed_size': 256,  # Giảm từ 300 → 256\n",
        "    'dropout': 0.5,  # Tăng từ 0.3 → 0.5\n",
        "    'batch_size': 16,\n",
        "    'learning_rate': 5e-4,  # Giảm từ 1e-3 → 5e-4\n",
        "    'encoder_lr': 1e-5,\n",
        "    'num_epochs': 30,\n",
        "    'device': 'cuda' if torch.cuda.is_available() else 'cpu',\n",
        "    'teacher_forcing_ratio': 0.7,\n",
        "    'weight_decay': 1e-4,  # L2 regularization\n",
        "    'label_smoothing': 0.1,  # Label smoothing\n",
        "    'patience': 5,  # Early stopping patience\n",
        "    'freeze_bert': True  # Freeze BERT để giảm overfitting\n",
        "}"
      ],
      "metadata": {
        "id": "lbJ31X-mmjzg"
      },
      "execution_count": 100,
      "outputs": []
    },
    {
      "cell_type": "code",
      "source": [
        "# 1. Load data\n",
        "papers = load_data('papers_365_days.json')\n",
        "train_papers, temp = train_test_split(papers, test_size=0.3, random_state=42)\n",
        "val_papers, test_papers = train_test_split(temp, test_size=0.5, random_state=42)\n",
        "print(f\"Train: {len(train_papers)}, Val: {len(val_papers)}, Test: {len(test_papers)}\\n\")\n",
        "\n",
        "# 2. Tokenizer\n",
        "tokenizer = BertTokenizer.from_pretrained(CONFIG['encoder_model'])\n",
        "\n",
        "# 3. Datasets\n",
        "train_dataset = SummarizationDataset(train_papers, tokenizer,\n",
        "                                    CONFIG['max_input_length'], CONFIG['max_target_length'])\n",
        "val_dataset = SummarizationDataset(val_papers, tokenizer,\n",
        "                                  CONFIG['max_input_length'], CONFIG['max_target_length'])\n",
        "test_dataset = SummarizationDataset(test_papers, tokenizer,\n",
        "                                   CONFIG['max_input_length'], CONFIG['max_target_length'])\n",
        "\n",
        "train_dataset.word2idx = val_dataset.word2idx = test_dataset.word2idx = train_dataset.word2idx\n",
        "train_dataset.idx2word = val_dataset.idx2word = test_dataset.idx2word = train_dataset.idx2word\n",
        "\n",
        "vocab_size = len(train_dataset.word2idx)\n",
        "print(f\"Vocabulary size: {vocab_size}\\n\")"
      ],
      "metadata": {
        "colab": {
          "base_uri": "https://localhost:8080/"
        },
        "id": "vcJDz18jbbwn",
        "outputId": "58294b6d-9897-4481-b616-c608cd85b8bc"
      },
      "execution_count": 101,
      "outputs": [
        {
          "output_type": "stream",
          "name": "stdout",
          "text": [
            "✓ Loaded 4249 valid papers\n",
            "Train: 2974, Val: 637, Test: 638\n",
            "\n",
            "Vocabulary size: 6759\n",
            "\n"
          ]
        }
      ]
    },
    {
      "cell_type": "code",
      "source": [
        "# 4. DataLoaders\n",
        "train_loader = DataLoader(train_dataset, batch_size=CONFIG['batch_size'], shuffle=True)\n",
        "val_loader = DataLoader(val_dataset, batch_size=CONFIG['batch_size'])\n",
        "test_loader = DataLoader(test_dataset, batch_size=CONFIG['batch_size'])\n",
        "\n",
        "# 5. Model\n",
        "encoder = BERTEncoder(CONFIG['encoder_model'], freeze_bert=CONFIG['freeze_bert'])\n",
        "decoder = AttentionDecoder(\n",
        "    vocab_size, CONFIG['embed_size'],\n",
        "    CONFIG['hidden_size'], CONFIG['decoder_hidden_size'],\n",
        "    CONFIG['dropout']\n",
        ")\n",
        "model = Seq2SeqWithAttention(encoder, decoder, CONFIG['device']).to(CONFIG['device'])\n",
        "\n",
        "print(f\"Model parameters: {sum(p.numel() for p in model.parameters() if p.requires_grad):,}\")"
      ],
      "metadata": {
        "colab": {
          "base_uri": "https://localhost:8080/"
        },
        "id": "RIdR6vyzb1vJ",
        "outputId": "a843148c-77a1-4b6f-9384-bbe18b192e95"
      },
      "execution_count": 102,
      "outputs": [
        {
          "output_type": "stream",
          "name": "stdout",
          "text": [
            "Model parameters: 5,042,535\n"
          ]
        }
      ]
    },
    {
      "cell_type": "code",
      "source": [
        "# 6. Training setup với Label Smoothing và Weight Decay\n",
        "criterion = LabelSmoothingLoss(\n",
        "    classes=vocab_size,\n",
        "    smoothing=CONFIG['label_smoothing'],\n",
        "    ignore_index=train_dataset.word2idx['<PAD>']\n",
        ")\n",
        "\n",
        "optimizer = torch.optim.Adam([\n",
        "    {'params': encoder.parameters(), 'lr': CONFIG['encoder_lr'], 'weight_decay': CONFIG['weight_decay']},\n",
        "    {'params': decoder.parameters(), 'lr': CONFIG['learning_rate'], 'weight_decay': CONFIG['weight_decay']}\n",
        "])\n",
        "\n",
        "# Learning rate scheduler\n",
        "scheduler = torch.optim.lr_scheduler.ReduceLROnPlateau(\n",
        "    optimizer, mode='min', factor=0.5, patience=2\n",
        ")"
      ],
      "metadata": {
        "id": "8rsA_f-tqHPV"
      },
      "execution_count": 104,
      "outputs": []
    },
    {
      "cell_type": "code",
      "source": [
        "# 7. Training loop\n",
        "best_val_loss = float('inf')\n",
        "history = {'train_loss': [], 'val_loss': [], 'rouge1': [], 'rouge2': [], 'rougeL': [], 'bleu': []}\n",
        "\n",
        "print(\"Starting training...\\n\")\n",
        "for epoch in range(CONFIG['num_epochs']):\n",
        "    train_loss = train_epoch(model, train_loader, optimizer, criterion,\n",
        "                            CONFIG['device'], CONFIG['teacher_forcing_ratio'])\n",
        "    val_loss, rouge, bleu = evaluate(model, val_loader, criterion, val_dataset, CONFIG['device'])\n",
        "\n",
        "    history['train_loss'].append(train_loss)\n",
        "    history['val_loss'].append(val_loss)\n",
        "    history['rouge1'].append(rouge['rouge1'])\n",
        "    history['rouge2'].append(rouge['rouge2'])\n",
        "    history['rougeL'].append(rouge['rougeL'])\n",
        "    history['bleu'].append(bleu)\n",
        "\n",
        "    print(f\"Epoch {epoch+1}/{CONFIG['num_epochs']}\")\n",
        "    print(f\"  Train Loss: {train_loss:.4f} | Val Loss: {val_loss:.4f}\")\n",
        "    print(f\"  ROUGE-1: {rouge['rouge1']:.4f} | ROUGE-2: {rouge['rouge2']:.4f} | ROUGE-L: {rouge['rougeL']:.4f}\")\n",
        "    print(f\"  BLEU: {bleu:.4f}\\n\")\n",
        "\n",
        "    if val_loss < best_val_loss:\n",
        "        best_val_loss = val_loss\n",
        "        torch.save(model.state_dict(), 'best_attention_model.pt')"
      ],
      "metadata": {
        "colab": {
          "base_uri": "https://localhost:8080/"
        },
        "id": "d1vuHH0PcEvu",
        "outputId": "8fea006e-6b0c-4690-81b1-bd877e5c2d50"
      },
      "execution_count": 105,
      "outputs": [
        {
          "output_type": "stream",
          "name": "stdout",
          "text": [
            "Starting training...\n",
            "\n"
          ]
        },
        {
          "output_type": "stream",
          "name": "stderr",
          "text": [
            "Training: 100%|██████████| 186/186 [01:07<00:00,  2.78it/s]\n",
            "Evaluating: 100%|██████████| 40/40 [00:11<00:00,  3.36it/s]\n"
          ]
        },
        {
          "output_type": "stream",
          "name": "stdout",
          "text": [
            "Epoch 1/30\n",
            "  Train Loss: 2.3855 | Val Loss: 2.3259\n",
            "  ROUGE-1: 0.0675 | ROUGE-2: 0.0000 | ROUGE-L: 0.0662\n",
            "  BLEU: 0.0082\n",
            "\n"
          ]
        },
        {
          "output_type": "stream",
          "name": "stderr",
          "text": [
            "Training: 100%|██████████| 186/186 [01:06<00:00,  2.78it/s]\n",
            "Evaluating: 100%|██████████| 40/40 [00:12<00:00,  3.29it/s]\n"
          ]
        },
        {
          "output_type": "stream",
          "name": "stdout",
          "text": [
            "Epoch 2/30\n",
            "  Train Loss: 2.2539 | Val Loss: 2.3040\n",
            "  ROUGE-1: 0.0741 | ROUGE-2: 0.0000 | ROUGE-L: 0.0718\n",
            "  BLEU: 0.0104\n",
            "\n"
          ]
        },
        {
          "output_type": "stream",
          "name": "stderr",
          "text": [
            "Training: 100%|██████████| 186/186 [01:07<00:00,  2.76it/s]\n",
            "Evaluating: 100%|██████████| 40/40 [00:12<00:00,  3.31it/s]\n"
          ]
        },
        {
          "output_type": "stream",
          "name": "stdout",
          "text": [
            "Epoch 3/30\n",
            "  Train Loss: 2.2146 | Val Loss: 2.2937\n",
            "  ROUGE-1: 0.0946 | ROUGE-2: 0.0062 | ROUGE-L: 0.0903\n",
            "  BLEU: 0.0126\n",
            "\n"
          ]
        },
        {
          "output_type": "stream",
          "name": "stderr",
          "text": [
            "Training: 100%|██████████| 186/186 [01:07<00:00,  2.76it/s]\n",
            "Evaluating: 100%|██████████| 40/40 [00:12<00:00,  3.30it/s]\n"
          ]
        },
        {
          "output_type": "stream",
          "name": "stdout",
          "text": [
            "Epoch 4/30\n",
            "  Train Loss: 2.1848 | Val Loss: 2.2838\n",
            "  ROUGE-1: 0.1194 | ROUGE-2: 0.0171 | ROUGE-L: 0.1128\n",
            "  BLEU: 0.0177\n",
            "\n"
          ]
        },
        {
          "output_type": "stream",
          "name": "stderr",
          "text": [
            "Training: 100%|██████████| 186/186 [01:07<00:00,  2.77it/s]\n",
            "Evaluating: 100%|██████████| 40/40 [00:12<00:00,  3.33it/s]\n"
          ]
        },
        {
          "output_type": "stream",
          "name": "stdout",
          "text": [
            "Epoch 5/30\n",
            "  Train Loss: 2.1560 | Val Loss: 2.2788\n",
            "  ROUGE-1: 0.1351 | ROUGE-2: 0.0254 | ROUGE-L: 0.1281\n",
            "  BLEU: 0.0224\n",
            "\n"
          ]
        },
        {
          "output_type": "stream",
          "name": "stderr",
          "text": [
            "Training: 100%|██████████| 186/186 [01:07<00:00,  2.76it/s]\n",
            "Evaluating: 100%|██████████| 40/40 [00:11<00:00,  3.35it/s]\n"
          ]
        },
        {
          "output_type": "stream",
          "name": "stdout",
          "text": [
            "Epoch 6/30\n",
            "  Train Loss: 2.1325 | Val Loss: 2.2726\n",
            "  ROUGE-1: 0.1409 | ROUGE-2: 0.0268 | ROUGE-L: 0.1332\n",
            "  BLEU: 0.0221\n",
            "\n"
          ]
        },
        {
          "output_type": "stream",
          "name": "stderr",
          "text": [
            "Training: 100%|██████████| 186/186 [01:07<00:00,  2.77it/s]\n",
            "Evaluating: 100%|██████████| 40/40 [00:12<00:00,  3.31it/s]\n"
          ]
        },
        {
          "output_type": "stream",
          "name": "stdout",
          "text": [
            "Epoch 7/30\n",
            "  Train Loss: 2.1053 | Val Loss: 2.2672\n",
            "  ROUGE-1: 0.1494 | ROUGE-2: 0.0324 | ROUGE-L: 0.1409\n",
            "  BLEU: 0.0255\n",
            "\n"
          ]
        },
        {
          "output_type": "stream",
          "name": "stderr",
          "text": [
            "Training: 100%|██████████| 186/186 [01:07<00:00,  2.77it/s]\n",
            "Evaluating: 100%|██████████| 40/40 [00:11<00:00,  3.33it/s]\n"
          ]
        },
        {
          "output_type": "stream",
          "name": "stdout",
          "text": [
            "Epoch 8/30\n",
            "  Train Loss: 2.0816 | Val Loss: 2.2671\n",
            "  ROUGE-1: 0.1527 | ROUGE-2: 0.0336 | ROUGE-L: 0.1436\n",
            "  BLEU: 0.0251\n",
            "\n"
          ]
        },
        {
          "output_type": "stream",
          "name": "stderr",
          "text": [
            "Training: 100%|██████████| 186/186 [01:06<00:00,  2.78it/s]\n",
            "Evaluating: 100%|██████████| 40/40 [00:11<00:00,  3.34it/s]\n"
          ]
        },
        {
          "output_type": "stream",
          "name": "stdout",
          "text": [
            "Epoch 9/30\n",
            "  Train Loss: 2.0634 | Val Loss: 2.2588\n",
            "  ROUGE-1: 0.1603 | ROUGE-2: 0.0373 | ROUGE-L: 0.1516\n",
            "  BLEU: 0.0265\n",
            "\n"
          ]
        },
        {
          "output_type": "stream",
          "name": "stderr",
          "text": [
            "Training: 100%|██████████| 186/186 [01:07<00:00,  2.77it/s]\n",
            "Evaluating: 100%|██████████| 40/40 [00:11<00:00,  3.35it/s]\n"
          ]
        },
        {
          "output_type": "stream",
          "name": "stdout",
          "text": [
            "Epoch 10/30\n",
            "  Train Loss: 2.0404 | Val Loss: 2.2562\n",
            "  ROUGE-1: 0.1598 | ROUGE-2: 0.0351 | ROUGE-L: 0.1496\n",
            "  BLEU: 0.0264\n",
            "\n"
          ]
        },
        {
          "output_type": "stream",
          "name": "stderr",
          "text": [
            "Training: 100%|██████████| 186/186 [01:06<00:00,  2.78it/s]\n",
            "Evaluating: 100%|██████████| 40/40 [00:11<00:00,  3.34it/s]\n"
          ]
        },
        {
          "output_type": "stream",
          "name": "stdout",
          "text": [
            "Epoch 11/30\n",
            "  Train Loss: 2.0211 | Val Loss: 2.2481\n",
            "  ROUGE-1: 0.1587 | ROUGE-2: 0.0347 | ROUGE-L: 0.1502\n",
            "  BLEU: 0.0261\n",
            "\n"
          ]
        },
        {
          "output_type": "stream",
          "name": "stderr",
          "text": [
            "Training: 100%|██████████| 186/186 [01:07<00:00,  2.77it/s]\n",
            "Evaluating: 100%|██████████| 40/40 [00:11<00:00,  3.35it/s]\n"
          ]
        },
        {
          "output_type": "stream",
          "name": "stdout",
          "text": [
            "Epoch 12/30\n",
            "  Train Loss: 2.0021 | Val Loss: 2.2484\n",
            "  ROUGE-1: 0.1609 | ROUGE-2: 0.0336 | ROUGE-L: 0.1512\n",
            "  BLEU: 0.0255\n",
            "\n"
          ]
        },
        {
          "output_type": "stream",
          "name": "stderr",
          "text": [
            "Training: 100%|██████████| 186/186 [01:06<00:00,  2.78it/s]\n",
            "Evaluating: 100%|██████████| 40/40 [00:12<00:00,  3.33it/s]\n"
          ]
        },
        {
          "output_type": "stream",
          "name": "stdout",
          "text": [
            "Epoch 13/30\n",
            "  Train Loss: 1.9801 | Val Loss: 2.2489\n",
            "  ROUGE-1: 0.1712 | ROUGE-2: 0.0410 | ROUGE-L: 0.1600\n",
            "  BLEU: 0.0278\n",
            "\n"
          ]
        },
        {
          "output_type": "stream",
          "name": "stderr",
          "text": [
            "Training: 100%|██████████| 186/186 [01:06<00:00,  2.80it/s]\n",
            "Evaluating: 100%|██████████| 40/40 [00:12<00:00,  3.32it/s]\n"
          ]
        },
        {
          "output_type": "stream",
          "name": "stdout",
          "text": [
            "Epoch 14/30\n",
            "  Train Loss: 1.9659 | Val Loss: 2.2460\n",
            "  ROUGE-1: 0.1702 | ROUGE-2: 0.0377 | ROUGE-L: 0.1594\n",
            "  BLEU: 0.0279\n",
            "\n"
          ]
        },
        {
          "output_type": "stream",
          "name": "stderr",
          "text": [
            "Training: 100%|██████████| 186/186 [01:06<00:00,  2.80it/s]\n",
            "Evaluating: 100%|██████████| 40/40 [00:11<00:00,  3.34it/s]\n"
          ]
        },
        {
          "output_type": "stream",
          "name": "stdout",
          "text": [
            "Epoch 15/30\n",
            "  Train Loss: 1.9476 | Val Loss: 2.2424\n",
            "  ROUGE-1: 0.1709 | ROUGE-2: 0.0384 | ROUGE-L: 0.1600\n",
            "  BLEU: 0.0284\n",
            "\n"
          ]
        },
        {
          "output_type": "stream",
          "name": "stderr",
          "text": [
            "Training: 100%|██████████| 186/186 [01:06<00:00,  2.79it/s]\n",
            "Evaluating: 100%|██████████| 40/40 [00:12<00:00,  3.33it/s]\n"
          ]
        },
        {
          "output_type": "stream",
          "name": "stdout",
          "text": [
            "Epoch 16/30\n",
            "  Train Loss: 1.9324 | Val Loss: 2.2484\n",
            "  ROUGE-1: 0.1739 | ROUGE-2: 0.0440 | ROUGE-L: 0.1628\n",
            "  BLEU: 0.0301\n",
            "\n"
          ]
        },
        {
          "output_type": "stream",
          "name": "stderr",
          "text": [
            "Training: 100%|██████████| 186/186 [01:06<00:00,  2.78it/s]\n",
            "Evaluating: 100%|██████████| 40/40 [00:11<00:00,  3.34it/s]\n"
          ]
        },
        {
          "output_type": "stream",
          "name": "stdout",
          "text": [
            "Epoch 17/30\n",
            "  Train Loss: 1.9149 | Val Loss: 2.2425\n",
            "  ROUGE-1: 0.1765 | ROUGE-2: 0.0423 | ROUGE-L: 0.1653\n",
            "  BLEU: 0.0293\n",
            "\n"
          ]
        },
        {
          "output_type": "stream",
          "name": "stderr",
          "text": [
            "Training: 100%|██████████| 186/186 [01:06<00:00,  2.80it/s]\n",
            "Evaluating: 100%|██████████| 40/40 [00:11<00:00,  3.34it/s]\n"
          ]
        },
        {
          "output_type": "stream",
          "name": "stdout",
          "text": [
            "Epoch 18/30\n",
            "  Train Loss: 1.8985 | Val Loss: 2.2395\n",
            "  ROUGE-1: 0.1764 | ROUGE-2: 0.0416 | ROUGE-L: 0.1642\n",
            "  BLEU: 0.0284\n",
            "\n"
          ]
        },
        {
          "output_type": "stream",
          "name": "stderr",
          "text": [
            "Training: 100%|██████████| 186/186 [01:06<00:00,  2.78it/s]\n",
            "Evaluating: 100%|██████████| 40/40 [00:11<00:00,  3.33it/s]\n"
          ]
        },
        {
          "output_type": "stream",
          "name": "stdout",
          "text": [
            "Epoch 19/30\n",
            "  Train Loss: 1.8882 | Val Loss: 2.2405\n",
            "  ROUGE-1: 0.1729 | ROUGE-2: 0.0407 | ROUGE-L: 0.1604\n",
            "  BLEU: 0.0270\n",
            "\n"
          ]
        },
        {
          "output_type": "stream",
          "name": "stderr",
          "text": [
            "Training: 100%|██████████| 186/186 [01:06<00:00,  2.80it/s]\n",
            "Evaluating: 100%|██████████| 40/40 [00:11<00:00,  3.34it/s]\n"
          ]
        },
        {
          "output_type": "stream",
          "name": "stdout",
          "text": [
            "Epoch 20/30\n",
            "  Train Loss: 1.8715 | Val Loss: 2.2419\n",
            "  ROUGE-1: 0.1783 | ROUGE-2: 0.0421 | ROUGE-L: 0.1654\n",
            "  BLEU: 0.0292\n",
            "\n"
          ]
        },
        {
          "output_type": "stream",
          "name": "stderr",
          "text": [
            "Training: 100%|██████████| 186/186 [01:07<00:00,  2.77it/s]\n",
            "Evaluating: 100%|██████████| 40/40 [00:11<00:00,  3.33it/s]\n"
          ]
        },
        {
          "output_type": "stream",
          "name": "stdout",
          "text": [
            "Epoch 21/30\n",
            "  Train Loss: 1.8615 | Val Loss: 2.2409\n",
            "  ROUGE-1: 0.1836 | ROUGE-2: 0.0454 | ROUGE-L: 0.1705\n",
            "  BLEU: 0.0301\n",
            "\n"
          ]
        },
        {
          "output_type": "stream",
          "name": "stderr",
          "text": [
            "Training: 100%|██████████| 186/186 [01:06<00:00,  2.80it/s]\n",
            "Evaluating: 100%|██████████| 40/40 [00:12<00:00,  3.32it/s]\n"
          ]
        },
        {
          "output_type": "stream",
          "name": "stdout",
          "text": [
            "Epoch 22/30\n",
            "  Train Loss: 1.8448 | Val Loss: 2.2413\n",
            "  ROUGE-1: 0.1832 | ROUGE-2: 0.0443 | ROUGE-L: 0.1690\n",
            "  BLEU: 0.0314\n",
            "\n"
          ]
        },
        {
          "output_type": "stream",
          "name": "stderr",
          "text": [
            "Training: 100%|██████████| 186/186 [01:06<00:00,  2.79it/s]\n",
            "Evaluating: 100%|██████████| 40/40 [00:11<00:00,  3.33it/s]\n"
          ]
        },
        {
          "output_type": "stream",
          "name": "stdout",
          "text": [
            "Epoch 23/30\n",
            "  Train Loss: 1.8277 | Val Loss: 2.2485\n",
            "  ROUGE-1: 0.1868 | ROUGE-2: 0.0458 | ROUGE-L: 0.1731\n",
            "  BLEU: 0.0311\n",
            "\n"
          ]
        },
        {
          "output_type": "stream",
          "name": "stderr",
          "text": [
            "Training: 100%|██████████| 186/186 [01:06<00:00,  2.80it/s]\n",
            "Evaluating: 100%|██████████| 40/40 [00:12<00:00,  3.32it/s]\n"
          ]
        },
        {
          "output_type": "stream",
          "name": "stdout",
          "text": [
            "Epoch 24/30\n",
            "  Train Loss: 1.8212 | Val Loss: 2.2366\n",
            "  ROUGE-1: 0.1792 | ROUGE-2: 0.0430 | ROUGE-L: 0.1672\n",
            "  BLEU: 0.0289\n",
            "\n"
          ]
        },
        {
          "output_type": "stream",
          "name": "stderr",
          "text": [
            "Training: 100%|██████████| 186/186 [01:07<00:00,  2.76it/s]\n",
            "Evaluating: 100%|██████████| 40/40 [00:12<00:00,  3.33it/s]\n"
          ]
        },
        {
          "output_type": "stream",
          "name": "stdout",
          "text": [
            "Epoch 25/30\n",
            "  Train Loss: 1.8082 | Val Loss: 2.2402\n",
            "  ROUGE-1: 0.1803 | ROUGE-2: 0.0450 | ROUGE-L: 0.1674\n",
            "  BLEU: 0.0292\n",
            "\n"
          ]
        },
        {
          "output_type": "stream",
          "name": "stderr",
          "text": [
            "Training: 100%|██████████| 186/186 [01:06<00:00,  2.80it/s]\n",
            "Evaluating: 100%|██████████| 40/40 [00:12<00:00,  3.32it/s]\n"
          ]
        },
        {
          "output_type": "stream",
          "name": "stdout",
          "text": [
            "Epoch 26/30\n",
            "  Train Loss: 1.7948 | Val Loss: 2.2391\n",
            "  ROUGE-1: 0.1771 | ROUGE-2: 0.0421 | ROUGE-L: 0.1641\n",
            "  BLEU: 0.0296\n",
            "\n"
          ]
        },
        {
          "output_type": "stream",
          "name": "stderr",
          "text": [
            "Training: 100%|██████████| 186/186 [01:06<00:00,  2.79it/s]\n",
            "Evaluating: 100%|██████████| 40/40 [00:12<00:00,  3.32it/s]\n"
          ]
        },
        {
          "output_type": "stream",
          "name": "stdout",
          "text": [
            "Epoch 27/30\n",
            "  Train Loss: 1.7840 | Val Loss: 2.2329\n",
            "  ROUGE-1: 0.1857 | ROUGE-2: 0.0429 | ROUGE-L: 0.1728\n",
            "  BLEU: 0.0305\n",
            "\n"
          ]
        },
        {
          "output_type": "stream",
          "name": "stderr",
          "text": [
            "Training: 100%|██████████| 186/186 [01:06<00:00,  2.78it/s]\n",
            "Evaluating: 100%|██████████| 40/40 [00:11<00:00,  3.34it/s]\n"
          ]
        },
        {
          "output_type": "stream",
          "name": "stdout",
          "text": [
            "Epoch 28/30\n",
            "  Train Loss: 1.7753 | Val Loss: 2.2387\n",
            "  ROUGE-1: 0.1809 | ROUGE-2: 0.0415 | ROUGE-L: 0.1660\n",
            "  BLEU: 0.0293\n",
            "\n"
          ]
        },
        {
          "output_type": "stream",
          "name": "stderr",
          "text": [
            "Training: 100%|██████████| 186/186 [01:07<00:00,  2.76it/s]\n",
            "Evaluating: 100%|██████████| 40/40 [00:12<00:00,  3.30it/s]\n"
          ]
        },
        {
          "output_type": "stream",
          "name": "stdout",
          "text": [
            "Epoch 29/30\n",
            "  Train Loss: 1.7669 | Val Loss: 2.2376\n",
            "  ROUGE-1: 0.1864 | ROUGE-2: 0.0449 | ROUGE-L: 0.1738\n",
            "  BLEU: 0.0312\n",
            "\n"
          ]
        },
        {
          "output_type": "stream",
          "name": "stderr",
          "text": [
            "Training: 100%|██████████| 186/186 [01:06<00:00,  2.78it/s]\n",
            "Evaluating: 100%|██████████| 40/40 [00:12<00:00,  3.32it/s]\n"
          ]
        },
        {
          "output_type": "stream",
          "name": "stdout",
          "text": [
            "Epoch 30/30\n",
            "  Train Loss: 1.7561 | Val Loss: 2.2356\n",
            "  ROUGE-1: 0.1872 | ROUGE-2: 0.0397 | ROUGE-L: 0.1705\n",
            "  BLEU: 0.0289\n",
            "\n"
          ]
        }
      ]
    },
    {
      "cell_type": "code",
      "source": [
        "# 8. Test evaluation\n",
        "print(\"Testing on test set...\")\n",
        "model.load_state_dict(torch.load('best_attention_model.pt'))\n",
        "test_loss, test_rouge, test_bleu = evaluate(model, test_loader, criterion, test_dataset, CONFIG['device'])\n",
        "\n",
        "print(f\"\\n{'='*60}\")\n",
        "print(\"FINAL TEST RESULTS\")\n",
        "print(f\"{'='*60}\")\n",
        "print(f\"Test Loss: {test_loss:.4f}\")\n",
        "print(f\"ROUGE-1: {test_rouge['rouge1']:.4f}\")\n",
        "print(f\"ROUGE-2: {test_rouge['rouge2']:.4f}\")\n",
        "print(f\"ROUGE-L: {test_rouge['rougeL']:.4f}\")\n",
        "print(f\"BLEU: {test_bleu:.4f}\")"
      ],
      "metadata": {
        "colab": {
          "base_uri": "https://localhost:8080/"
        },
        "id": "AuKI66aYcGo0",
        "outputId": "497619ca-b263-4420-f194-409bba68f2ba"
      },
      "execution_count": 106,
      "outputs": [
        {
          "output_type": "stream",
          "name": "stdout",
          "text": [
            "Testing on test set...\n"
          ]
        },
        {
          "output_type": "stream",
          "name": "stderr",
          "text": [
            "Evaluating: 100%|██████████| 40/40 [00:12<00:00,  3.31it/s]\n"
          ]
        },
        {
          "output_type": "stream",
          "name": "stdout",
          "text": [
            "\n",
            "============================================================\n",
            "FINAL TEST RESULTS\n",
            "============================================================\n",
            "Test Loss: 2.1919\n",
            "ROUGE-1: 0.1967\n",
            "ROUGE-2: 0.0457\n",
            "ROUGE-L: 0.1835\n",
            "BLEU: 0.0314\n"
          ]
        }
      ]
    }
  ]
}