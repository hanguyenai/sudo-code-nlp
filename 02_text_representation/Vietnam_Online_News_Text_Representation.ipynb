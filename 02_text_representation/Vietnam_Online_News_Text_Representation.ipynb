{
 "cells": [
  {
   "cell_type": "markdown",
   "id": "922f1ae3",
   "metadata": {},
   "source": [
    "# 1. Downloading Datasets and Visualizing\n",
    "\n",
    "### 📥 Download Dataset\n",
    "We use the [Vietnamese Online News Dataset](https://www.kaggle.com/datasets/haitranquangofficial/vietnamese-online-news-dataset) from Kaggle.  \n",
    "On Kaggle Notebooks, the dataset is automatically available under `/kaggle/input/...`. "
   ]
  },
  {
   "cell_type": "code",
   "execution_count": 1,
   "id": "a770fb20",
   "metadata": {},
   "outputs": [
    {
     "name": "stdout",
     "output_type": "stream",
     "text": [
      "Requirement already satisfied: kagglehub[pandas-datasets] in /home/hanguyen/anaconda3/envs/pynlp/lib/python3.9/site-packages (0.3.13)\n",
      "Requirement already satisfied: packaging in /home/hanguyen/anaconda3/envs/pynlp/lib/python3.9/site-packages (from kagglehub[pandas-datasets]) (25.0)\n",
      "Requirement already satisfied: pyyaml in /home/hanguyen/anaconda3/envs/pynlp/lib/python3.9/site-packages (from kagglehub[pandas-datasets]) (6.0.2)\n",
      "Requirement already satisfied: requests in /home/hanguyen/anaconda3/envs/pynlp/lib/python3.9/site-packages (from kagglehub[pandas-datasets]) (2.32.5)\n",
      "Requirement already satisfied: tqdm in /home/hanguyen/anaconda3/envs/pynlp/lib/python3.9/site-packages (from kagglehub[pandas-datasets]) (4.67.1)\n",
      "Requirement already satisfied: pandas in /home/hanguyen/anaconda3/envs/pynlp/lib/python3.9/site-packages (from kagglehub[pandas-datasets]) (2.3.2)\n",
      "Requirement already satisfied: numpy>=1.22.4 in /home/hanguyen/anaconda3/envs/pynlp/lib/python3.9/site-packages (from pandas->kagglehub[pandas-datasets]) (2.0.2)\n",
      "Requirement already satisfied: python-dateutil>=2.8.2 in /home/hanguyen/anaconda3/envs/pynlp/lib/python3.9/site-packages (from pandas->kagglehub[pandas-datasets]) (2.9.0.post0)\n",
      "Requirement already satisfied: pytz>=2020.1 in /home/hanguyen/anaconda3/envs/pynlp/lib/python3.9/site-packages (from pandas->kagglehub[pandas-datasets]) (2025.2)\n",
      "Requirement already satisfied: tzdata>=2022.7 in /home/hanguyen/anaconda3/envs/pynlp/lib/python3.9/site-packages (from pandas->kagglehub[pandas-datasets]) (2025.2)\n",
      "Requirement already satisfied: six>=1.5 in /home/hanguyen/anaconda3/envs/pynlp/lib/python3.9/site-packages (from python-dateutil>=2.8.2->pandas->kagglehub[pandas-datasets]) (1.17.0)\n",
      "Requirement already satisfied: charset_normalizer<4,>=2 in /home/hanguyen/anaconda3/envs/pynlp/lib/python3.9/site-packages (from requests->kagglehub[pandas-datasets]) (3.4.3)\n",
      "Requirement already satisfied: idna<4,>=2.5 in /home/hanguyen/anaconda3/envs/pynlp/lib/python3.9/site-packages (from requests->kagglehub[pandas-datasets]) (3.10)\n",
      "Requirement already satisfied: urllib3<3,>=1.21.1 in /home/hanguyen/anaconda3/envs/pynlp/lib/python3.9/site-packages (from requests->kagglehub[pandas-datasets]) (2.5.0)\n",
      "Requirement already satisfied: certifi>=2017.4.17 in /home/hanguyen/anaconda3/envs/pynlp/lib/python3.9/site-packages (from requests->kagglehub[pandas-datasets]) (2025.8.3)\n",
      "Requirement already satisfied: regex in /home/hanguyen/anaconda3/envs/pynlp/lib/python3.9/site-packages (2025.9.1)\n",
      "Requirement already satisfied: pyvi in /home/hanguyen/anaconda3/envs/pynlp/lib/python3.9/site-packages (0.1.1)\n",
      "Requirement already satisfied: scikit-learn in /home/hanguyen/anaconda3/envs/pynlp/lib/python3.9/site-packages (from pyvi) (1.6.1)\n",
      "Requirement already satisfied: sklearn-crfsuite in /home/hanguyen/anaconda3/envs/pynlp/lib/python3.9/site-packages (from pyvi) (0.5.0)\n",
      "Requirement already satisfied: numpy>=1.19.5 in /home/hanguyen/anaconda3/envs/pynlp/lib/python3.9/site-packages (from scikit-learn->pyvi) (2.0.2)\n",
      "Requirement already satisfied: scipy>=1.6.0 in /home/hanguyen/anaconda3/envs/pynlp/lib/python3.9/site-packages (from scikit-learn->pyvi) (1.13.1)\n",
      "Requirement already satisfied: joblib>=1.2.0 in /home/hanguyen/anaconda3/envs/pynlp/lib/python3.9/site-packages (from scikit-learn->pyvi) (1.5.2)\n",
      "Requirement already satisfied: threadpoolctl>=3.1.0 in /home/hanguyen/anaconda3/envs/pynlp/lib/python3.9/site-packages (from scikit-learn->pyvi) (3.6.0)\n",
      "Requirement already satisfied: python-crfsuite>=0.9.7 in /home/hanguyen/anaconda3/envs/pynlp/lib/python3.9/site-packages (from sklearn-crfsuite->pyvi) (0.9.11)\n",
      "Requirement already satisfied: tabulate>=0.4.2 in /home/hanguyen/anaconda3/envs/pynlp/lib/python3.9/site-packages (from sklearn-crfsuite->pyvi) (0.9.0)\n",
      "Requirement already satisfied: tqdm>=2.0 in /home/hanguyen/anaconda3/envs/pynlp/lib/python3.9/site-packages (from sklearn-crfsuite->pyvi) (4.67.1)\n"
     ]
    }
   ],
   "source": [
    "# Install dependencies as needed:\n",
    "# kagglehub: used to download datasets directly from Kaggle \n",
    "!pip install kagglehub[pandas-datasets]\n",
    "!pip install regex\n",
    "!pip install pyvi"
   ]
  },
  {
   "cell_type": "code",
   "execution_count": 2,
   "id": "82115979",
   "metadata": {},
   "outputs": [
    {
     "name": "stderr",
     "output_type": "stream",
     "text": [
      "/home/hanguyen/anaconda3/envs/pynlp/lib/python3.9/site-packages/tqdm/auto.py:21: TqdmWarning: IProgress not found. Please update jupyter and ipywidgets. See https://ipywidgets.readthedocs.io/en/stable/user_install.html\n",
      "  from .autonotebook import tqdm as notebook_tqdm\n",
      "/tmp/ipykernel_40501/652278202.py:8: DeprecationWarning: Use dataset_load() instead of load_dataset(). load_dataset() will be removed in a future version.\n",
      "  df = kagglehub.load_dataset(\n"
     ]
    },
    {
     "name": "stdout",
     "output_type": "stream",
     "text": [
      "First 5 records:        id             author  \\\n",
      "0  218270                      \n",
      "1  218269      (Nguồn: Sina)   \n",
      "2  218268          Hồ Sỹ Anh   \n",
      "3  218267           Ngọc Ánh   \n",
      "4  218266  HẢI YẾN - MINH LÝ   \n",
      "5  218265                      \n",
      "6  218264                      \n",
      "7  218263   Hoàng Yến/VOV.VN   \n",
      "8  218262                T.G   \n",
      "9  218261           Đỗ Trung   \n",
      "\n",
      "                                             content  picture_count  \\\n",
      "0  Chiều 31/7, Công an tỉnh Thừa Thiên - Huế đã c...              3   \n",
      "1  Gần đây, Thứ trưởng Bộ Phát triển Kỹ thuật số,...              1   \n",
      "2  Kết quả thi tốt nghiệp THPT năm 2022 cho thấy ...              3   \n",
      "3  Thống đốc Kentucky Andy Beshear hôm 31/7 cho h...              1   \n",
      "4  Vụ tai nạn giao thông liên hoàn trên phố đi bộ...             12   \n",
      "5  Chia sẻ trên Twitter, thị trưởng Hanover Belit...              2   \n",
      "6  \"Em vỡ òa trong hạnh phúc khi được xướng tên ở...              8   \n",
      "7                                                                 1   \n",
      "8  Soi kèo nhà cái Liverpool vs Strasbourg. Nhận ...              3   \n",
      "9  Siêu sao Bồ Đào Nha được HLV Erik ten Hag bố t...              1   \n",
      "\n",
      "   processed         source  \\\n",
      "0          0      docbao.vn   \n",
      "1          0         vtc.vn   \n",
      "2          0   thanhnien.vn   \n",
      "3          0      vnexpress   \n",
      "4          0           soha   \n",
      "5          0     tuoitre.vn   \n",
      "6          0      baoquocte   \n",
      "7          0         vov.vn   \n",
      "8          0  thethaovanhoa   \n",
      "9          0     bongdaplus   \n",
      "\n",
      "                                               title             topic  \\\n",
      "0  Tên cướp tiệm vàng tại Huế là đại uý công an, ...         Pháp luật   \n",
      "1        Bỏ qua mạng 5G, Nga tiến thẳng từ 4G lên 6G      Sống kết nối   \n",
      "2  Địa phương nào đứng đầu cả nước tổng điểm 3 mô...          Giáo dục   \n",
      "3  Người chết trong mưa lũ 'nghìn năm có một' ở M...          Thế giới   \n",
      "4  Hải Phòng: Hình ảnh xe \"điên\" gây tai nạn liên...  Thời sự - Xã hội   \n",
      "5               Đức có thể suy thoái kinh tế năm nay          Thế giới   \n",
      "6  Những khoảnh khắc đẹp của Gia Hân khi đăng qua...          Giải trí   \n",
      "7  Lịch thi đấu vòng 11 V-League 2022: HAGL dễ th...          THỂ THAO   \n",
      "8  Soi kèo nhà cái Liverpool vs Strasbourg. Nhận ...                     \n",
      "9    Bị thay sau hiệp 1, Ronaldo đùng đùng bỏ về sớm    Ngoại hạng Anh   \n",
      "\n",
      "                                                 url  \\\n",
      "0  https://docbao.vn/phap-luat/ten-cuop-tiem-vang...   \n",
      "1  https://vtc.vn/bo-qua-mang-5g-nga-tien-thang-t...   \n",
      "2  https://thanhnien.vn/dia-phuong-nao-dung-dau-c...   \n",
      "3  https://vnexpress.net/nguoi-chet-trong-mua-lu-...   \n",
      "4  https://soha.vn/hai-phong-hinh-anh-xe-dien-gay...   \n",
      "5  https://tuoitre.vn/duc-co-the-suy-thoai-kinh-t...   \n",
      "6  https://baoquocte.vn/nhung-khoanh-khac-dep-cua...   \n",
      "7  https://vov.vn/the-thao/lich-thi-dau-vong-11-v...   \n",
      "8  https://thethaovanhoa.vn/du-doan-bong-da/soi-k...   \n",
      "9  https://bongdaplus.vn/ngoai-hang-anh/ronaldo-d...   \n",
      "\n",
      "                  crawled_at  \n",
      "0 2022-08-01 09:09:22.817308  \n",
      "1 2022-08-01 09:09:21.181469  \n",
      "2 2022-08-01 09:09:15.311901  \n",
      "3 2022-08-01 09:09:02.211498  \n",
      "4 2022-08-01 09:09:01.601170  \n",
      "5 2022-08-01 09:09:01.320653  \n",
      "6 2022-08-01 09:08:57.167808  \n",
      "7 2022-08-01 09:08:51.092437  \n",
      "8 2022-08-01 09:08:47.355309  \n",
      "9 2022-08-01 09:08:42.496092  \n"
     ]
    }
   ],
   "source": [
    "import kagglehub\n",
    "from kagglehub import KaggleDatasetAdapter\n",
    "\n",
    "# Set the path to the file you'd like to load\n",
    "file_path = \"news_dataset.json\"\n",
    "\n",
    "# Load the latest version\n",
    "df = kagglehub.load_dataset(\n",
    "  KaggleDatasetAdapter.PANDAS,\n",
    "  \"haitranquangofficial/vietnamese-online-news-dataset\",\n",
    "  file_path,\n",
    ")\n",
    "\n",
    "print(\"First 5 records:\", df.head(10))"
   ]
  },
  {
   "cell_type": "code",
   "execution_count": 3,
   "id": "3d6ebdea",
   "metadata": {},
   "outputs": [
    {
     "name": "stdout",
     "output_type": "stream",
     "text": [
      "<class 'pandas.core.frame.DataFrame'>\n",
      "RangeIndex: 184539 entries, 0 to 184538\n",
      "Data columns (total 10 columns):\n",
      " #   Column         Non-Null Count   Dtype         \n",
      "---  ------         --------------   -----         \n",
      " 0   id             184539 non-null  int64         \n",
      " 1   author         184539 non-null  object        \n",
      " 2   content        184539 non-null  object        \n",
      " 3   picture_count  184539 non-null  int64         \n",
      " 4   processed      184539 non-null  int64         \n",
      " 5   source         184534 non-null  object        \n",
      " 6   title          184539 non-null  object        \n",
      " 7   topic          184539 non-null  object        \n",
      " 8   url            184539 non-null  object        \n",
      " 9   crawled_at     184125 non-null  datetime64[ns]\n",
      "dtypes: datetime64[ns](1), int64(3), object(6)\n",
      "memory usage: 14.1+ MB\n"
     ]
    }
   ],
   "source": [
    "# Check info and data types\n",
    "df.info()"
   ]
  },
  {
   "cell_type": "code",
   "execution_count": 4,
   "id": "a4c7151c",
   "metadata": {},
   "outputs": [
    {
     "name": "stdout",
     "output_type": "stream",
     "text": [
      "id                 0\n",
      "author             0\n",
      "content            0\n",
      "picture_count      0\n",
      "processed          0\n",
      "source             5\n",
      "title              0\n",
      "topic              0\n",
      "url                0\n",
      "crawled_at       414\n",
      "dtype: int64\n"
     ]
    }
   ],
   "source": [
    "# Check missing values in each column\n",
    "print(df.isnull().sum())"
   ]
  },
  {
   "cell_type": "code",
   "execution_count": 5,
   "id": "1ca87c83",
   "metadata": {},
   "outputs": [
    {
     "data": {
      "text/html": [
       "<div>\n",
       "<style scoped>\n",
       "    .dataframe tbody tr th:only-of-type {\n",
       "        vertical-align: middle;\n",
       "    }\n",
       "\n",
       "    .dataframe tbody tr th {\n",
       "        vertical-align: top;\n",
       "    }\n",
       "\n",
       "    .dataframe thead th {\n",
       "        text-align: right;\n",
       "    }\n",
       "</style>\n",
       "<table border=\"1\" class=\"dataframe\">\n",
       "  <thead>\n",
       "    <tr style=\"text-align: right;\">\n",
       "      <th></th>\n",
       "      <th>id</th>\n",
       "      <th>author</th>\n",
       "      <th>content</th>\n",
       "      <th>picture_count</th>\n",
       "      <th>processed</th>\n",
       "      <th>source</th>\n",
       "      <th>title</th>\n",
       "      <th>topic</th>\n",
       "      <th>url</th>\n",
       "      <th>crawled_at</th>\n",
       "      <th>text</th>\n",
       "    </tr>\n",
       "  </thead>\n",
       "  <tbody>\n",
       "    <tr>\n",
       "      <th>0</th>\n",
       "      <td>218270</td>\n",
       "      <td></td>\n",
       "      <td>Chiều 31/7, Công an tỉnh Thừa Thiên - Huế đã c...</td>\n",
       "      <td>3</td>\n",
       "      <td>0</td>\n",
       "      <td>docbao.vn</td>\n",
       "      <td>Tên cướp tiệm vàng tại Huế là đại uý công an, ...</td>\n",
       "      <td>Pháp luật</td>\n",
       "      <td>https://docbao.vn/phap-luat/ten-cuop-tiem-vang...</td>\n",
       "      <td>2022-08-01 09:09:22.817308</td>\n",
       "      <td>Chiều 31/7, Công an tỉnh Thừa Thiên - Huế đã ...</td>\n",
       "    </tr>\n",
       "    <tr>\n",
       "      <th>1</th>\n",
       "      <td>218269</td>\n",
       "      <td>(Nguồn: Sina)</td>\n",
       "      <td>Gần đây, Thứ trưởng Bộ Phát triển Kỹ thuật số,...</td>\n",
       "      <td>1</td>\n",
       "      <td>0</td>\n",
       "      <td>vtc.vn</td>\n",
       "      <td>Bỏ qua mạng 5G, Nga tiến thẳng từ 4G lên 6G</td>\n",
       "      <td>Sống kết nối</td>\n",
       "      <td>https://vtc.vn/bo-qua-mang-5g-nga-tien-thang-t...</td>\n",
       "      <td>2022-08-01 09:09:21.181469</td>\n",
       "      <td>(Nguồn: Sina) Gần đây, Thứ trưởng Bộ Phát triể...</td>\n",
       "    </tr>\n",
       "    <tr>\n",
       "      <th>2</th>\n",
       "      <td>218268</td>\n",
       "      <td>Hồ Sỹ Anh</td>\n",
       "      <td>Kết quả thi tốt nghiệp THPT năm 2022 cho thấy ...</td>\n",
       "      <td>3</td>\n",
       "      <td>0</td>\n",
       "      <td>thanhnien.vn</td>\n",
       "      <td>Địa phương nào đứng đầu cả nước tổng điểm 3 mô...</td>\n",
       "      <td>Giáo dục</td>\n",
       "      <td>https://thanhnien.vn/dia-phuong-nao-dung-dau-c...</td>\n",
       "      <td>2022-08-01 09:09:15.311901</td>\n",
       "      <td>Hồ Sỹ Anh Kết quả thi tốt nghiệp THPT năm 2022...</td>\n",
       "    </tr>\n",
       "    <tr>\n",
       "      <th>3</th>\n",
       "      <td>218267</td>\n",
       "      <td>Ngọc Ánh</td>\n",
       "      <td>Thống đốc Kentucky Andy Beshear hôm 31/7 cho h...</td>\n",
       "      <td>1</td>\n",
       "      <td>0</td>\n",
       "      <td>vnexpress</td>\n",
       "      <td>Người chết trong mưa lũ 'nghìn năm có một' ở M...</td>\n",
       "      <td>Thế giới</td>\n",
       "      <td>https://vnexpress.net/nguoi-chet-trong-mua-lu-...</td>\n",
       "      <td>2022-08-01 09:09:02.211498</td>\n",
       "      <td>Ngọc Ánh Thống đốc Kentucky Andy Beshear hôm 3...</td>\n",
       "    </tr>\n",
       "    <tr>\n",
       "      <th>4</th>\n",
       "      <td>218266</td>\n",
       "      <td>HẢI YẾN - MINH LÝ</td>\n",
       "      <td>Vụ tai nạn giao thông liên hoàn trên phố đi bộ...</td>\n",
       "      <td>12</td>\n",
       "      <td>0</td>\n",
       "      <td>soha</td>\n",
       "      <td>Hải Phòng: Hình ảnh xe \"điên\" gây tai nạn liên...</td>\n",
       "      <td>Thời sự - Xã hội</td>\n",
       "      <td>https://soha.vn/hai-phong-hinh-anh-xe-dien-gay...</td>\n",
       "      <td>2022-08-01 09:09:01.601170</td>\n",
       "      <td>HẢI YẾN - MINH LÝ Vụ tai nạn giao thông liên h...</td>\n",
       "    </tr>\n",
       "  </tbody>\n",
       "</table>\n",
       "</div>"
      ],
      "text/plain": [
       "       id             author  \\\n",
       "0  218270                      \n",
       "1  218269      (Nguồn: Sina)   \n",
       "2  218268          Hồ Sỹ Anh   \n",
       "3  218267           Ngọc Ánh   \n",
       "4  218266  HẢI YẾN - MINH LÝ   \n",
       "\n",
       "                                             content  picture_count  \\\n",
       "0  Chiều 31/7, Công an tỉnh Thừa Thiên - Huế đã c...              3   \n",
       "1  Gần đây, Thứ trưởng Bộ Phát triển Kỹ thuật số,...              1   \n",
       "2  Kết quả thi tốt nghiệp THPT năm 2022 cho thấy ...              3   \n",
       "3  Thống đốc Kentucky Andy Beshear hôm 31/7 cho h...              1   \n",
       "4  Vụ tai nạn giao thông liên hoàn trên phố đi bộ...             12   \n",
       "\n",
       "   processed        source                                              title  \\\n",
       "0          0     docbao.vn  Tên cướp tiệm vàng tại Huế là đại uý công an, ...   \n",
       "1          0        vtc.vn        Bỏ qua mạng 5G, Nga tiến thẳng từ 4G lên 6G   \n",
       "2          0  thanhnien.vn  Địa phương nào đứng đầu cả nước tổng điểm 3 mô...   \n",
       "3          0     vnexpress  Người chết trong mưa lũ 'nghìn năm có một' ở M...   \n",
       "4          0          soha  Hải Phòng: Hình ảnh xe \"điên\" gây tai nạn liên...   \n",
       "\n",
       "              topic                                                url  \\\n",
       "0         Pháp luật  https://docbao.vn/phap-luat/ten-cuop-tiem-vang...   \n",
       "1      Sống kết nối  https://vtc.vn/bo-qua-mang-5g-nga-tien-thang-t...   \n",
       "2          Giáo dục  https://thanhnien.vn/dia-phuong-nao-dung-dau-c...   \n",
       "3          Thế giới  https://vnexpress.net/nguoi-chet-trong-mua-lu-...   \n",
       "4  Thời sự - Xã hội  https://soha.vn/hai-phong-hinh-anh-xe-dien-gay...   \n",
       "\n",
       "                  crawled_at  \\\n",
       "0 2022-08-01 09:09:22.817308   \n",
       "1 2022-08-01 09:09:21.181469   \n",
       "2 2022-08-01 09:09:15.311901   \n",
       "3 2022-08-01 09:09:02.211498   \n",
       "4 2022-08-01 09:09:01.601170   \n",
       "\n",
       "                                                text  \n",
       "0   Chiều 31/7, Công an tỉnh Thừa Thiên - Huế đã ...  \n",
       "1  (Nguồn: Sina) Gần đây, Thứ trưởng Bộ Phát triể...  \n",
       "2  Hồ Sỹ Anh Kết quả thi tốt nghiệp THPT năm 2022...  \n",
       "3  Ngọc Ánh Thống đốc Kentucky Andy Beshear hôm 3...  \n",
       "4  HẢI YẾN - MINH LÝ Vụ tai nạn giao thông liên h...  "
      ]
     },
     "execution_count": 5,
     "metadata": {},
     "output_type": "execute_result"
    }
   ],
   "source": [
    "text_cols = [c for c in [\"author\", \"content\", \"picture_count\", \"processed\", \"source\", \"topic\", \"url\"] if c in df.columns]\n",
    "df[\"text\"] = df[text_cols].astype(str).agg(\" \".join, axis=1)\n",
    "\n",
    "df.head()"
   ]
  },
  {
   "cell_type": "code",
   "execution_count": 6,
   "id": "25c10fe8",
   "metadata": {},
   "outputs": [
    {
     "data": {
      "image/png": "[encoded data removed]",
      "text/plain": [
       "<Figure size 700x400 with 1 Axes>"
      ]
     },
     "metadata": {},
     "output_type": "display_data"
    }
   ],
   "source": [
    "import matplotlib.pyplot as plt\n",
    "import seaborn as sns\n",
    "\n",
    "df[\"char_len\"] = df[\"text\"].astype(str).str.len()\n",
    "\n",
    "plt.figure(figsize=(7,4))\n",
    "sns.histplot(df[\"char_len\"].clip(upper=3000), bins=50, color=\"skyblue\")\n",
    "plt.title(\"Character length distribution (clipped at 3000)\")\n",
    "plt.show()"
   ]
  },
  {
   "cell_type": "markdown",
   "id": "5fe02ab1",
   "metadata": {},
   "source": [
    "# 2. Text Preprocessing"
   ]
  },
  {
   "cell_type": "markdown",
   "id": "f2a8d05c",
   "metadata": {},
   "source": [
    "**Goal:** Convert raw Vietnamese news text into a clean and consistent form, ready for feature extraction (Bag-of-Words, TF-IDF, or embeddings) and model training.\n",
    "\n",
    "**Main steps in the pipeline:**\n",
    "1. Remove HTML tags: Strip `<script>`, `<style>`, and markup; keep only visible text.\n",
    "2. Remove HTML entities: Remove `&amp`;, `&nbsp;`, `&#160;`\n",
    "3. Convert encoding errors (Windows-1252 → UTF-8)  \n",
    "4. Tokenization (Vietnamese word segmentation): Use a VN segmenter (e.g., `VnCoreNLP` / `underthesea` / `PyVi`) to split words.\n",
    "5. Case normalization: Lowercase while preserving proper nouns and acronyms\n",
    "6. Remove common tokens (emails, URLs, phones, dates, numbers, mentions): Regex out noise like `email@x`, `http(s)://…`, `@name`, phone/date patterns.\n",
    "7. Remove emojis / emoticons: Drop Unicode emoji and ASCII emoticons (e.g., :), :D.  \n",
    "8. Remove unwanted characters (non-Latin, _, extra spaces)\n",
    "9. Normalize Vietnamese diacritics  \n",
    "10. Strip whitespace  "
   ]
  },
  {
   "cell_type": "code",
   "execution_count": 7,
   "id": "d2a1afde",
   "metadata": {},
   "outputs": [],
   "source": [
    "import re, unicodedata\n",
    "import regex\n",
    "from pyvi import ViTokenizer, ViPosTagger\n",
    "\n",
    "# Regex patterns\n",
    "RE_EMAIL = re.compile(r\"([\\w0-9_\\.-]+)(@)([\\d\\w\\.-]+)(\\.)([\\w\\.]{2,6})\")\n",
    "RE_URL = re.compile(r\"https?:\\/\\/(?!.*:\\/\\/)\\S+\")\n",
    "RE_PHONE = re.compile(r\"(09|01[2|6|8|9])+([0-9]{8})\\b\")\n",
    "RE_MENTION = re.compile(r\"@.+?:\")\n",
    "RE_NUMBER = re.compile(r\"\\d+\\.?\\d*\")\n",
    "RE_DATETIME = '\\d{1,2}\\s?[/-]\\s?\\d{1,2}\\s?[/-]\\s?\\d{4}'\n",
    "RE_HTML_TAG = re.compile(r'<[^>]+>')\n",
    "RE_CLEAR_1 = regex.compile(r\"[^_<>\\s\\p{Latin}]\")  # requires 'regex' library\n",
    "RE_CLEAR_2 = re.compile(r\"__+\")\n",
    "RE_CLEAR_3 = re.compile(r\"\\s+\")\n",
    "\n",
    "KEEP_DIACRITICS = True # Keep Vietnamese diacritics when lower-casing"
   ]
  },
  {
   "cell_type": "code",
   "execution_count": 8,
   "id": "cfd68d80",
   "metadata": {},
   "outputs": [],
   "source": [
    "def replace_common_token(txt):\n",
    "  txt = re.sub(RE_EMAIL, ' ', txt)\n",
    "  txt = re.sub(RE_URL, ' ', txt)\n",
    "  txt = re.sub(RE_MENTION, ' ', txt)\n",
    "  txt = re.sub(RE_DATETIME, ' ', txt)\n",
    "  txt = re.sub(RE_NUMBER, ' ', txt)\n",
    "  return txt"
   ]
  },
  {
   "cell_type": "code",
   "execution_count": 9,
   "id": "d87ecbe9",
   "metadata": {},
   "outputs": [],
   "source": [
    "def remove_emoji(txt):\n",
    "    txt = re.sub(r':v', '', txt)\n",
    "    txt = re.sub(r':D', '', txt)\n",
    "    txt = re.sub(r':3', '', txt)\n",
    "    txt = re.sub(r':\\(', '', txt)\n",
    "    txt = re.sub(r':\\)', '', txt)\n",
    "    txt = re.sub(r'=\\)*', '', txt)\n",
    "    return txt"
   ]
  },
  {
   "cell_type": "code",
   "execution_count": 10,
   "id": "56d82127",
   "metadata": {},
   "outputs": [],
   "source": [
    "def remove_html_tag(txt):\n",
    "    return re.sub(RE_HTML_TAG, ' ', txt)"
   ]
  },
  {
   "cell_type": "code",
   "execution_count": 11,
   "id": "ec7b055c",
   "metadata": {},
   "outputs": [],
   "source": [
    "def loaddicchar():\n",
    "    dic = {}\n",
    "    char1252 = (\n",
    "        'à|á|ả|ã|ạ|ầ|ấ|ẩ|ẫ|ậ|ằ|ắ|ẳ|ẵ|ặ|'\n",
    "        'è|é|ẻ|ẽ|ẹ|ề|ế|ể|ễ|ệ|'\n",
    "        'ì|í|ỉ|ĩ|ị|'\n",
    "        'ò|ó|ỏ|õ|ọ|ồ|ố|ổ|ỗ|ộ|ờ|ớ|ở|ỡ|ợ|'\n",
    "        'ù|ú|ủ|ũ|ụ|ừ|ứ|ử|ữ|ự|'\n",
    "        'ỳ|ý|ỷ|ỹ|ỵ|'\n",
    "        'À|Á|Ả|Ã|Ạ|Ầ|Ấ|Ẩ|Ẫ|Ậ|Ằ|Ắ|Ẳ|Ẵ|Ặ|'\n",
    "        'È|É|Ẻ|Ẽ|Ẹ|Ề|Ế|Ể|Ễ|Ệ|'\n",
    "        'Ì|Í|Ỉ|Ĩ|Ị|'\n",
    "        'Ò|Ó|Ỏ|Õ|Ọ|Ồ|Ố|Ổ|Ỗ|Ộ|Ờ|Ớ|Ở|Ỡ|Ợ|'\n",
    "        'Ù|Ú|Ủ|Ũ|Ụ|Ừ|Ứ|Ử|Ữ|Ự|'\n",
    "        'Ỳ|Ý|Ỷ|Ỹ|Ỵ'\n",
    "    ).split('|')\n",
    "\n",
    "    charutf8 = (\n",
    "        'à|á|ả|ã|ạ|ầ|ấ|ẩ|ẫ|ậ|ằ|ắ|ẳ|ẵ|ặ|'\n",
    "        'è|é|ẻ|ẽ|ẹ|ề|ế|ể|ễ|ệ|'\n",
    "        'ì|í|ỉ|ĩ|ị|'\n",
    "        'ò|ó|ỏ|õ|ọ|ồ|ố|ổ|ỗ|ộ|ờ|ớ|ở|ỡ|ợ|'\n",
    "        'ù|ú|ủ|ũ|ụ|ừ|ứ|ử|ữ|ự|'\n",
    "        'ỳ|ý|ỷ|ỹ|ỵ|'\n",
    "        'À|Á|Ả|Ã|Ạ|Ầ|Ấ|Ẩ|Ẫ|Ậ|Ằ|Ắ|Ẳ|Ẵ|Ặ|'\n",
    "        'È|É|Ẻ|Ẽ|Ẹ|Ề|Ế|Ể|Ễ|Ệ|'\n",
    "        'Ì|Í|Ỉ|Ĩ|Ị|'\n",
    "        'Ò|Ó|Ỏ|Õ|Ọ|Ồ|Ố|Ổ|Ỗ|Ộ|Ờ|Ớ|Ở|Ỡ|Ợ|'\n",
    "        'Ù|Ú|Ủ|Ũ|Ụ|Ừ|Ứ|Ử|Ữ|Ự|'\n",
    "        'Ỳ|Ý|Ỷ|Ỹ|Ỵ'\n",
    "    ).split('|')\n",
    "\n",
    "    for i in range(len(char1252)):\n",
    "        dic[char1252[i]] = charutf8[i]\n",
    "    return dic\n",
    "\n",
    "dicchar = loaddicchar()\n",
    "\n",
    "def convertwindown1525toutf8(txt):\n",
    "    \"\"\"\n",
    "    Convert Vietnamese text from Windows-1252/VNI encoding errors\n",
    "    to proper UTF-8 Unicode.\n",
    "    \"\"\"\n",
    "    return re.sub(\n",
    "        '|'.join(dicchar.keys()),  # regex khớp toàn bộ các ký tự lỗi\n",
    "        lambda x: dicchar[x.group()],\n",
    "        txt\n",
    "    )"
   ]
  },
  {
   "cell_type": "code",
   "execution_count": 12,
   "id": "8b35a16b",
   "metadata": {},
   "outputs": [],
   "source": [
    "bang_nguyen_am = [['a', 'à', 'á', 'ả', 'ã', 'ạ', 'a'],\n",
    "                  ['ă', 'ằ', 'ắ', 'ẳ', 'ẵ', 'ặ', 'aw'],\n",
    "                  ['â', 'ầ', 'ấ', 'ẩ', 'ẫ', 'ậ', 'aa'],\n",
    "                  ['e', 'è', 'é', 'ẻ', 'ẽ', 'ẹ', 'e'],\n",
    "                  ['ê', 'ề', 'ế', 'ể', 'ễ', 'ệ', 'ee'],\n",
    "                  ['i', 'ì', 'í', 'ỉ', 'ĩ', 'ị', 'i'],\n",
    "                  ['o', 'ò', 'ó', 'ỏ', 'õ', 'ọ', 'o'],\n",
    "                  ['ô', 'ồ', 'ố', 'ổ', 'ỗ', 'ộ', 'oo'],\n",
    "                  ['ơ', 'ờ', 'ớ', 'ở', 'ỡ', 'ợ', 'ow'],\n",
    "                  ['u', 'ù', 'ú', 'ủ', 'ũ', 'ụ', 'u'],\n",
    "                  ['ư', 'ừ', 'ứ', 'ử', 'ữ', 'ự', 'uw'],\n",
    "                  ['y', 'ỳ', 'ý', 'ỷ', 'ỹ', 'ỵ', 'y']]\n",
    "bang_ky_tu_dau = ['', 'f', 's', 'r', 'x', 'j']\n",
    "\n",
    "nguyen_am_to_ids = {}\n",
    "\n",
    "for i in range(len(bang_nguyen_am)):\n",
    "    for j in range(len(bang_nguyen_am[i]) - 1):\n",
    "        nguyen_am_to_ids[bang_nguyen_am[i][j]] = (i, j)"
   ]
  },
  {
   "cell_type": "code",
   "execution_count": 13,
   "id": "0805d0c5",
   "metadata": {},
   "outputs": [],
   "source": [
    "def is_valid_vietnam_word(word):\n",
    "    chars = list(word)\n",
    "    nguyen_am_index = -1\n",
    "    for index, char in enumerate(chars):\n",
    "        x, y = nguyen_am_to_ids.get(char, (-1, -1))\n",
    "        if x != -1:\n",
    "            if nguyen_am_index == -1:\n",
    "                nguyen_am_index = index\n",
    "            else:\n",
    "                if index - nguyen_am_index != 1:\n",
    "                    return False\n",
    "                nguyen_am_index = index\n",
    "    return True"
   ]
  },
  {
   "cell_type": "code",
   "execution_count": 14,
   "id": "b789f1a6",
   "metadata": {},
   "outputs": [],
   "source": [
    "def chuan_hoa_dau_tu_tieng_viet(word):\n",
    "    \"\"\"\n",
    "    Normalize tone marks in a single Vietnamese word.\n",
    "    Ensures tone marks are placed on the correct vowel\n",
    "    according to Vietnamese orthography.\n",
    "    Example: 'hoà' -> 'hoà', 'thỏai' -> 'thoải', 'úy' -> 'úy'\n",
    "    \"\"\"\n",
    "    if not is_valid_vietnam_word(word):\n",
    "        return word\n",
    "\n",
    "    chars = list(word)\n",
    "    dau_cau = 0              # tone mark type (sắc, huyền, hỏi, ngã, nặng)\n",
    "    nguyen_am_index = []     # indexes of vowels in the word\n",
    "    qu_or_gi = False         # special case flag for \"qu\" and \"gi\"\n",
    "\n",
    "    # Scan each character\n",
    "    for index, char in enumerate(chars):\n",
    "        x, y = nguyen_am_to_ids.get(char, (-1, -1))\n",
    "        if x == -1:\n",
    "            continue\n",
    "\n",
    "        # Special case \"qu\": treat 'u' after 'q' as a consonant\n",
    "        if x == 9 and index > 0 and chars[index - 1] == 'q':\n",
    "            chars[index] = 'u'\n",
    "            qu_or_gi = True\n",
    "\n",
    "        # Special case \"gi\": treat 'i' after 'g' as a consonant\n",
    "        elif x == 5 and index > 0 and chars[index - 1] == 'g':\n",
    "            chars[index] = 'i'\n",
    "            qu_or_gi = True\n",
    "\n",
    "        # If this vowel has a tone mark → record it\n",
    "        if y != 0:\n",
    "            dau_cau = y\n",
    "            chars[index] = bang_nguyen_am[x][0]  # reset to base vowel\n",
    "\n",
    "        # Record vowel index unless it's part of \"qu\"/\"gi\"\n",
    "        if not qu_or_gi or index != 1:\n",
    "            nguyen_am_index.append(index)\n",
    "\n",
    "    # Case: no valid vowels\n",
    "    if len(nguyen_am_index) < 2:\n",
    "        if qu_or_gi:\n",
    "            if len(chars) == 2:\n",
    "                # \"gi\", \"qu\" cases with 2 letters\n",
    "                x, y = nguyen_am_to_ids.get(chars[1])\n",
    "                chars[1] = bang_nguyen_am[x][dau_cau]\n",
    "            else:\n",
    "                # longer word with \"gi\"/\"qu\"\n",
    "                x, y = nguyen_am_to_ids.get(chars[2], (-1, -1))\n",
    "                if x != -1:\n",
    "                    chars[2] = bang_nguyen_am[x][dau_cau]\n",
    "                else:\n",
    "                    # fallback: put tone on i or u\n",
    "                    chars[1] = bang_nguyen_am[5][dau_cau] if chars[1] == 'i' else bang_nguyen_am[9][dau_cau]\n",
    "            return ''.join(chars)\n",
    "        return word\n",
    "\n",
    "    # Case: if the word contains ê or ơ → always put the tone there\n",
    "    for index in nguyen_am_index:\n",
    "        x, y = nguyen_am_to_ids[chars[index]]\n",
    "        if x == 4 or x == 8:  # ê, ơ\n",
    "            chars[index] = bang_nguyen_am[x][dau_cau]\n",
    "            return ''.join(chars)\n",
    "\n",
    "    # Case: word has 2 vowels\n",
    "    if len(nguyen_am_index) == 2:\n",
    "        if nguyen_am_index[-1] == len(chars) - 1:\n",
    "            # If last vowel is at the end → tone goes to the first vowel\n",
    "            x, y = nguyen_am_to_ids[chars[nguyen_am_index[0]]]\n",
    "            chars[nguyen_am_index[0]] = bang_nguyen_am[x][dau_cau]\n",
    "        else:\n",
    "            # Otherwise → tone goes to the second vowel\n",
    "            x, y = nguyen_am_to_ids[chars[nguyen_am_index[1]]]\n",
    "            chars[nguyen_am_index[1]] = bang_nguyen_am[x][dau_cau]\n",
    "\n",
    "    # Case: word has 3 vowels (e.g., \"khuyên\")\n",
    "    else:\n",
    "        # Place tone on the middle vowel\n",
    "        x, y = nguyen_am_to_ids[chars[nguyen_am_index[1]]]\n",
    "        chars[nguyen_am_index[1]] = bang_nguyen_am[x][dau_cau]\n",
    "\n",
    "    return ''.join(chars)"
   ]
  },
  {
   "cell_type": "code",
   "execution_count": 15,
   "id": "90e0ff79",
   "metadata": {},
   "outputs": [],
   "source": [
    "def chuan_hoa_dau_cau_tieng_viet(sentence):\n",
    "    \"\"\"\n",
    "        Chuyển câu tiếng việt về chuẩn gõ dấu kiểu cũ.\n",
    "        :param sentence:\n",
    "        :return:\n",
    "        \"\"\"\n",
    "    sentence = sentence.lower()\n",
    "    words = sentence.split()\n",
    "    for index, word in enumerate(words):\n",
    "        words[index] = chuan_hoa_dau_tu_tieng_viet(word)\n",
    "    return ' '.join(words)"
   ]
  },
  {
   "cell_type": "code",
   "execution_count": 16,
   "id": "de2a0c6a",
   "metadata": {},
   "outputs": [],
   "source": [
    "def merge_proper_nouns(tokens, tags):\n",
    "    \"\"\"\n",
    "    Merge consecutive Np tokens into a single proper noun.\n",
    "    Example: ['Việt','Nam'] → ['Việt_Nam']\n",
    "    \"\"\"\n",
    "    merged_tokens = []\n",
    "    merged_tags = []\n",
    "    temp = []\n",
    "    for tok, tag in zip(tokens, tags):\n",
    "        if tag == \"Np\":\n",
    "            temp.append(tok)\n",
    "        else:\n",
    "            if temp:\n",
    "                merged_tokens.append(\"_\".join(temp))\n",
    "                merged_tags.append(\"Np\")\n",
    "                temp = []\n",
    "            merged_tokens.append(tok)\n",
    "            merged_tags.append(tag)\n",
    "    if temp:\n",
    "        merged_tokens.append(\"_\".join(temp))\n",
    "        merged_tags.append(\"Np\")\n",
    "    return merged_tokens, merged_tags\n",
    "\n",
    "\n",
    "def smart_lowercase_pyvi(txt: str) -> str:\n",
    "    # POS tagging with PyVi\n",
    "    tokens, pos_tags = ViPosTagger.postagging(txt)\n",
    "    \n",
    "    # Merge proper nouns\n",
    "    tokens, pos_tags = merge_proper_nouns(tokens, pos_tags)\n",
    "\n",
    "    new_tokens = []\n",
    "    for tok, tag in zip(tokens, pos_tags):\n",
    "        if tag == \"Np\":   # proper noun → keep original (capitalize first letter if needed)\n",
    "            new_tokens.append(tok)\n",
    "        else:             # normal word → lowercase\n",
    "            new_tokens.append(tok.lower())\n",
    "\n",
    "    return \" \".join(new_tokens)"
   ]
  },
  {
   "cell_type": "code",
   "execution_count": 17,
   "id": "2b71a46a",
   "metadata": {},
   "outputs": [],
   "source": [
    "def preprocess(txt, tokenize=True):\n",
    "    # 1. Remove HTML tags\n",
    "    txt = remove_html_tag(txt)\n",
    "\n",
    "    # 2. Remove HTML entities like &nbsp; &amp; ...\n",
    "    txt = re.sub('&.{3,4};', ' ', txt)\n",
    "\n",
    "    # 3. Convert Windows-1252/VNI encoding errors to UTF-8\n",
    "    txt = convertwindown1525toutf8(txt)\n",
    "\n",
    "    # 4. Tokenization (Vietnamese word segmentation)\n",
    "    if tokenize:\n",
    "        txt = ViTokenizer.tokenize(txt)\n",
    "\n",
    "    # 5. Smart lowercase (POS tagging)\n",
    "    txt = smart_lowercase_pyvi(txt) \n",
    "    \n",
    "    # 6. Remove common tokens (emails, URLs, mentions, dates, numbers, phones)\n",
    "    txt = replace_common_token(txt)\n",
    "\n",
    "    # 7. Remove emojis and emoticons\n",
    "    txt = remove_emoji(txt)\n",
    "\n",
    "    # 8. Remove unwanted characters\n",
    "    txt = RE_CLEAR_1.sub(\" \", txt)  # non-Latin chars\n",
    "    txt = RE_CLEAR_2.sub(\" \", txt)  # collapse multiple underscores\n",
    "    txt = RE_CLEAR_3.sub(\" \", txt)  # collapse multiple spaces\n",
    "\n",
    "    # 9. Normalize Vietnamese diacritics\n",
    "    txt = chuan_hoa_dau_tu_tieng_viet(txt)\n",
    "\n",
    "    # 10. Strip leading/trailing whitespace\n",
    "    return txt.strip()"
   ]
  },
  {
   "cell_type": "code",
   "execution_count": 18,
   "id": "6b6a8b21",
   "metadata": {},
   "outputs": [
    {
     "name": "stderr",
     "output_type": "stream",
     "text": [
      " 52%|█████▏    | 96758/184539 [14:01<12:43, 114.98it/s] \n"
     ]
    },
    {
     "ename": "KeyboardInterrupt",
     "evalue": "",
     "output_type": "error",
     "traceback": [
      "\u001b[0;31m---------------------------------------------------------------------------\u001b[0m",
      "\u001b[0;31mKeyboardInterrupt\u001b[0m                         Traceback (most recent call last)",
      "Cell \u001b[0;32mIn[18], line 4\u001b[0m\n\u001b[1;32m      1\u001b[0m \u001b[38;5;28;01mfrom\u001b[39;00m\u001b[38;5;250m \u001b[39m\u001b[38;5;21;01mtqdm\u001b[39;00m\u001b[38;5;250m \u001b[39m\u001b[38;5;28;01mimport\u001b[39;00m tqdm\n\u001b[1;32m      2\u001b[0m tqdm\u001b[38;5;241m.\u001b[39mpandas()\n\u001b[0;32m----> 4\u001b[0m df[\u001b[38;5;124m'\u001b[39m\u001b[38;5;124mpreprocessed_content\u001b[39m\u001b[38;5;124m'\u001b[39m] \u001b[38;5;241m=\u001b[39m \u001b[43mdf\u001b[49m\u001b[43m[\u001b[49m\u001b[38;5;124;43m'\u001b[39;49m\u001b[38;5;124;43mcontent\u001b[39;49m\u001b[38;5;124;43m'\u001b[39;49m\u001b[43m]\u001b[49m\u001b[38;5;241;43m.\u001b[39;49m\u001b[43mprogress_apply\u001b[49m\u001b[43m(\u001b[49m\u001b[43mpreprocess\u001b[49m\u001b[43m)\u001b[49m\n\u001b[1;32m      5\u001b[0m df[\u001b[38;5;124m'\u001b[39m\u001b[38;5;124mpreprocessed_title\u001b[39m\u001b[38;5;124m'\u001b[39m] \u001b[38;5;241m=\u001b[39m df[\u001b[38;5;124m'\u001b[39m\u001b[38;5;124mtitle\u001b[39m\u001b[38;5;124m'\u001b[39m]\u001b[38;5;241m.\u001b[39mprogress_apply(preprocess)\n\u001b[1;32m      6\u001b[0m df[\u001b[38;5;124m'\u001b[39m\u001b[38;5;124mpreprocessed_topic\u001b[39m\u001b[38;5;124m'\u001b[39m] \u001b[38;5;241m=\u001b[39m df[\u001b[38;5;124m'\u001b[39m\u001b[38;5;124mtopic\u001b[39m\u001b[38;5;124m'\u001b[39m]\u001b[38;5;241m.\u001b[39mprogress_apply(preprocess)\n",
      "File \u001b[0;32m~/anaconda3/envs/pynlp/lib/python3.9/site-packages/tqdm/std.py:917\u001b[0m, in \u001b[0;36mtqdm.pandas.<locals>.inner_generator.<locals>.inner\u001b[0;34m(df, func, *args, **kwargs)\u001b[0m\n\u001b[1;32m    914\u001b[0m \u001b[38;5;66;03m# Apply the provided function (in **kwargs)\u001b[39;00m\n\u001b[1;32m    915\u001b[0m \u001b[38;5;66;03m# on the df using our wrapper (which provides bar updating)\u001b[39;00m\n\u001b[1;32m    916\u001b[0m \u001b[38;5;28;01mtry\u001b[39;00m:\n\u001b[0;32m--> 917\u001b[0m     \u001b[38;5;28;01mreturn\u001b[39;00m \u001b[38;5;28;43mgetattr\u001b[39;49m\u001b[43m(\u001b[49m\u001b[43mdf\u001b[49m\u001b[43m,\u001b[49m\u001b[43m \u001b[49m\u001b[43mdf_function\u001b[49m\u001b[43m)\u001b[49m\u001b[43m(\u001b[49m\u001b[43mwrapper\u001b[49m\u001b[43m,\u001b[49m\u001b[43m \u001b[49m\u001b[38;5;241;43m*\u001b[39;49m\u001b[38;5;241;43m*\u001b[39;49m\u001b[43mkwargs\u001b[49m\u001b[43m)\u001b[49m\n\u001b[1;32m    918\u001b[0m \u001b[38;5;28;01mfinally\u001b[39;00m:\n\u001b[1;32m    919\u001b[0m     t\u001b[38;5;241m.\u001b[39mclose()\n",
      "File \u001b[0;32m~/anaconda3/envs/pynlp/lib/python3.9/site-packages/pandas/core/series.py:4928\u001b[0m, in \u001b[0;36mSeries.apply\u001b[0;34m(self, func, convert_dtype, args, by_row, **kwargs)\u001b[0m\n\u001b[1;32m   4800\u001b[0m \u001b[38;5;28;01mdef\u001b[39;00m\u001b[38;5;250m \u001b[39m\u001b[38;5;21mapply\u001b[39m(\n\u001b[1;32m   4801\u001b[0m     \u001b[38;5;28mself\u001b[39m,\n\u001b[1;32m   4802\u001b[0m     func: AggFuncType,\n\u001b[0;32m   (...)\u001b[0m\n\u001b[1;32m   4807\u001b[0m     \u001b[38;5;241m*\u001b[39m\u001b[38;5;241m*\u001b[39mkwargs,\n\u001b[1;32m   4808\u001b[0m ) \u001b[38;5;241m-\u001b[39m\u001b[38;5;241m>\u001b[39m DataFrame \u001b[38;5;241m|\u001b[39m Series:\n\u001b[1;32m   4809\u001b[0m \u001b[38;5;250m    \u001b[39m\u001b[38;5;124;03m\"\"\"\u001b[39;00m\n\u001b[1;32m   4810\u001b[0m \u001b[38;5;124;03m    Invoke function on values of Series.\u001b[39;00m\n\u001b[1;32m   4811\u001b[0m \n\u001b[0;32m   (...)\u001b[0m\n\u001b[1;32m   4926\u001b[0m \u001b[38;5;124;03m    dtype: float64\u001b[39;00m\n\u001b[1;32m   4927\u001b[0m \u001b[38;5;124;03m    \"\"\"\u001b[39;00m\n\u001b[0;32m-> 4928\u001b[0m     \u001b[38;5;28;01mreturn\u001b[39;00m \u001b[43mSeriesApply\u001b[49m\u001b[43m(\u001b[49m\n\u001b[1;32m   4929\u001b[0m \u001b[43m        \u001b[49m\u001b[38;5;28;43mself\u001b[39;49m\u001b[43m,\u001b[49m\n\u001b[1;32m   4930\u001b[0m \u001b[43m        \u001b[49m\u001b[43mfunc\u001b[49m\u001b[43m,\u001b[49m\n\u001b[1;32m   4931\u001b[0m \u001b[43m        \u001b[49m\u001b[43mconvert_dtype\u001b[49m\u001b[38;5;241;43m=\u001b[39;49m\u001b[43mconvert_dtype\u001b[49m\u001b[43m,\u001b[49m\n\u001b[1;32m   4932\u001b[0m \u001b[43m        \u001b[49m\u001b[43mby_row\u001b[49m\u001b[38;5;241;43m=\u001b[39;49m\u001b[43mby_row\u001b[49m\u001b[43m,\u001b[49m\n\u001b[1;32m   4933\u001b[0m \u001b[43m        \u001b[49m\u001b[43margs\u001b[49m\u001b[38;5;241;43m=\u001b[39;49m\u001b[43margs\u001b[49m\u001b[43m,\u001b[49m\n\u001b[1;32m   4934\u001b[0m \u001b[43m        \u001b[49m\u001b[43mkwargs\u001b[49m\u001b[38;5;241;43m=\u001b[39;49m\u001b[43mkwargs\u001b[49m\u001b[43m,\u001b[49m\n\u001b[1;32m   4935\u001b[0m \u001b[43m    \u001b[49m\u001b[43m)\u001b[49m\u001b[38;5;241;43m.\u001b[39;49m\u001b[43mapply\u001b[49m\u001b[43m(\u001b[49m\u001b[43m)\u001b[49m\n",
      "File \u001b[0;32m~/anaconda3/envs/pynlp/lib/python3.9/site-packages/pandas/core/apply.py:1422\u001b[0m, in \u001b[0;36mSeriesApply.apply\u001b[0;34m(self)\u001b[0m\n\u001b[1;32m   1419\u001b[0m     \u001b[38;5;28;01mreturn\u001b[39;00m \u001b[38;5;28mself\u001b[39m\u001b[38;5;241m.\u001b[39mapply_compat()\n\u001b[1;32m   1421\u001b[0m \u001b[38;5;66;03m# self.func is Callable\u001b[39;00m\n\u001b[0;32m-> 1422\u001b[0m \u001b[38;5;28;01mreturn\u001b[39;00m \u001b[38;5;28;43mself\u001b[39;49m\u001b[38;5;241;43m.\u001b[39;49m\u001b[43mapply_standard\u001b[49m\u001b[43m(\u001b[49m\u001b[43m)\u001b[49m\n",
      "File \u001b[0;32m~/anaconda3/envs/pynlp/lib/python3.9/site-packages/pandas/core/apply.py:1502\u001b[0m, in \u001b[0;36mSeriesApply.apply_standard\u001b[0;34m(self)\u001b[0m\n\u001b[1;32m   1496\u001b[0m \u001b[38;5;66;03m# row-wise access\u001b[39;00m\n\u001b[1;32m   1497\u001b[0m \u001b[38;5;66;03m# apply doesn't have a `na_action` keyword and for backward compat reasons\u001b[39;00m\n\u001b[1;32m   1498\u001b[0m \u001b[38;5;66;03m# we need to give `na_action=\"ignore\"` for categorical data.\u001b[39;00m\n\u001b[1;32m   1499\u001b[0m \u001b[38;5;66;03m# TODO: remove the `na_action=\"ignore\"` when that default has been changed in\u001b[39;00m\n\u001b[1;32m   1500\u001b[0m \u001b[38;5;66;03m#  Categorical (GH51645).\u001b[39;00m\n\u001b[1;32m   1501\u001b[0m action \u001b[38;5;241m=\u001b[39m \u001b[38;5;124m\"\u001b[39m\u001b[38;5;124mignore\u001b[39m\u001b[38;5;124m\"\u001b[39m \u001b[38;5;28;01mif\u001b[39;00m \u001b[38;5;28misinstance\u001b[39m(obj\u001b[38;5;241m.\u001b[39mdtype, CategoricalDtype) \u001b[38;5;28;01melse\u001b[39;00m \u001b[38;5;28;01mNone\u001b[39;00m\n\u001b[0;32m-> 1502\u001b[0m mapped \u001b[38;5;241m=\u001b[39m \u001b[43mobj\u001b[49m\u001b[38;5;241;43m.\u001b[39;49m\u001b[43m_map_values\u001b[49m\u001b[43m(\u001b[49m\n\u001b[1;32m   1503\u001b[0m \u001b[43m    \u001b[49m\u001b[43mmapper\u001b[49m\u001b[38;5;241;43m=\u001b[39;49m\u001b[43mcurried\u001b[49m\u001b[43m,\u001b[49m\u001b[43m \u001b[49m\u001b[43mna_action\u001b[49m\u001b[38;5;241;43m=\u001b[39;49m\u001b[43maction\u001b[49m\u001b[43m,\u001b[49m\u001b[43m \u001b[49m\u001b[43mconvert\u001b[49m\u001b[38;5;241;43m=\u001b[39;49m\u001b[38;5;28;43mself\u001b[39;49m\u001b[38;5;241;43m.\u001b[39;49m\u001b[43mconvert_dtype\u001b[49m\n\u001b[1;32m   1504\u001b[0m \u001b[43m\u001b[49m\u001b[43m)\u001b[49m\n\u001b[1;32m   1506\u001b[0m \u001b[38;5;28;01mif\u001b[39;00m \u001b[38;5;28mlen\u001b[39m(mapped) \u001b[38;5;129;01mand\u001b[39;00m \u001b[38;5;28misinstance\u001b[39m(mapped[\u001b[38;5;241m0\u001b[39m], ABCSeries):\n\u001b[1;32m   1507\u001b[0m     \u001b[38;5;66;03m# GH#43986 Need to do list(mapped) in order to get treated as nested\u001b[39;00m\n\u001b[1;32m   1508\u001b[0m     \u001b[38;5;66;03m#  See also GH#25959 regarding EA support\u001b[39;00m\n\u001b[1;32m   1509\u001b[0m     \u001b[38;5;28;01mreturn\u001b[39;00m obj\u001b[38;5;241m.\u001b[39m_constructor_expanddim(\u001b[38;5;28mlist\u001b[39m(mapped), index\u001b[38;5;241m=\u001b[39mobj\u001b[38;5;241m.\u001b[39mindex)\n",
      "File \u001b[0;32m~/anaconda3/envs/pynlp/lib/python3.9/site-packages/pandas/core/base.py:925\u001b[0m, in \u001b[0;36mIndexOpsMixin._map_values\u001b[0;34m(self, mapper, na_action, convert)\u001b[0m\n\u001b[1;32m    922\u001b[0m \u001b[38;5;28;01mif\u001b[39;00m \u001b[38;5;28misinstance\u001b[39m(arr, ExtensionArray):\n\u001b[1;32m    923\u001b[0m     \u001b[38;5;28;01mreturn\u001b[39;00m arr\u001b[38;5;241m.\u001b[39mmap(mapper, na_action\u001b[38;5;241m=\u001b[39mna_action)\n\u001b[0;32m--> 925\u001b[0m \u001b[38;5;28;01mreturn\u001b[39;00m \u001b[43malgorithms\u001b[49m\u001b[38;5;241;43m.\u001b[39;49m\u001b[43mmap_array\u001b[49m\u001b[43m(\u001b[49m\u001b[43marr\u001b[49m\u001b[43m,\u001b[49m\u001b[43m \u001b[49m\u001b[43mmapper\u001b[49m\u001b[43m,\u001b[49m\u001b[43m \u001b[49m\u001b[43mna_action\u001b[49m\u001b[38;5;241;43m=\u001b[39;49m\u001b[43mna_action\u001b[49m\u001b[43m,\u001b[49m\u001b[43m \u001b[49m\u001b[43mconvert\u001b[49m\u001b[38;5;241;43m=\u001b[39;49m\u001b[43mconvert\u001b[49m\u001b[43m)\u001b[49m\n",
      "File \u001b[0;32m~/anaconda3/envs/pynlp/lib/python3.9/site-packages/pandas/core/algorithms.py:1743\u001b[0m, in \u001b[0;36mmap_array\u001b[0;34m(arr, mapper, na_action, convert)\u001b[0m\n\u001b[1;32m   1741\u001b[0m values \u001b[38;5;241m=\u001b[39m arr\u001b[38;5;241m.\u001b[39mastype(\u001b[38;5;28mobject\u001b[39m, copy\u001b[38;5;241m=\u001b[39m\u001b[38;5;28;01mFalse\u001b[39;00m)\n\u001b[1;32m   1742\u001b[0m \u001b[38;5;28;01mif\u001b[39;00m na_action \u001b[38;5;129;01mis\u001b[39;00m \u001b[38;5;28;01mNone\u001b[39;00m:\n\u001b[0;32m-> 1743\u001b[0m     \u001b[38;5;28;01mreturn\u001b[39;00m \u001b[43mlib\u001b[49m\u001b[38;5;241;43m.\u001b[39;49m\u001b[43mmap_infer\u001b[49m\u001b[43m(\u001b[49m\u001b[43mvalues\u001b[49m\u001b[43m,\u001b[49m\u001b[43m \u001b[49m\u001b[43mmapper\u001b[49m\u001b[43m,\u001b[49m\u001b[43m \u001b[49m\u001b[43mconvert\u001b[49m\u001b[38;5;241;43m=\u001b[39;49m\u001b[43mconvert\u001b[49m\u001b[43m)\u001b[49m\n\u001b[1;32m   1744\u001b[0m \u001b[38;5;28;01melse\u001b[39;00m:\n\u001b[1;32m   1745\u001b[0m     \u001b[38;5;28;01mreturn\u001b[39;00m lib\u001b[38;5;241m.\u001b[39mmap_infer_mask(\n\u001b[1;32m   1746\u001b[0m         values, mapper, mask\u001b[38;5;241m=\u001b[39misna(values)\u001b[38;5;241m.\u001b[39mview(np\u001b[38;5;241m.\u001b[39muint8), convert\u001b[38;5;241m=\u001b[39mconvert\n\u001b[1;32m   1747\u001b[0m     )\n",
      "File \u001b[0;32mpandas/_libs/lib.pyx:2999\u001b[0m, in \u001b[0;36mpandas._libs.lib.map_infer\u001b[0;34m()\u001b[0m\n",
      "File \u001b[0;32m~/anaconda3/envs/pynlp/lib/python3.9/site-packages/tqdm/std.py:912\u001b[0m, in \u001b[0;36mtqdm.pandas.<locals>.inner_generator.<locals>.inner.<locals>.wrapper\u001b[0;34m(*args, **kwargs)\u001b[0m\n\u001b[1;32m    906\u001b[0m \u001b[38;5;28;01mdef\u001b[39;00m\u001b[38;5;250m \u001b[39m\u001b[38;5;21mwrapper\u001b[39m(\u001b[38;5;241m*\u001b[39margs, \u001b[38;5;241m*\u001b[39m\u001b[38;5;241m*\u001b[39mkwargs):\n\u001b[1;32m    907\u001b[0m     \u001b[38;5;66;03m# update tbar correctly\u001b[39;00m\n\u001b[1;32m    908\u001b[0m     \u001b[38;5;66;03m# it seems `pandas apply` calls `func` twice\u001b[39;00m\n\u001b[1;32m    909\u001b[0m     \u001b[38;5;66;03m# on the first column/row to decide whether it can\u001b[39;00m\n\u001b[1;32m    910\u001b[0m     \u001b[38;5;66;03m# take a fast or slow code path; so stop when t.total==t.n\u001b[39;00m\n\u001b[1;32m    911\u001b[0m     t\u001b[38;5;241m.\u001b[39mupdate(n\u001b[38;5;241m=\u001b[39m\u001b[38;5;241m1\u001b[39m \u001b[38;5;28;01mif\u001b[39;00m \u001b[38;5;129;01mnot\u001b[39;00m t\u001b[38;5;241m.\u001b[39mtotal \u001b[38;5;129;01mor\u001b[39;00m t\u001b[38;5;241m.\u001b[39mn \u001b[38;5;241m<\u001b[39m t\u001b[38;5;241m.\u001b[39mtotal \u001b[38;5;28;01melse\u001b[39;00m \u001b[38;5;241m0\u001b[39m)\n\u001b[0;32m--> 912\u001b[0m     \u001b[38;5;28;01mreturn\u001b[39;00m \u001b[43mfunc\u001b[49m\u001b[43m(\u001b[49m\u001b[38;5;241;43m*\u001b[39;49m\u001b[43margs\u001b[49m\u001b[43m,\u001b[49m\u001b[43m \u001b[49m\u001b[38;5;241;43m*\u001b[39;49m\u001b[38;5;241;43m*\u001b[39;49m\u001b[43mkwargs\u001b[49m\u001b[43m)\u001b[49m\n",
      "Cell \u001b[0;32mIn[17], line 13\u001b[0m, in \u001b[0;36mpreprocess\u001b[0;34m(txt, tokenize)\u001b[0m\n\u001b[1;32m     11\u001b[0m \u001b[38;5;66;03m# 4. Tokenization (Vietnamese word segmentation)\u001b[39;00m\n\u001b[1;32m     12\u001b[0m \u001b[38;5;28;01mif\u001b[39;00m tokenize:\n\u001b[0;32m---> 13\u001b[0m     txt \u001b[38;5;241m=\u001b[39m \u001b[43mViTokenizer\u001b[49m\u001b[38;5;241;43m.\u001b[39;49m\u001b[43mtokenize\u001b[49m\u001b[43m(\u001b[49m\u001b[43mtxt\u001b[49m\u001b[43m)\u001b[49m\n\u001b[1;32m     15\u001b[0m \u001b[38;5;66;03m# 5. Smart lowercase (POS tagging)\u001b[39;00m\n\u001b[1;32m     16\u001b[0m txt \u001b[38;5;241m=\u001b[39m smart_lowercase_pyvi(txt) \n",
      "File \u001b[0;32m~/anaconda3/envs/pynlp/lib/python3.9/site-packages/pyvi/ViTokenizer.py:170\u001b[0m, in \u001b[0;36mtokenize\u001b[0;34m(str)\u001b[0m\n\u001b[1;32m    169\u001b[0m \u001b[38;5;28;01mdef\u001b[39;00m\u001b[38;5;250m \u001b[39m\u001b[38;5;21mtokenize\u001b[39m(\u001b[38;5;28mstr\u001b[39m):\n\u001b[0;32m--> 170\u001b[0m     \u001b[38;5;28;01mreturn\u001b[39;00m \u001b[43mViTokenizer\u001b[49m\u001b[38;5;241;43m.\u001b[39;49m\u001b[43mtokenize\u001b[49m\u001b[43m(\u001b[49m\u001b[38;5;28;43mstr\u001b[39;49m\u001b[43m)\u001b[49m\n",
      "File \u001b[0;32m~/anaconda3/envs/pynlp/lib/python3.9/site-packages/pyvi/ViTokenizer.py:118\u001b[0m, in \u001b[0;36mViTokenizer.tokenize\u001b[0;34m(str)\u001b[0m\n\u001b[1;32m    116\u001b[0m \u001b[38;5;28;01mif\u001b[39;00m \u001b[38;5;28mlen\u001b[39m(tmp) \u001b[38;5;241m==\u001b[39m \u001b[38;5;241m0\u001b[39m:\n\u001b[1;32m    117\u001b[0m     \u001b[38;5;28;01mreturn\u001b[39;00m \u001b[38;5;28mstr\u001b[39m\n\u001b[0;32m--> 118\u001b[0m labels \u001b[38;5;241m=\u001b[39m \u001b[43mViTokenizer\u001b[49m\u001b[38;5;241;43m.\u001b[39;49m\u001b[43mmodel\u001b[49m\u001b[38;5;241;43m.\u001b[39;49m\u001b[43mpredict\u001b[49m\u001b[43m(\u001b[49m\u001b[43m[\u001b[49m\u001b[43mViTokenizer\u001b[49m\u001b[38;5;241;43m.\u001b[39;49m\u001b[43msent2features\u001b[49m\u001b[43m(\u001b[49m\u001b[43mtmp\u001b[49m\u001b[43m,\u001b[49m\u001b[43m \u001b[49m\u001b[38;5;28;43;01mFalse\u001b[39;49;00m\u001b[43m)\u001b[49m\u001b[43m]\u001b[49m\u001b[43m)\u001b[49m\n\u001b[1;32m    119\u001b[0m output \u001b[38;5;241m=\u001b[39m tmp[\u001b[38;5;241m0\u001b[39m]\n\u001b[1;32m    120\u001b[0m \u001b[38;5;28;01mfor\u001b[39;00m i \u001b[38;5;129;01min\u001b[39;00m \u001b[38;5;28mrange\u001b[39m(\u001b[38;5;241m1\u001b[39m, \u001b[38;5;28mlen\u001b[39m(labels[\u001b[38;5;241m0\u001b[39m])):\n",
      "File \u001b[0;32m~/anaconda3/envs/pynlp/lib/python3.9/site-packages/sklearn_crfsuite/estimator.py:356\u001b[0m, in \u001b[0;36mCRF.predict\u001b[0;34m(self, X)\u001b[0m\n\u001b[1;32m    341\u001b[0m \u001b[38;5;28;01mdef\u001b[39;00m\u001b[38;5;250m \u001b[39m\u001b[38;5;21mpredict\u001b[39m(\u001b[38;5;28mself\u001b[39m, X):\n\u001b[1;32m    342\u001b[0m \u001b[38;5;250m    \u001b[39m\u001b[38;5;124;03m\"\"\"\u001b[39;00m\n\u001b[1;32m    343\u001b[0m \u001b[38;5;124;03m    Make a prediction.\u001b[39;00m\n\u001b[1;32m    344\u001b[0m \n\u001b[0;32m   (...)\u001b[0m\n\u001b[1;32m    354\u001b[0m \n\u001b[1;32m    355\u001b[0m \u001b[38;5;124;03m    \"\"\"\u001b[39;00m\n\u001b[0;32m--> 356\u001b[0m     \u001b[38;5;28;01mreturn\u001b[39;00m np\u001b[38;5;241m.\u001b[39marray(\u001b[38;5;28;43mlist\u001b[39;49m\u001b[43m(\u001b[49m\u001b[38;5;28;43mmap\u001b[39;49m\u001b[43m(\u001b[49m\u001b[38;5;28;43mself\u001b[39;49m\u001b[38;5;241;43m.\u001b[39;49m\u001b[43mpredict_single\u001b[49m\u001b[43m,\u001b[49m\u001b[43m \u001b[49m\u001b[43mX\u001b[49m\u001b[43m)\u001b[49m\u001b[43m)\u001b[49m, dtype\u001b[38;5;241m=\u001b[39m\u001b[38;5;28mobject\u001b[39m)\n",
      "File \u001b[0;32m~/anaconda3/envs/pynlp/lib/python3.9/site-packages/sklearn_crfsuite/estimator.py:373\u001b[0m, in \u001b[0;36mCRF.predict_single\u001b[0;34m(self, xseq)\u001b[0m\n\u001b[1;32m    358\u001b[0m \u001b[38;5;28;01mdef\u001b[39;00m\u001b[38;5;250m \u001b[39m\u001b[38;5;21mpredict_single\u001b[39m(\u001b[38;5;28mself\u001b[39m, xseq):\n\u001b[1;32m    359\u001b[0m \u001b[38;5;250m    \u001b[39m\u001b[38;5;124;03m\"\"\"\u001b[39;00m\n\u001b[1;32m    360\u001b[0m \u001b[38;5;124;03m    Make a prediction.\u001b[39;00m\n\u001b[1;32m    361\u001b[0m \n\u001b[0;32m   (...)\u001b[0m\n\u001b[1;32m    371\u001b[0m \n\u001b[1;32m    372\u001b[0m \u001b[38;5;124;03m    \"\"\"\u001b[39;00m\n\u001b[0;32m--> 373\u001b[0m     \u001b[38;5;28;01mreturn\u001b[39;00m \u001b[38;5;28;43mself\u001b[39;49m\u001b[38;5;241;43m.\u001b[39;49m\u001b[43mtagger_\u001b[49m\u001b[38;5;241;43m.\u001b[39;49m\u001b[43mtag\u001b[49m\u001b[43m(\u001b[49m\u001b[43mxseq\u001b[49m\u001b[43m)\u001b[49m\n",
      "\u001b[0;31mKeyboardInterrupt\u001b[0m: "
     ]
    }
   ],
   "source": [
    "from tqdm import tqdm\n",
    "tqdm.pandas()\n",
    "\n",
    "df['preprocessed_content'] = df['content'].progress_apply(preprocess)\n",
    "df['preprocessed_title'] = df['title'].progress_apply(preprocess)\n",
    "df['preprocessed_topic'] = df['topic'].progress_apply(preprocess)"
   ]
  },
  {
   "cell_type": "markdown",
   "id": "21bcf5b2",
   "metadata": {},
   "source": [
    "# 3. Topic Classification\n",
    "\n",
    "### 🎯 Objective\n",
    "- Train and evaluate machine-learning models to classify Vietnamese news articles by topic.  \n",
    "- **Input**: preprocessed `title + content` (from Step 2).  \n",
    "- **Output**: `topic` (e.g., *pháp luật, đời sống, thể thao, ...*).  "
   ]
  },
  {
   "cell_type": "markdown",
   "id": "8f080de1",
   "metadata": {},
   "source": [
    "## 3.1 Data Preparation\n",
    "\n",
    "- **Combine text**: merge `preprocessed_title` + `preprocessed_content` → `text`.  \n",
    "- **Features/Labels**:  \n",
    "  - `X` = text  \n",
    "  - `y` = topic (string).  \n",
    "- **Data split**:  \n",
    "  - Train/Val/Test = **70% / 15% / 15%**  \n",
    "  - Split in two steps (train vs temp, then temp → val/test).  \n"
   ]
  },
  {
   "cell_type": "code",
   "execution_count": null,
   "id": "988d9804",
   "metadata": {},
   "outputs": [],
   "source": [
    "df['raw_text'] = df['preprocessed_title'] + \" \" + df['preprocessed_content']"
   ]
  },
  {
   "cell_type": "code",
   "execution_count": null,
   "id": "a5b34d88",
   "metadata": {},
   "outputs": [
    {
     "name": "stdout",
     "output_type": "stream",
     "text": [
      "Shape of X: (178938,)\n",
      "Shape of y: (178938,)\n",
      "Label distribution:\n",
      "preprocessed_topic\n",
      "                       39520\n",
      "thế_giới               12347\n",
      "thể_thao               11206\n",
      "xã_hội                 10140\n",
      "pháp_luật               8182\n",
      "                       ...  \n",
      "góc nhìn nhân_quyền       52\n",
      "tin giá vàng              51\n",
      "tiếp_thị bán hàng         51\n",
      "tiêu_dùng                 51\n",
      "wow                       50\n",
      "Name: count, Length: 185, dtype: int64\n"
     ]
    }
   ],
   "source": [
    "# Convert all values in 'preprocessed_topic' column to lowercase\n",
    "df['preprocessed_topic'] = df['preprocessed_topic'].str.lower()\n",
    "\n",
    "# Set the minimum threshold for number of samples per topic\n",
    "min_count = 50  \n",
    "\n",
    "# Count occurrences of each topic\n",
    "topic_counts = df['preprocessed_topic'].value_counts()\n",
    "\n",
    "# Keep only topics that meet the threshold\n",
    "valid_topics = topic_counts[topic_counts >= min_count].index\n",
    "\n",
    "# Filter the dataframe to keep only valid topics\n",
    "df_filtered = df[df['preprocessed_topic'].isin(valid_topics)]\n",
    "\n",
    "# Define features and labels after filtering\n",
    "X = df_filtered['raw_text']            # features (original or preprocessed text)\n",
    "y = df_filtered['preprocessed_topic']  # filtered labels\n",
    "\n",
    "# Check results\n",
    "print(\"Shape of X:\", X.shape)\n",
    "print(\"Shape of y:\", y.shape)\n",
    "print(\"Label distribution:\")\n",
    "print(y.value_counts())"
   ]
  },
  {
   "cell_type": "markdown",
   "id": "22d9d338",
   "metadata": {},
   "source": [
    "## 3.2 Stopwords\n",
    "\n",
    "- Download the Vietnamese stopword list directly from GitHub using `wget`.  \n",
    "- Load the file into Python and store as a list for use in `CountVectorizer` or `TfidfVectorizer`.  \n",
    "- This helps filter out common, non-informative words (e.g., “và”, “của”, “là”).  "
   ]
  },
  {
   "cell_type": "code",
   "execution_count": null,
   "id": "30a64706",
   "metadata": {},
   "outputs": [
    {
     "name": "stdout",
     "output_type": "stream",
     "text": [
      "--2025-09-15 00:53:11--  https://raw.githubusercontent.com/ltkk/vietnamese-stopwords/master/stopwords.txt\n",
      "Resolving raw.githubusercontent.com (raw.githubusercontent.com)... 185.199.108.133, 185.199.109.133, 185.199.110.133, ...\n",
      "Connecting to raw.githubusercontent.com (raw.githubusercontent.com)|185.199.108.133|:443... connected.\n",
      "HTTP request sent, awaiting response... 200 OK\n",
      "Length: 392 [text/plain]\n",
      "Saving to: ‘stopwords.txt’\n",
      "\n",
      "stopwords.txt       100%[===================>]     392  --.-KB/s    in 0s      \n",
      "\n",
      "2025-09-15 00:53:12 (6.04 MB/s) - ‘stopwords.txt’ saved [392/392]\n",
      "\n",
      "['cho', 'chú_thích', 'các', 'còn', 'có', 'cũng', 'của', 'dân_số', 'hai', 'hoa', 'họ', 'introduction', 'khi', 'khoa_học', 'không', 'liên_kết', 'loài', 'là', 'làm', 'miêu_tả']\n"
     ]
    }
   ],
   "source": [
    "!wget -O stopwords.txt https://raw.githubusercontent.com/ltkk/vietnamese-stopwords/master/stopwords.txt\n",
    "\n",
    "# đọc file vào Python\n",
    "with open(\"stopwords.txt\", encoding=\"utf-8\") as f:\n",
    "    stopwords = [line.strip() for line in f if line.strip()]\n",
    "print(stopwords[:20])"
   ]
  },
  {
   "cell_type": "markdown",
   "id": "e09adc18",
   "metadata": {},
   "source": [
    "## 3.3 Model Training & Evaluation"
   ]
  },
  {
   "cell_type": "code",
   "execution_count": null,
   "id": "547de553",
   "metadata": {},
   "outputs": [
    {
     "data": {
      "text/plain": [
       "<178938x324635 sparse matrix of type '<class 'numpy.int64'>'\n",
       "\twith 28400756 stored elements in Compressed Sparse Row format>"
      ]
     },
     "execution_count": 23,
     "metadata": {},
     "output_type": "execute_result"
    }
   ],
   "source": [
    "from sklearn.feature_extraction.text import CountVectorizer, TfidfVectorizer\n",
    "\n",
    "vectorizer_bow = CountVectorizer(stop_words=stopwords)\n",
    "X_bow = vectorizer_bow.fit_transform(X)\n",
    "X_bow"
   ]
  },
  {
   "cell_type": "code",
   "execution_count": null,
   "id": "f9393681",
   "metadata": {},
   "outputs": [
    {
     "data": {
      "text/plain": [
       "<178938x324635 sparse matrix of type '<class 'numpy.float64'>'\n",
       "\twith 28400756 stored elements in Compressed Sparse Row format>"
      ]
     },
     "execution_count": 24,
     "metadata": {},
     "output_type": "execute_result"
    }
   ],
   "source": [
    "vectorizer_tfidf = TfidfVectorizer(stop_words=stopwords)\n",
    "X_tfidf = vectorizer_tfidf.fit_transform(X)\n",
    "X_tfidf"
   ]
  },
  {
   "cell_type": "code",
   "execution_count": null,
   "id": "c2b19876",
   "metadata": {},
   "outputs": [],
   "source": [
    "vectorizer_bow_bigram = CountVectorizer(ngram_range=(2, 2), stop_words=stopwords)\n",
    "X_bow_bigram = vectorizer_bow_bigram.fit_transform(X)"
   ]
  },
  {
   "cell_type": "code",
   "execution_count": null,
   "id": "274ee859",
   "metadata": {},
   "outputs": [],
   "source": [
    "vectorizer_bow_uni_bigram = CountVectorizer(ngram_range=(1, 2), stop_words=stopwords)\n",
    "X_bow_uni_bigram = vectorizer_bow_uni_bigram.fit_transform(X)"
   ]
  },
  {
   "cell_type": "code",
   "execution_count": null,
   "id": "f56f7e2b",
   "metadata": {},
   "outputs": [],
   "source": [
    "vectorizer_bow_unigram = CountVectorizer(ngram_range=(1, 1), stop_words=stopwords)\n",
    "X_bow_unigram = vectorizer_bow_unigram.fit_transform(X)"
   ]
  },
  {
   "cell_type": "code",
   "execution_count": null,
   "id": "8f830800",
   "metadata": {},
   "outputs": [],
   "source": [
    "vectorizer_tfidf_bigram = TfidfVectorizer(ngram_range=(2, 2), stop_words=stopwords)\n",
    "X_tfidf_bigram = vectorizer_tfidf_bigram.fit_transform(X)"
   ]
  },
  {
   "cell_type": "code",
   "execution_count": null,
   "id": "99e428f9",
   "metadata": {},
   "outputs": [],
   "source": [
    "vectorizer_tfidf_unigram = TfidfVectorizer(ngram_range=(1, 1), stop_words=stopwords)\n",
    "X_tfidf_unigram = vectorizer_tfidf_unigram.fit_transform(X)"
   ]
  },
  {
   "cell_type": "code",
   "execution_count": null,
   "id": "0b24e81f",
   "metadata": {},
   "outputs": [],
   "source": [
    "vectorizer_tfidf_uni_bigram = CountVectorizer(ngram_range=(1, 2), stop_words=stopwords)\n",
    "X_tfidf_uni_bigram = vectorizer_tfidf_uni_bigram.fit_transform(X)"
   ]
  },
  {
   "cell_type": "code",
   "execution_count": null,
   "id": "b46e182a",
   "metadata": {},
   "outputs": [],
   "source": [
    "from sklearn.model_selection import train_test_split\n",
    "from sklearn.linear_model import LogisticRegression\n",
    "from sklearn.metrics import accuracy_score, classification_report\n",
    "from sklearn.model_selection import cross_validate, StratifiedKFold\n",
    "\n",
    "# Add BoW and TF-IDF (full versions) to the dictionary\n",
    "vectorizers = {\n",
    "    \"BoW Unigram\": X_bow_unigram,\n",
    "    \"BoW Bigram\": X_bow_bigram,\n",
    "    \"BoW Uni+Bigram\": X_bow_uni_bigram,\n",
    "    \"TFIDF Unigram\": X_tfidf_unigram,\n",
    "    \"TFIDF Bigram\": X_tfidf_bigram,\n",
    "    \"TFIDF Uni+Bigram\": X_tfidf_uni_bigram,\n",
    "    \"BoW (full)\": X_bow,\n",
    "    \"TFIDF (full)\": X_tfidf\n",
    "}\n",
    "\n",
    "# Cross-validation settings\n",
    "cv = StratifiedKFold(n_splits=5, shuffle=True, random_state=42)\n",
    "\n",
    "results = []\n",
    "\n",
    "for name, X_vec in vectorizers.items():\n",
    "    clf = LogisticRegression(max_iter=2000, class_weight='balanced')\n",
    "    \n",
    "    # Run cross-validation\n",
    "    scores = cross_validate(\n",
    "        clf, X_vec, y, cv=cv,\n",
    "        scoring=['accuracy', 'f1_macro'],\n",
    "        n_jobs=-1, return_train_score=False\n",
    "    )\n",
    "    \n",
    "    results.append({\n",
    "        \"Vectorizer\": name,\n",
    "        \"Accuracy (mean)\": scores['test_accuracy'].mean(),\n",
    "        \"Accuracy (std)\": scores['test_accuracy'].std(),\n",
    "        \"F1-macro (mean)\": scores['test_f1_macro'].mean(),\n",
    "        \"F1-macro (std)\": scores['test_f1_macro'].std(),\n",
    "    })\n",
    "\n",
    "# Put results into DataFrame\n",
    "df_results = pd.DataFrame(results)\n",
    "print(df_results.sort_values(by=\"F1-macro (mean)\", ascending=False))"
   ]
  },
  {
   "cell_type": "code",
   "execution_count": null,
   "id": "349110a6",
   "metadata": {},
   "outputs": [],
   "source": []
  }
 ],
 "metadata": {
  "kernelspec": {
   "display_name": "pynlp",
   "language": "python",
   "name": "python3"
  },
  "language_info": {
   "codemirror_mode": {
    "name": "ipython",
    "version": 3
   },
   "file_extension": ".py",
   "mimetype": "text/x-python",
   "name": "python",
   "nbconvert_exporter": "python",
   "pygments_lexer": "ipython3",
   "version": "3.9.23"
  }
 },
 "nbformat": 4,
 "nbformat_minor": 5
}
